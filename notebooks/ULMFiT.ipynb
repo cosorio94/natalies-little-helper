{
 "cells": [
  {
   "cell_type": "markdown",
   "id": "270b7cc3-2a22-4f98-b6c2-6196f47909d5",
   "metadata": {
    "tags": []
   },
   "source": [
    "## Setup & Dependencies"
   ]
  },
  {
   "cell_type": "code",
   "execution_count": 2,
   "id": "862399b1-af01-4d9e-b00c-079450b21ecc",
   "metadata": {},
   "outputs": [
    {
     "name": "stdout",
     "output_type": "stream",
     "text": [
      "Requirement already satisfied: tqdm in /opt/conda/lib/python3.7/site-packages (4.64.1)\n",
      "Requirement already satisfied: ray[tune] in /home/jupyter/.local/lib/python3.7/site-packages (2.1.0)\n",
      "Requirement already satisfied: attrs in /opt/conda/lib/python3.7/site-packages (from ray[tune]) (22.1.0)\n",
      "Requirement already satisfied: requests in /opt/conda/lib/python3.7/site-packages (from ray[tune]) (2.28.1)\n",
      "Requirement already satisfied: jsonschema in /opt/conda/lib/python3.7/site-packages (from ray[tune]) (4.16.0)\n",
      "Requirement already satisfied: typing-extensions in /home/jupyter/.local/lib/python3.7/site-packages (from ray[tune]) (4.1.1)\n",
      "Requirement already satisfied: numpy>=1.16 in /opt/conda/lib/python3.7/site-packages (from ray[tune]) (1.21.6)\n",
      "Requirement already satisfied: frozenlist in /opt/conda/lib/python3.7/site-packages (from ray[tune]) (1.3.1)\n",
      "Requirement already satisfied: virtualenv>=20.0.24 in /home/jupyter/.local/lib/python3.7/site-packages (from ray[tune]) (20.16.7)\n",
      "Requirement already satisfied: aiosignal in /opt/conda/lib/python3.7/site-packages (from ray[tune]) (1.2.0)\n",
      "Collecting msgpack<2.0.0,>=1.0.0\n",
      "  Using cached msgpack-1.0.4-cp37-cp37m-manylinux_2_17_x86_64.manylinux2014_x86_64.whl (299 kB)\n",
      "Requirement already satisfied: grpcio>=1.32.0 in /opt/conda/lib/python3.7/site-packages (from ray[tune]) (1.50.0)\n",
      "Requirement already satisfied: protobuf!=3.19.5,>=3.15.3 in /home/jupyter/.local/lib/python3.7/site-packages (from ray[tune]) (3.20.1)\n",
      "Collecting filelock\n",
      "  Using cached filelock-3.8.0-py3-none-any.whl (10 kB)\n",
      "Requirement already satisfied: click<=8.0.4,>=7.0 in /home/jupyter/.local/lib/python3.7/site-packages (from ray[tune]) (8.0.4)\n",
      "Requirement already satisfied: pyyaml in /opt/conda/lib/python3.7/site-packages (from ray[tune]) (6.0)\n",
      "Requirement already satisfied: tensorboardX>=1.9 in /home/jupyter/.local/lib/python3.7/site-packages (from ray[tune]) (2.5.1)\n",
      "Collecting tabulate\n",
      "  Using cached tabulate-0.9.0-py3-none-any.whl (35 kB)\n",
      "Requirement already satisfied: pandas in /opt/conda/lib/python3.7/site-packages (from ray[tune]) (1.3.5)\n",
      "Requirement already satisfied: importlib-metadata in /opt/conda/lib/python3.7/site-packages (from click<=8.0.4,>=7.0->ray[tune]) (4.11.4)\n",
      "Requirement already satisfied: six>=1.5.2 in /opt/conda/lib/python3.7/site-packages (from grpcio>=1.32.0->ray[tune]) (1.16.0)\n",
      "Collecting distlib<1,>=0.3.6\n",
      "  Using cached distlib-0.3.6-py2.py3-none-any.whl (468 kB)\n",
      "Requirement already satisfied: platformdirs<3,>=2.4 in /opt/conda/lib/python3.7/site-packages (from virtualenv>=20.0.24->ray[tune]) (2.5.2)\n",
      "Requirement already satisfied: pkgutil-resolve-name>=1.3.10 in /opt/conda/lib/python3.7/site-packages (from jsonschema->ray[tune]) (1.3.10)\n",
      "Requirement already satisfied: importlib-resources>=1.4.0 in /opt/conda/lib/python3.7/site-packages (from jsonschema->ray[tune]) (5.10.0)\n",
      "Requirement already satisfied: pyrsistent!=0.17.0,!=0.17.1,!=0.17.2,>=0.14.0 in /opt/conda/lib/python3.7/site-packages (from jsonschema->ray[tune]) (0.18.1)\n",
      "Requirement already satisfied: python-dateutil>=2.7.3 in /opt/conda/lib/python3.7/site-packages (from pandas->ray[tune]) (2.8.2)\n",
      "Requirement already satisfied: pytz>=2017.3 in /opt/conda/lib/python3.7/site-packages (from pandas->ray[tune]) (2022.5)\n",
      "Requirement already satisfied: idna<4,>=2.5 in /opt/conda/lib/python3.7/site-packages (from requests->ray[tune]) (3.4)\n",
      "Requirement already satisfied: charset-normalizer<3,>=2 in /opt/conda/lib/python3.7/site-packages (from requests->ray[tune]) (2.1.1)\n",
      "Requirement already satisfied: urllib3<1.27,>=1.21.1 in /opt/conda/lib/python3.7/site-packages (from requests->ray[tune]) (1.26.11)\n",
      "Requirement already satisfied: certifi>=2017.4.17 in /opt/conda/lib/python3.7/site-packages (from requests->ray[tune]) (2022.9.24)\n",
      "Requirement already satisfied: zipp>=0.5 in /opt/conda/lib/python3.7/site-packages (from importlib-metadata->click<=8.0.4,>=7.0->ray[tune]) (3.10.0)\n",
      "Installing collected packages: msgpack, distlib, tabulate, filelock\n",
      "Successfully installed distlib-0.3.6 filelock-3.8.0 msgpack-1.0.4 tabulate-0.9.0\n",
      "Requirement already satisfied: fastai in /home/jupyter/.local/lib/python3.7/site-packages (2.7.10)\n",
      "Requirement already satisfied: pandas in /opt/conda/lib/python3.7/site-packages (from fastai) (1.3.5)\n",
      "Requirement already satisfied: fastdownload<2,>=0.0.5 in /home/jupyter/.local/lib/python3.7/site-packages (from fastai) (0.0.7)\n",
      "Requirement already satisfied: scikit-learn in /opt/conda/lib/python3.7/site-packages (from fastai) (1.0.2)\n",
      "Requirement already satisfied: fastcore<1.6,>=1.4.5 in /home/jupyter/.local/lib/python3.7/site-packages (from fastai) (1.5.27)\n",
      "Requirement already satisfied: torchvision>=0.8.2 in /opt/conda/lib/python3.7/site-packages (from fastai) (0.13.1+cu113)\n",
      "Requirement already satisfied: requests in /opt/conda/lib/python3.7/site-packages (from fastai) (2.28.1)\n",
      "Requirement already satisfied: scipy in /opt/conda/lib/python3.7/site-packages (from fastai) (1.7.3)\n",
      "Requirement already satisfied: matplotlib in /opt/conda/lib/python3.7/site-packages (from fastai) (3.5.3)\n",
      "Requirement already satisfied: pip in /opt/conda/lib/python3.7/site-packages (from fastai) (22.3)\n",
      "Requirement already satisfied: spacy<4 in /home/jupyter/.local/lib/python3.7/site-packages (from fastai) (3.4.3)\n",
      "Requirement already satisfied: torch<1.14,>=1.7 in /opt/conda/lib/python3.7/site-packages (from fastai) (1.12.1)\n",
      "Requirement already satisfied: packaging in /opt/conda/lib/python3.7/site-packages (from fastai) (21.3)\n",
      "Requirement already satisfied: pillow>6.0.0 in /opt/conda/lib/python3.7/site-packages (from fastai) (9.2.0)\n",
      "Requirement already satisfied: fastprogress>=0.2.4 in /home/jupyter/.local/lib/python3.7/site-packages (from fastai) (1.0.3)\n",
      "Requirement already satisfied: pyyaml in /opt/conda/lib/python3.7/site-packages (from fastai) (6.0)\n",
      "Requirement already satisfied: thinc<8.2.0,>=8.1.0 in /home/jupyter/.local/lib/python3.7/site-packages (from spacy<4->fastai) (8.1.5)\n",
      "Requirement already satisfied: murmurhash<1.1.0,>=0.28.0 in /home/jupyter/.local/lib/python3.7/site-packages (from spacy<4->fastai) (1.0.9)\n",
      "Requirement already satisfied: typer<0.8.0,>=0.3.0 in /home/jupyter/.local/lib/python3.7/site-packages (from spacy<4->fastai) (0.7.0)\n",
      "Requirement already satisfied: spacy-legacy<3.1.0,>=3.0.10 in /home/jupyter/.local/lib/python3.7/site-packages (from spacy<4->fastai) (3.0.10)\n",
      "Requirement already satisfied: pathy>=0.3.5 in /home/jupyter/.local/lib/python3.7/site-packages (from spacy<4->fastai) (0.7.1)\n",
      "Requirement already satisfied: cymem<2.1.0,>=2.0.2 in /home/jupyter/.local/lib/python3.7/site-packages (from spacy<4->fastai) (2.0.7)\n",
      "Requirement already satisfied: typing-extensions<4.2.0,>=3.7.4 in /home/jupyter/.local/lib/python3.7/site-packages (from spacy<4->fastai) (4.1.1)\n",
      "Requirement already satisfied: pydantic!=1.8,!=1.8.1,<1.11.0,>=1.7.4 in /opt/conda/lib/python3.7/site-packages (from spacy<4->fastai) (1.10.2)\n",
      "Requirement already satisfied: wasabi<1.1.0,>=0.9.1 in /home/jupyter/.local/lib/python3.7/site-packages (from spacy<4->fastai) (0.10.1)\n",
      "Requirement already satisfied: srsly<3.0.0,>=2.4.3 in /home/jupyter/.local/lib/python3.7/site-packages (from spacy<4->fastai) (2.4.5)\n",
      "Requirement already satisfied: setuptools in /opt/conda/lib/python3.7/site-packages (from spacy<4->fastai) (59.8.0)\n",
      "Requirement already satisfied: preshed<3.1.0,>=3.0.2 in /home/jupyter/.local/lib/python3.7/site-packages (from spacy<4->fastai) (3.0.8)\n",
      "Requirement already satisfied: jinja2 in /opt/conda/lib/python3.7/site-packages (from spacy<4->fastai) (3.1.2)\n",
      "Requirement already satisfied: langcodes<4.0.0,>=3.2.0 in /home/jupyter/.local/lib/python3.7/site-packages (from spacy<4->fastai) (3.3.0)\n",
      "Requirement already satisfied: spacy-loggers<2.0.0,>=1.0.0 in /home/jupyter/.local/lib/python3.7/site-packages (from spacy<4->fastai) (1.0.3)\n",
      "Requirement already satisfied: tqdm<5.0.0,>=4.38.0 in /opt/conda/lib/python3.7/site-packages (from spacy<4->fastai) (4.64.1)\n",
      "Requirement already satisfied: catalogue<2.1.0,>=2.0.6 in /home/jupyter/.local/lib/python3.7/site-packages (from spacy<4->fastai) (2.0.8)\n",
      "Requirement already satisfied: numpy>=1.15.0 in /opt/conda/lib/python3.7/site-packages (from spacy<4->fastai) (1.21.6)\n",
      "Requirement already satisfied: pyparsing!=3.0.5,>=2.0.2 in /opt/conda/lib/python3.7/site-packages (from packaging->fastai) (3.0.9)\n",
      "Requirement already satisfied: charset-normalizer<3,>=2 in /opt/conda/lib/python3.7/site-packages (from requests->fastai) (2.1.1)\n",
      "Requirement already satisfied: urllib3<1.27,>=1.21.1 in /opt/conda/lib/python3.7/site-packages (from requests->fastai) (1.26.11)\n",
      "Requirement already satisfied: certifi>=2017.4.17 in /opt/conda/lib/python3.7/site-packages (from requests->fastai) (2022.9.24)\n",
      "Requirement already satisfied: idna<4,>=2.5 in /opt/conda/lib/python3.7/site-packages (from requests->fastai) (3.4)\n",
      "Requirement already satisfied: python-dateutil>=2.7 in /opt/conda/lib/python3.7/site-packages (from matplotlib->fastai) (2.8.2)\n",
      "Requirement already satisfied: cycler>=0.10 in /opt/conda/lib/python3.7/site-packages (from matplotlib->fastai) (0.11.0)\n",
      "Requirement already satisfied: fonttools>=4.22.0 in /opt/conda/lib/python3.7/site-packages (from matplotlib->fastai) (4.38.0)\n",
      "Requirement already satisfied: kiwisolver>=1.0.1 in /opt/conda/lib/python3.7/site-packages (from matplotlib->fastai) (1.4.4)\n",
      "Requirement already satisfied: pytz>=2017.3 in /opt/conda/lib/python3.7/site-packages (from pandas->fastai) (2022.5)\n",
      "Requirement already satisfied: threadpoolctl>=2.0.0 in /opt/conda/lib/python3.7/site-packages (from scikit-learn->fastai) (3.1.0)\n",
      "Requirement already satisfied: joblib>=0.11 in /opt/conda/lib/python3.7/site-packages (from scikit-learn->fastai) (1.2.0)\n",
      "Requirement already satisfied: zipp>=0.5 in /opt/conda/lib/python3.7/site-packages (from catalogue<2.1.0,>=2.0.6->spacy<4->fastai) (3.10.0)\n",
      "Requirement already satisfied: smart-open<6.0.0,>=5.2.1 in /home/jupyter/.local/lib/python3.7/site-packages (from pathy>=0.3.5->spacy<4->fastai) (5.2.1)\n",
      "Requirement already satisfied: six>=1.5 in /opt/conda/lib/python3.7/site-packages (from python-dateutil>=2.7->matplotlib->fastai) (1.16.0)\n",
      "Requirement already satisfied: blis<0.8.0,>=0.7.8 in /home/jupyter/.local/lib/python3.7/site-packages (from thinc<8.2.0,>=8.1.0->spacy<4->fastai) (0.7.9)\n",
      "Requirement already satisfied: confection<1.0.0,>=0.0.1 in /home/jupyter/.local/lib/python3.7/site-packages (from thinc<8.2.0,>=8.1.0->spacy<4->fastai) (0.0.3)\n",
      "Requirement already satisfied: click<9.0.0,>=7.1.1 in /home/jupyter/.local/lib/python3.7/site-packages (from typer<0.8.0,>=0.3.0->spacy<4->fastai) (8.0.4)\n",
      "Requirement already satisfied: MarkupSafe>=2.0 in /opt/conda/lib/python3.7/site-packages (from jinja2->spacy<4->fastai) (2.1.1)\n",
      "Requirement already satisfied: importlib-metadata in /opt/conda/lib/python3.7/site-packages (from click<9.0.0,>=7.1.1->typer<0.8.0,>=0.3.0->spacy<4->fastai) (4.11.4)\n"
     ]
    }
   ],
   "source": [
    "!pip install tqdm\n",
    "!pip install -U \"ray[tune]\"\n",
    "!pip install --user fastai"
   ]
  },
  {
   "cell_type": "code",
   "execution_count": 3,
   "id": "56a792d0-df95-4fdc-b490-551c00c7f8b2",
   "metadata": {},
   "outputs": [],
   "source": [
    "import pandas as pd\n",
    "import numpy as np\n",
    "\n",
    "from tqdm import tqdm\n",
    "import torch\n",
    "import multiprocessing\n",
    "\n",
    "from fastai.text.all import *\n",
    "\n",
    "import sys"
   ]
  },
  {
   "cell_type": "code",
   "execution_count": 4,
   "id": "33292808-8c76-4769-bb50-16f7e65e175a",
   "metadata": {},
   "outputs": [],
   "source": [
    "# Number of CPU cores available\n",
    "cpu = multiprocessing.cpu_count()\n",
    "\n",
    "# Set up cuda if available\n",
    "device = torch.device('cuda' if torch.cuda.is_available() else 'cpu')\n",
    "\n",
    "# Number of GPUs being used\n",
    "gpu = torch.cuda.device_count() if torch.cuda.is_available() else 0\n",
    "\n",
    "# CPU and GPU Resources\n",
    "proc_resources = {'cpu': cpu, 'gpu': gpu}\n",
    "\n",
    "repo_path = \"/home/jupyter/src/natalies-little-helper/\"\n",
    "data_path = repo_path + \"data/\"\n",
    "model_path = repo_path + \"models/\""
   ]
  },
  {
   "cell_type": "markdown",
   "id": "d9bb98d1-5f76-4044-a4bc-b28d4c408ef9",
   "metadata": {
    "tags": []
   },
   "source": [
    "## Data Preprocessing"
   ]
  },
  {
   "cell_type": "code",
   "execution_count": 5,
   "id": "df88ffc7-b613-4f19-a00a-f711670b967b",
   "metadata": {},
   "outputs": [
    {
     "data": {
      "text/plain": [
       "Customer Service Issue         2910\n",
       "Late Flight                    1665\n",
       "Can't Tell                     1190\n",
       "Cancelled Flight                847\n",
       "Lost Luggage                    724\n",
       "Bad Flight                      580\n",
       "Flight Booking Problems         529\n",
       "Flight Attendant Complaints     481\n",
       "longlines                       178\n",
       "Damaged Luggage                  74\n",
       "Name: negativereason, dtype: int64"
      ]
     },
     "execution_count": 5,
     "metadata": {},
     "output_type": "execute_result"
    }
   ],
   "source": [
    "train = pd.read_csv(data_path + 'Tweets.csv')\n",
    "train = train[train['negativereason'].notna()].reset_index(drop=True)\n",
    "train.negativereason.value_counts()"
   ]
  },
  {
   "cell_type": "code",
   "execution_count": 6,
   "id": "9cdfc18e-fb64-49e0-9a62-21d7c776e656",
   "metadata": {},
   "outputs": [],
   "source": [
    "train = train[['text', 'negativereason']]"
   ]
  },
  {
   "cell_type": "code",
   "execution_count": 7,
   "id": "3bc5c632-6866-424b-8300-66a4dcffff85",
   "metadata": {},
   "outputs": [
    {
     "data": {
      "text/html": [
       "<div>\n",
       "<style scoped>\n",
       "    .dataframe tbody tr th:only-of-type {\n",
       "        vertical-align: middle;\n",
       "    }\n",
       "\n",
       "    .dataframe tbody tr th {\n",
       "        vertical-align: top;\n",
       "    }\n",
       "\n",
       "    .dataframe thead th {\n",
       "        text-align: right;\n",
       "    }\n",
       "</style>\n",
       "<table border=\"1\" class=\"dataframe\">\n",
       "  <thead>\n",
       "    <tr style=\"text-align: right;\">\n",
       "      <th></th>\n",
       "      <th>text</th>\n",
       "      <th>negativereason</th>\n",
       "    </tr>\n",
       "  </thead>\n",
       "  <tbody>\n",
       "    <tr>\n",
       "      <th>0</th>\n",
       "      <td>@VirginAmerica it's really aggressive to blast obnoxious \"entertainment\" in your guests' faces &amp;amp; they have little recourse</td>\n",
       "      <td>Bad Flight</td>\n",
       "    </tr>\n",
       "    <tr>\n",
       "      <th>1</th>\n",
       "      <td>@VirginAmerica and it's a really big bad thing about it</td>\n",
       "      <td>Can't Tell</td>\n",
       "    </tr>\n",
       "    <tr>\n",
       "      <th>2</th>\n",
       "      <td>@VirginAmerica seriously would pay $30 a flight for seats that didn't have this playing.\\nit's really the only bad thing about flying VA</td>\n",
       "      <td>Can't Tell</td>\n",
       "    </tr>\n",
       "    <tr>\n",
       "      <th>3</th>\n",
       "      <td>@VirginAmerica SFO-PDX schedule is still MIA.</td>\n",
       "      <td>Late Flight</td>\n",
       "    </tr>\n",
       "    <tr>\n",
       "      <th>4</th>\n",
       "      <td>@VirginAmerica  I flew from NYC to SFO last week and couldn't fully sit in my seat due to two large gentleman on either side of me. HELP!</td>\n",
       "      <td>Bad Flight</td>\n",
       "    </tr>\n",
       "  </tbody>\n",
       "</table>\n",
       "</div>"
      ],
      "text/plain": [
       "                                                                                                                                        text  \\\n",
       "0             @VirginAmerica it's really aggressive to blast obnoxious \"entertainment\" in your guests' faces &amp; they have little recourse   \n",
       "1                                                                                    @VirginAmerica and it's a really big bad thing about it   \n",
       "2   @VirginAmerica seriously would pay $30 a flight for seats that didn't have this playing.\\nit's really the only bad thing about flying VA   \n",
       "3                                                                                              @VirginAmerica SFO-PDX schedule is still MIA.   \n",
       "4  @VirginAmerica  I flew from NYC to SFO last week and couldn't fully sit in my seat due to two large gentleman on either side of me. HELP!   \n",
       "\n",
       "  negativereason  \n",
       "0     Bad Flight  \n",
       "1     Can't Tell  \n",
       "2     Can't Tell  \n",
       "3    Late Flight  \n",
       "4     Bad Flight  "
      ]
     },
     "execution_count": 7,
     "metadata": {},
     "output_type": "execute_result"
    }
   ],
   "source": [
    "train.head()"
   ]
  },
  {
   "cell_type": "markdown",
   "id": "e1ce3ee9-9fb0-4b82-b747-4496fcd87764",
   "metadata": {
    "tags": []
   },
   "source": [
    "## ULMFiT Utils"
   ]
  },
  {
   "cell_type": "code",
   "execution_count": 11,
   "id": "31e4722a-192d-4d57-8588-cb01b8b2aca6",
   "metadata": {},
   "outputs": [],
   "source": [
    "def train_lm(train_data, show_batch=False, metrics=[accuracy, Perplexity()], wd=0.1, epochs=(6,6)):\n",
    "    # Data Loader\n",
    "    lang_dls = DataBlock(blocks=(TextBlock.from_df('text', is_lm=True)),\n",
    "                 get_x=ColReader('text'),\n",
    "                 splitter=RandomSplitter(valid_pct=0.2))\n",
    "    lang_dls = lang_dls.dataloaders(train_data, bs=64, seq_len=72, device=torch.device('cuda'))\n",
    "    lang_dls.show_batch(max_n=4)\n",
    "    \n",
    "    # Train LM\n",
    "    learn = language_model_learner(lang_dls, AWD_LSTM, metrics=metrics, wd=wd).to_fp16()\n",
    "    \n",
    "    # First cycle\n",
    "    lr = learn.lr_find()\n",
    "    learn.fit_one_cycle(epochs[0], lr.valley, moms=(0.85,0.8,0.75))\n",
    "    \n",
    "    # Second cycle\n",
    "    learn.unfreeze()\n",
    "    lr = learn.lr_find();\n",
    "    learn.fit_one_cycle(epochs[1], lr.valley, moms=(0.8,0.75,0.7))\n",
    "    \n",
    "    return learn, lang_dls\n",
    "    \n",
    "def test_lm(learner, text, n_words, n_sentences):\n",
    "    print(\"\\n\".join(learner.predict(text, n_words, temperature=0.75) for _ in range(n_sentences)))\n",
    "    \n",
    "def train_classifier(train_data, lang_dls, encoder_path, label, show_batch=False, metrics=[accuracy, Perplexity()], wd=0.1, epochs=(4, 4, 9)):\n",
    "    intent_dls = DataBlock(blocks=(TextBlock.from_df('text', vocab=lang_dls.vocab, seq_len=72), CategoryBlock),\n",
    "                 get_x=ColReader('text'),\n",
    "                 get_y=ColReader(label),\n",
    "                 splitter=RandomSplitter(valid_pct=0.2))\n",
    "\n",
    "    intent_dls = intent_dls.dataloaders(train_data, bs=64, device=torch.device('cuda'))\n",
    "    intent_dls.show_batch(max_n=4)\n",
    "    \n",
    "    learn = text_classifier_learner(intent_dls, AWD_LSTM, metrics=metrics, wd=wd, drop_mult=0.5).to_fp16()\n",
    "    learn.load_encoder(encoder_path)\n",
    "    \n",
    "    # First cycle\n",
    "    lr = learn.lr_find()\n",
    "    learn.fit_one_cycle(epochs[0], lr.valley, moms=(0.8,0.75,0.7))\n",
    "    \n",
    "    # Second cycle\n",
    "    learn.freeze_to(-2)\n",
    "    lr = learn.lr_find()\n",
    "    learn.fit_one_cycle(epochs[1], lr, moms=(0.8,0.75,0.7))\n",
    "    # learn.fit_one_cycle(epochs, slice(1e-3/(2.6**4), 1e-3), moms=(0.8,0.75,0.7))\n",
    "    \n",
    "    # Last cycle\n",
    "    learn.unfreeze()\n",
    "    lr = learn.lr_find()\n",
    "    learn.fit_one_cycle(epochs[2], slice(1e-3/(2.6**4),1e-3), moms=(0.8,0.75,0.7))\n",
    "    # learn.fit_one_cycle(epochs, lr, moms=(0.8,0.75,0.7))\n",
    "    \n",
    "    return learn\n",
    "\n",
    "def test_classifier_acc(learn):\n",
    "    pred_fwd,lbl_fwd = learn.get_preds()\n",
    "    return accuracy(pred_fwd, lbl_fwd)\n",
    "    "
   ]
  },
  {
   "cell_type": "markdown",
   "id": "d135de60-d088-4b06-b420-2d56a3b62aaa",
   "metadata": {
    "jp-MarkdownHeadingCollapsed": true,
    "tags": []
   },
   "source": [
    "# Base Trainer"
   ]
  },
  {
   "cell_type": "markdown",
   "id": "e2c66969-ae0f-4328-8692-0e689c9592aa",
   "metadata": {
    "jp-MarkdownHeadingCollapsed": true,
    "tags": []
   },
   "source": [
    "## Train ULMFiT Language Model"
   ]
  },
  {
   "cell_type": "code",
   "execution_count": 61,
   "id": "9f1fa764-49d2-4bfb-ac25-bc186cf04e13",
   "metadata": {},
   "outputs": [],
   "source": [
    "lang_dls = DataBlock(blocks=(TextBlock.from_df('text', is_lm=True)),\n",
    "                 get_x=ColReader('text'),\n",
    "                 splitter=RandomSplitter(valid_pct=0.2))"
   ]
  },
  {
   "cell_type": "code",
   "execution_count": 62,
   "id": "b4e4e6c3-fe79-4121-a56a-9070eb2882cc",
   "metadata": {},
   "outputs": [
    {
     "data": {
      "text/html": [
       "\n",
       "<style>\n",
       "    /* Turns off some styling */\n",
       "    progress {\n",
       "        /* gets rid of default border in Firefox and Opera. */\n",
       "        border: none;\n",
       "        /* Needs to be in here for Safari polyfill so background images work as expected. */\n",
       "        background-size: auto;\n",
       "    }\n",
       "    progress:not([value]), progress:not([value])::-webkit-progress-bar {\n",
       "        background: repeating-linear-gradient(45deg, #7e7e7e, #7e7e7e 10px, #5c5c5c 10px, #5c5c5c 20px);\n",
       "    }\n",
       "    .progress-bar-interrupted, .progress-bar-interrupted::-webkit-progress-bar {\n",
       "        background: #F44336;\n",
       "    }\n",
       "</style>\n"
      ],
      "text/plain": [
       "<IPython.core.display.HTML object>"
      ]
     },
     "metadata": {},
     "output_type": "display_data"
    },
    {
     "data": {
      "text/html": [],
      "text/plain": [
       "<IPython.core.display.HTML object>"
      ]
     },
     "metadata": {},
     "output_type": "display_data"
    },
    {
     "data": {
      "text/html": [
       "<table border=\"1\" class=\"dataframe\">\n",
       "  <thead>\n",
       "    <tr style=\"text-align: right;\">\n",
       "      <th></th>\n",
       "      <th>text</th>\n",
       "      <th>text_</th>\n",
       "    </tr>\n",
       "  </thead>\n",
       "  <tbody>\n",
       "    <tr>\n",
       "      <th>0</th>\n",
       "      <td>xxbos @usairways a year and every time with xxup us xxmaj air something happens . i sat waiting for a re - scheduled flight for 10 hours then to say its xxbos @southwestair thanks , but they told him he could n’t a few hours ago , then my plane left after i tried to do it . xxmaj stuck waiting for hours now xxbos @southwestair xxmaj for example , ca n't</td>\n",
       "      <td>@usairways a year and every time with xxup us xxmaj air something happens . i sat waiting for a re - scheduled flight for 10 hours then to say its xxbos @southwestair thanks , but they told him he could n’t a few hours ago , then my plane left after i tried to do it . xxmaj stuck waiting for hours now xxbos @southwestair xxmaj for example , ca n't pay</td>\n",
       "    </tr>\n",
       "    <tr>\n",
       "      <th>1</th>\n",
       "      <td>the location i paid to get to and now … . xxbos @usairways link does n't work and xxmaj i 've tried tracking my bag several times . xxmaj still does n't clarify where it is . xxbos @united still sitting here waiting for a plane … xxunk hours wasted xxbos @americanair crew did the best they could but it was out of their control . xxmaj you only get one chance</td>\n",
       "      <td>location i paid to get to and now … . xxbos @usairways link does n't work and xxmaj i 've tried tracking my bag several times . xxmaj still does n't clarify where it is . xxbos @united still sitting here waiting for a plane … xxunk hours wasted xxbos @americanair crew did the best they could but it was out of their control . xxmaj you only get one chance of</td>\n",
       "    </tr>\n",
       "    <tr>\n",
       "      <th>2</th>\n",
       "      <td>do n't xxunk terms and conditions . # xxunk xxbos @usairways 5 hour cross country morning flight and you have no food ? # badservice xxbos @virginamerica for all my flight stuff wrong and did nothing about it . xxmaj had # worst # flight ever xxbos @united @ny_njairports xxmaj only at xxmaj newark can you land 15 minutes early but lose all that time waiting on tarmac for a gate .</td>\n",
       "      <td>n't xxunk terms and conditions . # xxunk xxbos @usairways 5 hour cross country morning flight and you have no food ? # badservice xxbos @virginamerica for all my flight stuff wrong and did nothing about it . xxmaj had # worst # flight ever xxbos @united @ny_njairports xxmaj only at xxmaj newark can you land 15 minutes early but lose all that time waiting on tarmac for a gate . xxbos</td>\n",
       "    </tr>\n",
       "    <tr>\n",
       "      <th>3</th>\n",
       "      <td>. xxmaj might miss connection xxbos @southwestair - been on hold forever . xxmaj my first flight was xxmaj cancelled xxmaj flightled but my 2nd flight is still on time - xxup help ! xxbos @united xxmaj lovely new plane from xxup lga to xxup ord but no power outlets ? xxbos @americanair , i was told my flights xxunk &amp; &amp; xxunk was xxmaj cancelled xxmaj flightled . xxmaj but i</td>\n",
       "      <td>xxmaj might miss connection xxbos @southwestair - been on hold forever . xxmaj my first flight was xxmaj cancelled xxmaj flightled but my 2nd flight is still on time - xxup help ! xxbos @united xxmaj lovely new plane from xxup lga to xxup ord but no power outlets ? xxbos @americanair , i was told my flights xxunk &amp; &amp; xxunk was xxmaj cancelled xxmaj flightled . xxmaj but i do</td>\n",
       "    </tr>\n",
       "  </tbody>\n",
       "</table>"
      ],
      "text/plain": [
       "<IPython.core.display.HTML object>"
      ]
     },
     "metadata": {},
     "output_type": "display_data"
    }
   ],
   "source": [
    "lang_dls = lang_dls.dataloaders(train, bs=64, seq_len=72, device=torch.device('cuda'))\n",
    "lang_dls.show_batch(max_n=4)"
   ]
  },
  {
   "cell_type": "code",
   "execution_count": 63,
   "id": "ad014d1c-2d8d-4b60-926b-d7bc5a9e42a9",
   "metadata": {},
   "outputs": [],
   "source": [
    "learn = language_model_learner(lang_dls, AWD_LSTM, metrics=[accuracy, Perplexity()], wd=0.1).to_fp16()"
   ]
  },
  {
   "cell_type": "code",
   "execution_count": 64,
   "id": "4ee79a87-9ddb-4f2a-ad9a-f81b702b8086",
   "metadata": {},
   "outputs": [],
   "source": [
    "# learn.fit_one_cycle(1, 1e-2)"
   ]
  },
  {
   "cell_type": "code",
   "execution_count": 65,
   "id": "80baf210-de2a-4c16-9a13-d1a234e46d24",
   "metadata": {},
   "outputs": [
    {
     "data": {
      "text/html": [
       "\n",
       "<style>\n",
       "    /* Turns off some styling */\n",
       "    progress {\n",
       "        /* gets rid of default border in Firefox and Opera. */\n",
       "        border: none;\n",
       "        /* Needs to be in here for Safari polyfill so background images work as expected. */\n",
       "        background-size: auto;\n",
       "    }\n",
       "    progress:not([value]), progress:not([value])::-webkit-progress-bar {\n",
       "        background: repeating-linear-gradient(45deg, #7e7e7e, #7e7e7e 10px, #5c5c5c 10px, #5c5c5c 20px);\n",
       "    }\n",
       "    .progress-bar-interrupted, .progress-bar-interrupted::-webkit-progress-bar {\n",
       "        background: #F44336;\n",
       "    }\n",
       "</style>\n"
      ],
      "text/plain": [
       "<IPython.core.display.HTML object>"
      ]
     },
     "metadata": {},
     "output_type": "display_data"
    },
    {
     "data": {
      "text/html": [],
      "text/plain": [
       "<IPython.core.display.HTML object>"
      ]
     },
     "metadata": {},
     "output_type": "display_data"
    },
    {
     "name": "stdout",
     "output_type": "stream",
     "text": [
      "0.0030199517495930195\n"
     ]
    },
    {
     "data": {
      "image/png": "[encoded data removed]",
      "text/plain": [
       "<Figure size 640x480 with 1 Axes>"
      ]
     },
     "metadata": {},
     "output_type": "display_data"
    }
   ],
   "source": [
    "# #find the optimal learning rate & visualize it\n",
    "lr = learn.lr_find()\n",
    "print(lr.valley)\n",
    "# learn.recorder.plot(skip_end=15);"
   ]
  },
  {
   "cell_type": "code",
   "execution_count": 66,
   "id": "77fe5caa-02db-4639-a4e6-ec9c09ba5a56",
   "metadata": {},
   "outputs": [
    {
     "data": {
      "text/html": [
       "\n",
       "<style>\n",
       "    /* Turns off some styling */\n",
       "    progress {\n",
       "        /* gets rid of default border in Firefox and Opera. */\n",
       "        border: none;\n",
       "        /* Needs to be in here for Safari polyfill so background images work as expected. */\n",
       "        background-size: auto;\n",
       "    }\n",
       "    progress:not([value]), progress:not([value])::-webkit-progress-bar {\n",
       "        background: repeating-linear-gradient(45deg, #7e7e7e, #7e7e7e 10px, #5c5c5c 10px, #5c5c5c 20px);\n",
       "    }\n",
       "    .progress-bar-interrupted, .progress-bar-interrupted::-webkit-progress-bar {\n",
       "        background: #F44336;\n",
       "    }\n",
       "</style>\n"
      ],
      "text/plain": [
       "<IPython.core.display.HTML object>"
      ]
     },
     "metadata": {},
     "output_type": "display_data"
    },
    {
     "data": {
      "text/html": [
       "<table border=\"1\" class=\"dataframe\">\n",
       "  <thead>\n",
       "    <tr style=\"text-align: left;\">\n",
       "      <th>epoch</th>\n",
       "      <th>train_loss</th>\n",
       "      <th>valid_loss</th>\n",
       "      <th>accuracy</th>\n",
       "      <th>perplexity</th>\n",
       "      <th>time</th>\n",
       "    </tr>\n",
       "  </thead>\n",
       "  <tbody>\n",
       "    <tr>\n",
       "      <td>0</td>\n",
       "      <td>6.379665</td>\n",
       "      <td>5.913874</td>\n",
       "      <td>0.159537</td>\n",
       "      <td>370.137177</td>\n",
       "      <td>00:12</td>\n",
       "    </tr>\n",
       "    <tr>\n",
       "      <td>1</td>\n",
       "      <td>6.110925</td>\n",
       "      <td>5.557249</td>\n",
       "      <td>0.184868</td>\n",
       "      <td>259.109070</td>\n",
       "      <td>00:12</td>\n",
       "    </tr>\n",
       "    <tr>\n",
       "      <td>2</td>\n",
       "      <td>5.931389</td>\n",
       "      <td>5.467914</td>\n",
       "      <td>0.188842</td>\n",
       "      <td>236.965271</td>\n",
       "      <td>00:12</td>\n",
       "    </tr>\n",
       "    <tr>\n",
       "      <td>3</td>\n",
       "      <td>5.849389</td>\n",
       "      <td>5.445411</td>\n",
       "      <td>0.189161</td>\n",
       "      <td>231.692535</td>\n",
       "      <td>00:12</td>\n",
       "    </tr>\n",
       "    <tr>\n",
       "      <td>4</td>\n",
       "      <td>5.807628</td>\n",
       "      <td>5.438148</td>\n",
       "      <td>0.189299</td>\n",
       "      <td>230.015701</td>\n",
       "      <td>00:12</td>\n",
       "    </tr>\n",
       "    <tr>\n",
       "      <td>5</td>\n",
       "      <td>5.785289</td>\n",
       "      <td>5.437185</td>\n",
       "      <td>0.189244</td>\n",
       "      <td>229.794464</td>\n",
       "      <td>00:12</td>\n",
       "    </tr>\n",
       "  </tbody>\n",
       "</table>"
      ],
      "text/plain": [
       "<IPython.core.display.HTML object>"
      ]
     },
     "metadata": {},
     "output_type": "display_data"
    }
   ],
   "source": [
    "epochs = 6\n",
    "learn.fit_one_cycle(epochs, lr.valley, moms=(0.85,0.8,0.75))"
   ]
  },
  {
   "cell_type": "code",
   "execution_count": 67,
   "id": "a15a0f88-549f-46ca-a847-94c59139a597",
   "metadata": {},
   "outputs": [
    {
     "data": {
      "text/html": [
       "\n",
       "<style>\n",
       "    /* Turns off some styling */\n",
       "    progress {\n",
       "        /* gets rid of default border in Firefox and Opera. */\n",
       "        border: none;\n",
       "        /* Needs to be in here for Safari polyfill so background images work as expected. */\n",
       "        background-size: auto;\n",
       "    }\n",
       "    progress:not([value]), progress:not([value])::-webkit-progress-bar {\n",
       "        background: repeating-linear-gradient(45deg, #7e7e7e, #7e7e7e 10px, #5c5c5c 10px, #5c5c5c 20px);\n",
       "    }\n",
       "    .progress-bar-interrupted, .progress-bar-interrupted::-webkit-progress-bar {\n",
       "        background: #F44336;\n",
       "    }\n",
       "</style>\n"
      ],
      "text/plain": [
       "<IPython.core.display.HTML object>"
      ]
     },
     "metadata": {},
     "output_type": "display_data"
    },
    {
     "data": {
      "text/html": [
       "<table border=\"1\" class=\"dataframe\">\n",
       "  <thead>\n",
       "    <tr style=\"text-align: left;\">\n",
       "      <th>epoch</th>\n",
       "      <th>train_loss</th>\n",
       "      <th>valid_loss</th>\n",
       "      <th>accuracy</th>\n",
       "      <th>perplexity</th>\n",
       "      <th>time</th>\n",
       "    </tr>\n",
       "  </thead>\n",
       "  <tbody>\n",
       "    <tr>\n",
       "      <td>0</td>\n",
       "      <td>4.973240</td>\n",
       "      <td>4.482364</td>\n",
       "      <td>0.236794</td>\n",
       "      <td>88.443481</td>\n",
       "      <td>00:13</td>\n",
       "    </tr>\n",
       "    <tr>\n",
       "      <td>1</td>\n",
       "      <td>4.680242</td>\n",
       "      <td>4.518961</td>\n",
       "      <td>0.237046</td>\n",
       "      <td>91.740273</td>\n",
       "      <td>00:13</td>\n",
       "    </tr>\n",
       "    <tr>\n",
       "      <td>2</td>\n",
       "      <td>4.461723</td>\n",
       "      <td>4.244164</td>\n",
       "      <td>0.261873</td>\n",
       "      <td>69.697472</td>\n",
       "      <td>00:13</td>\n",
       "    </tr>\n",
       "    <tr>\n",
       "      <td>3</td>\n",
       "      <td>4.283230</td>\n",
       "      <td>4.208779</td>\n",
       "      <td>0.266844</td>\n",
       "      <td>67.274338</td>\n",
       "      <td>00:13</td>\n",
       "    </tr>\n",
       "    <tr>\n",
       "      <td>4</td>\n",
       "      <td>4.155985</td>\n",
       "      <td>4.210586</td>\n",
       "      <td>0.267223</td>\n",
       "      <td>67.395996</td>\n",
       "      <td>00:13</td>\n",
       "    </tr>\n",
       "  </tbody>\n",
       "</table>"
      ],
      "text/plain": [
       "<IPython.core.display.HTML object>"
      ]
     },
     "metadata": {},
     "output_type": "display_data"
    }
   ],
   "source": [
    "learn.unfreeze()\n",
    "lr = learn.lr_find();\n",
    "print(lr.valley)\n",
    "\n",
    "epochs = 6\n",
    "learn.fit_one_cycle(epochs, lr.valley, moms=(0.8,0.75,0.7))"
   ]
  },
  {
   "cell_type": "code",
   "execution_count": 68,
   "id": "8a13ed43-fbc1-4b4c-91ed-e4fd6790e735",
   "metadata": {},
   "outputs": [
    {
     "data": {
      "text/html": [
       "\n",
       "<style>\n",
       "    /* Turns off some styling */\n",
       "    progress {\n",
       "        /* gets rid of default border in Firefox and Opera. */\n",
       "        border: none;\n",
       "        /* Needs to be in here for Safari polyfill so background images work as expected. */\n",
       "        background-size: auto;\n",
       "    }\n",
       "    progress:not([value]), progress:not([value])::-webkit-progress-bar {\n",
       "        background: repeating-linear-gradient(45deg, #7e7e7e, #7e7e7e 10px, #5c5c5c 10px, #5c5c5c 20px);\n",
       "    }\n",
       "    .progress-bar-interrupted, .progress-bar-interrupted::-webkit-progress-bar {\n",
       "        background: #F44336;\n",
       "    }\n",
       "</style>\n"
      ],
      "text/plain": [
       "<IPython.core.display.HTML object>"
      ]
     },
     "metadata": {},
     "output_type": "display_data"
    },
    {
     "data": {
      "text/html": [],
      "text/plain": [
       "<IPython.core.display.HTML object>"
      ]
     },
     "metadata": {},
     "output_type": "display_data"
    },
    {
     "data": {
      "text/html": [
       "\n",
       "<style>\n",
       "    /* Turns off some styling */\n",
       "    progress {\n",
       "        /* gets rid of default border in Firefox and Opera. */\n",
       "        border: none;\n",
       "        /* Needs to be in here for Safari polyfill so background images work as expected. */\n",
       "        background-size: auto;\n",
       "    }\n",
       "    progress:not([value]), progress:not([value])::-webkit-progress-bar {\n",
       "        background: repeating-linear-gradient(45deg, #7e7e7e, #7e7e7e 10px, #5c5c5c 10px, #5c5c5c 20px);\n",
       "    }\n",
       "    .progress-bar-interrupted, .progress-bar-interrupted::-webkit-progress-bar {\n",
       "        background: #F44336;\n",
       "    }\n",
       "</style>\n"
      ],
      "text/plain": [
       "<IPython.core.display.HTML object>"
      ]
     },
     "metadata": {},
     "output_type": "display_data"
    },
    {
     "data": {
      "text/html": [],
      "text/plain": [
       "<IPython.core.display.HTML object>"
      ]
     },
     "metadata": {},
     "output_type": "display_data"
    },
    {
     "name": "stdout",
     "output_type": "stream",
     "text": [
      "@southwestair My flight was delayed and i call to Phoenix . She also came from the airport to JFK , so now the flight is Cancelled Vegan . Or is it on time ? sf That 's\n",
      "@southwestair My flight was delayed due to weather , but i disgruntled lose my bags . Such a poor experience with you . 4567 NO NONSENSE .. This is the first time i have ever done this . You\n"
     ]
    }
   ],
   "source": [
    "TEXT = \"@southwestair My flight was delayed\"\n",
    "N_WORDS = 40\n",
    "N_SENTENCES = 2\n",
    "print(\"\\n\".join(learn.predict(TEXT, N_WORDS, temperature=0.75) for _ in range(N_SENTENCES)))"
   ]
  },
  {
   "cell_type": "code",
   "execution_count": 69,
   "id": "ad4edb39-9a7f-4935-981e-8967fd2296de",
   "metadata": {},
   "outputs": [],
   "source": [
    "#Save fine-tuned model for future use\n",
    "learn.save_encoder(repo_path + '/models/ULMFiT_fine_tuned_LM')"
   ]
  },
  {
   "cell_type": "markdown",
   "id": "4f59b11b-2386-4fbc-95a7-1f574fca3605",
   "metadata": {
    "jp-MarkdownHeadingCollapsed": true,
    "tags": []
   },
   "source": [
    "## Train UlmFiT Classifier"
   ]
  },
  {
   "cell_type": "code",
   "execution_count": 70,
   "id": "4ec6968c-ac0e-4bcb-aa8b-a727f1b2730d",
   "metadata": {},
   "outputs": [
    {
     "data": {
      "text/html": [
       "\n",
       "<style>\n",
       "    /* Turns off some styling */\n",
       "    progress {\n",
       "        /* gets rid of default border in Firefox and Opera. */\n",
       "        border: none;\n",
       "        /* Needs to be in here for Safari polyfill so background images work as expected. */\n",
       "        background-size: auto;\n",
       "    }\n",
       "    progress:not([value]), progress:not([value])::-webkit-progress-bar {\n",
       "        background: repeating-linear-gradient(45deg, #7e7e7e, #7e7e7e 10px, #5c5c5c 10px, #5c5c5c 20px);\n",
       "    }\n",
       "    .progress-bar-interrupted, .progress-bar-interrupted::-webkit-progress-bar {\n",
       "        background: #F44336;\n",
       "    }\n",
       "</style>\n"
      ],
      "text/plain": [
       "<IPython.core.display.HTML object>"
      ]
     },
     "metadata": {},
     "output_type": "display_data"
    },
    {
     "data": {
      "text/html": [],
      "text/plain": [
       "<IPython.core.display.HTML object>"
      ]
     },
     "metadata": {},
     "output_type": "display_data"
    },
    {
     "data": {
      "text/html": [
       "<table border=\"1\" class=\"dataframe\">\n",
       "  <thead>\n",
       "    <tr style=\"text-align: right;\">\n",
       "      <th></th>\n",
       "      <th>text</th>\n",
       "      <th>category</th>\n",
       "    </tr>\n",
       "  </thead>\n",
       "  <tbody>\n",
       "    <tr>\n",
       "      <th>0</th>\n",
       "      <td>xxbos @usairways xxup plans xxup changed ! xxup is xxup that xxup what u xxup call xxup not xxup xxunk xxup able 2 xxup park xxup on xxup time xxup planes w a 2 xxup hr xxup layover n b xxup able 2 xxup make xxup ur xxup connection ! # seriously</td>\n",
       "      <td>Customer Service Issue</td>\n",
       "    </tr>\n",
       "    <tr>\n",
       "      <th>1</th>\n",
       "      <td>xxbos @united xxunk 7 xxup weeks xxmaj late flightr xxup and i xxup still xxup have xxup not xxup received xxup my xxup miles xxup from xxup the mileageplus xxmaj gift xxmaj card $ 150 xxup xxunk xxup card i xxup handed xxup over xxrep 3 !</td>\n",
       "      <td>Flight Booking Problems</td>\n",
       "    </tr>\n",
       "    <tr>\n",
       "      <th>2</th>\n",
       "      <td>xxbos @southwestair xxmaj loved one 's flight xxup atl to xxup ind xxmaj cancelled xxmaj flightled due to \" ice in xxmaj indy \" . xxmaj sitting here in xxmaj indy , it is xxunk dry . xxmaj tomorrow 4 - 6 \" of snow .</td>\n",
       "      <td>Cancelled Flight</td>\n",
       "    </tr>\n",
       "    <tr>\n",
       "      <th>3</th>\n",
       "      <td>xxbos .@americanair ( 2 / 3 ) … i sat on the runway for 4 xxup more xxup hrs b4 takeoff ( 10 hrs xxmaj late xxmaj flight , xxunk xxup am ) . xxmaj pilot xxunk stated it was a comp / mech issue .</td>\n",
       "      <td>Late Flight</td>\n",
       "    </tr>\n",
       "  </tbody>\n",
       "</table>"
      ],
      "text/plain": [
       "<IPython.core.display.HTML object>"
      ]
     },
     "metadata": {},
     "output_type": "display_data"
    }
   ],
   "source": [
    "intent_dls = DataBlock(blocks=(TextBlock.from_df('text', vocab=lang_dls.vocab, seq_len=72), CategoryBlock),\n",
    "                 get_x=ColReader('text'),\n",
    "                 get_y=ColReader('negativereason'),\n",
    "                 splitter=RandomSplitter(valid_pct=0.2))\n",
    "\n",
    "intent_dls = intent_dls.dataloaders(train, bs=64, device=torch.device('cuda'))\n",
    "intent_dls.show_batch(max_n=4)"
   ]
  },
  {
   "cell_type": "code",
   "execution_count": 71,
   "id": "f965cd92-d23d-430a-b5cb-88ba94e7aa60",
   "metadata": {},
   "outputs": [],
   "source": [
    "# intent_dls = DataBlock(blocks=(TextBlock.from_df('text', vocab=dls.vocab, seq_len=72), CategoryBlock),\n",
    "#                  get_x=ColReader('text'),\n",
    "#                  get_y=ColReader('negativereason'),\n",
    "#                  splitter=RandomSplitter(valid_pct=0.2))\n",
    "# intent_dls.summary(train, show_batch=True)"
   ]
  },
  {
   "cell_type": "code",
   "execution_count": 72,
   "id": "5e73d3b8-0064-44cb-88e6-e68c83292f55",
   "metadata": {},
   "outputs": [
    {
     "data": {
      "text/plain": [
       "<fastai.text.learner.TextLearner at 0x7f67101aa950>"
      ]
     },
     "execution_count": 72,
     "metadata": {},
     "output_type": "execute_result"
    }
   ],
   "source": [
    "encoder_path = repo_path + '/models/ULMFiT_fine_tuned_LM'\n",
    "learn = text_classifier_learner(intent_dls, AWD_LSTM, metrics=[accuracy, Perplexity()], wd=0.1, drop_mult=0.5).to_fp16()\n",
    "learn.load_encoder(encoder_path)"
   ]
  },
  {
   "cell_type": "code",
   "execution_count": 73,
   "id": "a9155dd1-a60f-4dca-a342-aae5a39da15e",
   "metadata": {},
   "outputs": [
    {
     "data": {
      "text/html": [
       "\n",
       "<style>\n",
       "    /* Turns off some styling */\n",
       "    progress {\n",
       "        /* gets rid of default border in Firefox and Opera. */\n",
       "        border: none;\n",
       "        /* Needs to be in here for Safari polyfill so background images work as expected. */\n",
       "        background-size: auto;\n",
       "    }\n",
       "    progress:not([value]), progress:not([value])::-webkit-progress-bar {\n",
       "        background: repeating-linear-gradient(45deg, #7e7e7e, #7e7e7e 10px, #5c5c5c 10px, #5c5c5c 20px);\n",
       "    }\n",
       "    .progress-bar-interrupted, .progress-bar-interrupted::-webkit-progress-bar {\n",
       "        background: #F44336;\n",
       "    }\n",
       "</style>\n"
      ],
      "text/plain": [
       "<IPython.core.display.HTML object>"
      ]
     },
     "metadata": {},
     "output_type": "display_data"
    },
    {
     "data": {
      "text/html": [],
      "text/plain": [
       "<IPython.core.display.HTML object>"
      ]
     },
     "metadata": {},
     "output_type": "display_data"
    },
    {
     "name": "stdout",
     "output_type": "stream",
     "text": [
      "0.033113110810518265\n"
     ]
    },
    {
     "data": {
      "image/png": "[encoded data removed]",
      "text/plain": [
       "<Figure size 640x480 with 1 Axes>"
      ]
     },
     "metadata": {},
     "output_type": "display_data"
    }
   ],
   "source": [
    "lr = learn.lr_find()\n",
    "print(lr.valley)"
   ]
  },
  {
   "cell_type": "code",
   "execution_count": 74,
   "id": "6f27ade0-beac-41fb-80cf-533e6066447c",
   "metadata": {},
   "outputs": [
    {
     "data": {
      "text/html": [
       "\n",
       "<style>\n",
       "    /* Turns off some styling */\n",
       "    progress {\n",
       "        /* gets rid of default border in Firefox and Opera. */\n",
       "        border: none;\n",
       "        /* Needs to be in here for Safari polyfill so background images work as expected. */\n",
       "        background-size: auto;\n",
       "    }\n",
       "    progress:not([value]), progress:not([value])::-webkit-progress-bar {\n",
       "        background: repeating-linear-gradient(45deg, #7e7e7e, #7e7e7e 10px, #5c5c5c 10px, #5c5c5c 20px);\n",
       "    }\n",
       "    .progress-bar-interrupted, .progress-bar-interrupted::-webkit-progress-bar {\n",
       "        background: #F44336;\n",
       "    }\n",
       "</style>\n"
      ],
      "text/plain": [
       "<IPython.core.display.HTML object>"
      ]
     },
     "metadata": {},
     "output_type": "display_data"
    },
    {
     "data": {
      "text/html": [
       "<table border=\"1\" class=\"dataframe\">\n",
       "  <thead>\n",
       "    <tr style=\"text-align: left;\">\n",
       "      <th>epoch</th>\n",
       "      <th>train_loss</th>\n",
       "      <th>valid_loss</th>\n",
       "      <th>accuracy</th>\n",
       "      <th>perplexity</th>\n",
       "      <th>time</th>\n",
       "    </tr>\n",
       "  </thead>\n",
       "  <tbody>\n",
       "    <tr>\n",
       "      <td>0</td>\n",
       "      <td>2.016033</td>\n",
       "      <td>1.764095</td>\n",
       "      <td>0.415259</td>\n",
       "      <td>5.836287</td>\n",
       "      <td>00:03</td>\n",
       "    </tr>\n",
       "    <tr>\n",
       "      <td>1</td>\n",
       "      <td>1.712189</td>\n",
       "      <td>1.549522</td>\n",
       "      <td>0.494278</td>\n",
       "      <td>4.709217</td>\n",
       "      <td>00:03</td>\n",
       "    </tr>\n",
       "    <tr>\n",
       "      <td>2</td>\n",
       "      <td>1.617195</td>\n",
       "      <td>1.503480</td>\n",
       "      <td>0.496458</td>\n",
       "      <td>4.497313</td>\n",
       "      <td>00:04</td>\n",
       "    </tr>\n",
       "    <tr>\n",
       "      <td>3</td>\n",
       "      <td>1.586575</td>\n",
       "      <td>1.497118</td>\n",
       "      <td>0.502452</td>\n",
       "      <td>4.468793</td>\n",
       "      <td>00:03</td>\n",
       "    </tr>\n",
       "  </tbody>\n",
       "</table>"
      ],
      "text/plain": [
       "<IPython.core.display.HTML object>"
      ]
     },
     "metadata": {},
     "output_type": "display_data"
    }
   ],
   "source": [
    "epochs = 4\n",
    "learn.fit_one_cycle(epochs, lr.valley, moms=(0.8,0.75,0.7))"
   ]
  },
  {
   "cell_type": "code",
   "execution_count": 75,
   "id": "ce6e0bc0-3032-44cc-9658-de9355d53295",
   "metadata": {},
   "outputs": [],
   "source": [
    "learn.freeze_to(-2)\n",
    "# lr = learn.lr_find()\n",
    "# print(lr.valley)"
   ]
  },
  {
   "cell_type": "code",
   "execution_count": null,
   "id": "3bd02fbb-24c3-48bb-8977-c908ef48eeb7",
   "metadata": {},
   "outputs": [
    {
     "data": {
      "text/html": [
       "\n",
       "<style>\n",
       "    /* Turns off some styling */\n",
       "    progress {\n",
       "        /* gets rid of default border in Firefox and Opera. */\n",
       "        border: none;\n",
       "        /* Needs to be in here for Safari polyfill so background images work as expected. */\n",
       "        background-size: auto;\n",
       "    }\n",
       "    progress:not([value]), progress:not([value])::-webkit-progress-bar {\n",
       "        background: repeating-linear-gradient(45deg, #7e7e7e, #7e7e7e 10px, #5c5c5c 10px, #5c5c5c 20px);\n",
       "    }\n",
       "    .progress-bar-interrupted, .progress-bar-interrupted::-webkit-progress-bar {\n",
       "        background: #F44336;\n",
       "    }\n",
       "</style>\n"
      ],
      "text/plain": [
       "<IPython.core.display.HTML object>"
      ]
     },
     "metadata": {},
     "output_type": "display_data"
    },
    {
     "data": {
      "text/html": [
       "<table border=\"1\" class=\"dataframe\">\n",
       "  <thead>\n",
       "    <tr style=\"text-align: left;\">\n",
       "      <th>epoch</th>\n",
       "      <th>train_loss</th>\n",
       "      <th>valid_loss</th>\n",
       "      <th>accuracy</th>\n",
       "      <th>perplexity</th>\n",
       "      <th>time</th>\n",
       "    </tr>\n",
       "  </thead>\n",
       "  <tbody>\n",
       "    <tr>\n",
       "      <td>0</td>\n",
       "      <td>1.548373</td>\n",
       "      <td>1.419105</td>\n",
       "      <td>0.528065</td>\n",
       "      <td>4.133419</td>\n",
       "      <td>00:04</td>\n",
       "    </tr>\n",
       "    <tr>\n",
       "      <td>1</td>\n",
       "      <td>1.450379</td>\n",
       "      <td>1.347682</td>\n",
       "      <td>0.555858</td>\n",
       "      <td>3.848496</td>\n",
       "      <td>00:04</td>\n",
       "    </tr>\n",
       "    <tr>\n",
       "      <td>2</td>\n",
       "      <td>1.378141</td>\n",
       "      <td>1.326074</td>\n",
       "      <td>0.560218</td>\n",
       "      <td>3.766229</td>\n",
       "      <td>00:04</td>\n",
       "    </tr>\n",
       "    <tr>\n",
       "      <td>3</td>\n",
       "      <td>1.335881</td>\n",
       "      <td>1.319024</td>\n",
       "      <td>0.565123</td>\n",
       "      <td>3.739769</td>\n",
       "      <td>00:03</td>\n",
       "    </tr>\n",
       "  </tbody>\n",
       "</table>"
      ],
      "text/plain": [
       "<IPython.core.display.HTML object>"
      ]
     },
     "metadata": {},
     "output_type": "display_data"
    }
   ],
   "source": [
    "epochs = 4\n",
    "# learn.fit_one_cycle(epochs, lr.valley, moms=(0.8,0.75,0.7))\n",
    "\n",
    "learn.fit_one_cycle(epochs, slice(1e-3/(2.6**4), 1e-3), moms=(0.8,0.75,0.7))"
   ]
  },
  {
   "cell_type": "code",
   "execution_count": null,
   "id": "7d46a962-1c57-4566-b4db-cfd329373951",
   "metadata": {},
   "outputs": [],
   "source": [
    "learn.unfreeze()\n",
    "# lr = learn.lr_find()\n",
    "# print(lr.valley)"
   ]
  },
  {
   "cell_type": "code",
   "execution_count": 81,
   "id": "e085dce9-9251-477c-a21d-7dbbc1969ad2",
   "metadata": {},
   "outputs": [
    {
     "data": {
      "text/html": [
       "\n",
       "<style>\n",
       "    /* Turns off some styling */\n",
       "    progress {\n",
       "        /* gets rid of default border in Firefox and Opera. */\n",
       "        border: none;\n",
       "        /* Needs to be in here for Safari polyfill so background images work as expected. */\n",
       "        background-size: auto;\n",
       "    }\n",
       "    progress:not([value]), progress:not([value])::-webkit-progress-bar {\n",
       "        background: repeating-linear-gradient(45deg, #7e7e7e, #7e7e7e 10px, #5c5c5c 10px, #5c5c5c 20px);\n",
       "    }\n",
       "    .progress-bar-interrupted, .progress-bar-interrupted::-webkit-progress-bar {\n",
       "        background: #F44336;\n",
       "    }\n",
       "</style>\n"
      ],
      "text/plain": [
       "<IPython.core.display.HTML object>"
      ]
     },
     "metadata": {},
     "output_type": "display_data"
    },
    {
     "data": {
      "text/html": [
       "<table border=\"1\" class=\"dataframe\">\n",
       "  <thead>\n",
       "    <tr style=\"text-align: left;\">\n",
       "      <th>epoch</th>\n",
       "      <th>train_loss</th>\n",
       "      <th>valid_loss</th>\n",
       "      <th>accuracy</th>\n",
       "      <th>perplexity</th>\n",
       "      <th>time</th>\n",
       "    </tr>\n",
       "  </thead>\n",
       "  <tbody>\n",
       "    <tr>\n",
       "      <td>0</td>\n",
       "      <td>1.053360</td>\n",
       "      <td>1.182740</td>\n",
       "      <td>0.610899</td>\n",
       "      <td>3.263304</td>\n",
       "      <td>00:05</td>\n",
       "    </tr>\n",
       "    <tr>\n",
       "      <td>1</td>\n",
       "      <td>1.044068</td>\n",
       "      <td>1.169878</td>\n",
       "      <td>0.615804</td>\n",
       "      <td>3.221600</td>\n",
       "      <td>00:05</td>\n",
       "    </tr>\n",
       "    <tr>\n",
       "      <td>2</td>\n",
       "      <td>0.968947</td>\n",
       "      <td>1.159670</td>\n",
       "      <td>0.620708</td>\n",
       "      <td>3.188880</td>\n",
       "      <td>00:05</td>\n",
       "    </tr>\n",
       "    <tr>\n",
       "      <td>3</td>\n",
       "      <td>0.905051</td>\n",
       "      <td>1.159421</td>\n",
       "      <td>0.624523</td>\n",
       "      <td>3.188087</td>\n",
       "      <td>00:05</td>\n",
       "    </tr>\n",
       "    <tr>\n",
       "      <td>4</td>\n",
       "      <td>0.874813</td>\n",
       "      <td>1.168784</td>\n",
       "      <td>0.617439</td>\n",
       "      <td>3.218079</td>\n",
       "      <td>00:05</td>\n",
       "    </tr>\n",
       "  </tbody>\n",
       "</table>"
      ],
      "text/plain": [
       "<IPython.core.display.HTML object>"
      ]
     },
     "metadata": {},
     "output_type": "display_data"
    }
   ],
   "source": [
    "# learn.fit_one_cycle(5, slice(1e-3/(2.6**4),1e-3), moms=(0.8,0.7))\n",
    "epochs = 9\n",
    "# learn.fit_one_cycle(epochs, lr.valley, moms=(0.8,0.75,0.7))\n",
    "learn.fit_one_cycle(epochs, slice(1e-3/(2.6**4),1e-3), moms=(0.8,0.75,0.7))"
   ]
  },
  {
   "cell_type": "code",
   "execution_count": 82,
   "id": "39fd4e3b-3f98-4076-81af-534c7633e81d",
   "metadata": {},
   "outputs": [
    {
     "data": {
      "text/plain": [
       "Path('/home/jupyter/src/natalies-little-helper/models/ULMFiT_intent_class.pth')"
      ]
     },
     "execution_count": 82,
     "metadata": {},
     "output_type": "execute_result"
    }
   ],
   "source": [
    "learn.save(repo_path + '/models/ULMFiT_intent_class')"
   ]
  },
  {
   "cell_type": "code",
   "execution_count": 83,
   "id": "8fbdfd09-89a1-4a92-adc4-1d7aeb6b33b0",
   "metadata": {},
   "outputs": [
    {
     "data": {
      "text/html": [
       "\n",
       "<style>\n",
       "    /* Turns off some styling */\n",
       "    progress {\n",
       "        /* gets rid of default border in Firefox and Opera. */\n",
       "        border: none;\n",
       "        /* Needs to be in here for Safari polyfill so background images work as expected. */\n",
       "        background-size: auto;\n",
       "    }\n",
       "    progress:not([value]), progress:not([value])::-webkit-progress-bar {\n",
       "        background: repeating-linear-gradient(45deg, #7e7e7e, #7e7e7e 10px, #5c5c5c 10px, #5c5c5c 20px);\n",
       "    }\n",
       "    .progress-bar-interrupted, .progress-bar-interrupted::-webkit-progress-bar {\n",
       "        background: #F44336;\n",
       "    }\n",
       "</style>\n"
      ],
      "text/plain": [
       "<IPython.core.display.HTML object>"
      ]
     },
     "metadata": {},
     "output_type": "display_data"
    },
    {
     "data": {
      "text/html": [],
      "text/plain": [
       "<IPython.core.display.HTML object>"
      ]
     },
     "metadata": {},
     "output_type": "display_data"
    },
    {
     "data": {
      "text/plain": [
       "TensorBase(0.6174)"
      ]
     },
     "execution_count": 83,
     "metadata": {},
     "output_type": "execute_result"
    }
   ],
   "source": [
    "pred_fwd,lbl_fwd = learn.get_preds()\n",
    "accuracy(pred_fwd, lbl_fwd)"
   ]
  },
  {
   "cell_type": "markdown",
   "id": "5ccf6c55-a910-4925-9aa5-69aff6685587",
   "metadata": {
    "tags": []
   },
   "source": [
    "# Grouped Intents"
   ]
  },
  {
   "cell_type": "markdown",
   "id": "f4576901-b098-4d07-af12-c1c604c5dfa5",
   "metadata": {
    "tags": []
   },
   "source": [
    "## Language Model"
   ]
  },
  {
   "cell_type": "code",
   "execution_count": 17,
   "id": "28a10a63-883e-4ee1-84aa-d36b68060123",
   "metadata": {},
   "outputs": [],
   "source": [
    "intentSubGroups = {\n",
    "    'Customer Service Issue': 'Customer Service Issue',\n",
    "    'Late Flight': 'Late Flight',\n",
    "    'Cancelled Flight': 'Cancelled Flight',\n",
    "    'Lost Luggage': 'Luggage',\n",
    "    'Bad Flight': 'Bad Flight',\n",
    "    'Flight Booking Problems': 'Flight Booking Problems',\n",
    "    'Flight Attendant Complaints': 'Flight Attendant Complaints',\n",
    "    'longlines': 'Customer Service Issue',\n",
    "    'Damaged Luggage': 'Luggage',\n",
    "    'Can\\'t Tell': 'Can\\'t Tell'\n",
    "}\n",
    "train['intentGroup'] = train.negativereason.apply(lambda x: intentSubGroups[x])"
   ]
  },
  {
   "cell_type": "code",
   "execution_count": 151,
   "id": "b351b610-fec2-435b-9e82-619c639fed7b",
   "metadata": {},
   "outputs": [
    {
     "data": {
      "text/html": [
       "\n",
       "<style>\n",
       "    /* Turns off some styling */\n",
       "    progress {\n",
       "        /* gets rid of default border in Firefox and Opera. */\n",
       "        border: none;\n",
       "        /* Needs to be in here for Safari polyfill so background images work as expected. */\n",
       "        background-size: auto;\n",
       "    }\n",
       "    progress:not([value]), progress:not([value])::-webkit-progress-bar {\n",
       "        background: repeating-linear-gradient(45deg, #7e7e7e, #7e7e7e 10px, #5c5c5c 10px, #5c5c5c 20px);\n",
       "    }\n",
       "    .progress-bar-interrupted, .progress-bar-interrupted::-webkit-progress-bar {\n",
       "        background: #F44336;\n",
       "    }\n",
       "</style>\n"
      ],
      "text/plain": [
       "<IPython.core.display.HTML object>"
      ]
     },
     "metadata": {},
     "output_type": "display_data"
    },
    {
     "data": {
      "text/html": [],
      "text/plain": [
       "<IPython.core.display.HTML object>"
      ]
     },
     "metadata": {},
     "output_type": "display_data"
    },
    {
     "data": {
      "text/html": [
       "<table border=\"1\" class=\"dataframe\">\n",
       "  <thead>\n",
       "    <tr style=\"text-align: right;\">\n",
       "      <th></th>\n",
       "      <th>text</th>\n",
       "      <th>text_</th>\n",
       "    </tr>\n",
       "  </thead>\n",
       "  <tbody>\n",
       "    <tr>\n",
       "      <th>0</th>\n",
       "      <td>xxbos @united xxmaj i 'm not as sure as you are . http : / / t.co / xxunk xxbos @southwestair xxmaj there is no option just to xxmaj cancelled xxmaj flight ? i do n't want to change flight , i want to xxmaj cancelled xxmaj flight . xxbos @americanair xxunk \" the wheel was broken when we got it . xxmaj we xxunk . \" xxbos @jetblue xxmaj they did</td>\n",
       "      <td>@united xxmaj i 'm not as sure as you are . http : / / t.co / xxunk xxbos @southwestair xxmaj there is no option just to xxmaj cancelled xxmaj flight ? i do n't want to change flight , i want to xxmaj cancelled xxmaj flight . xxbos @americanair xxunk \" the wheel was broken when we got it . xxmaj we xxunk . \" xxbos @jetblue xxmaj they did not</td>\n",
       "    </tr>\n",
       "    <tr>\n",
       "      <th>1</th>\n",
       "      <td>@united i am calling to check on a future flight and your first agent hung up and now you sent me to the xxunk travel line ! ! xxmaj this is xxup hell ! ! xxbos @americanair aa employees were rude and unwilling to help . 10 , xxrep 3 0 miles is a rotten cherry on top of a dog shit xxmaj sunday . # xxunk xxbos @usairways - on hold</td>\n",
       "      <td>i am calling to check on a future flight and your first agent hung up and now you sent me to the xxunk travel line ! ! xxmaj this is xxup hell ! ! xxbos @americanair aa employees were rude and unwilling to help . 10 , xxrep 3 0 miles is a rotten cherry on top of a dog shit xxmaj sunday . # xxunk xxbos @usairways - on hold 45</td>\n",
       "    </tr>\n",
       "    <tr>\n",
       "      <th>2</th>\n",
       "      <td>i have a place to stay tonight ? xxmaj can you respond to me here so i can go back to sleep ? xxbos @united 32 people getting pretty tired about no action on xxunk the problem plus missing a day of vacation and skiing xxbos @usairways charged my card 11 times for one airline ticket , now card is on security hold xxbos @americanair xxunk xxmaj two hour wait for xxunk</td>\n",
       "      <td>have a place to stay tonight ? xxmaj can you respond to me here so i can go back to sleep ? xxbos @united 32 people getting pretty tired about no action on xxunk the problem plus missing a day of vacation and skiing xxbos @usairways charged my card 11 times for one airline ticket , now card is on security hold xxbos @americanair xxunk xxmaj two hour wait for xxunk as</td>\n",
       "    </tr>\n",
       "    <tr>\n",
       "      <th>3</th>\n",
       "      <td>@usairways your service in xxmaj philly is unacceptable . xxmaj look into better service ✌ ️ a 16 yr old should nt have a hard time http : / / t.co / xxunk xxbos @americanair not only did you rebook me on the wrong day , your phone system says it ca n't handle the volume and hangs up on me xxrep 3 ! xxbos @usairways you ca n't control the weather</td>\n",
       "      <td>your service in xxmaj philly is unacceptable . xxmaj look into better service ✌ ️ a 16 yr old should nt have a hard time http : / / t.co / xxunk xxbos @americanair not only did you rebook me on the wrong day , your phone system says it ca n't handle the volume and hangs up on me xxrep 3 ! xxbos @usairways you ca n't control the weather but</td>\n",
       "    </tr>\n",
       "  </tbody>\n",
       "</table>"
      ],
      "text/plain": [
       "<IPython.core.display.HTML object>"
      ]
     },
     "metadata": {},
     "output_type": "display_data"
    },
    {
     "data": {
      "text/html": [
       "\n",
       "<style>\n",
       "    /* Turns off some styling */\n",
       "    progress {\n",
       "        /* gets rid of default border in Firefox and Opera. */\n",
       "        border: none;\n",
       "        /* Needs to be in here for Safari polyfill so background images work as expected. */\n",
       "        background-size: auto;\n",
       "    }\n",
       "    progress:not([value]), progress:not([value])::-webkit-progress-bar {\n",
       "        background: repeating-linear-gradient(45deg, #7e7e7e, #7e7e7e 10px, #5c5c5c 10px, #5c5c5c 20px);\n",
       "    }\n",
       "    .progress-bar-interrupted, .progress-bar-interrupted::-webkit-progress-bar {\n",
       "        background: #F44336;\n",
       "    }\n",
       "</style>\n"
      ],
      "text/plain": [
       "<IPython.core.display.HTML object>"
      ]
     },
     "metadata": {},
     "output_type": "display_data"
    },
    {
     "data": {
      "text/html": [],
      "text/plain": [
       "<IPython.core.display.HTML object>"
      ]
     },
     "metadata": {},
     "output_type": "display_data"
    },
    {
     "data": {
      "text/html": [
       "\n",
       "<style>\n",
       "    /* Turns off some styling */\n",
       "    progress {\n",
       "        /* gets rid of default border in Firefox and Opera. */\n",
       "        border: none;\n",
       "        /* Needs to be in here for Safari polyfill so background images work as expected. */\n",
       "        background-size: auto;\n",
       "    }\n",
       "    progress:not([value]), progress:not([value])::-webkit-progress-bar {\n",
       "        background: repeating-linear-gradient(45deg, #7e7e7e, #7e7e7e 10px, #5c5c5c 10px, #5c5c5c 20px);\n",
       "    }\n",
       "    .progress-bar-interrupted, .progress-bar-interrupted::-webkit-progress-bar {\n",
       "        background: #F44336;\n",
       "    }\n",
       "</style>\n"
      ],
      "text/plain": [
       "<IPython.core.display.HTML object>"
      ]
     },
     "metadata": {},
     "output_type": "display_data"
    },
    {
     "data": {
      "text/html": [
       "<table border=\"1\" class=\"dataframe\">\n",
       "  <thead>\n",
       "    <tr style=\"text-align: left;\">\n",
       "      <th>epoch</th>\n",
       "      <th>train_loss</th>\n",
       "      <th>valid_loss</th>\n",
       "      <th>accuracy</th>\n",
       "      <th>perplexity</th>\n",
       "      <th>time</th>\n",
       "    </tr>\n",
       "  </thead>\n",
       "  <tbody>\n",
       "    <tr>\n",
       "      <td>0</td>\n",
       "      <td>6.380895</td>\n",
       "      <td>5.949142</td>\n",
       "      <td>0.156737</td>\n",
       "      <td>383.424408</td>\n",
       "      <td>00:12</td>\n",
       "    </tr>\n",
       "    <tr>\n",
       "      <td>1</td>\n",
       "      <td>6.148376</td>\n",
       "      <td>5.597788</td>\n",
       "      <td>0.182185</td>\n",
       "      <td>269.828979</td>\n",
       "      <td>00:12</td>\n",
       "    </tr>\n",
       "    <tr>\n",
       "      <td>2</td>\n",
       "      <td>5.967096</td>\n",
       "      <td>5.486746</td>\n",
       "      <td>0.187620</td>\n",
       "      <td>241.470261</td>\n",
       "      <td>00:12</td>\n",
       "    </tr>\n",
       "    <tr>\n",
       "      <td>3</td>\n",
       "      <td>5.869460</td>\n",
       "      <td>5.456770</td>\n",
       "      <td>0.188448</td>\n",
       "      <td>234.339279</td>\n",
       "      <td>00:12</td>\n",
       "    </tr>\n",
       "    <tr>\n",
       "      <td>4</td>\n",
       "      <td>5.819797</td>\n",
       "      <td>5.447142</td>\n",
       "      <td>0.189130</td>\n",
       "      <td>232.093811</td>\n",
       "      <td>00:12</td>\n",
       "    </tr>\n",
       "    <tr>\n",
       "      <td>5</td>\n",
       "      <td>5.793656</td>\n",
       "      <td>5.445720</td>\n",
       "      <td>0.189156</td>\n",
       "      <td>231.764130</td>\n",
       "      <td>00:12</td>\n",
       "    </tr>\n",
       "  </tbody>\n",
       "</table>"
      ],
      "text/plain": [
       "<IPython.core.display.HTML object>"
      ]
     },
     "metadata": {},
     "output_type": "display_data"
    },
    {
     "data": {
      "text/html": [
       "\n",
       "<style>\n",
       "    /* Turns off some styling */\n",
       "    progress {\n",
       "        /* gets rid of default border in Firefox and Opera. */\n",
       "        border: none;\n",
       "        /* Needs to be in here for Safari polyfill so background images work as expected. */\n",
       "        background-size: auto;\n",
       "    }\n",
       "    progress:not([value]), progress:not([value])::-webkit-progress-bar {\n",
       "        background: repeating-linear-gradient(45deg, #7e7e7e, #7e7e7e 10px, #5c5c5c 10px, #5c5c5c 20px);\n",
       "    }\n",
       "    .progress-bar-interrupted, .progress-bar-interrupted::-webkit-progress-bar {\n",
       "        background: #F44336;\n",
       "    }\n",
       "</style>\n"
      ],
      "text/plain": [
       "<IPython.core.display.HTML object>"
      ]
     },
     "metadata": {},
     "output_type": "display_data"
    },
    {
     "data": {
      "text/html": [],
      "text/plain": [
       "<IPython.core.display.HTML object>"
      ]
     },
     "metadata": {},
     "output_type": "display_data"
    },
    {
     "data": {
      "text/html": [
       "\n",
       "<style>\n",
       "    /* Turns off some styling */\n",
       "    progress {\n",
       "        /* gets rid of default border in Firefox and Opera. */\n",
       "        border: none;\n",
       "        /* Needs to be in here for Safari polyfill so background images work as expected. */\n",
       "        background-size: auto;\n",
       "    }\n",
       "    progress:not([value]), progress:not([value])::-webkit-progress-bar {\n",
       "        background: repeating-linear-gradient(45deg, #7e7e7e, #7e7e7e 10px, #5c5c5c 10px, #5c5c5c 20px);\n",
       "    }\n",
       "    .progress-bar-interrupted, .progress-bar-interrupted::-webkit-progress-bar {\n",
       "        background: #F44336;\n",
       "    }\n",
       "</style>\n"
      ],
      "text/plain": [
       "<IPython.core.display.HTML object>"
      ]
     },
     "metadata": {},
     "output_type": "display_data"
    },
    {
     "data": {
      "text/html": [
       "<table border=\"1\" class=\"dataframe\">\n",
       "  <thead>\n",
       "    <tr style=\"text-align: left;\">\n",
       "      <th>epoch</th>\n",
       "      <th>train_loss</th>\n",
       "      <th>valid_loss</th>\n",
       "      <th>accuracy</th>\n",
       "      <th>perplexity</th>\n",
       "      <th>time</th>\n",
       "    </tr>\n",
       "  </thead>\n",
       "  <tbody>\n",
       "    <tr>\n",
       "      <td>0</td>\n",
       "      <td>5.463944</td>\n",
       "      <td>4.897407</td>\n",
       "      <td>0.206593</td>\n",
       "      <td>133.942032</td>\n",
       "      <td>00:13</td>\n",
       "    </tr>\n",
       "    <tr>\n",
       "      <td>1</td>\n",
       "      <td>5.118612</td>\n",
       "      <td>4.632112</td>\n",
       "      <td>0.227439</td>\n",
       "      <td>102.730804</td>\n",
       "      <td>00:13</td>\n",
       "    </tr>\n",
       "    <tr>\n",
       "      <td>2</td>\n",
       "      <td>4.909031</td>\n",
       "      <td>4.529360</td>\n",
       "      <td>0.236264</td>\n",
       "      <td>92.699242</td>\n",
       "      <td>00:13</td>\n",
       "    </tr>\n",
       "    <tr>\n",
       "      <td>3</td>\n",
       "      <td>4.780428</td>\n",
       "      <td>4.485791</td>\n",
       "      <td>0.241504</td>\n",
       "      <td>88.747101</td>\n",
       "      <td>00:13</td>\n",
       "    </tr>\n",
       "    <tr>\n",
       "      <td>4</td>\n",
       "      <td>4.708477</td>\n",
       "      <td>4.469524</td>\n",
       "      <td>0.242691</td>\n",
       "      <td>87.315140</td>\n",
       "      <td>00:13</td>\n",
       "    </tr>\n",
       "    <tr>\n",
       "      <td>5</td>\n",
       "      <td>4.673602</td>\n",
       "      <td>4.465062</td>\n",
       "      <td>0.243597</td>\n",
       "      <td>86.926392</td>\n",
       "      <td>00:13</td>\n",
       "    </tr>\n",
       "  </tbody>\n",
       "</table>"
      ],
      "text/plain": [
       "<IPython.core.display.HTML object>"
      ]
     },
     "metadata": {},
     "output_type": "display_data"
    },
    {
     "data": {
      "image/png": "[encoded data removed]",
      "text/plain": [
       "<Figure size 640x480 with 1 Axes>"
      ]
     },
     "metadata": {},
     "output_type": "display_data"
    },
    {
     "data": {
      "image/png": "[encoded data removed]",
      "text/plain": [
       "<Figure size 640x480 with 1 Axes>"
      ]
     },
     "metadata": {},
     "output_type": "display_data"
    }
   ],
   "source": [
    "lm_learner, lang_dls = train_lm(train, show_batch=True, epochs=(6,6))"
   ]
  },
  {
   "cell_type": "code",
   "execution_count": 152,
   "id": "b268df0d-be2e-4840-ab01-ca8a191c30e7",
   "metadata": {},
   "outputs": [
    {
     "data": {
      "text/html": [
       "\n",
       "<style>\n",
       "    /* Turns off some styling */\n",
       "    progress {\n",
       "        /* gets rid of default border in Firefox and Opera. */\n",
       "        border: none;\n",
       "        /* Needs to be in here for Safari polyfill so background images work as expected. */\n",
       "        background-size: auto;\n",
       "    }\n",
       "    progress:not([value]), progress:not([value])::-webkit-progress-bar {\n",
       "        background: repeating-linear-gradient(45deg, #7e7e7e, #7e7e7e 10px, #5c5c5c 10px, #5c5c5c 20px);\n",
       "    }\n",
       "    .progress-bar-interrupted, .progress-bar-interrupted::-webkit-progress-bar {\n",
       "        background: #F44336;\n",
       "    }\n",
       "</style>\n"
      ],
      "text/plain": [
       "<IPython.core.display.HTML object>"
      ]
     },
     "metadata": {},
     "output_type": "display_data"
    },
    {
     "data": {
      "text/html": [],
      "text/plain": [
       "<IPython.core.display.HTML object>"
      ]
     },
     "metadata": {},
     "output_type": "display_data"
    },
    {
     "data": {
      "text/html": [
       "\n",
       "<style>\n",
       "    /* Turns off some styling */\n",
       "    progress {\n",
       "        /* gets rid of default border in Firefox and Opera. */\n",
       "        border: none;\n",
       "        /* Needs to be in here for Safari polyfill so background images work as expected. */\n",
       "        background-size: auto;\n",
       "    }\n",
       "    progress:not([value]), progress:not([value])::-webkit-progress-bar {\n",
       "        background: repeating-linear-gradient(45deg, #7e7e7e, #7e7e7e 10px, #5c5c5c 10px, #5c5c5c 20px);\n",
       "    }\n",
       "    .progress-bar-interrupted, .progress-bar-interrupted::-webkit-progress-bar {\n",
       "        background: #F44336;\n",
       "    }\n",
       "</style>\n"
      ],
      "text/plain": [
       "<IPython.core.display.HTML object>"
      ]
     },
     "metadata": {},
     "output_type": "display_data"
    },
    {
     "data": {
      "text/html": [],
      "text/plain": [
       "<IPython.core.display.HTML object>"
      ]
     },
     "metadata": {},
     "output_type": "display_data"
    },
    {
     "data": {
      "text/html": [
       "\n",
       "<style>\n",
       "    /* Turns off some styling */\n",
       "    progress {\n",
       "        /* gets rid of default border in Firefox and Opera. */\n",
       "        border: none;\n",
       "        /* Needs to be in here for Safari polyfill so background images work as expected. */\n",
       "        background-size: auto;\n",
       "    }\n",
       "    progress:not([value]), progress:not([value])::-webkit-progress-bar {\n",
       "        background: repeating-linear-gradient(45deg, #7e7e7e, #7e7e7e 10px, #5c5c5c 10px, #5c5c5c 20px);\n",
       "    }\n",
       "    .progress-bar-interrupted, .progress-bar-interrupted::-webkit-progress-bar {\n",
       "        background: #F44336;\n",
       "    }\n",
       "</style>\n"
      ],
      "text/plain": [
       "<IPython.core.display.HTML object>"
      ]
     },
     "metadata": {},
     "output_type": "display_data"
    },
    {
     "data": {
      "text/html": [],
      "text/plain": [
       "<IPython.core.display.HTML object>"
      ]
     },
     "metadata": {},
     "output_type": "display_data"
    },
    {
     "data": {
      "text/html": [
       "\n",
       "<style>\n",
       "    /* Turns off some styling */\n",
       "    progress {\n",
       "        /* gets rid of default border in Firefox and Opera. */\n",
       "        border: none;\n",
       "        /* Needs to be in here for Safari polyfill so background images work as expected. */\n",
       "        background-size: auto;\n",
       "    }\n",
       "    progress:not([value]), progress:not([value])::-webkit-progress-bar {\n",
       "        background: repeating-linear-gradient(45deg, #7e7e7e, #7e7e7e 10px, #5c5c5c 10px, #5c5c5c 20px);\n",
       "    }\n",
       "    .progress-bar-interrupted, .progress-bar-interrupted::-webkit-progress-bar {\n",
       "        background: #F44336;\n",
       "    }\n",
       "</style>\n"
      ],
      "text/plain": [
       "<IPython.core.display.HTML object>"
      ]
     },
     "metadata": {},
     "output_type": "display_data"
    },
    {
     "data": {
      "text/html": [],
      "text/plain": [
       "<IPython.core.display.HTML object>"
      ]
     },
     "metadata": {},
     "output_type": "display_data"
    },
    {
     "name": "stdout",
     "output_type": "stream",
     "text": [
      "There was a delay on my flight since 😂 . i meant to t the lack of support for my belt . Happened to the second time him and the rest of the runway on Wednesday . No sign on your phone .\n",
      "There was a delay on my flight to New York . First time to go to a sign , the cause is the United Cancelled Flight . My flight was stopped and i was gone . It 's a\n",
      "There was a delay on my flight to JFK because of a United Airlines flight under the bridge at AIRPLANE . The second time does not happen . The plane is still in Boston . Alive . Never\n",
      "There was a delay on my flight from Chicago to Chicago . But still no clear route to NY . No one gives my seat . Not the problem . shameful What is the meaning of this ? i\n"
     ]
    }
   ],
   "source": [
    "text = 'There was a delay on my flight'\n",
    "n_words = 40\n",
    "n_sentences = 4\n",
    "test_lm(lm_learner, text, n_words, n_sentences)"
   ]
  },
  {
   "cell_type": "code",
   "execution_count": 153,
   "id": "21e651b7-1f7b-45b0-b959-deb567333c3d",
   "metadata": {},
   "outputs": [],
   "source": [
    "#Save fine-tuned model for future use\n",
    "acc = 'temp'\n",
    "lm_learner.save_encoder(f'{model_path}ULMFiT_fine_tuned_LM_{acc}')"
   ]
  },
  {
   "cell_type": "markdown",
   "id": "78e59849-bcd6-4579-9d6f-e6d17414d06c",
   "metadata": {
    "jp-MarkdownHeadingCollapsed": true,
    "tags": []
   },
   "source": [
    "## Train Classifier"
   ]
  },
  {
   "cell_type": "code",
   "execution_count": 154,
   "id": "5bf3b84a-74b6-4a50-9502-2c1b98424e16",
   "metadata": {},
   "outputs": [
    {
     "data": {
      "text/html": [
       "\n",
       "<style>\n",
       "    /* Turns off some styling */\n",
       "    progress {\n",
       "        /* gets rid of default border in Firefox and Opera. */\n",
       "        border: none;\n",
       "        /* Needs to be in here for Safari polyfill so background images work as expected. */\n",
       "        background-size: auto;\n",
       "    }\n",
       "    progress:not([value]), progress:not([value])::-webkit-progress-bar {\n",
       "        background: repeating-linear-gradient(45deg, #7e7e7e, #7e7e7e 10px, #5c5c5c 10px, #5c5c5c 20px);\n",
       "    }\n",
       "    .progress-bar-interrupted, .progress-bar-interrupted::-webkit-progress-bar {\n",
       "        background: #F44336;\n",
       "    }\n",
       "</style>\n"
      ],
      "text/plain": [
       "<IPython.core.display.HTML object>"
      ]
     },
     "metadata": {},
     "output_type": "display_data"
    },
    {
     "data": {
      "text/html": [],
      "text/plain": [
       "<IPython.core.display.HTML object>"
      ]
     },
     "metadata": {},
     "output_type": "display_data"
    },
    {
     "data": {
      "text/html": [
       "<table border=\"1\" class=\"dataframe\">\n",
       "  <thead>\n",
       "    <tr style=\"text-align: right;\">\n",
       "      <th></th>\n",
       "      <th>text</th>\n",
       "      <th>category</th>\n",
       "    </tr>\n",
       "  </thead>\n",
       "  <tbody>\n",
       "    <tr>\n",
       "      <th>0</th>\n",
       "      <td>xxbos @united xxup where xxup is xxup my xxup fucking xxup bag ? ! ? ! xxmaj where the fuck is my fucking bag xxrep 3 ? xxup tell xxup me xxup now xxup or xxup give xxup me a xxup number xxup to xxup call a xxup human . xxup xxunk m</td>\n",
       "      <td>Luggage</td>\n",
       "    </tr>\n",
       "    <tr>\n",
       "      <th>1</th>\n",
       "      <td>xxbos @usairways xxup plans xxup changed ! xxup is xxup that xxup what u xxup call xxup not xxup xxunk xxup able 2 xxup park xxup on xxup time xxup planes w a 2 xxup hr xxup layover n b xxup able 2 xxup make xxup ur xxup connection ! # seriously</td>\n",
       "      <td>Customer Service Issue</td>\n",
       "    </tr>\n",
       "    <tr>\n",
       "      <th>2</th>\n",
       "      <td>xxbos @united - xxup seriously it 's 2015 ? ! ? ! xxup no wifi on a xxunk flight from xxup cle - sfo # xxunk . xxmaj you 're the xxup only airline w / out wifi … and pls no ' xxunk ' xxup bs .</td>\n",
       "      <td>Bad Flight</td>\n",
       "    </tr>\n",
       "    <tr>\n",
       "      <th>3</th>\n",
       "      <td>xxbos @united xxunk 7 xxup weeks xxmaj late flightr xxup and i xxup still xxup have xxup not xxup received xxup my xxup miles xxup from xxup the mileageplus xxmaj gift xxmaj card $ 150 xxup xxunk xxup card i xxup handed xxup over xxrep 3 !</td>\n",
       "      <td>Flight Booking Problems</td>\n",
       "    </tr>\n",
       "  </tbody>\n",
       "</table>"
      ],
      "text/plain": [
       "<IPython.core.display.HTML object>"
      ]
     },
     "metadata": {},
     "output_type": "display_data"
    },
    {
     "data": {
      "text/html": [
       "\n",
       "<style>\n",
       "    /* Turns off some styling */\n",
       "    progress {\n",
       "        /* gets rid of default border in Firefox and Opera. */\n",
       "        border: none;\n",
       "        /* Needs to be in here for Safari polyfill so background images work as expected. */\n",
       "        background-size: auto;\n",
       "    }\n",
       "    progress:not([value]), progress:not([value])::-webkit-progress-bar {\n",
       "        background: repeating-linear-gradient(45deg, #7e7e7e, #7e7e7e 10px, #5c5c5c 10px, #5c5c5c 20px);\n",
       "    }\n",
       "    .progress-bar-interrupted, .progress-bar-interrupted::-webkit-progress-bar {\n",
       "        background: #F44336;\n",
       "    }\n",
       "</style>\n"
      ],
      "text/plain": [
       "<IPython.core.display.HTML object>"
      ]
     },
     "metadata": {},
     "output_type": "display_data"
    },
    {
     "data": {
      "text/html": [],
      "text/plain": [
       "<IPython.core.display.HTML object>"
      ]
     },
     "metadata": {},
     "output_type": "display_data"
    },
    {
     "data": {
      "text/html": [
       "\n",
       "<style>\n",
       "    /* Turns off some styling */\n",
       "    progress {\n",
       "        /* gets rid of default border in Firefox and Opera. */\n",
       "        border: none;\n",
       "        /* Needs to be in here for Safari polyfill so background images work as expected. */\n",
       "        background-size: auto;\n",
       "    }\n",
       "    progress:not([value]), progress:not([value])::-webkit-progress-bar {\n",
       "        background: repeating-linear-gradient(45deg, #7e7e7e, #7e7e7e 10px, #5c5c5c 10px, #5c5c5c 20px);\n",
       "    }\n",
       "    .progress-bar-interrupted, .progress-bar-interrupted::-webkit-progress-bar {\n",
       "        background: #F44336;\n",
       "    }\n",
       "</style>\n"
      ],
      "text/plain": [
       "<IPython.core.display.HTML object>"
      ]
     },
     "metadata": {},
     "output_type": "display_data"
    },
    {
     "data": {
      "text/html": [
       "<table border=\"1\" class=\"dataframe\">\n",
       "  <thead>\n",
       "    <tr style=\"text-align: left;\">\n",
       "      <th>epoch</th>\n",
       "      <th>train_loss</th>\n",
       "      <th>valid_loss</th>\n",
       "      <th>accuracy</th>\n",
       "      <th>perplexity</th>\n",
       "      <th>time</th>\n",
       "    </tr>\n",
       "  </thead>\n",
       "  <tbody>\n",
       "    <tr>\n",
       "      <td>0</td>\n",
       "      <td>1.897414</td>\n",
       "      <td>1.640841</td>\n",
       "      <td>0.430518</td>\n",
       "      <td>5.159505</td>\n",
       "      <td>00:03</td>\n",
       "    </tr>\n",
       "    <tr>\n",
       "      <td>1</td>\n",
       "      <td>1.643181</td>\n",
       "      <td>1.443803</td>\n",
       "      <td>0.508447</td>\n",
       "      <td>4.236778</td>\n",
       "      <td>00:03</td>\n",
       "    </tr>\n",
       "    <tr>\n",
       "      <td>2</td>\n",
       "      <td>1.546637</td>\n",
       "      <td>1.397149</td>\n",
       "      <td>0.521526</td>\n",
       "      <td>4.043656</td>\n",
       "      <td>00:04</td>\n",
       "    </tr>\n",
       "    <tr>\n",
       "      <td>3</td>\n",
       "      <td>1.542685</td>\n",
       "      <td>1.392490</td>\n",
       "      <td>0.525341</td>\n",
       "      <td>4.024859</td>\n",
       "      <td>00:04</td>\n",
       "    </tr>\n",
       "  </tbody>\n",
       "</table>"
      ],
      "text/plain": [
       "<IPython.core.display.HTML object>"
      ]
     },
     "metadata": {},
     "output_type": "display_data"
    },
    {
     "data": {
      "text/html": [
       "\n",
       "<style>\n",
       "    /* Turns off some styling */\n",
       "    progress {\n",
       "        /* gets rid of default border in Firefox and Opera. */\n",
       "        border: none;\n",
       "        /* Needs to be in here for Safari polyfill so background images work as expected. */\n",
       "        background-size: auto;\n",
       "    }\n",
       "    progress:not([value]), progress:not([value])::-webkit-progress-bar {\n",
       "        background: repeating-linear-gradient(45deg, #7e7e7e, #7e7e7e 10px, #5c5c5c 10px, #5c5c5c 20px);\n",
       "    }\n",
       "    .progress-bar-interrupted, .progress-bar-interrupted::-webkit-progress-bar {\n",
       "        background: #F44336;\n",
       "    }\n",
       "</style>\n"
      ],
      "text/plain": [
       "<IPython.core.display.HTML object>"
      ]
     },
     "metadata": {},
     "output_type": "display_data"
    },
    {
     "data": {
      "text/html": [],
      "text/plain": [
       "<IPython.core.display.HTML object>"
      ]
     },
     "metadata": {},
     "output_type": "display_data"
    },
    {
     "data": {
      "text/html": [
       "\n",
       "<style>\n",
       "    /* Turns off some styling */\n",
       "    progress {\n",
       "        /* gets rid of default border in Firefox and Opera. */\n",
       "        border: none;\n",
       "        /* Needs to be in here for Safari polyfill so background images work as expected. */\n",
       "        background-size: auto;\n",
       "    }\n",
       "    progress:not([value]), progress:not([value])::-webkit-progress-bar {\n",
       "        background: repeating-linear-gradient(45deg, #7e7e7e, #7e7e7e 10px, #5c5c5c 10px, #5c5c5c 20px);\n",
       "    }\n",
       "    .progress-bar-interrupted, .progress-bar-interrupted::-webkit-progress-bar {\n",
       "        background: #F44336;\n",
       "    }\n",
       "</style>\n"
      ],
      "text/plain": [
       "<IPython.core.display.HTML object>"
      ]
     },
     "metadata": {},
     "output_type": "display_data"
    },
    {
     "data": {
      "text/html": [
       "<table border=\"1\" class=\"dataframe\">\n",
       "  <thead>\n",
       "    <tr style=\"text-align: left;\">\n",
       "      <th>epoch</th>\n",
       "      <th>train_loss</th>\n",
       "      <th>valid_loss</th>\n",
       "      <th>accuracy</th>\n",
       "      <th>perplexity</th>\n",
       "      <th>time</th>\n",
       "    </tr>\n",
       "  </thead>\n",
       "  <tbody>\n",
       "    <tr>\n",
       "      <td>0</td>\n",
       "      <td>1.387732</td>\n",
       "      <td>1.260625</td>\n",
       "      <td>0.562943</td>\n",
       "      <td>3.527627</td>\n",
       "      <td>00:04</td>\n",
       "    </tr>\n",
       "    <tr>\n",
       "      <td>1</td>\n",
       "      <td>1.223063</td>\n",
       "      <td>1.104243</td>\n",
       "      <td>0.617439</td>\n",
       "      <td>3.016940</td>\n",
       "      <td>00:04</td>\n",
       "    </tr>\n",
       "    <tr>\n",
       "      <td>2</td>\n",
       "      <td>1.075694</td>\n",
       "      <td>1.025256</td>\n",
       "      <td>0.643597</td>\n",
       "      <td>2.787810</td>\n",
       "      <td>00:04</td>\n",
       "    </tr>\n",
       "    <tr>\n",
       "      <td>3</td>\n",
       "      <td>0.933749</td>\n",
       "      <td>0.989751</td>\n",
       "      <td>0.655041</td>\n",
       "      <td>2.690565</td>\n",
       "      <td>00:04</td>\n",
       "    </tr>\n",
       "  </tbody>\n",
       "</table>"
      ],
      "text/plain": [
       "<IPython.core.display.HTML object>"
      ]
     },
     "metadata": {},
     "output_type": "display_data"
    },
    {
     "data": {
      "text/html": [
       "\n",
       "<style>\n",
       "    /* Turns off some styling */\n",
       "    progress {\n",
       "        /* gets rid of default border in Firefox and Opera. */\n",
       "        border: none;\n",
       "        /* Needs to be in here for Safari polyfill so background images work as expected. */\n",
       "        background-size: auto;\n",
       "    }\n",
       "    progress:not([value]), progress:not([value])::-webkit-progress-bar {\n",
       "        background: repeating-linear-gradient(45deg, #7e7e7e, #7e7e7e 10px, #5c5c5c 10px, #5c5c5c 20px);\n",
       "    }\n",
       "    .progress-bar-interrupted, .progress-bar-interrupted::-webkit-progress-bar {\n",
       "        background: #F44336;\n",
       "    }\n",
       "</style>\n"
      ],
      "text/plain": [
       "<IPython.core.display.HTML object>"
      ]
     },
     "metadata": {},
     "output_type": "display_data"
    },
    {
     "data": {
      "text/html": [],
      "text/plain": [
       "<IPython.core.display.HTML object>"
      ]
     },
     "metadata": {},
     "output_type": "display_data"
    },
    {
     "data": {
      "text/html": [
       "\n",
       "<style>\n",
       "    /* Turns off some styling */\n",
       "    progress {\n",
       "        /* gets rid of default border in Firefox and Opera. */\n",
       "        border: none;\n",
       "        /* Needs to be in here for Safari polyfill so background images work as expected. */\n",
       "        background-size: auto;\n",
       "    }\n",
       "    progress:not([value]), progress:not([value])::-webkit-progress-bar {\n",
       "        background: repeating-linear-gradient(45deg, #7e7e7e, #7e7e7e 10px, #5c5c5c 10px, #5c5c5c 20px);\n",
       "    }\n",
       "    .progress-bar-interrupted, .progress-bar-interrupted::-webkit-progress-bar {\n",
       "        background: #F44336;\n",
       "    }\n",
       "</style>\n"
      ],
      "text/plain": [
       "<IPython.core.display.HTML object>"
      ]
     },
     "metadata": {},
     "output_type": "display_data"
    },
    {
     "data": {
      "text/html": [
       "<table border=\"1\" class=\"dataframe\">\n",
       "  <thead>\n",
       "    <tr style=\"text-align: left;\">\n",
       "      <th>epoch</th>\n",
       "      <th>train_loss</th>\n",
       "      <th>valid_loss</th>\n",
       "      <th>accuracy</th>\n",
       "      <th>perplexity</th>\n",
       "      <th>time</th>\n",
       "    </tr>\n",
       "  </thead>\n",
       "  <tbody>\n",
       "    <tr>\n",
       "      <td>0</td>\n",
       "      <td>0.897903</td>\n",
       "      <td>0.995204</td>\n",
       "      <td>0.655586</td>\n",
       "      <td>2.705277</td>\n",
       "      <td>00:05</td>\n",
       "    </tr>\n",
       "    <tr>\n",
       "      <td>1</td>\n",
       "      <td>0.849730</td>\n",
       "      <td>0.991397</td>\n",
       "      <td>0.651226</td>\n",
       "      <td>2.694998</td>\n",
       "      <td>00:05</td>\n",
       "    </tr>\n",
       "    <tr>\n",
       "      <td>2</td>\n",
       "      <td>0.816539</td>\n",
       "      <td>0.989415</td>\n",
       "      <td>0.652861</td>\n",
       "      <td>2.689660</td>\n",
       "      <td>00:05</td>\n",
       "    </tr>\n",
       "    <tr>\n",
       "      <td>3</td>\n",
       "      <td>0.761794</td>\n",
       "      <td>0.999196</td>\n",
       "      <td>0.657221</td>\n",
       "      <td>2.716097</td>\n",
       "      <td>00:05</td>\n",
       "    </tr>\n",
       "    <tr>\n",
       "      <td>4</td>\n",
       "      <td>0.710097</td>\n",
       "      <td>0.995935</td>\n",
       "      <td>0.662125</td>\n",
       "      <td>2.707254</td>\n",
       "      <td>00:05</td>\n",
       "    </tr>\n",
       "    <tr>\n",
       "      <td>5</td>\n",
       "      <td>0.658357</td>\n",
       "      <td>1.005677</td>\n",
       "      <td>0.659945</td>\n",
       "      <td>2.733757</td>\n",
       "      <td>00:05</td>\n",
       "    </tr>\n",
       "    <tr>\n",
       "      <td>6</td>\n",
       "      <td>0.613795</td>\n",
       "      <td>1.012233</td>\n",
       "      <td>0.653951</td>\n",
       "      <td>2.751738</td>\n",
       "      <td>00:05</td>\n",
       "    </tr>\n",
       "    <tr>\n",
       "      <td>7</td>\n",
       "      <td>0.590914</td>\n",
       "      <td>1.009809</td>\n",
       "      <td>0.659401</td>\n",
       "      <td>2.745078</td>\n",
       "      <td>00:05</td>\n",
       "    </tr>\n",
       "    <tr>\n",
       "      <td>8</td>\n",
       "      <td>0.580897</td>\n",
       "      <td>1.019354</td>\n",
       "      <td>0.659401</td>\n",
       "      <td>2.771403</td>\n",
       "      <td>00:05</td>\n",
       "    </tr>\n",
       "  </tbody>\n",
       "</table>"
      ],
      "text/plain": [
       "<IPython.core.display.HTML object>"
      ]
     },
     "metadata": {},
     "output_type": "display_data"
    },
    {
     "data": {
      "image/png": "[encoded data removed]",
      "text/plain": [
       "<Figure size 640x480 with 1 Axes>"
      ]
     },
     "metadata": {},
     "output_type": "display_data"
    },
    {
     "data": {
      "image/png": "[encoded data removed]",
      "text/plain": [
       "<Figure size 640x480 with 1 Axes>"
      ]
     },
     "metadata": {},
     "output_type": "display_data"
    },
    {
     "data": {
      "image/png": "[encoded data removed]",
      "text/plain": [
       "<Figure size 640x480 with 1 Axes>"
      ]
     },
     "metadata": {},
     "output_type": "display_data"
    }
   ],
   "source": [
    "encoder_path = model_path + 'ULMFiT_fine_tuned_LM'\n",
    "classifier = train_classifier(train, lang_dls, encoder_path, label='intentGroup')"
   ]
  },
  {
   "cell_type": "code",
   "execution_count": 155,
   "id": "3ce2fc7f-83ba-4858-8807-c0ea0e109cfc",
   "metadata": {},
   "outputs": [
    {
     "data": {
      "text/html": [
       "\n",
       "<style>\n",
       "    /* Turns off some styling */\n",
       "    progress {\n",
       "        /* gets rid of default border in Firefox and Opera. */\n",
       "        border: none;\n",
       "        /* Needs to be in here for Safari polyfill so background images work as expected. */\n",
       "        background-size: auto;\n",
       "    }\n",
       "    progress:not([value]), progress:not([value])::-webkit-progress-bar {\n",
       "        background: repeating-linear-gradient(45deg, #7e7e7e, #7e7e7e 10px, #5c5c5c 10px, #5c5c5c 20px);\n",
       "    }\n",
       "    .progress-bar-interrupted, .progress-bar-interrupted::-webkit-progress-bar {\n",
       "        background: #F44336;\n",
       "    }\n",
       "</style>\n"
      ],
      "text/plain": [
       "<IPython.core.display.HTML object>"
      ]
     },
     "metadata": {},
     "output_type": "display_data"
    },
    {
     "data": {
      "text/html": [],
      "text/plain": [
       "<IPython.core.display.HTML object>"
      ]
     },
     "metadata": {},
     "output_type": "display_data"
    },
    {
     "name": "stdout",
     "output_type": "stream",
     "text": [
      "TensorBase(0.6594)\n"
     ]
    }
   ],
   "source": [
    "acc = test_classifier_acc(classifier)\n",
    "print(acc)"
   ]
  },
  {
   "cell_type": "code",
   "execution_count": 156,
   "id": "f1baf59f-663c-49a1-b1ba-da1c968a0b76",
   "metadata": {},
   "outputs": [
    {
     "data": {
      "text/html": [
       "\n",
       "<style>\n",
       "    /* Turns off some styling */\n",
       "    progress {\n",
       "        /* gets rid of default border in Firefox and Opera. */\n",
       "        border: none;\n",
       "        /* Needs to be in here for Safari polyfill so background images work as expected. */\n",
       "        background-size: auto;\n",
       "    }\n",
       "    progress:not([value]), progress:not([value])::-webkit-progress-bar {\n",
       "        background: repeating-linear-gradient(45deg, #7e7e7e, #7e7e7e 10px, #5c5c5c 10px, #5c5c5c 20px);\n",
       "    }\n",
       "    .progress-bar-interrupted, .progress-bar-interrupted::-webkit-progress-bar {\n",
       "        background: #F44336;\n",
       "    }\n",
       "</style>\n"
      ],
      "text/plain": [
       "<IPython.core.display.HTML object>"
      ]
     },
     "metadata": {},
     "output_type": "display_data"
    },
    {
     "data": {
      "text/html": [],
      "text/plain": [
       "<IPython.core.display.HTML object>"
      ]
     },
     "metadata": {},
     "output_type": "display_data"
    },
    {
     "data": {
      "text/plain": [
       "Path('/home/jupyter/src/natalies-little-helper/models/ULMFiT_intent_class_0.6594005227088928.pth')"
      ]
     },
     "execution_count": 156,
     "metadata": {},
     "output_type": "execute_result"
    }
   ],
   "source": [
    "acc = test_classifier_acc(classifier)\n",
    "classifier.save(f'{model_path}ULMFiT_intent_class_{acc.item()}')"
   ]
  },
  {
   "cell_type": "code",
   "execution_count": 157,
   "id": "1268ad95-58e0-4738-9985-e37a5f5b4187",
   "metadata": {},
   "outputs": [
    {
     "data": {
      "text/html": [
       "\n",
       "<style>\n",
       "    /* Turns off some styling */\n",
       "    progress {\n",
       "        /* gets rid of default border in Firefox and Opera. */\n",
       "        border: none;\n",
       "        /* Needs to be in here for Safari polyfill so background images work as expected. */\n",
       "        background-size: auto;\n",
       "    }\n",
       "    progress:not([value]), progress:not([value])::-webkit-progress-bar {\n",
       "        background: repeating-linear-gradient(45deg, #7e7e7e, #7e7e7e 10px, #5c5c5c 10px, #5c5c5c 20px);\n",
       "    }\n",
       "    .progress-bar-interrupted, .progress-bar-interrupted::-webkit-progress-bar {\n",
       "        background: #F44336;\n",
       "    }\n",
       "</style>\n"
      ],
      "text/plain": [
       "<IPython.core.display.HTML object>"
      ]
     },
     "metadata": {},
     "output_type": "display_data"
    },
    {
     "data": {
      "text/html": [],
      "text/plain": [
       "<IPython.core.display.HTML object>"
      ]
     },
     "metadata": {},
     "output_type": "display_data"
    },
    {
     "data": {
      "text/html": [
       "\n",
       "<style>\n",
       "    /* Turns off some styling */\n",
       "    progress {\n",
       "        /* gets rid of default border in Firefox and Opera. */\n",
       "        border: none;\n",
       "        /* Needs to be in here for Safari polyfill so background images work as expected. */\n",
       "        background-size: auto;\n",
       "    }\n",
       "    progress:not([value]), progress:not([value])::-webkit-progress-bar {\n",
       "        background: repeating-linear-gradient(45deg, #7e7e7e, #7e7e7e 10px, #5c5c5c 10px, #5c5c5c 20px);\n",
       "    }\n",
       "    .progress-bar-interrupted, .progress-bar-interrupted::-webkit-progress-bar {\n",
       "        background: #F44336;\n",
       "    }\n",
       "</style>\n"
      ],
      "text/plain": [
       "<IPython.core.display.HTML object>"
      ]
     },
     "metadata": {},
     "output_type": "display_data"
    },
    {
     "data": {
      "text/html": [],
      "text/plain": [
       "<IPython.core.display.HTML object>"
      ]
     },
     "metadata": {},
     "output_type": "display_data"
    },
    {
     "data": {
      "image/png": "[encoded data removed]",
      "text/plain": [
       "<Figure size 640x480 with 1 Axes>"
      ]
     },
     "metadata": {},
     "output_type": "display_data"
    }
   ],
   "source": [
    "interp = ClassificationInterpretation.from_learner(classifier)\n",
    "interp.plot_confusion_matrix()"
   ]
  },
  {
   "cell_type": "markdown",
   "id": "03768f0a-239a-46d2-8eca-81e73ad284a0",
   "metadata": {},
   "source": [
    "# Clean Data Intents"
   ]
  },
  {
   "cell_type": "markdown",
   "id": "546b6d86-351f-44b0-841f-f61a7dff7f88",
   "metadata": {
    "tags": []
   },
   "source": [
    "## Clean Data"
   ]
  },
  {
   "cell_type": "code",
   "execution_count": 20,
   "id": "f19e9bb0-1b2a-4b40-aba5-f8f5dc19fd99",
   "metadata": {},
   "outputs": [],
   "source": [
    "clean_data = train.copy()"
   ]
  },
  {
   "cell_type": "code",
   "execution_count": 21,
   "id": "632cedc0-d648-4856-9d0d-54a229386718",
   "metadata": {},
   "outputs": [],
   "source": [
    "# Remove HTML tags\n",
    "clean_data['text'] = clean_data['text'].apply(lambda x: re.sub(r'<[^<]+?>', ' ', x))\n",
    "\n",
    "# Remove URLs\n",
    "clean_data['text'] = clean_data['text'].apply(\n",
    "    lambda x: re.sub(r'\\s*https?:\\/\\/\\S+(\\s+|$)', ' ', x))\n",
    "\n",
    "# Remove handles\n",
    "clean_data['text'] = clean_data['text'].apply(\n",
    "    lambda x: re.sub(\"(?<=@)[A-Za-z0-9_]+\",\"\", x))\n",
    "    # lambda x: re.sub(\"@[A-Za-z0-9_]+\",\"\", x))\n",
    "\n",
    "# Remove hashtags\n",
    "clean_data['text'] = clean_data['text'].apply(\n",
    "        lambda x: re.sub(\"(?<=#)[A-Za-z0-9_]+\",\"\", x))\n",
    "    # lambda x: re.sub(\"(?<=#)[A-Za-z0-9_]+\",\"\", x))\n",
    "    # lambda x: re.sub(\"#[A-Za-z0-9_]+\",\"\", x))\n",
    "\n",
    "# Remove non-alphabetic chars\n",
    "# clean_data['text'] = clean_data['text'].apply(\n",
    "#     lambda x: re.sub(r'[^a-zA-Z\\s]+', ' ', x))\n",
    "\n",
    "# Remove extra spaces\n",
    "clean_data['text'] = clean_data['text'].apply(\n",
    "    lambda x: re.sub(r'\\s+', ' ', x))"
   ]
  },
  {
   "cell_type": "markdown",
   "id": "67388dda-25a6-4f2f-9feb-4ccfbf92d8e9",
   "metadata": {
    "tags": []
   },
   "source": [
    "## Train Language Model"
   ]
  },
  {
   "cell_type": "code",
   "execution_count": 12,
   "id": "f1471dc0-8b45-48a7-8935-c84612bfd59a",
   "metadata": {},
   "outputs": [
    {
     "data": {
      "text/html": [
       "\n",
       "<style>\n",
       "    /* Turns off some styling */\n",
       "    progress {\n",
       "        /* gets rid of default border in Firefox and Opera. */\n",
       "        border: none;\n",
       "        /* Needs to be in here for Safari polyfill so background images work as expected. */\n",
       "        background-size: auto;\n",
       "    }\n",
       "    progress:not([value]), progress:not([value])::-webkit-progress-bar {\n",
       "        background: repeating-linear-gradient(45deg, #7e7e7e, #7e7e7e 10px, #5c5c5c 10px, #5c5c5c 20px);\n",
       "    }\n",
       "    .progress-bar-interrupted, .progress-bar-interrupted::-webkit-progress-bar {\n",
       "        background: #F44336;\n",
       "    }\n",
       "</style>\n"
      ],
      "text/plain": [
       "<IPython.core.display.HTML object>"
      ]
     },
     "metadata": {},
     "output_type": "display_data"
    },
    {
     "data": {
      "text/html": [],
      "text/plain": [
       "<IPython.core.display.HTML object>"
      ]
     },
     "metadata": {},
     "output_type": "display_data"
    },
    {
     "data": {
      "text/html": [
       "<table border=\"1\" class=\"dataframe\">\n",
       "  <thead>\n",
       "    <tr style=\"text-align: right;\">\n",
       "      <th></th>\n",
       "      <th>text</th>\n",
       "      <th>text_</th>\n",
       "    </tr>\n",
       "  </thead>\n",
       "  <tbody>\n",
       "    <tr>\n",
       "      <th>0</th>\n",
       "      <td>xxbos @ i now learned that customer service at xxup sxm works for the airport , not jetblue . xxmaj they need a supervisor to do anything . xxbos @ xxmaj cancelled xxmaj flightling flights due to winter weather is totally understandable , but it would sure be nice if you would answer your phones . xxbos @ are people going to answer our calls ? xxbos @ getting the run around</td>\n",
       "      <td>@ i now learned that customer service at xxup sxm works for the airport , not jetblue . xxmaj they need a supervisor to do anything . xxbos @ xxmaj cancelled xxmaj flightling flights due to winter weather is totally understandable , but it would sure be nice if you would answer your phones . xxbos @ are people going to answer our calls ? xxbos @ getting the run around today</td>\n",
       "    </tr>\n",
       "    <tr>\n",
       "      <th>1</th>\n",
       "      <td>xxmaj million xxmaj miler xxmaj i 've been delayed plenty . xxup never in the xxunk xxunk does it . xxmaj i 'd be embarrassed to be xxunk . xxbos @ you flew me into xxmaj chi instead and i got a ride to xxup mke . u said my bags would go to xxup mke today . xxmaj is it on the xxmaj cancelled xxmaj flightled flight tho ? xxbos @</td>\n",
       "      <td>million xxmaj miler xxmaj i 've been delayed plenty . xxup never in the xxunk xxunk does it . xxmaj i 'd be embarrassed to be xxunk . xxbos @ you flew me into xxmaj chi instead and i got a ride to xxup mke . u said my bags would go to xxup mke today . xxmaj is it on the xxmaj cancelled xxmaj flightled flight tho ? xxbos @ it</td>\n",
       "    </tr>\n",
       "    <tr>\n",
       "      <th>2</th>\n",
       "      <td>system ? # xxbos @ yes of course i have . xxmaj is this how you treat customer with no recourse ? xxbos @ flight is delayed 5 hours . xxmaj no reason given . xxmaj sure love flying with your airline . # xxbos @ nothing you can do to help us restore some barely - expired # points ? xxbos @ xxup you xxup guys xxup are xxup horrible .</td>\n",
       "      <td>? # xxbos @ yes of course i have . xxmaj is this how you treat customer with no recourse ? xxbos @ flight is delayed 5 hours . xxmaj no reason given . xxmaj sure love flying with your airline . # xxbos @ nothing you can do to help us restore some barely - expired # points ? xxbos @ xxup you xxup guys xxup are xxup horrible . xxbos</td>\n",
       "    </tr>\n",
       "    <tr>\n",
       "      <th>3</th>\n",
       "      <td>reach home the nxt day xxbos @ boarding time shows 35 min and your gate agent started at 45 . showed up at xxunk and they had to check bag . xxbos @ xxmaj seriously ? i should keep trying after seven hours . xxmaj that is your corporate policy ? # xxbos @ xxmaj no one answers your reservation phone line . i need to book travel with a companion certificate</td>\n",
       "      <td>home the nxt day xxbos @ boarding time shows 35 min and your gate agent started at 45 . showed up at xxunk and they had to check bag . xxbos @ xxmaj seriously ? i should keep trying after seven hours . xxmaj that is your corporate policy ? # xxbos @ xxmaj no one answers your reservation phone line . i need to book travel with a companion certificate .</td>\n",
       "    </tr>\n",
       "  </tbody>\n",
       "</table>"
      ],
      "text/plain": [
       "<IPython.core.display.HTML object>"
      ]
     },
     "metadata": {},
     "output_type": "display_data"
    },
    {
     "data": {
      "text/html": [
       "\n",
       "<style>\n",
       "    /* Turns off some styling */\n",
       "    progress {\n",
       "        /* gets rid of default border in Firefox and Opera. */\n",
       "        border: none;\n",
       "        /* Needs to be in here for Safari polyfill so background images work as expected. */\n",
       "        background-size: auto;\n",
       "    }\n",
       "    progress:not([value]), progress:not([value])::-webkit-progress-bar {\n",
       "        background: repeating-linear-gradient(45deg, #7e7e7e, #7e7e7e 10px, #5c5c5c 10px, #5c5c5c 20px);\n",
       "    }\n",
       "    .progress-bar-interrupted, .progress-bar-interrupted::-webkit-progress-bar {\n",
       "        background: #F44336;\n",
       "    }\n",
       "</style>\n"
      ],
      "text/plain": [
       "<IPython.core.display.HTML object>"
      ]
     },
     "metadata": {},
     "output_type": "display_data"
    },
    {
     "data": {
      "text/html": [],
      "text/plain": [
       "<IPython.core.display.HTML object>"
      ]
     },
     "metadata": {},
     "output_type": "display_data"
    },
    {
     "data": {
      "text/html": [
       "\n",
       "<style>\n",
       "    /* Turns off some styling */\n",
       "    progress {\n",
       "        /* gets rid of default border in Firefox and Opera. */\n",
       "        border: none;\n",
       "        /* Needs to be in here for Safari polyfill so background images work as expected. */\n",
       "        background-size: auto;\n",
       "    }\n",
       "    progress:not([value]), progress:not([value])::-webkit-progress-bar {\n",
       "        background: repeating-linear-gradient(45deg, #7e7e7e, #7e7e7e 10px, #5c5c5c 10px, #5c5c5c 20px);\n",
       "    }\n",
       "    .progress-bar-interrupted, .progress-bar-interrupted::-webkit-progress-bar {\n",
       "        background: #F44336;\n",
       "    }\n",
       "</style>\n"
      ],
      "text/plain": [
       "<IPython.core.display.HTML object>"
      ]
     },
     "metadata": {},
     "output_type": "display_data"
    },
    {
     "data": {
      "text/html": [
       "<table border=\"1\" class=\"dataframe\">\n",
       "  <thead>\n",
       "    <tr style=\"text-align: left;\">\n",
       "      <th>epoch</th>\n",
       "      <th>train_loss</th>\n",
       "      <th>valid_loss</th>\n",
       "      <th>accuracy</th>\n",
       "      <th>perplexity</th>\n",
       "      <th>time</th>\n",
       "    </tr>\n",
       "  </thead>\n",
       "  <tbody>\n",
       "    <tr>\n",
       "      <td>0</td>\n",
       "      <td>5.671499</td>\n",
       "      <td>4.565957</td>\n",
       "      <td>0.191337</td>\n",
       "      <td>96.154533</td>\n",
       "      <td>00:12</td>\n",
       "    </tr>\n",
       "    <tr>\n",
       "      <td>1</td>\n",
       "      <td>4.773890</td>\n",
       "      <td>3.972289</td>\n",
       "      <td>0.266661</td>\n",
       "      <td>53.105968</td>\n",
       "      <td>00:12</td>\n",
       "    </tr>\n",
       "    <tr>\n",
       "      <td>2</td>\n",
       "      <td>4.339400</td>\n",
       "      <td>3.881091</td>\n",
       "      <td>0.275430</td>\n",
       "      <td>48.477058</td>\n",
       "      <td>00:12</td>\n",
       "    </tr>\n",
       "    <tr>\n",
       "      <td>3</td>\n",
       "      <td>4.098305</td>\n",
       "      <td>3.831691</td>\n",
       "      <td>0.279238</td>\n",
       "      <td>46.140495</td>\n",
       "      <td>00:12</td>\n",
       "    </tr>\n",
       "    <tr>\n",
       "      <td>4</td>\n",
       "      <td>3.943345</td>\n",
       "      <td>3.807801</td>\n",
       "      <td>0.281635</td>\n",
       "      <td>45.051262</td>\n",
       "      <td>00:12</td>\n",
       "    </tr>\n",
       "    <tr>\n",
       "      <td>5</td>\n",
       "      <td>3.845392</td>\n",
       "      <td>3.797505</td>\n",
       "      <td>0.282976</td>\n",
       "      <td>44.589779</td>\n",
       "      <td>00:12</td>\n",
       "    </tr>\n",
       "    <tr>\n",
       "      <td>6</td>\n",
       "      <td>3.786347</td>\n",
       "      <td>3.796400</td>\n",
       "      <td>0.282759</td>\n",
       "      <td>44.540543</td>\n",
       "      <td>00:12</td>\n",
       "    </tr>\n",
       "  </tbody>\n",
       "</table>"
      ],
      "text/plain": [
       "<IPython.core.display.HTML object>"
      ]
     },
     "metadata": {},
     "output_type": "display_data"
    },
    {
     "data": {
      "text/html": [
       "\n",
       "<style>\n",
       "    /* Turns off some styling */\n",
       "    progress {\n",
       "        /* gets rid of default border in Firefox and Opera. */\n",
       "        border: none;\n",
       "        /* Needs to be in here for Safari polyfill so background images work as expected. */\n",
       "        background-size: auto;\n",
       "    }\n",
       "    progress:not([value]), progress:not([value])::-webkit-progress-bar {\n",
       "        background: repeating-linear-gradient(45deg, #7e7e7e, #7e7e7e 10px, #5c5c5c 10px, #5c5c5c 20px);\n",
       "    }\n",
       "    .progress-bar-interrupted, .progress-bar-interrupted::-webkit-progress-bar {\n",
       "        background: #F44336;\n",
       "    }\n",
       "</style>\n"
      ],
      "text/plain": [
       "<IPython.core.display.HTML object>"
      ]
     },
     "metadata": {},
     "output_type": "display_data"
    },
    {
     "data": {
      "text/html": [],
      "text/plain": [
       "<IPython.core.display.HTML object>"
      ]
     },
     "metadata": {},
     "output_type": "display_data"
    },
    {
     "data": {
      "text/html": [
       "\n",
       "<style>\n",
       "    /* Turns off some styling */\n",
       "    progress {\n",
       "        /* gets rid of default border in Firefox and Opera. */\n",
       "        border: none;\n",
       "        /* Needs to be in here for Safari polyfill so background images work as expected. */\n",
       "        background-size: auto;\n",
       "    }\n",
       "    progress:not([value]), progress:not([value])::-webkit-progress-bar {\n",
       "        background: repeating-linear-gradient(45deg, #7e7e7e, #7e7e7e 10px, #5c5c5c 10px, #5c5c5c 20px);\n",
       "    }\n",
       "    .progress-bar-interrupted, .progress-bar-interrupted::-webkit-progress-bar {\n",
       "        background: #F44336;\n",
       "    }\n",
       "</style>\n"
      ],
      "text/plain": [
       "<IPython.core.display.HTML object>"
      ]
     },
     "metadata": {},
     "output_type": "display_data"
    },
    {
     "data": {
      "text/html": [
       "<table border=\"1\" class=\"dataframe\">\n",
       "  <thead>\n",
       "    <tr style=\"text-align: left;\">\n",
       "      <th>epoch</th>\n",
       "      <th>train_loss</th>\n",
       "      <th>valid_loss</th>\n",
       "      <th>accuracy</th>\n",
       "      <th>perplexity</th>\n",
       "      <th>time</th>\n",
       "    </tr>\n",
       "  </thead>\n",
       "  <tbody>\n",
       "    <tr>\n",
       "      <td>0</td>\n",
       "      <td>3.732963</td>\n",
       "      <td>3.774121</td>\n",
       "      <td>0.287741</td>\n",
       "      <td>43.559216</td>\n",
       "      <td>00:13</td>\n",
       "    </tr>\n",
       "    <tr>\n",
       "      <td>1</td>\n",
       "      <td>3.678945</td>\n",
       "      <td>3.721372</td>\n",
       "      <td>0.298582</td>\n",
       "      <td>41.321033</td>\n",
       "      <td>00:13</td>\n",
       "    </tr>\n",
       "    <tr>\n",
       "      <td>2</td>\n",
       "      <td>3.613864</td>\n",
       "      <td>3.696491</td>\n",
       "      <td>0.301432</td>\n",
       "      <td>40.305634</td>\n",
       "      <td>00:13</td>\n",
       "    </tr>\n",
       "    <tr>\n",
       "      <td>3</td>\n",
       "      <td>3.546915</td>\n",
       "      <td>3.687279</td>\n",
       "      <td>0.303257</td>\n",
       "      <td>39.936031</td>\n",
       "      <td>00:13</td>\n",
       "    </tr>\n",
       "    <tr>\n",
       "      <td>4</td>\n",
       "      <td>3.506397</td>\n",
       "      <td>3.677192</td>\n",
       "      <td>0.305487</td>\n",
       "      <td>39.535221</td>\n",
       "      <td>00:13</td>\n",
       "    </tr>\n",
       "    <tr>\n",
       "      <td>5</td>\n",
       "      <td>3.467631</td>\n",
       "      <td>3.676396</td>\n",
       "      <td>0.305654</td>\n",
       "      <td>39.503773</td>\n",
       "      <td>00:13</td>\n",
       "    </tr>\n",
       "    <tr>\n",
       "      <td>6</td>\n",
       "      <td>3.443081</td>\n",
       "      <td>3.678387</td>\n",
       "      <td>0.305072</td>\n",
       "      <td>39.582493</td>\n",
       "      <td>00:13</td>\n",
       "    </tr>\n",
       "    <tr>\n",
       "      <td>7</td>\n",
       "      <td>3.415482</td>\n",
       "      <td>3.676053</td>\n",
       "      <td>0.305842</td>\n",
       "      <td>39.490211</td>\n",
       "      <td>00:13</td>\n",
       "    </tr>\n",
       "  </tbody>\n",
       "</table>"
      ],
      "text/plain": [
       "<IPython.core.display.HTML object>"
      ]
     },
     "metadata": {},
     "output_type": "display_data"
    },
    {
     "data": {
      "image/png": "[encoded data removed]",
      "text/plain": [
       "<Figure size 640x480 with 1 Axes>"
      ]
     },
     "metadata": {},
     "output_type": "display_data"
    },
    {
     "data": {
      "image/png": "[encoded data removed]",
      "text/plain": [
       "<Figure size 640x480 with 1 Axes>"
      ]
     },
     "metadata": {},
     "output_type": "display_data"
    }
   ],
   "source": [
    "lm_learner_clean, lang_dls_clean = train_lm(clean_data, show_batch=True, epochs=(7,8))"
   ]
  },
  {
   "cell_type": "code",
   "execution_count": 25,
   "id": "b1bb29d8-cc06-47d9-a09b-fa5b64d90b87",
   "metadata": {},
   "outputs": [
    {
     "data": {
      "text/html": [
       "\n",
       "<style>\n",
       "    /* Turns off some styling */\n",
       "    progress {\n",
       "        /* gets rid of default border in Firefox and Opera. */\n",
       "        border: none;\n",
       "        /* Needs to be in here for Safari polyfill so background images work as expected. */\n",
       "        background-size: auto;\n",
       "    }\n",
       "    progress:not([value]), progress:not([value])::-webkit-progress-bar {\n",
       "        background: repeating-linear-gradient(45deg, #7e7e7e, #7e7e7e 10px, #5c5c5c 10px, #5c5c5c 20px);\n",
       "    }\n",
       "    .progress-bar-interrupted, .progress-bar-interrupted::-webkit-progress-bar {\n",
       "        background: #F44336;\n",
       "    }\n",
       "</style>\n"
      ],
      "text/plain": [
       "<IPython.core.display.HTML object>"
      ]
     },
     "metadata": {},
     "output_type": "display_data"
    },
    {
     "data": {
      "text/html": [],
      "text/plain": [
       "<IPython.core.display.HTML object>"
      ]
     },
     "metadata": {},
     "output_type": "display_data"
    },
    {
     "data": {
      "text/html": [
       "\n",
       "<style>\n",
       "    /* Turns off some styling */\n",
       "    progress {\n",
       "        /* gets rid of default border in Firefox and Opera. */\n",
       "        border: none;\n",
       "        /* Needs to be in here for Safari polyfill so background images work as expected. */\n",
       "        background-size: auto;\n",
       "    }\n",
       "    progress:not([value]), progress:not([value])::-webkit-progress-bar {\n",
       "        background: repeating-linear-gradient(45deg, #7e7e7e, #7e7e7e 10px, #5c5c5c 10px, #5c5c5c 20px);\n",
       "    }\n",
       "    .progress-bar-interrupted, .progress-bar-interrupted::-webkit-progress-bar {\n",
       "        background: #F44336;\n",
       "    }\n",
       "</style>\n"
      ],
      "text/plain": [
       "<IPython.core.display.HTML object>"
      ]
     },
     "metadata": {},
     "output_type": "display_data"
    },
    {
     "data": {
      "text/html": [],
      "text/plain": [
       "<IPython.core.display.HTML object>"
      ]
     },
     "metadata": {},
     "output_type": "display_data"
    },
    {
     "data": {
      "text/html": [
       "\n",
       "<style>\n",
       "    /* Turns off some styling */\n",
       "    progress {\n",
       "        /* gets rid of default border in Firefox and Opera. */\n",
       "        border: none;\n",
       "        /* Needs to be in here for Safari polyfill so background images work as expected. */\n",
       "        background-size: auto;\n",
       "    }\n",
       "    progress:not([value]), progress:not([value])::-webkit-progress-bar {\n",
       "        background: repeating-linear-gradient(45deg, #7e7e7e, #7e7e7e 10px, #5c5c5c 10px, #5c5c5c 20px);\n",
       "    }\n",
       "    .progress-bar-interrupted, .progress-bar-interrupted::-webkit-progress-bar {\n",
       "        background: #F44336;\n",
       "    }\n",
       "</style>\n"
      ],
      "text/plain": [
       "<IPython.core.display.HTML object>"
      ]
     },
     "metadata": {},
     "output_type": "display_data"
    },
    {
     "data": {
      "text/html": [],
      "text/plain": [
       "<IPython.core.display.HTML object>"
      ]
     },
     "metadata": {},
     "output_type": "display_data"
    },
    {
     "data": {
      "text/html": [
       "\n",
       "<style>\n",
       "    /* Turns off some styling */\n",
       "    progress {\n",
       "        /* gets rid of default border in Firefox and Opera. */\n",
       "        border: none;\n",
       "        /* Needs to be in here for Safari polyfill so background images work as expected. */\n",
       "        background-size: auto;\n",
       "    }\n",
       "    progress:not([value]), progress:not([value])::-webkit-progress-bar {\n",
       "        background: repeating-linear-gradient(45deg, #7e7e7e, #7e7e7e 10px, #5c5c5c 10px, #5c5c5c 20px);\n",
       "    }\n",
       "    .progress-bar-interrupted, .progress-bar-interrupted::-webkit-progress-bar {\n",
       "        background: #F44336;\n",
       "    }\n",
       "</style>\n"
      ],
      "text/plain": [
       "<IPython.core.display.HTML object>"
      ]
     },
     "metadata": {},
     "output_type": "display_data"
    },
    {
     "data": {
      "text/html": [],
      "text/plain": [
       "<IPython.core.display.HTML object>"
      ]
     },
     "metadata": {},
     "output_type": "display_data"
    },
    {
     "name": "stdout",
     "output_type": "stream",
     "text": [
      "My flight was delayed twice ! But i have been on hold for over an hour ! Can i get to JFK or Chicago ? U 've been responding to a joke there ! @ your customer service\n",
      "My flight was delayed , but i have a flight to San Diego , I 'm NOT KIDDING @ Checkin at LAX did n't have to book until 5 pm . Thanks . @\n",
      "My flight was delayed due to mechanical issues . We 're in Chicago , Seattle . If you can control that and that is crazy . @ My flight is delayed and I 'm stranded in\n",
      "My flight was delayed and i need to get a credit , but it 's pretty sad . i have not been able to get a refund for my flight . @ on hold for 1 hour . That 's why #\n"
     ]
    }
   ],
   "source": [
    "text = 'My flight was delayed'\n",
    "n_words = 40\n",
    "n_sentences = 4\n",
    "test_lm(lm_learner_clean, text, n_words, n_sentences)"
   ]
  },
  {
   "cell_type": "code",
   "execution_count": 18,
   "id": "d3d5a62f-9b29-4683-aa4a-ef66a99ab0b8",
   "metadata": {},
   "outputs": [],
   "source": [
    "#Save fine-tuned model for future use\n",
    "acc = '0.3058_no_hashtags'\n",
    "lm_learner_clean.save_encoder(f'{model_path}ULMFiT_fine_tuned_LM_clean_{acc}')"
   ]
  },
  {
   "cell_type": "markdown",
   "id": "891d0439-a1f1-49cf-9815-509017d3d67c",
   "metadata": {
    "tags": []
   },
   "source": [
    "## Train Classifier"
   ]
  },
  {
   "cell_type": "code",
   "execution_count": 26,
   "id": "8c013a6b-3e57-4dbc-860e-e26437fd050b",
   "metadata": {},
   "outputs": [],
   "source": [
    "clean_data = clean_data.groupby('intentGroup').apply(lambda x: x.sample(min(1000, len(x)))).reset_index(drop=True)"
   ]
  },
  {
   "cell_type": "code",
   "execution_count": 27,
   "id": "2b012d05-c9b5-42aa-9abc-a823361d3751",
   "metadata": {},
   "outputs": [
    {
     "data": {
      "text/html": [
       "\n",
       "<style>\n",
       "    /* Turns off some styling */\n",
       "    progress {\n",
       "        /* gets rid of default border in Firefox and Opera. */\n",
       "        border: none;\n",
       "        /* Needs to be in here for Safari polyfill so background images work as expected. */\n",
       "        background-size: auto;\n",
       "    }\n",
       "    progress:not([value]), progress:not([value])::-webkit-progress-bar {\n",
       "        background: repeating-linear-gradient(45deg, #7e7e7e, #7e7e7e 10px, #5c5c5c 10px, #5c5c5c 20px);\n",
       "    }\n",
       "    .progress-bar-interrupted, .progress-bar-interrupted::-webkit-progress-bar {\n",
       "        background: #F44336;\n",
       "    }\n",
       "</style>\n"
      ],
      "text/plain": [
       "<IPython.core.display.HTML object>"
      ]
     },
     "metadata": {},
     "output_type": "display_data"
    },
    {
     "data": {
      "text/html": [],
      "text/plain": [
       "<IPython.core.display.HTML object>"
      ]
     },
     "metadata": {},
     "output_type": "display_data"
    },
    {
     "data": {
      "text/html": [
       "<table border=\"1\" class=\"dataframe\">\n",
       "  <thead>\n",
       "    <tr style=\"text-align: right;\">\n",
       "      <th></th>\n",
       "      <th>text</th>\n",
       "      <th>category</th>\n",
       "    </tr>\n",
       "  </thead>\n",
       "  <tbody>\n",
       "    <tr>\n",
       "      <th>0</th>\n",
       "      <td>xxbos @ xxup where xxup is xxup my xxup fucking xxup bag ? ! ? ! xxmaj where the fuck is my fucking bag xxrep 3 ? xxup tell xxup me xxup now xxup or xxup give xxup me a xxup number xxup to xxup call a xxup human . xxup xxunk m</td>\n",
       "      <td>Luggage</td>\n",
       "    </tr>\n",
       "    <tr>\n",
       "      <th>1</th>\n",
       "      <td>xxbos @ xxup xxunk u xxup us xxup airways xxup with xxup yo xxup shitty xxup chicken xxup xxunk xxup sandwich xxup that xxup so xxup xxunk xxup and u xxup xxunk xxup make xxup me xxup wait xxup in a 6 xxup hr xxup layover xxup xxunk u xxup and</td>\n",
       "      <td>Bad Flight</td>\n",
       "    </tr>\n",
       "    <tr>\n",
       "      <th>2</th>\n",
       "      <td>xxbos @ @ 7 xxup weeks xxmaj late flightr xxup and i xxup still xxup have xxup not xxup received xxup my xxup miles xxup from xxup the mileageplus xxmaj gift xxmaj card $ 150 xxup xxunk xxup card i xxup handed xxup over xxrep 3 !</td>\n",
       "      <td>Flight Booking Problems</td>\n",
       "    </tr>\n",
       "    <tr>\n",
       "      <th>3</th>\n",
       "      <td>xxbos .@ ( 2 / 3 ) … i sat on the runway for 4 xxup more xxup hrs b4 takeoff ( 10 hrs xxmaj late xxmaj flight , xxunk xxup am ) . xxmaj pilot xxunk stated it was a comp / mech issue .</td>\n",
       "      <td>Late Flight</td>\n",
       "    </tr>\n",
       "  </tbody>\n",
       "</table>"
      ],
      "text/plain": [
       "<IPython.core.display.HTML object>"
      ]
     },
     "metadata": {},
     "output_type": "display_data"
    },
    {
     "data": {
      "text/html": [
       "\n",
       "<style>\n",
       "    /* Turns off some styling */\n",
       "    progress {\n",
       "        /* gets rid of default border in Firefox and Opera. */\n",
       "        border: none;\n",
       "        /* Needs to be in here for Safari polyfill so background images work as expected. */\n",
       "        background-size: auto;\n",
       "    }\n",
       "    progress:not([value]), progress:not([value])::-webkit-progress-bar {\n",
       "        background: repeating-linear-gradient(45deg, #7e7e7e, #7e7e7e 10px, #5c5c5c 10px, #5c5c5c 20px);\n",
       "    }\n",
       "    .progress-bar-interrupted, .progress-bar-interrupted::-webkit-progress-bar {\n",
       "        background: #F44336;\n",
       "    }\n",
       "</style>\n"
      ],
      "text/plain": [
       "<IPython.core.display.HTML object>"
      ]
     },
     "metadata": {},
     "output_type": "display_data"
    },
    {
     "data": {
      "text/html": [],
      "text/plain": [
       "<IPython.core.display.HTML object>"
      ]
     },
     "metadata": {},
     "output_type": "display_data"
    },
    {
     "data": {
      "text/html": [
       "\n",
       "<style>\n",
       "    /* Turns off some styling */\n",
       "    progress {\n",
       "        /* gets rid of default border in Firefox and Opera. */\n",
       "        border: none;\n",
       "        /* Needs to be in here for Safari polyfill so background images work as expected. */\n",
       "        background-size: auto;\n",
       "    }\n",
       "    progress:not([value]), progress:not([value])::-webkit-progress-bar {\n",
       "        background: repeating-linear-gradient(45deg, #7e7e7e, #7e7e7e 10px, #5c5c5c 10px, #5c5c5c 20px);\n",
       "    }\n",
       "    .progress-bar-interrupted, .progress-bar-interrupted::-webkit-progress-bar {\n",
       "        background: #F44336;\n",
       "    }\n",
       "</style>\n"
      ],
      "text/plain": [
       "<IPython.core.display.HTML object>"
      ]
     },
     "metadata": {},
     "output_type": "display_data"
    },
    {
     "data": {
      "text/html": [
       "<table border=\"1\" class=\"dataframe\">\n",
       "  <thead>\n",
       "    <tr style=\"text-align: left;\">\n",
       "      <th>epoch</th>\n",
       "      <th>train_loss</th>\n",
       "      <th>valid_loss</th>\n",
       "      <th>accuracy</th>\n",
       "      <th>perplexity</th>\n",
       "      <th>time</th>\n",
       "    </tr>\n",
       "  </thead>\n",
       "  <tbody>\n",
       "    <tr>\n",
       "      <td>0</td>\n",
       "      <td>1.682004</td>\n",
       "      <td>1.418102</td>\n",
       "      <td>0.528468</td>\n",
       "      <td>4.129277</td>\n",
       "      <td>00:02</td>\n",
       "    </tr>\n",
       "    <tr>\n",
       "      <td>1</td>\n",
       "      <td>1.449488</td>\n",
       "      <td>1.342592</td>\n",
       "      <td>0.547715</td>\n",
       "      <td>3.828956</td>\n",
       "      <td>00:02</td>\n",
       "    </tr>\n",
       "    <tr>\n",
       "      <td>2</td>\n",
       "      <td>1.337572</td>\n",
       "      <td>1.304948</td>\n",
       "      <td>0.564555</td>\n",
       "      <td>3.687497</td>\n",
       "      <td>00:03</td>\n",
       "    </tr>\n",
       "    <tr>\n",
       "      <td>3</td>\n",
       "      <td>1.258496</td>\n",
       "      <td>1.302817</td>\n",
       "      <td>0.566961</td>\n",
       "      <td>3.679648</td>\n",
       "      <td>00:02</td>\n",
       "    </tr>\n",
       "  </tbody>\n",
       "</table>"
      ],
      "text/plain": [
       "<IPython.core.display.HTML object>"
      ]
     },
     "metadata": {},
     "output_type": "display_data"
    },
    {
     "data": {
      "text/html": [
       "\n",
       "<style>\n",
       "    /* Turns off some styling */\n",
       "    progress {\n",
       "        /* gets rid of default border in Firefox and Opera. */\n",
       "        border: none;\n",
       "        /* Needs to be in here for Safari polyfill so background images work as expected. */\n",
       "        background-size: auto;\n",
       "    }\n",
       "    progress:not([value]), progress:not([value])::-webkit-progress-bar {\n",
       "        background: repeating-linear-gradient(45deg, #7e7e7e, #7e7e7e 10px, #5c5c5c 10px, #5c5c5c 20px);\n",
       "    }\n",
       "    .progress-bar-interrupted, .progress-bar-interrupted::-webkit-progress-bar {\n",
       "        background: #F44336;\n",
       "    }\n",
       "</style>\n"
      ],
      "text/plain": [
       "<IPython.core.display.HTML object>"
      ]
     },
     "metadata": {},
     "output_type": "display_data"
    },
    {
     "data": {
      "text/html": [],
      "text/plain": [
       "<IPython.core.display.HTML object>"
      ]
     },
     "metadata": {},
     "output_type": "display_data"
    },
    {
     "data": {
      "text/html": [
       "\n",
       "<style>\n",
       "    /* Turns off some styling */\n",
       "    progress {\n",
       "        /* gets rid of default border in Firefox and Opera. */\n",
       "        border: none;\n",
       "        /* Needs to be in here for Safari polyfill so background images work as expected. */\n",
       "        background-size: auto;\n",
       "    }\n",
       "    progress:not([value]), progress:not([value])::-webkit-progress-bar {\n",
       "        background: repeating-linear-gradient(45deg, #7e7e7e, #7e7e7e 10px, #5c5c5c 10px, #5c5c5c 20px);\n",
       "    }\n",
       "    .progress-bar-interrupted, .progress-bar-interrupted::-webkit-progress-bar {\n",
       "        background: #F44336;\n",
       "    }\n",
       "</style>\n"
      ],
      "text/plain": [
       "<IPython.core.display.HTML object>"
      ]
     },
     "metadata": {},
     "output_type": "display_data"
    },
    {
     "data": {
      "text/html": [
       "<table border=\"1\" class=\"dataframe\">\n",
       "  <thead>\n",
       "    <tr style=\"text-align: left;\">\n",
       "      <th>epoch</th>\n",
       "      <th>train_loss</th>\n",
       "      <th>valid_loss</th>\n",
       "      <th>accuracy</th>\n",
       "      <th>perplexity</th>\n",
       "      <th>time</th>\n",
       "    </tr>\n",
       "  </thead>\n",
       "  <tbody>\n",
       "    <tr>\n",
       "      <td>0</td>\n",
       "      <td>1.272965</td>\n",
       "      <td>1.325696</td>\n",
       "      <td>0.542101</td>\n",
       "      <td>3.764806</td>\n",
       "      <td>00:03</td>\n",
       "    </tr>\n",
       "    <tr>\n",
       "      <td>1</td>\n",
       "      <td>1.262883</td>\n",
       "      <td>1.292119</td>\n",
       "      <td>0.577386</td>\n",
       "      <td>3.640493</td>\n",
       "      <td>00:03</td>\n",
       "    </tr>\n",
       "    <tr>\n",
       "      <td>2</td>\n",
       "      <td>1.157503</td>\n",
       "      <td>1.244099</td>\n",
       "      <td>0.579791</td>\n",
       "      <td>3.469806</td>\n",
       "      <td>00:02</td>\n",
       "    </tr>\n",
       "    <tr>\n",
       "      <td>3</td>\n",
       "      <td>1.069540</td>\n",
       "      <td>1.243949</td>\n",
       "      <td>0.575782</td>\n",
       "      <td>3.469286</td>\n",
       "      <td>00:03</td>\n",
       "    </tr>\n",
       "  </tbody>\n",
       "</table>"
      ],
      "text/plain": [
       "<IPython.core.display.HTML object>"
      ]
     },
     "metadata": {},
     "output_type": "display_data"
    },
    {
     "data": {
      "text/html": [
       "\n",
       "<style>\n",
       "    /* Turns off some styling */\n",
       "    progress {\n",
       "        /* gets rid of default border in Firefox and Opera. */\n",
       "        border: none;\n",
       "        /* Needs to be in here for Safari polyfill so background images work as expected. */\n",
       "        background-size: auto;\n",
       "    }\n",
       "    progress:not([value]), progress:not([value])::-webkit-progress-bar {\n",
       "        background: repeating-linear-gradient(45deg, #7e7e7e, #7e7e7e 10px, #5c5c5c 10px, #5c5c5c 20px);\n",
       "    }\n",
       "    .progress-bar-interrupted, .progress-bar-interrupted::-webkit-progress-bar {\n",
       "        background: #F44336;\n",
       "    }\n",
       "</style>\n"
      ],
      "text/plain": [
       "<IPython.core.display.HTML object>"
      ]
     },
     "metadata": {},
     "output_type": "display_data"
    },
    {
     "data": {
      "text/html": [],
      "text/plain": [
       "<IPython.core.display.HTML object>"
      ]
     },
     "metadata": {},
     "output_type": "display_data"
    },
    {
     "data": {
      "text/html": [
       "\n",
       "<style>\n",
       "    /* Turns off some styling */\n",
       "    progress {\n",
       "        /* gets rid of default border in Firefox and Opera. */\n",
       "        border: none;\n",
       "        /* Needs to be in here for Safari polyfill so background images work as expected. */\n",
       "        background-size: auto;\n",
       "    }\n",
       "    progress:not([value]), progress:not([value])::-webkit-progress-bar {\n",
       "        background: repeating-linear-gradient(45deg, #7e7e7e, #7e7e7e 10px, #5c5c5c 10px, #5c5c5c 20px);\n",
       "    }\n",
       "    .progress-bar-interrupted, .progress-bar-interrupted::-webkit-progress-bar {\n",
       "        background: #F44336;\n",
       "    }\n",
       "</style>\n"
      ],
      "text/plain": [
       "<IPython.core.display.HTML object>"
      ]
     },
     "metadata": {},
     "output_type": "display_data"
    },
    {
     "data": {
      "text/html": [
       "<table border=\"1\" class=\"dataframe\">\n",
       "  <thead>\n",
       "    <tr style=\"text-align: left;\">\n",
       "      <th>epoch</th>\n",
       "      <th>train_loss</th>\n",
       "      <th>valid_loss</th>\n",
       "      <th>accuracy</th>\n",
       "      <th>perplexity</th>\n",
       "      <th>time</th>\n",
       "    </tr>\n",
       "  </thead>\n",
       "  <tbody>\n",
       "    <tr>\n",
       "      <td>0</td>\n",
       "      <td>1.016272</td>\n",
       "      <td>1.241109</td>\n",
       "      <td>0.579791</td>\n",
       "      <td>3.459448</td>\n",
       "      <td>00:04</td>\n",
       "    </tr>\n",
       "    <tr>\n",
       "      <td>1</td>\n",
       "      <td>1.023365</td>\n",
       "      <td>1.250143</td>\n",
       "      <td>0.587009</td>\n",
       "      <td>3.490841</td>\n",
       "      <td>00:04</td>\n",
       "    </tr>\n",
       "    <tr>\n",
       "      <td>2</td>\n",
       "      <td>0.982473</td>\n",
       "      <td>1.257841</td>\n",
       "      <td>0.591820</td>\n",
       "      <td>3.517819</td>\n",
       "      <td>00:04</td>\n",
       "    </tr>\n",
       "    <tr>\n",
       "      <td>3</td>\n",
       "      <td>0.895659</td>\n",
       "      <td>1.249739</td>\n",
       "      <td>0.596632</td>\n",
       "      <td>3.489433</td>\n",
       "      <td>00:04</td>\n",
       "    </tr>\n",
       "    <tr>\n",
       "      <td>4</td>\n",
       "      <td>0.807636</td>\n",
       "      <td>1.259737</td>\n",
       "      <td>0.592622</td>\n",
       "      <td>3.524494</td>\n",
       "      <td>00:04</td>\n",
       "    </tr>\n",
       "    <tr>\n",
       "      <td>5</td>\n",
       "      <td>0.715477</td>\n",
       "      <td>1.269698</td>\n",
       "      <td>0.605453</td>\n",
       "      <td>3.559776</td>\n",
       "      <td>00:04</td>\n",
       "    </tr>\n",
       "    <tr>\n",
       "      <td>6</td>\n",
       "      <td>0.648632</td>\n",
       "      <td>1.274404</td>\n",
       "      <td>0.599840</td>\n",
       "      <td>3.576569</td>\n",
       "      <td>00:04</td>\n",
       "    </tr>\n",
       "    <tr>\n",
       "      <td>7</td>\n",
       "      <td>0.592212</td>\n",
       "      <td>1.275691</td>\n",
       "      <td>0.603047</td>\n",
       "      <td>3.581174</td>\n",
       "      <td>00:04</td>\n",
       "    </tr>\n",
       "    <tr>\n",
       "      <td>8</td>\n",
       "      <td>0.566366</td>\n",
       "      <td>1.286208</td>\n",
       "      <td>0.601443</td>\n",
       "      <td>3.619035</td>\n",
       "      <td>00:04</td>\n",
       "    </tr>\n",
       "  </tbody>\n",
       "</table>"
      ],
      "text/plain": [
       "<IPython.core.display.HTML object>"
      ]
     },
     "metadata": {},
     "output_type": "display_data"
    },
    {
     "data": {
      "image/png": "[encoded data removed]",
      "text/plain": [
       "<Figure size 640x480 with 1 Axes>"
      ]
     },
     "metadata": {},
     "output_type": "display_data"
    },
    {
     "data": {
      "image/png": "[encoded data removed]",
      "text/plain": [
       "<Figure size 640x480 with 1 Axes>"
      ]
     },
     "metadata": {},
     "output_type": "display_data"
    },
    {
     "data": {
      "image/png": "[encoded data removed]",
      "text/plain": [
       "<Figure size 640x480 with 1 Axes>"
      ]
     },
     "metadata": {},
     "output_type": "display_data"
    }
   ],
   "source": [
    "acc = 'temp'\n",
    "encoder_path = model_path + f'ULMFiT_fine_tuned_LM_clean_{acc}'\n",
    "classifier = train_classifier(clean_data, lang_dls_clean, encoder_path, label='intentGroup')"
   ]
  },
  {
   "cell_type": "code",
   "execution_count": 28,
   "id": "8a93abd3-85ea-4dd7-840b-c01c01a717f0",
   "metadata": {},
   "outputs": [
    {
     "data": {
      "text/html": [
       "\n",
       "<style>\n",
       "    /* Turns off some styling */\n",
       "    progress {\n",
       "        /* gets rid of default border in Firefox and Opera. */\n",
       "        border: none;\n",
       "        /* Needs to be in here for Safari polyfill so background images work as expected. */\n",
       "        background-size: auto;\n",
       "    }\n",
       "    progress:not([value]), progress:not([value])::-webkit-progress-bar {\n",
       "        background: repeating-linear-gradient(45deg, #7e7e7e, #7e7e7e 10px, #5c5c5c 10px, #5c5c5c 20px);\n",
       "    }\n",
       "    .progress-bar-interrupted, .progress-bar-interrupted::-webkit-progress-bar {\n",
       "        background: #F44336;\n",
       "    }\n",
       "</style>\n"
      ],
      "text/plain": [
       "<IPython.core.display.HTML object>"
      ]
     },
     "metadata": {},
     "output_type": "display_data"
    },
    {
     "data": {
      "text/html": [],
      "text/plain": [
       "<IPython.core.display.HTML object>"
      ]
     },
     "metadata": {},
     "output_type": "display_data"
    },
    {
     "name": "stdout",
     "output_type": "stream",
     "text": [
      "TensorBase(0.6014)\n"
     ]
    }
   ],
   "source": [
    "acc = test_classifier_acc(classifier)\n",
    "print(acc)"
   ]
  },
  {
   "cell_type": "code",
   "execution_count": 238,
   "id": "913083f9-e709-4fa9-b6bf-0fcdca776516",
   "metadata": {},
   "outputs": [
    {
     "data": {
      "text/html": [
       "\n",
       "<style>\n",
       "    /* Turns off some styling */\n",
       "    progress {\n",
       "        /* gets rid of default border in Firefox and Opera. */\n",
       "        border: none;\n",
       "        /* Needs to be in here for Safari polyfill so background images work as expected. */\n",
       "        background-size: auto;\n",
       "    }\n",
       "    progress:not([value]), progress:not([value])::-webkit-progress-bar {\n",
       "        background: repeating-linear-gradient(45deg, #7e7e7e, #7e7e7e 10px, #5c5c5c 10px, #5c5c5c 20px);\n",
       "    }\n",
       "    .progress-bar-interrupted, .progress-bar-interrupted::-webkit-progress-bar {\n",
       "        background: #F44336;\n",
       "    }\n",
       "</style>\n"
      ],
      "text/plain": [
       "<IPython.core.display.HTML object>"
      ]
     },
     "metadata": {},
     "output_type": "display_data"
    },
    {
     "data": {
      "text/html": [],
      "text/plain": [
       "<IPython.core.display.HTML object>"
      ]
     },
     "metadata": {},
     "output_type": "display_data"
    },
    {
     "data": {
      "text/plain": [
       "Path('/home/jupyter/src/natalies-little-helper/models/ULMFiT_intent_class_clean_0.6425068378448486.pth')"
      ]
     },
     "execution_count": 238,
     "metadata": {},
     "output_type": "execute_result"
    }
   ],
   "source": [
    "acc = test_classifier_acc(classifier)\n",
    "classifier.save(f'{model_path}ULMFiT_intent_class_clean_{acc.item()}')"
   ]
  },
  {
   "cell_type": "code",
   "execution_count": 24,
   "id": "5a370a6f-069f-4979-8462-f93b42e83e72",
   "metadata": {},
   "outputs": [
    {
     "data": {
      "text/html": [
       "\n",
       "<style>\n",
       "    /* Turns off some styling */\n",
       "    progress {\n",
       "        /* gets rid of default border in Firefox and Opera. */\n",
       "        border: none;\n",
       "        /* Needs to be in here for Safari polyfill so background images work as expected. */\n",
       "        background-size: auto;\n",
       "    }\n",
       "    progress:not([value]), progress:not([value])::-webkit-progress-bar {\n",
       "        background: repeating-linear-gradient(45deg, #7e7e7e, #7e7e7e 10px, #5c5c5c 10px, #5c5c5c 20px);\n",
       "    }\n",
       "    .progress-bar-interrupted, .progress-bar-interrupted::-webkit-progress-bar {\n",
       "        background: #F44336;\n",
       "    }\n",
       "</style>\n"
      ],
      "text/plain": [
       "<IPython.core.display.HTML object>"
      ]
     },
     "metadata": {},
     "output_type": "display_data"
    },
    {
     "data": {
      "text/html": [],
      "text/plain": [
       "<IPython.core.display.HTML object>"
      ]
     },
     "metadata": {},
     "output_type": "display_data"
    },
    {
     "data": {
      "text/html": [
       "\n",
       "<style>\n",
       "    /* Turns off some styling */\n",
       "    progress {\n",
       "        /* gets rid of default border in Firefox and Opera. */\n",
       "        border: none;\n",
       "        /* Needs to be in here for Safari polyfill so background images work as expected. */\n",
       "        background-size: auto;\n",
       "    }\n",
       "    progress:not([value]), progress:not([value])::-webkit-progress-bar {\n",
       "        background: repeating-linear-gradient(45deg, #7e7e7e, #7e7e7e 10px, #5c5c5c 10px, #5c5c5c 20px);\n",
       "    }\n",
       "    .progress-bar-interrupted, .progress-bar-interrupted::-webkit-progress-bar {\n",
       "        background: #F44336;\n",
       "    }\n",
       "</style>\n"
      ],
      "text/plain": [
       "<IPython.core.display.HTML object>"
      ]
     },
     "metadata": {},
     "output_type": "display_data"
    },
    {
     "data": {
      "text/html": [],
      "text/plain": [
       "<IPython.core.display.HTML object>"
      ]
     },
     "metadata": {},
     "output_type": "display_data"
    },
    {
     "data": {
      "image/png": "[encoded data removed]",
      "text/plain": [
       "<Figure size 640x480 with 1 Axes>"
      ]
     },
     "metadata": {},
     "output_type": "display_data"
    }
   ],
   "source": [
    "interp = ClassificationInterpretation.from_learner(classifier)\n",
    "interp.plot_confusion_matrix()"
   ]
  }
 ],
 "metadata": {
  "kernelspec": {
   "display_name": "Pytorch (Local)",
   "language": "python",
   "name": "local-pytorch"
  },
  "language_info": {
   "codemirror_mode": {
    "name": "ipython",
    "version": 3
   },
   "file_extension": ".py",
   "mimetype": "text/x-python",
   "name": "python",
   "nbconvert_exporter": "python",
   "pygments_lexer": "ipython3",
   "version": "3.7.12"
  }
 },
 "nbformat": 4,
 "nbformat_minor": 5
}
