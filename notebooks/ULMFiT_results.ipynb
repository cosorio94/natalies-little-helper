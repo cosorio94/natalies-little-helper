{
 "cells": [
  {
   "cell_type": "markdown",
   "id": "270b7cc3-2a22-4f98-b6c2-6196f47909d5",
   "metadata": {
    "tags": []
   },
   "source": [
    "## Setup & Dependencies"
   ]
  },
  {
   "cell_type": "code",
   "execution_count": null,
   "id": "862399b1-af01-4d9e-b00c-079450b21ecc",
   "metadata": {},
   "outputs": [],
   "source": [
    "!pip install tqdm\n",
    "!pip install -U \"ray[tune]\"\n",
    "!pip install --user fastai"
   ]
  },
  {
   "cell_type": "code",
   "execution_count": 50,
   "id": "56a792d0-df95-4fdc-b490-551c00c7f8b2",
   "metadata": {},
   "outputs": [],
   "source": [
    "import pandas as pd\n",
    "import numpy as np\n",
    "\n",
    "from tqdm import tqdm\n",
    "import torch\n",
    "import multiprocessing\n",
    "\n",
    "from fastai.text.all import *\n",
    "from sklearn.metrics import accuracy_score, precision_score, recall_score, f1_score, confusion_matrix, classification_report, ConfusionMatrixDisplay\n",
    "\n",
    "import sys\n",
    "import os\n",
    "\n",
    "sys.path.insert(0, '/home/jupyter/src/natalies-little-helper/util')\n",
    "import helpers as helper"
   ]
  },
  {
   "cell_type": "code",
   "execution_count": 3,
   "id": "33292808-8c76-4769-bb50-16f7e65e175a",
   "metadata": {},
   "outputs": [],
   "source": [
    "# Number of CPU cores available\n",
    "cpu = multiprocessing.cpu_count()\n",
    "\n",
    "# Set up cuda if available\n",
    "device = torch.device('cuda' if torch.cuda.is_available() else 'cpu')\n",
    "\n",
    "# Number of GPUs being used\n",
    "gpu = torch.cuda.device_count() if torch.cuda.is_available() else 0\n",
    "\n",
    "# CPU and GPU Resources\n",
    "proc_resources = {'cpu': cpu, 'gpu': gpu}\n",
    "\n",
    "repo_path = \"/home/jupyter/src/natalies-little-helper/\"\n",
    "data_path = repo_path + \"data/\"\n",
    "model_path = repo_path + \"models/\""
   ]
  },
  {
   "cell_type": "markdown",
   "id": "d9bb98d1-5f76-4044-a4bc-b28d4c408ef9",
   "metadata": {
    "jp-MarkdownHeadingCollapsed": true,
    "tags": []
   },
   "source": [
    "## Data Preprocessing"
   ]
  },
  {
   "cell_type": "code",
   "execution_count": 4,
   "id": "df88ffc7-b613-4f19-a00a-f711670b967b",
   "metadata": {},
   "outputs": [
    {
     "data": {
      "text/plain": [
       "Customer Service Issue         2910\n",
       "Late Flight                    1665\n",
       "Can't Tell                     1190\n",
       "Cancelled Flight                847\n",
       "Lost Luggage                    724\n",
       "Bad Flight                      580\n",
       "Flight Booking Problems         529\n",
       "Flight Attendant Complaints     481\n",
       "longlines                       178\n",
       "Damaged Luggage                  74\n",
       "Name: negativereason, dtype: int64"
      ]
     },
     "execution_count": 4,
     "metadata": {},
     "output_type": "execute_result"
    }
   ],
   "source": [
    "train = pd.read_csv(data_path + 'Tweets.csv')\n",
    "train = train[train['negativereason'].notna()].reset_index(drop=True)\n",
    "train.negativereason.value_counts()"
   ]
  },
  {
   "cell_type": "code",
   "execution_count": 5,
   "id": "9cdfc18e-fb64-49e0-9a62-21d7c776e656",
   "metadata": {},
   "outputs": [],
   "source": [
    "train = train[['text', 'negativereason']]"
   ]
  },
  {
   "cell_type": "code",
   "execution_count": 6,
   "id": "3bc5c632-6866-424b-8300-66a4dcffff85",
   "metadata": {},
   "outputs": [
    {
     "data": {
      "text/html": [
       "<div>\n",
       "<style scoped>\n",
       "    .dataframe tbody tr th:only-of-type {\n",
       "        vertical-align: middle;\n",
       "    }\n",
       "\n",
       "    .dataframe tbody tr th {\n",
       "        vertical-align: top;\n",
       "    }\n",
       "\n",
       "    .dataframe thead th {\n",
       "        text-align: right;\n",
       "    }\n",
       "</style>\n",
       "<table border=\"1\" class=\"dataframe\">\n",
       "  <thead>\n",
       "    <tr style=\"text-align: right;\">\n",
       "      <th></th>\n",
       "      <th>text</th>\n",
       "      <th>negativereason</th>\n",
       "    </tr>\n",
       "  </thead>\n",
       "  <tbody>\n",
       "    <tr>\n",
       "      <th>0</th>\n",
       "      <td>@VirginAmerica it's really aggressive to blast obnoxious \"entertainment\" in your guests' faces &amp;amp; they have little recourse</td>\n",
       "      <td>Bad Flight</td>\n",
       "    </tr>\n",
       "    <tr>\n",
       "      <th>1</th>\n",
       "      <td>@VirginAmerica and it's a really big bad thing about it</td>\n",
       "      <td>Can't Tell</td>\n",
       "    </tr>\n",
       "    <tr>\n",
       "      <th>2</th>\n",
       "      <td>@VirginAmerica seriously would pay $30 a flight for seats that didn't have this playing.\\nit's really the only bad thing about flying VA</td>\n",
       "      <td>Can't Tell</td>\n",
       "    </tr>\n",
       "    <tr>\n",
       "      <th>3</th>\n",
       "      <td>@VirginAmerica SFO-PDX schedule is still MIA.</td>\n",
       "      <td>Late Flight</td>\n",
       "    </tr>\n",
       "    <tr>\n",
       "      <th>4</th>\n",
       "      <td>@VirginAmerica  I flew from NYC to SFO last week and couldn't fully sit in my seat due to two large gentleman on either side of me. HELP!</td>\n",
       "      <td>Bad Flight</td>\n",
       "    </tr>\n",
       "    <tr>\n",
       "      <th>5</th>\n",
       "      <td>@VirginAmerica why are your first fares in May over three times more than other carriers when all seats are available to select???</td>\n",
       "      <td>Can't Tell</td>\n",
       "    </tr>\n",
       "    <tr>\n",
       "      <th>6</th>\n",
       "      <td>@VirginAmerica you guys messed up my seating.. I reserved seating with my friends and you guys gave my seat away ... 😡 I want free internet</td>\n",
       "      <td>Customer Service Issue</td>\n",
       "    </tr>\n",
       "    <tr>\n",
       "      <th>7</th>\n",
       "      <td>@VirginAmerica status match program.  I applied and it's been three weeks.  Called and emailed with no response.</td>\n",
       "      <td>Customer Service Issue</td>\n",
       "    </tr>\n",
       "    <tr>\n",
       "      <th>8</th>\n",
       "      <td>@VirginAmerica What happened 2 ur vegan food options?! At least say on ur site so i know I won't be able 2 eat anything for next 6 hrs #fail</td>\n",
       "      <td>Can't Tell</td>\n",
       "    </tr>\n",
       "    <tr>\n",
       "      <th>9</th>\n",
       "      <td>@VirginAmerica amazing to me that we can't get any cold air from the vents. #VX358 #noair #worstflightever #roasted #SFOtoBOS</td>\n",
       "      <td>Bad Flight</td>\n",
       "    </tr>\n",
       "    <tr>\n",
       "      <th>10</th>\n",
       "      <td>@VirginAmerica hi! I just bked a cool birthday trip with you, but i can't add my elevate no. cause i entered my middle name during Flight Booking Problems 😢</td>\n",
       "      <td>Flight Booking Problems</td>\n",
       "    </tr>\n",
       "    <tr>\n",
       "      <th>11</th>\n",
       "      <td>@VirginAmerica help, left expensive headphones on flight 89 IAD to LAX today. Seat 2A. No one answering L&amp;amp;F number at LAX!</td>\n",
       "      <td>Customer Service Issue</td>\n",
       "    </tr>\n",
       "    <tr>\n",
       "      <th>12</th>\n",
       "      <td>@VirginAmerica awaiting my return phone call, just would prefer to use your online self-service option :(</td>\n",
       "      <td>Customer Service Issue</td>\n",
       "    </tr>\n",
       "    <tr>\n",
       "      <th>13</th>\n",
       "      <td>@VirginAmerica Your chat support is not working on your site: http://t.co/vhp2GtDWPk</td>\n",
       "      <td>Customer Service Issue</td>\n",
       "    </tr>\n",
       "    <tr>\n",
       "      <th>14</th>\n",
       "      <td>@VirginAmerica Hey, first time flyer next week - excited! But I'm having a hard time getting my flights added to my Elevate account. Help?</td>\n",
       "      <td>Flight Booking Problems</td>\n",
       "    </tr>\n",
       "    <tr>\n",
       "      <th>15</th>\n",
       "      <td>@VirginAmerica hi! i'm so excited about your $99 LGA-&amp;gt;DAL deal- but i've been trying 2 book since last week &amp;amp; the page never loads. thx!</td>\n",
       "      <td>Flight Booking Problems</td>\n",
       "    </tr>\n",
       "    <tr>\n",
       "      <th>18</th>\n",
       "      <td>@VirginAmerica Hi, Virgin! I'm on hold for 40-50 minutes -- are there any earlier flights from LA to NYC tonight; earlier than 11:50pm?</td>\n",
       "      <td>Late Flight</td>\n",
       "    </tr>\n",
       "    <tr>\n",
       "      <th>19</th>\n",
       "      <td>@VirginAmerica everything was fine until you lost my bag</td>\n",
       "      <td>Lost Luggage</td>\n",
       "    </tr>\n",
       "    <tr>\n",
       "      <th>20</th>\n",
       "      <td>@VirginAmerica your airline is awesome but your lax loft needs to step up its game. $40 for dirty tables and floors? http://t.co/hy0VrfhjHt</td>\n",
       "      <td>Flight Attendant Complaints</td>\n",
       "    </tr>\n",
       "    <tr>\n",
       "      <th>23</th>\n",
       "      <td>@VirginAmerica you're the best!! Whenever I (begrudgingly) use any other airline I'm delayed and Late Flight :(</td>\n",
       "      <td>Late Flight</td>\n",
       "    </tr>\n",
       "    <tr>\n",
       "      <th>24</th>\n",
       "      <td>@VirginAmerica I have no interesting flying with you after this. I will Cancelled Flight my next four flights I planned.#neverflyvirginforbusiness</td>\n",
       "      <td>Can't Tell</td>\n",
       "    </tr>\n",
       "    <tr>\n",
       "      <th>26</th>\n",
       "      <td>@VirginAmerica I’m having trouble adding this flight my wife booked to my Elevate account. Help? http://t.co/pX8hQOKS3R</td>\n",
       "      <td>Flight Booking Problems</td>\n",
       "    </tr>\n",
       "    <tr>\n",
       "      <th>28</th>\n",
       "      <td>@VirginAmerica I like the TV and interesting video . Just disappointed in Cancelled Flightled flight when other flights went out to jfk on Saturday .</td>\n",
       "      <td>Cancelled Flight</td>\n",
       "    </tr>\n",
       "    <tr>\n",
       "      <th>29</th>\n",
       "      <td>@VirginAmerica just landed in LAX, an hour after I should of been here. Your no Late Flight bag check is not business travel friendly #nomorevirgin</td>\n",
       "      <td>Late Flight</td>\n",
       "    </tr>\n",
       "    <tr>\n",
       "      <th>33</th>\n",
       "      <td>@virginamerica What is your phone number. I can't find who to call about a flight reservation.</td>\n",
       "      <td>Flight Booking Problems</td>\n",
       "    </tr>\n",
       "    <tr>\n",
       "      <th>35</th>\n",
       "      <td>@VirginAmerica why must a traveler miss a flight to Late Flight check a bag?  I missed my morning appointments and you lost my business. #sfo2lax</td>\n",
       "      <td>Late Flight</td>\n",
       "    </tr>\n",
       "    <tr>\n",
       "      <th>47</th>\n",
       "      <td>@VirginAmerica @ChrysiChrysic your assistance yesterday when u Cancelled Flightled our flight was to give us a hotel hotline  Shame on you!</td>\n",
       "      <td>Cancelled Flight</td>\n",
       "    </tr>\n",
       "    <tr>\n",
       "      <th>51</th>\n",
       "      <td>@VirginAmerica You'd think paying an extra $100 bucks RT for luggage might afford you hiring an extra hand at @sfo #lame</td>\n",
       "      <td>Flight Attendant Complaints</td>\n",
       "    </tr>\n",
       "    <tr>\n",
       "      <th>53</th>\n",
       "      <td>@VirginAmerica I paid the premium to fly you across the country, you Cancelled Flight my flight and offer no check fee or upgrade love? Sad face :(</td>\n",
       "      <td>Cancelled Flight</td>\n",
       "    </tr>\n",
       "    <tr>\n",
       "      <th>55</th>\n",
       "      <td>.@VirginAmerica I don't understand why you need a DM to give me an answer on if you have a damaged luggage policy.</td>\n",
       "      <td>Damaged Luggage</td>\n",
       "    </tr>\n",
       "    <tr>\n",
       "      <th>56</th>\n",
       "      <td>.@VirginAmerica does that mean you don't have a policy for destroyed luggage?</td>\n",
       "      <td>Damaged Luggage</td>\n",
       "    </tr>\n",
       "    <tr>\n",
       "      <th>58</th>\n",
       "      <td>@VirginAmerica How do I reschedule my Cancelled Flightled flights online? The change button is greyed out!</td>\n",
       "      <td>Cancelled Flight</td>\n",
       "    </tr>\n",
       "    <tr>\n",
       "      <th>61</th>\n",
       "      <td>@VirginAmerica our flight into lga was Cancelled Flighted. We're stuck in Dallas. I called to reschedule, told I could get a flight for today...(1/2)</td>\n",
       "      <td>Cancelled Flight</td>\n",
       "    </tr>\n",
       "    <tr>\n",
       "      <th>62</th>\n",
       "      <td>@virginamerica why don't any of the pairings include red wine?! Only white is offered :( #redwineisbetter</td>\n",
       "      <td>Bad Flight</td>\n",
       "    </tr>\n",
       "    <tr>\n",
       "      <th>67</th>\n",
       "      <td>@VirginAmerica at Logan airport and waiting to checkin for my 9am flight. Checkin desk not open !!!!! Why?!</td>\n",
       "      <td>longlines</td>\n",
       "    </tr>\n",
       "    <tr>\n",
       "      <th>75</th>\n",
       "      <td>@VirginAmerica  for all my flight stuff wrong and did nothing about it. Had #worst #flight ever</td>\n",
       "      <td>Flight Attendant Complaints</td>\n",
       "    </tr>\n",
       "    <tr>\n",
       "      <th>84</th>\n",
       "      <td>@VirginAmerica seats in Row 8 don't recline should mention that on your website #soreback</td>\n",
       "      <td>Bad Flight</td>\n",
       "    </tr>\n",
       "    <tr>\n",
       "      <th>102</th>\n",
       "      <td>@VirginAmerica We're on flight 910 Vegas to Boston today, checked in online but our bag count didn't register. Can I fix that somehow?</td>\n",
       "      <td>Lost Luggage</td>\n",
       "    </tr>\n",
       "    <tr>\n",
       "      <th>106</th>\n",
       "      <td>@VirginAmerica luggage was severely dented/missing wheel coming off baggage claim in SAN. Luggage agent Miranda (I think) wasn't any help.</td>\n",
       "      <td>Damaged Luggage</td>\n",
       "    </tr>\n",
       "    <tr>\n",
       "      <th>113</th>\n",
       "      <td>@VirginAmerica already contacted Central Baggage &amp;amp; sent DM. @RenttheRunway is charging me for the dress that was in the lost suitcase #help</td>\n",
       "      <td>Lost Luggage</td>\n",
       "    </tr>\n",
       "    <tr>\n",
       "      <th>116</th>\n",
       "      <td>@VirginAmerica husband and I ordered three drinks via my screen and they never came. Awesome!</td>\n",
       "      <td>Flight Attendant Complaints</td>\n",
       "    </tr>\n",
       "    <tr>\n",
       "      <th>121</th>\n",
       "      <td>@VirginAmerica lost my luggage 4 days ago on flight VX 112 from LAX to IAD &amp;amp; I'm calling every day, no response.Please give me back my stuff</td>\n",
       "      <td>Lost Luggage</td>\n",
       "    </tr>\n",
       "    <tr>\n",
       "      <th>128</th>\n",
       "      <td>@VirginAmerica my luggage is gone. I've filed my paperwork, promised a call/email. Still no resolution or response from central luggage.</td>\n",
       "      <td>Lost Luggage</td>\n",
       "    </tr>\n",
       "    <tr>\n",
       "      <th>138</th>\n",
       "      <td>@VirginAmerica\\nwjere is our luggage #so slow at lax</td>\n",
       "      <td>longlines</td>\n",
       "    </tr>\n",
       "    <tr>\n",
       "      <th>160</th>\n",
       "      <td>@VirginAmerica When will VX use all 6 LGA slots instead of 4 today? Adding AUS makes this less likely :(</td>\n",
       "      <td>longlines</td>\n",
       "    </tr>\n",
       "    <tr>\n",
       "      <th>166</th>\n",
       "      <td>@VirginAmerica Had to spend 5 hours worrying that items in carryon would be broken/stolen since I couldn't carry them on plane or lock bag.</td>\n",
       "      <td>Damaged Luggage</td>\n",
       "    </tr>\n",
       "    <tr>\n",
       "      <th>167</th>\n",
       "      <td>@VirginAmerica All of group E was told there was no more room in the bins. when I got on the plane, was room for at least 4 bags in my row!</td>\n",
       "      <td>Flight Attendant Complaints</td>\n",
       "    </tr>\n",
       "    <tr>\n",
       "      <th>198</th>\n",
       "      <td>@united why no preferred security line anymore. My TSA pre-check didn't pull on my @SilverAirways partner flight! #Platinum #spoiled</td>\n",
       "      <td>longlines</td>\n",
       "    </tr>\n",
       "    <tr>\n",
       "      <th>214</th>\n",
       "      <td>@united. ..I received on other flights. #united  truly breaks guitars. #unitedbreaksguitars #wantmymoneyback</td>\n",
       "      <td>Damaged Luggage</td>\n",
       "    </tr>\n",
       "    <tr>\n",
       "      <th>248</th>\n",
       "      <td>@united on 768 to Logan - boarding gong show due to lax carry on enforcement. Bins full of coats = no room for bags. U need a better system!</td>\n",
       "      <td>longlines</td>\n",
       "    </tr>\n",
       "  </tbody>\n",
       "</table>\n",
       "</div>"
      ],
      "text/plain": [
       "                                                                                                                                                             text  \\\n",
       "0                                  @VirginAmerica it's really aggressive to blast obnoxious \"entertainment\" in your guests' faces &amp; they have little recourse   \n",
       "1                                                                                                         @VirginAmerica and it's a really big bad thing about it   \n",
       "2                        @VirginAmerica seriously would pay $30 a flight for seats that didn't have this playing.\\nit's really the only bad thing about flying VA   \n",
       "3                                                                                                                   @VirginAmerica SFO-PDX schedule is still MIA.   \n",
       "4                       @VirginAmerica  I flew from NYC to SFO last week and couldn't fully sit in my seat due to two large gentleman on either side of me. HELP!   \n",
       "5                              @VirginAmerica why are your first fares in May over three times more than other carriers when all seats are available to select???   \n",
       "6                     @VirginAmerica you guys messed up my seating.. I reserved seating with my friends and you guys gave my seat away ... 😡 I want free internet   \n",
       "7                                                @VirginAmerica status match program.  I applied and it's been three weeks.  Called and emailed with no response.   \n",
       "8                    @VirginAmerica What happened 2 ur vegan food options?! At least say on ur site so i know I won't be able 2 eat anything for next 6 hrs #fail   \n",
       "9                                   @VirginAmerica amazing to me that we can't get any cold air from the vents. #VX358 #noair #worstflightever #roasted #SFOtoBOS   \n",
       "10   @VirginAmerica hi! I just bked a cool birthday trip with you, but i can't add my elevate no. cause i entered my middle name during Flight Booking Problems 😢   \n",
       "11                                 @VirginAmerica help, left expensive headphones on flight 89 IAD to LAX today. Seat 2A. No one answering L&amp;F number at LAX!   \n",
       "12                                                      @VirginAmerica awaiting my return phone call, just would prefer to use your online self-service option :(   \n",
       "13                                                                           @VirginAmerica Your chat support is not working on your site: http://t.co/vhp2GtDWPk   \n",
       "14                     @VirginAmerica Hey, first time flyer next week - excited! But I'm having a hard time getting my flights added to my Elevate account. Help?   \n",
       "15                @VirginAmerica hi! i'm so excited about your $99 LGA-&gt;DAL deal- but i've been trying 2 book since last week &amp; the page never loads. thx!   \n",
       "18                        @VirginAmerica Hi, Virgin! I'm on hold for 40-50 minutes -- are there any earlier flights from LA to NYC tonight; earlier than 11:50pm?   \n",
       "19                                                                                                       @VirginAmerica everything was fine until you lost my bag   \n",
       "20                    @VirginAmerica your airline is awesome but your lax loft needs to step up its game. $40 for dirty tables and floors? http://t.co/hy0VrfhjHt   \n",
       "23                                                @VirginAmerica you're the best!! Whenever I (begrudgingly) use any other airline I'm delayed and Late Flight :(   \n",
       "24             @VirginAmerica I have no interesting flying with you after this. I will Cancelled Flight my next four flights I planned.#neverflyvirginforbusiness   \n",
       "26                                        @VirginAmerica I’m having trouble adding this flight my wife booked to my Elevate account. Help? http://t.co/pX8hQOKS3R   \n",
       "28          @VirginAmerica I like the TV and interesting video . Just disappointed in Cancelled Flightled flight when other flights went out to jfk on Saturday .   \n",
       "29            @VirginAmerica just landed in LAX, an hour after I should of been here. Your no Late Flight bag check is not business travel friendly #nomorevirgin   \n",
       "33                                                                 @virginamerica What is your phone number. I can't find who to call about a flight reservation.   \n",
       "35              @VirginAmerica why must a traveler miss a flight to Late Flight check a bag?  I missed my morning appointments and you lost my business. #sfo2lax   \n",
       "47                    @VirginAmerica @ChrysiChrysic your assistance yesterday when u Cancelled Flightled our flight was to give us a hotel hotline  Shame on you!   \n",
       "51                                       @VirginAmerica You'd think paying an extra $100 bucks RT for luggage might afford you hiring an extra hand at @sfo #lame   \n",
       "53            @VirginAmerica I paid the premium to fly you across the country, you Cancelled Flight my flight and offer no check fee or upgrade love? Sad face :(   \n",
       "55                                             .@VirginAmerica I don't understand why you need a DM to give me an answer on if you have a damaged luggage policy.   \n",
       "56                                                                                  .@VirginAmerica does that mean you don't have a policy for destroyed luggage?   \n",
       "58                                                     @VirginAmerica How do I reschedule my Cancelled Flightled flights online? The change button is greyed out!   \n",
       "61          @VirginAmerica our flight into lga was Cancelled Flighted. We're stuck in Dallas. I called to reschedule, told I could get a flight for today...(1/2)   \n",
       "62                                                      @virginamerica why don't any of the pairings include red wine?! Only white is offered :( #redwineisbetter   \n",
       "67                                                    @VirginAmerica at Logan airport and waiting to checkin for my 9am flight. Checkin desk not open !!!!! Why?!   \n",
       "75                                                                @VirginAmerica  for all my flight stuff wrong and did nothing about it. Had #worst #flight ever   \n",
       "84                                                                      @VirginAmerica seats in Row 8 don't recline should mention that on your website #soreback   \n",
       "102                        @VirginAmerica We're on flight 910 Vegas to Boston today, checked in online but our bag count didn't register. Can I fix that somehow?   \n",
       "106                    @VirginAmerica luggage was severely dented/missing wheel coming off baggage claim in SAN. Luggage agent Miranda (I think) wasn't any help.   \n",
       "113               @VirginAmerica already contacted Central Baggage &amp; sent DM. @RenttheRunway is charging me for the dress that was in the lost suitcase #help   \n",
       "116                                                                 @VirginAmerica husband and I ordered three drinks via my screen and they never came. Awesome!   \n",
       "121              @VirginAmerica lost my luggage 4 days ago on flight VX 112 from LAX to IAD &amp; I'm calling every day, no response.Please give me back my stuff   \n",
       "128                      @VirginAmerica my luggage is gone. I've filed my paperwork, promised a call/email. Still no resolution or response from central luggage.   \n",
       "138                                                                                                          @VirginAmerica\\nwjere is our luggage #so slow at lax   \n",
       "160                                                      @VirginAmerica When will VX use all 6 LGA slots instead of 4 today? Adding AUS makes this less likely :(   \n",
       "166                   @VirginAmerica Had to spend 5 hours worrying that items in carryon would be broken/stolen since I couldn't carry them on plane or lock bag.   \n",
       "167                   @VirginAmerica All of group E was told there was no more room in the bins. when I got on the plane, was room for at least 4 bags in my row!   \n",
       "198                          @united why no preferred security line anymore. My TSA pre-check didn't pull on my @SilverAirways partner flight! #Platinum #spoiled   \n",
       "214                                                  @united. ..I received on other flights. #united  truly breaks guitars. #unitedbreaksguitars #wantmymoneyback   \n",
       "248                  @united on 768 to Logan - boarding gong show due to lax carry on enforcement. Bins full of coats = no room for bags. U need a better system!   \n",
       "\n",
       "                  negativereason  \n",
       "0                     Bad Flight  \n",
       "1                     Can't Tell  \n",
       "2                     Can't Tell  \n",
       "3                    Late Flight  \n",
       "4                     Bad Flight  \n",
       "5                     Can't Tell  \n",
       "6         Customer Service Issue  \n",
       "7         Customer Service Issue  \n",
       "8                     Can't Tell  \n",
       "9                     Bad Flight  \n",
       "10       Flight Booking Problems  \n",
       "11        Customer Service Issue  \n",
       "12        Customer Service Issue  \n",
       "13        Customer Service Issue  \n",
       "14       Flight Booking Problems  \n",
       "15       Flight Booking Problems  \n",
       "18                   Late Flight  \n",
       "19                  Lost Luggage  \n",
       "20   Flight Attendant Complaints  \n",
       "23                   Late Flight  \n",
       "24                    Can't Tell  \n",
       "26       Flight Booking Problems  \n",
       "28              Cancelled Flight  \n",
       "29                   Late Flight  \n",
       "33       Flight Booking Problems  \n",
       "35                   Late Flight  \n",
       "47              Cancelled Flight  \n",
       "51   Flight Attendant Complaints  \n",
       "53              Cancelled Flight  \n",
       "55               Damaged Luggage  \n",
       "56               Damaged Luggage  \n",
       "58              Cancelled Flight  \n",
       "61              Cancelled Flight  \n",
       "62                    Bad Flight  \n",
       "67                     longlines  \n",
       "75   Flight Attendant Complaints  \n",
       "84                    Bad Flight  \n",
       "102                 Lost Luggage  \n",
       "106              Damaged Luggage  \n",
       "113                 Lost Luggage  \n",
       "116  Flight Attendant Complaints  \n",
       "121                 Lost Luggage  \n",
       "128                 Lost Luggage  \n",
       "138                    longlines  \n",
       "160                    longlines  \n",
       "166              Damaged Luggage  \n",
       "167  Flight Attendant Complaints  \n",
       "198                    longlines  \n",
       "214              Damaged Luggage  \n",
       "248                    longlines  "
      ]
     },
     "execution_count": 6,
     "metadata": {},
     "output_type": "execute_result"
    }
   ],
   "source": [
    "train.groupby('negativereason').head()"
   ]
  },
  {
   "cell_type": "markdown",
   "id": "e1ce3ee9-9fb0-4b82-b747-4496fcd87764",
   "metadata": {
    "tags": []
   },
   "source": [
    "## ULMFiT Utils"
   ]
  },
  {
   "cell_type": "code",
   "execution_count": 53,
   "id": "31e4722a-192d-4d57-8588-cb01b8b2aca6",
   "metadata": {},
   "outputs": [],
   "source": [
    "def train_lm(train_data, show_batch=False, metrics=[accuracy, Perplexity()], wd=0.1, epochs=(6,6)):\n",
    "    # Data Loader\n",
    "    lang_dls = DataBlock(blocks=(TextBlock.from_df('text', is_lm=True)),\n",
    "                 get_x=ColReader('text'),\n",
    "                 splitter=RandomSplitter(valid_pct=0.2))\n",
    "    lang_dls = lang_dls.dataloaders(train_data, bs=64, seq_len=72, device=torch.device('cuda'))\n",
    "    lang_dls.show_batch(max_n=4)\n",
    "    \n",
    "    # Train LM\n",
    "    learn = language_model_learner(lang_dls, AWD_LSTM, metrics=metrics, wd=wd).to_fp16()\n",
    "    \n",
    "    # First cycle\n",
    "    lr = learn.lr_find()\n",
    "    learn.fit_one_cycle(epochs[0], lr.valley, moms=(0.85,0.8,0.75))\n",
    "    \n",
    "    # Second cycle\n",
    "    learn.unfreeze()\n",
    "    lr = learn.lr_find();\n",
    "    learn.fit_one_cycle(epochs[1], lr.valley, moms=(0.8,0.75,0.7))\n",
    "    \n",
    "    return learn, lang_dls\n",
    "    \n",
    "def test_lm(learner, text, n_words, n_sentences):\n",
    "    print(\"\\n\".join(learner.predict(text, n_words, temperature=0.75) for _ in range(n_sentences)))\n",
    "    \n",
    "def train_classifier(train_data, lang_dls, encoder_path, label, show_batch=False, metrics=[accuracy, Perplexity(), F1Score(average='macro'), F1Score(average='weighted')], wd=0.1, epochs=(4, 4, 9)):\n",
    "    intent_dls = DataBlock(blocks=(TextBlock.from_df('text', vocab=lang_dls.vocab, seq_len=72), CategoryBlock),\n",
    "                 get_x=ColReader('text'),\n",
    "                 get_y=ColReader(label),\n",
    "                 splitter=RandomSplitter(valid_pct=0.2))\n",
    "\n",
    "    intent_dls = intent_dls.dataloaders(train_data, bs=64, device=torch.device('cuda'))\n",
    "    intent_dls.show_batch(max_n=4)\n",
    "    \n",
    "    learn = text_classifier_learner(intent_dls, AWD_LSTM, metrics=metrics, wd=wd, drop_mult=0.5).to_fp16()\n",
    "    learn.load_encoder(encoder_path)\n",
    "    \n",
    "    # First cycle\n",
    "    lr = learn.lr_find()\n",
    "    learn.fit_one_cycle(epochs[0], lr.valley, moms=(0.8,0.75,0.7))\n",
    "    \n",
    "    # Second cycle\n",
    "    learn.freeze_to(-2)\n",
    "    lr = learn.lr_find()\n",
    "    learn.fit_one_cycle(epochs[1], lr.valley, moms=(0.8,0.75,0.7))\n",
    "    # learn.fit_one_cycle(epochs, slice(1e-3/(2.6**4), 1e-3), moms=(0.8,0.75,0.7))\n",
    "    \n",
    "    # Last cycle\n",
    "    learn.unfreeze()\n",
    "    lr = learn.lr_find()\n",
    "    learn.fit_one_cycle(epochs[2], slice(1e-3/(2.6**4),1e-3), moms=(0.8,0.75,0.7))\n",
    "    # learn.fit_one_cycle(epochs, lr, moms=(0.8,0.75,0.7))\n",
    "    \n",
    "    return learn\n",
    "\n",
    "def test_classifier_acc(learn):\n",
    "    pred_fwd,lbl_fwd = learn.get_preds()\n",
    "    pred_fwd_max = torch.argmax(pred_fwd, dim=1)\n",
    "    acc = accuracy(pred_fwd, lbl_fwd)\n",
    "    f1_macro = F1Score(average='macro')(pred_fwd_max, lbl_fwd)\n",
    "    f1_weighted = F1Score(average='weighted')(pred_fwd_max, lbl_fwd)\n",
    "    report = classification_report(lbl_fwd, pred_fwd_max)\n",
    "    print(report)\n",
    "    return acc, f1_macro, f1_weighted\n",
    "    "
   ]
  },
  {
   "cell_type": "markdown",
   "id": "94741151-a94c-457f-bc3b-3793f539fa32",
   "metadata": {
    "tags": []
   },
   "source": [
    "# Language Models"
   ]
  },
  {
   "cell_type": "markdown",
   "id": "a1f27c95-a1a1-463e-b4dc-ffb729e27009",
   "metadata": {
    "tags": []
   },
   "source": [
    "## Clean LMs"
   ]
  },
  {
   "cell_type": "markdown",
   "id": "7092739c-4bb4-4ed6-b3f9-15516ee46a96",
   "metadata": {
    "tags": []
   },
   "source": [
    "### Clean data"
   ]
  },
  {
   "cell_type": "code",
   "execution_count": 8,
   "id": "eda8b3c8-5ca8-478b-b6b0-b351b27ee932",
   "metadata": {},
   "outputs": [],
   "source": [
    "all_train = pd.read_csv(data_path + 'Tweets.csv')\n",
    "# all_train = all_train[all_train['airline_sentiment'].notna()].reset_index(drop=True)\n",
    "# all_train.airline_sentiment.value_counts()\n",
    "all_train = all_train[['text', 'airline_sentiment', 'negativereason']]"
   ]
  },
  {
   "cell_type": "code",
   "execution_count": 9,
   "id": "5084c95f-134d-40c5-b753-e704a293e354",
   "metadata": {},
   "outputs": [
    {
     "data": {
      "text/html": [
       "<div>\n",
       "<style scoped>\n",
       "    .dataframe tbody tr th:only-of-type {\n",
       "        vertical-align: middle;\n",
       "    }\n",
       "\n",
       "    .dataframe tbody tr th {\n",
       "        vertical-align: top;\n",
       "    }\n",
       "\n",
       "    .dataframe thead th {\n",
       "        text-align: right;\n",
       "    }\n",
       "</style>\n",
       "<table border=\"1\" class=\"dataframe\">\n",
       "  <thead>\n",
       "    <tr style=\"text-align: right;\">\n",
       "      <th></th>\n",
       "      <th>text</th>\n",
       "      <th>airline_sentiment</th>\n",
       "      <th>negativereason</th>\n",
       "    </tr>\n",
       "  </thead>\n",
       "  <tbody>\n",
       "    <tr>\n",
       "      <th>0</th>\n",
       "      <td>@VirginAmerica What @dhepburn said.</td>\n",
       "      <td>neutral</td>\n",
       "      <td>NaN</td>\n",
       "    </tr>\n",
       "    <tr>\n",
       "      <th>1</th>\n",
       "      <td>@VirginAmerica plus you've added commercials to the experience... tacky.</td>\n",
       "      <td>positive</td>\n",
       "      <td>NaN</td>\n",
       "    </tr>\n",
       "    <tr>\n",
       "      <th>2</th>\n",
       "      <td>@VirginAmerica I didn't today... Must mean I need to take another trip!</td>\n",
       "      <td>neutral</td>\n",
       "      <td>NaN</td>\n",
       "    </tr>\n",
       "    <tr>\n",
       "      <th>3</th>\n",
       "      <td>@VirginAmerica it's really aggressive to blast obnoxious \"entertainment\" in your guests' faces &amp;amp; they have little recourse</td>\n",
       "      <td>negative</td>\n",
       "      <td>Bad Flight</td>\n",
       "    </tr>\n",
       "    <tr>\n",
       "      <th>4</th>\n",
       "      <td>@VirginAmerica and it's a really big bad thing about it</td>\n",
       "      <td>negative</td>\n",
       "      <td>Can't Tell</td>\n",
       "    </tr>\n",
       "  </tbody>\n",
       "</table>\n",
       "</div>"
      ],
      "text/plain": [
       "                                                                                                                             text  \\\n",
       "0                                                                                             @VirginAmerica What @dhepburn said.   \n",
       "1                                                        @VirginAmerica plus you've added commercials to the experience... tacky.   \n",
       "2                                                         @VirginAmerica I didn't today... Must mean I need to take another trip!   \n",
       "3  @VirginAmerica it's really aggressive to blast obnoxious \"entertainment\" in your guests' faces &amp; they have little recourse   \n",
       "4                                                                         @VirginAmerica and it's a really big bad thing about it   \n",
       "\n",
       "  airline_sentiment negativereason  \n",
       "0           neutral            NaN  \n",
       "1          positive            NaN  \n",
       "2           neutral            NaN  \n",
       "3          negative     Bad Flight  \n",
       "4          negative     Can't Tell  "
      ]
     },
     "execution_count": 9,
     "metadata": {},
     "output_type": "execute_result"
    }
   ],
   "source": [
    "all_train.head()"
   ]
  },
  {
   "cell_type": "code",
   "execution_count": 10,
   "id": "b127429e-93a0-4474-94f3-9cc8bb8590d8",
   "metadata": {},
   "outputs": [],
   "source": [
    "all_clean_data = all_train.copy()"
   ]
  },
  {
   "cell_type": "code",
   "execution_count": 11,
   "id": "60fe8c32-f12a-42a4-90da-fa18aae20b99",
   "metadata": {},
   "outputs": [],
   "source": [
    "# Remove HTML tags\n",
    "all_clean_data['text'] = all_clean_data['text'].apply(lambda x: re.sub(r'<[^<]+?>', ' ', x))\n",
    "\n",
    "# Remove URLs\n",
    "all_clean_data['text'] = all_clean_data['text'].apply(\n",
    "    lambda x: re.sub(r'\\s*https?:\\/\\/\\S+(\\s+|$)', ' ', x))\n",
    "\n",
    "# Remove handles\n",
    "all_clean_data['text'] = all_clean_data['text'].apply(\n",
    "    lambda x: re.sub(\"(?<=@)[A-Za-z0-9_]+\",\"\", x))\n",
    "    # lambda x: re.sub(\"@[A-Za-z0-9_]+\",\"\", x))\n",
    "\n",
    "# Remove hashtags\n",
    "all_clean_data['text'] = all_clean_data['text'].apply(\n",
    "        # lambda x: re.sub(\"(?<=#)[A-Za-z0-9_]+\",\"\", x))\n",
    "    lambda x: re.sub(\"(?<=#)[A-Za-z0-9_]+\",\"\", x))\n",
    "    # lambda x: re.sub(\"#[A-Za-z0-9_]+\",\"\", x))\n",
    "\n",
    "# Remove non-alphabetic chars\n",
    "# all_clean_data['text'] = all_clean_data['text'].apply(\n",
    "#     lambda x: re.sub(r'[^a-zA-Z\\s]+', ' ', x))\n",
    "\n",
    "# Remove extra spaces\n",
    "all_clean_data['text'] = all_clean_data['text'].apply(\n",
    "    lambda x: re.sub(r'\\s+', ' ', x))"
   ]
  },
  {
   "cell_type": "code",
   "execution_count": 12,
   "id": "2c74e41b-0bc7-4d89-8bca-0393fc1411c1",
   "metadata": {},
   "outputs": [
    {
     "data": {
      "text/html": [
       "<div>\n",
       "<style scoped>\n",
       "    .dataframe tbody tr th:only-of-type {\n",
       "        vertical-align: middle;\n",
       "    }\n",
       "\n",
       "    .dataframe tbody tr th {\n",
       "        vertical-align: top;\n",
       "    }\n",
       "\n",
       "    .dataframe thead th {\n",
       "        text-align: right;\n",
       "    }\n",
       "</style>\n",
       "<table border=\"1\" class=\"dataframe\">\n",
       "  <thead>\n",
       "    <tr style=\"text-align: right;\">\n",
       "      <th></th>\n",
       "      <th>text</th>\n",
       "      <th>airline_sentiment</th>\n",
       "      <th>negativereason</th>\n",
       "    </tr>\n",
       "  </thead>\n",
       "  <tbody>\n",
       "    <tr>\n",
       "      <th>0</th>\n",
       "      <td>@ What @ said.</td>\n",
       "      <td>neutral</td>\n",
       "      <td>NaN</td>\n",
       "    </tr>\n",
       "    <tr>\n",
       "      <th>1</th>\n",
       "      <td>@ plus you've added commercials to the experience... tacky.</td>\n",
       "      <td>positive</td>\n",
       "      <td>NaN</td>\n",
       "    </tr>\n",
       "    <tr>\n",
       "      <th>2</th>\n",
       "      <td>@ I didn't today... Must mean I need to take another trip!</td>\n",
       "      <td>neutral</td>\n",
       "      <td>NaN</td>\n",
       "    </tr>\n",
       "    <tr>\n",
       "      <th>3</th>\n",
       "      <td>@ it's really aggressive to blast obnoxious \"entertainment\" in your guests' faces &amp;amp; they have little recourse</td>\n",
       "      <td>negative</td>\n",
       "      <td>Bad Flight</td>\n",
       "    </tr>\n",
       "    <tr>\n",
       "      <th>4</th>\n",
       "      <td>@ and it's a really big bad thing about it</td>\n",
       "      <td>negative</td>\n",
       "      <td>Can't Tell</td>\n",
       "    </tr>\n",
       "  </tbody>\n",
       "</table>\n",
       "</div>"
      ],
      "text/plain": [
       "                                                                                                                text  \\\n",
       "0                                                                                                     @ What @ said.   \n",
       "1                                                        @ plus you've added commercials to the experience... tacky.   \n",
       "2                                                         @ I didn't today... Must mean I need to take another trip!   \n",
       "3  @ it's really aggressive to blast obnoxious \"entertainment\" in your guests' faces &amp; they have little recourse   \n",
       "4                                                                         @ and it's a really big bad thing about it   \n",
       "\n",
       "  airline_sentiment negativereason  \n",
       "0           neutral            NaN  \n",
       "1          positive            NaN  \n",
       "2           neutral            NaN  \n",
       "3          negative     Bad Flight  \n",
       "4          negative     Can't Tell  "
      ]
     },
     "execution_count": 12,
     "metadata": {},
     "output_type": "execute_result"
    }
   ],
   "source": [
    "all_clean_data.head()"
   ]
  },
  {
   "cell_type": "markdown",
   "id": "6b899905-fad1-487f-9f81-2d6c45a1ec22",
   "metadata": {
    "tags": []
   },
   "source": [
    "### Full LM"
   ]
  },
  {
   "cell_type": "code",
   "execution_count": 13,
   "id": "11967ea7-07d6-4b04-bab0-808d0bf16b18",
   "metadata": {},
   "outputs": [
    {
     "data": {
      "text/html": [
       "\n",
       "<style>\n",
       "    /* Turns off some styling */\n",
       "    progress {\n",
       "        /* gets rid of default border in Firefox and Opera. */\n",
       "        border: none;\n",
       "        /* Needs to be in here for Safari polyfill so background images work as expected. */\n",
       "        background-size: auto;\n",
       "    }\n",
       "    progress:not([value]), progress:not([value])::-webkit-progress-bar {\n",
       "        background: repeating-linear-gradient(45deg, #7e7e7e, #7e7e7e 10px, #5c5c5c 10px, #5c5c5c 20px);\n",
       "    }\n",
       "    .progress-bar-interrupted, .progress-bar-interrupted::-webkit-progress-bar {\n",
       "        background: #F44336;\n",
       "    }\n",
       "</style>\n"
      ],
      "text/plain": [
       "<IPython.core.display.HTML object>"
      ]
     },
     "metadata": {},
     "output_type": "display_data"
    },
    {
     "data": {
      "text/html": [],
      "text/plain": [
       "<IPython.core.display.HTML object>"
      ]
     },
     "metadata": {},
     "output_type": "display_data"
    },
    {
     "data": {
      "text/html": [
       "<table border=\"1\" class=\"dataframe\">\n",
       "  <thead>\n",
       "    <tr style=\"text-align: right;\">\n",
       "      <th></th>\n",
       "      <th>text</th>\n",
       "      <th>text_</th>\n",
       "    </tr>\n",
       "  </thead>\n",
       "  <tbody>\n",
       "    <tr>\n",
       "      <th>0</th>\n",
       "      <td>xxbos @ st xxrep 4 i l waiting . xxmaj please respond as my flight leaves in 2 1 / 2 hrs xxbos @ xxunk connecting in charlotte to houston . xxmaj mechanical issue xxunk while xxunk to take off . xxmaj and we checked our bags . xxbos @ xxmaj not really . i have a flight to catch at 1 pm in xxmaj vegas . xxmaj i 'm praying i</td>\n",
       "      <td>@ st xxrep 4 i l waiting . xxmaj please respond as my flight leaves in 2 1 / 2 hrs xxbos @ xxunk connecting in charlotte to houston . xxmaj mechanical issue xxunk while xxunk to take off . xxmaj and we checked our bags . xxbos @ xxmaj not really . i have a flight to catch at 1 pm in xxmaj vegas . xxmaj i 'm praying i do</td>\n",
       "    </tr>\n",
       "    <tr>\n",
       "      <th>1</th>\n",
       "      <td>. xxmaj flew from xxup psp to xxup phx flight xxunk on 2 / 19 . ( cont ) xxbos @ crazy hold times today . xxmaj over an hour now . xxmaj help ? xxbos @ figured it out 4 flight xxunk . xxmaj hard to believe with xxunk so low , and the killing u make that even part of a hotel ca n't be xxunk xxbos @ we finally</td>\n",
       "      <td>xxmaj flew from xxup psp to xxup phx flight xxunk on 2 / 19 . ( cont ) xxbos @ crazy hold times today . xxmaj over an hour now . xxmaj help ? xxbos @ figured it out 4 flight xxunk . xxmaj hard to believe with xxunk so low , and the killing u make that even part of a hotel ca n't be xxunk xxbos @ we finally just</td>\n",
       "    </tr>\n",
       "    <tr>\n",
       "      <th>2</th>\n",
       "      <td>what is xxup aa going to do to fix their utterly embarrassing customer service ? xxmaj you wo n't even answer the dang phone ! xxbos @ once he found out we had a problem he xxunk me like the plague . xxmaj was told \" we ca n't find a supervisor . \" xxbos @ is that supposed to change in the near future ? xxbos @ yes . xxmaj hung</td>\n",
       "      <td>is xxup aa going to do to fix their utterly embarrassing customer service ? xxmaj you wo n't even answer the dang phone ! xxbos @ once he found out we had a problem he xxunk me like the plague . xxmaj was told \" we ca n't find a supervisor . \" xxbos @ is that supposed to change in the near future ? xxbos @ yes . xxmaj hung up</td>\n",
       "    </tr>\n",
       "    <tr>\n",
       "      <th>3</th>\n",
       "      <td>that helped me fix my problem were so helpful . # # xxbos @ xxmaj first class service on xxup us 769 xxup phl - mco today from the flight attendant in xxup xxunk i did n't catch her name but she was top notch ! xxbos @ @ click lounges tab . xxmaj need to be flying on xxunk s / a airline xxbos @ flight at 630 from fll kiosk</td>\n",
       "      <td>helped me fix my problem were so helpful . # # xxbos @ xxmaj first class service on xxup us 769 xxup phl - mco today from the flight attendant in xxup xxunk i did n't catch her name but she was top notch ! xxbos @ @ click lounges tab . xxmaj need to be flying on xxunk s / a airline xxbos @ flight at 630 from fll kiosk just</td>\n",
       "    </tr>\n",
       "  </tbody>\n",
       "</table>"
      ],
      "text/plain": [
       "<IPython.core.display.HTML object>"
      ]
     },
     "metadata": {},
     "output_type": "display_data"
    },
    {
     "data": {
      "text/html": [
       "\n",
       "<style>\n",
       "    /* Turns off some styling */\n",
       "    progress {\n",
       "        /* gets rid of default border in Firefox and Opera. */\n",
       "        border: none;\n",
       "        /* Needs to be in here for Safari polyfill so background images work as expected. */\n",
       "        background-size: auto;\n",
       "    }\n",
       "    progress:not([value]), progress:not([value])::-webkit-progress-bar {\n",
       "        background: repeating-linear-gradient(45deg, #7e7e7e, #7e7e7e 10px, #5c5c5c 10px, #5c5c5c 20px);\n",
       "    }\n",
       "    .progress-bar-interrupted, .progress-bar-interrupted::-webkit-progress-bar {\n",
       "        background: #F44336;\n",
       "    }\n",
       "</style>\n"
      ],
      "text/plain": [
       "<IPython.core.display.HTML object>"
      ]
     },
     "metadata": {},
     "output_type": "display_data"
    },
    {
     "data": {
      "text/html": [],
      "text/plain": [
       "<IPython.core.display.HTML object>"
      ]
     },
     "metadata": {},
     "output_type": "display_data"
    },
    {
     "data": {
      "text/html": [
       "\n",
       "<style>\n",
       "    /* Turns off some styling */\n",
       "    progress {\n",
       "        /* gets rid of default border in Firefox and Opera. */\n",
       "        border: none;\n",
       "        /* Needs to be in here for Safari polyfill so background images work as expected. */\n",
       "        background-size: auto;\n",
       "    }\n",
       "    progress:not([value]), progress:not([value])::-webkit-progress-bar {\n",
       "        background: repeating-linear-gradient(45deg, #7e7e7e, #7e7e7e 10px, #5c5c5c 10px, #5c5c5c 20px);\n",
       "    }\n",
       "    .progress-bar-interrupted, .progress-bar-interrupted::-webkit-progress-bar {\n",
       "        background: #F44336;\n",
       "    }\n",
       "</style>\n"
      ],
      "text/plain": [
       "<IPython.core.display.HTML object>"
      ]
     },
     "metadata": {},
     "output_type": "display_data"
    },
    {
     "data": {
      "text/html": [
       "<table border=\"1\" class=\"dataframe\">\n",
       "  <thead>\n",
       "    <tr style=\"text-align: left;\">\n",
       "      <th>epoch</th>\n",
       "      <th>train_loss</th>\n",
       "      <th>valid_loss</th>\n",
       "      <th>accuracy</th>\n",
       "      <th>perplexity</th>\n",
       "      <th>time</th>\n",
       "    </tr>\n",
       "  </thead>\n",
       "  <tbody>\n",
       "    <tr>\n",
       "      <td>0</td>\n",
       "      <td>5.692198</td>\n",
       "      <td>4.626140</td>\n",
       "      <td>0.186260</td>\n",
       "      <td>102.119133</td>\n",
       "      <td>00:18</td>\n",
       "    </tr>\n",
       "    <tr>\n",
       "      <td>1</td>\n",
       "      <td>4.713428</td>\n",
       "      <td>4.021338</td>\n",
       "      <td>0.265404</td>\n",
       "      <td>55.775684</td>\n",
       "      <td>00:19</td>\n",
       "    </tr>\n",
       "    <tr>\n",
       "      <td>2</td>\n",
       "      <td>4.283816</td>\n",
       "      <td>3.907625</td>\n",
       "      <td>0.276612</td>\n",
       "      <td>49.780567</td>\n",
       "      <td>00:18</td>\n",
       "    </tr>\n",
       "    <tr>\n",
       "      <td>3</td>\n",
       "      <td>4.066536</td>\n",
       "      <td>3.856394</td>\n",
       "      <td>0.281996</td>\n",
       "      <td>47.294514</td>\n",
       "      <td>00:19</td>\n",
       "    </tr>\n",
       "    <tr>\n",
       "      <td>4</td>\n",
       "      <td>3.935900</td>\n",
       "      <td>3.830753</td>\n",
       "      <td>0.284798</td>\n",
       "      <td>46.097218</td>\n",
       "      <td>00:18</td>\n",
       "    </tr>\n",
       "    <tr>\n",
       "      <td>5</td>\n",
       "      <td>3.871326</td>\n",
       "      <td>3.818802</td>\n",
       "      <td>0.285772</td>\n",
       "      <td>45.549603</td>\n",
       "      <td>00:18</td>\n",
       "    </tr>\n",
       "    <tr>\n",
       "      <td>6</td>\n",
       "      <td>3.834496</td>\n",
       "      <td>3.818293</td>\n",
       "      <td>0.285850</td>\n",
       "      <td>45.526421</td>\n",
       "      <td>00:19</td>\n",
       "    </tr>\n",
       "  </tbody>\n",
       "</table>"
      ],
      "text/plain": [
       "<IPython.core.display.HTML object>"
      ]
     },
     "metadata": {},
     "output_type": "display_data"
    },
    {
     "data": {
      "text/html": [
       "\n",
       "<style>\n",
       "    /* Turns off some styling */\n",
       "    progress {\n",
       "        /* gets rid of default border in Firefox and Opera. */\n",
       "        border: none;\n",
       "        /* Needs to be in here for Safari polyfill so background images work as expected. */\n",
       "        background-size: auto;\n",
       "    }\n",
       "    progress:not([value]), progress:not([value])::-webkit-progress-bar {\n",
       "        background: repeating-linear-gradient(45deg, #7e7e7e, #7e7e7e 10px, #5c5c5c 10px, #5c5c5c 20px);\n",
       "    }\n",
       "    .progress-bar-interrupted, .progress-bar-interrupted::-webkit-progress-bar {\n",
       "        background: #F44336;\n",
       "    }\n",
       "</style>\n"
      ],
      "text/plain": [
       "<IPython.core.display.HTML object>"
      ]
     },
     "metadata": {},
     "output_type": "display_data"
    },
    {
     "data": {
      "text/html": [],
      "text/plain": [
       "<IPython.core.display.HTML object>"
      ]
     },
     "metadata": {},
     "output_type": "display_data"
    },
    {
     "data": {
      "text/html": [
       "\n",
       "<style>\n",
       "    /* Turns off some styling */\n",
       "    progress {\n",
       "        /* gets rid of default border in Firefox and Opera. */\n",
       "        border: none;\n",
       "        /* Needs to be in here for Safari polyfill so background images work as expected. */\n",
       "        background-size: auto;\n",
       "    }\n",
       "    progress:not([value]), progress:not([value])::-webkit-progress-bar {\n",
       "        background: repeating-linear-gradient(45deg, #7e7e7e, #7e7e7e 10px, #5c5c5c 10px, #5c5c5c 20px);\n",
       "    }\n",
       "    .progress-bar-interrupted, .progress-bar-interrupted::-webkit-progress-bar {\n",
       "        background: #F44336;\n",
       "    }\n",
       "</style>\n"
      ],
      "text/plain": [
       "<IPython.core.display.HTML object>"
      ]
     },
     "metadata": {},
     "output_type": "display_data"
    },
    {
     "data": {
      "text/html": [
       "<table border=\"1\" class=\"dataframe\">\n",
       "  <thead>\n",
       "    <tr style=\"text-align: left;\">\n",
       "      <th>epoch</th>\n",
       "      <th>train_loss</th>\n",
       "      <th>valid_loss</th>\n",
       "      <th>accuracy</th>\n",
       "      <th>perplexity</th>\n",
       "      <th>time</th>\n",
       "    </tr>\n",
       "  </thead>\n",
       "  <tbody>\n",
       "    <tr>\n",
       "      <td>0</td>\n",
       "      <td>3.755290</td>\n",
       "      <td>3.750540</td>\n",
       "      <td>0.297344</td>\n",
       "      <td>42.544029</td>\n",
       "      <td>00:20</td>\n",
       "    </tr>\n",
       "    <tr>\n",
       "      <td>1</td>\n",
       "      <td>3.685080</td>\n",
       "      <td>3.692054</td>\n",
       "      <td>0.303603</td>\n",
       "      <td>40.127193</td>\n",
       "      <td>00:20</td>\n",
       "    </tr>\n",
       "    <tr>\n",
       "      <td>2</td>\n",
       "      <td>3.573054</td>\n",
       "      <td>3.654531</td>\n",
       "      <td>0.310244</td>\n",
       "      <td>38.649380</td>\n",
       "      <td>00:20</td>\n",
       "    </tr>\n",
       "    <tr>\n",
       "      <td>3</td>\n",
       "      <td>3.473271</td>\n",
       "      <td>3.637123</td>\n",
       "      <td>0.312672</td>\n",
       "      <td>37.982418</td>\n",
       "      <td>00:20</td>\n",
       "    </tr>\n",
       "    <tr>\n",
       "      <td>4</td>\n",
       "      <td>3.363131</td>\n",
       "      <td>3.636099</td>\n",
       "      <td>0.313484</td>\n",
       "      <td>37.943535</td>\n",
       "      <td>00:20</td>\n",
       "    </tr>\n",
       "    <tr>\n",
       "      <td>5</td>\n",
       "      <td>3.277039</td>\n",
       "      <td>3.641944</td>\n",
       "      <td>0.315081</td>\n",
       "      <td>38.165958</td>\n",
       "      <td>00:20</td>\n",
       "    </tr>\n",
       "    <tr>\n",
       "      <td>6</td>\n",
       "      <td>3.202546</td>\n",
       "      <td>3.651132</td>\n",
       "      <td>0.315360</td>\n",
       "      <td>38.518230</td>\n",
       "      <td>00:21</td>\n",
       "    </tr>\n",
       "    <tr>\n",
       "      <td>7</td>\n",
       "      <td>3.168075</td>\n",
       "      <td>3.653972</td>\n",
       "      <td>0.315337</td>\n",
       "      <td>38.627777</td>\n",
       "      <td>00:20</td>\n",
       "    </tr>\n",
       "  </tbody>\n",
       "</table>"
      ],
      "text/plain": [
       "<IPython.core.display.HTML object>"
      ]
     },
     "metadata": {},
     "output_type": "display_data"
    },
    {
     "data": {
      "image/png": "[encoded data removed]",
      "text/plain": [
       "<Figure size 640x480 with 1 Axes>"
      ]
     },
     "metadata": {},
     "output_type": "display_data"
    },
    {
     "data": {
      "image/png": "[encoded data removed]",
      "text/plain": [
       "<Figure size 640x480 with 1 Axes>"
      ]
     },
     "metadata": {},
     "output_type": "display_data"
    }
   ],
   "source": [
    "full_lm_clean, full_lang_dls_clean = train_lm(all_clean_data, show_batch=True, epochs=(7,8))"
   ]
  },
  {
   "cell_type": "code",
   "execution_count": 14,
   "id": "acc59f68-0b99-45da-a105-4403c55cc9ec",
   "metadata": {},
   "outputs": [
    {
     "data": {
      "text/html": [
       "\n",
       "<style>\n",
       "    /* Turns off some styling */\n",
       "    progress {\n",
       "        /* gets rid of default border in Firefox and Opera. */\n",
       "        border: none;\n",
       "        /* Needs to be in here for Safari polyfill so background images work as expected. */\n",
       "        background-size: auto;\n",
       "    }\n",
       "    progress:not([value]), progress:not([value])::-webkit-progress-bar {\n",
       "        background: repeating-linear-gradient(45deg, #7e7e7e, #7e7e7e 10px, #5c5c5c 10px, #5c5c5c 20px);\n",
       "    }\n",
       "    .progress-bar-interrupted, .progress-bar-interrupted::-webkit-progress-bar {\n",
       "        background: #F44336;\n",
       "    }\n",
       "</style>\n"
      ],
      "text/plain": [
       "<IPython.core.display.HTML object>"
      ]
     },
     "metadata": {},
     "output_type": "display_data"
    },
    {
     "data": {
      "text/html": [],
      "text/plain": [
       "<IPython.core.display.HTML object>"
      ]
     },
     "metadata": {},
     "output_type": "display_data"
    },
    {
     "data": {
      "text/html": [
       "\n",
       "<style>\n",
       "    /* Turns off some styling */\n",
       "    progress {\n",
       "        /* gets rid of default border in Firefox and Opera. */\n",
       "        border: none;\n",
       "        /* Needs to be in here for Safari polyfill so background images work as expected. */\n",
       "        background-size: auto;\n",
       "    }\n",
       "    progress:not([value]), progress:not([value])::-webkit-progress-bar {\n",
       "        background: repeating-linear-gradient(45deg, #7e7e7e, #7e7e7e 10px, #5c5c5c 10px, #5c5c5c 20px);\n",
       "    }\n",
       "    .progress-bar-interrupted, .progress-bar-interrupted::-webkit-progress-bar {\n",
       "        background: #F44336;\n",
       "    }\n",
       "</style>\n"
      ],
      "text/plain": [
       "<IPython.core.display.HTML object>"
      ]
     },
     "metadata": {},
     "output_type": "display_data"
    },
    {
     "data": {
      "text/html": [],
      "text/plain": [
       "<IPython.core.display.HTML object>"
      ]
     },
     "metadata": {},
     "output_type": "display_data"
    },
    {
     "data": {
      "text/html": [
       "\n",
       "<style>\n",
       "    /* Turns off some styling */\n",
       "    progress {\n",
       "        /* gets rid of default border in Firefox and Opera. */\n",
       "        border: none;\n",
       "        /* Needs to be in here for Safari polyfill so background images work as expected. */\n",
       "        background-size: auto;\n",
       "    }\n",
       "    progress:not([value]), progress:not([value])::-webkit-progress-bar {\n",
       "        background: repeating-linear-gradient(45deg, #7e7e7e, #7e7e7e 10px, #5c5c5c 10px, #5c5c5c 20px);\n",
       "    }\n",
       "    .progress-bar-interrupted, .progress-bar-interrupted::-webkit-progress-bar {\n",
       "        background: #F44336;\n",
       "    }\n",
       "</style>\n"
      ],
      "text/plain": [
       "<IPython.core.display.HTML object>"
      ]
     },
     "metadata": {},
     "output_type": "display_data"
    },
    {
     "data": {
      "text/html": [],
      "text/plain": [
       "<IPython.core.display.HTML object>"
      ]
     },
     "metadata": {},
     "output_type": "display_data"
    },
    {
     "data": {
      "text/html": [
       "\n",
       "<style>\n",
       "    /* Turns off some styling */\n",
       "    progress {\n",
       "        /* gets rid of default border in Firefox and Opera. */\n",
       "        border: none;\n",
       "        /* Needs to be in here for Safari polyfill so background images work as expected. */\n",
       "        background-size: auto;\n",
       "    }\n",
       "    progress:not([value]), progress:not([value])::-webkit-progress-bar {\n",
       "        background: repeating-linear-gradient(45deg, #7e7e7e, #7e7e7e 10px, #5c5c5c 10px, #5c5c5c 20px);\n",
       "    }\n",
       "    .progress-bar-interrupted, .progress-bar-interrupted::-webkit-progress-bar {\n",
       "        background: #F44336;\n",
       "    }\n",
       "</style>\n"
      ],
      "text/plain": [
       "<IPython.core.display.HTML object>"
      ]
     },
     "metadata": {},
     "output_type": "display_data"
    },
    {
     "data": {
      "text/html": [],
      "text/plain": [
       "<IPython.core.display.HTML object>"
      ]
     },
     "metadata": {},
     "output_type": "display_data"
    },
    {
     "name": "stdout",
     "output_type": "stream",
     "text": [
      "My flight was delayed a few days because of lack of crew . Flight attendant was rude and helpful . Pls help @ Thank you ! The flight was Cancelled Flightled with no explanation . Thanks\n",
      "My flight was delayed and moved back to MKE as we sat on the plane . Now a plane is broken . Why should i be put on hold tomorrow ? @ why would n't you have to call back\n",
      "My flight was delayed for 45 minutes , just after i left the plane . Hope so ! Finally . @ thanks for making my connection to PHL stranded now . Need to go home tomorrow morning , will\n",
      "My flight was delayed 2 hours because of weather in Boston that were not going to be leaving for tomorrow . No help from mail . @ This is not a terrible experience , to say that , if i\n"
     ]
    }
   ],
   "source": [
    "text = 'My flight was delayed'\n",
    "n_words = 40\n",
    "n_sentences = 4\n",
    "test_lm(full_lm_clean, text, n_words, n_sentences)"
   ]
  },
  {
   "cell_type": "code",
   "execution_count": 15,
   "id": "048012c3-7455-4902-9450-945bdfaeaa02",
   "metadata": {},
   "outputs": [],
   "source": [
    "#Save fine-tuned model for future use\n",
    "acc = 'temp2'\n",
    "full_lm_clean.save_encoder(f'{model_path}ULMFiT_fine_tuned_LM_full_clean_{acc}')"
   ]
  },
  {
   "cell_type": "markdown",
   "id": "530c1767-4681-4f1b-9ac5-48ad35af1926",
   "metadata": {
    "tags": []
   },
   "source": [
    "### Negative Sentiment LM"
   ]
  },
  {
   "cell_type": "code",
   "execution_count": 16,
   "id": "0bb1b5ba-6c3c-430f-bfbc-8b8e511115c3",
   "metadata": {},
   "outputs": [
    {
     "data": {
      "text/plain": [
       "Customer Service Issue         2910\n",
       "Late Flight                    1665\n",
       "Can't Tell                     1190\n",
       "Cancelled Flight                847\n",
       "Lost Luggage                    724\n",
       "Bad Flight                      580\n",
       "Flight Booking Problems         529\n",
       "Flight Attendant Complaints     481\n",
       "longlines                       178\n",
       "Damaged Luggage                  74\n",
       "Name: negativereason, dtype: int64"
      ]
     },
     "execution_count": 16,
     "metadata": {},
     "output_type": "execute_result"
    }
   ],
   "source": [
    "neg_train = all_clean_data[all_clean_data['negativereason'].notna()].reset_index(drop=True)\n",
    "neg_train.negativereason.value_counts()"
   ]
  },
  {
   "cell_type": "code",
   "execution_count": 17,
   "id": "660b18ee-6b4c-4408-a781-27d0dc4e762b",
   "metadata": {},
   "outputs": [
    {
     "data": {
      "text/html": [
       "\n",
       "<style>\n",
       "    /* Turns off some styling */\n",
       "    progress {\n",
       "        /* gets rid of default border in Firefox and Opera. */\n",
       "        border: none;\n",
       "        /* Needs to be in here for Safari polyfill so background images work as expected. */\n",
       "        background-size: auto;\n",
       "    }\n",
       "    progress:not([value]), progress:not([value])::-webkit-progress-bar {\n",
       "        background: repeating-linear-gradient(45deg, #7e7e7e, #7e7e7e 10px, #5c5c5c 10px, #5c5c5c 20px);\n",
       "    }\n",
       "    .progress-bar-interrupted, .progress-bar-interrupted::-webkit-progress-bar {\n",
       "        background: #F44336;\n",
       "    }\n",
       "</style>\n"
      ],
      "text/plain": [
       "<IPython.core.display.HTML object>"
      ]
     },
     "metadata": {},
     "output_type": "display_data"
    },
    {
     "data": {
      "text/html": [],
      "text/plain": [
       "<IPython.core.display.HTML object>"
      ]
     },
     "metadata": {},
     "output_type": "display_data"
    },
    {
     "data": {
      "text/html": [
       "<table border=\"1\" class=\"dataframe\">\n",
       "  <thead>\n",
       "    <tr style=\"text-align: right;\">\n",
       "      <th></th>\n",
       "      <th>text</th>\n",
       "      <th>text_</th>\n",
       "    </tr>\n",
       "  </thead>\n",
       "  <tbody>\n",
       "    <tr>\n",
       "      <th>0</th>\n",
       "      <td>xxbos @ ah if only we could get through . xxmaj we 've tried for over 2 hrs . xxmaj can we call @ ? xxbos @ served me xxunk xxunk xxunk xxmaj in sauce that xxunk like plastic . xxmaj do you have any food for human xxunk anymore ? xxbos @ hour 4 at the gate . xxbos @ how do you xxup not do maintenance on # while it</td>\n",
       "      <td>@ ah if only we could get through . xxmaj we 've tried for over 2 hrs . xxmaj can we call @ ? xxbos @ served me xxunk xxunk xxunk xxmaj in sauce that xxunk like plastic . xxmaj do you have any food for human xxunk anymore ? xxbos @ hour 4 at the gate . xxbos @ how do you xxup not do maintenance on # while it sits</td>\n",
       "    </tr>\n",
       "    <tr>\n",
       "      <th>1</th>\n",
       "      <td>a full refund . xxmaj please confirm when we will receive . xxbos @ xxmaj its the abc 's of xxup pr , let your customers have the most info possible . xxmaj might want to go xxunk up on the xxunk … xxbos @ xxmaj asked for a xxunk of a change fee for flight booked w / in past 24 hrs . xxmaj rep was rude . xxmaj just told</td>\n",
       "      <td>full refund . xxmaj please confirm when we will receive . xxbos @ xxmaj its the abc 's of xxup pr , let your customers have the most info possible . xxmaj might want to go xxunk up on the xxunk … xxbos @ xxmaj asked for a xxunk of a change fee for flight booked w / in past 24 hrs . xxmaj rep was rude . xxmaj just told me</td>\n",
       "    </tr>\n",
       "    <tr>\n",
       "      <th>2</th>\n",
       "      <td>virgin in with the others now . xxup bos weather has xxunk their actual xxmaj xxunk xxmaj serv model . xxmaj never xxmaj flight xxmaj booking xxmaj problems with xxmaj virgin again ! xxbos @ so we have a xxmaj cancelled xxmaj flightled flight in about twelve hours . xxmaj maybe we 'll have heard from an xxup aa rep at that point . xxbos @ @ why do n't you tweet</td>\n",
       "      <td>in with the others now . xxup bos weather has xxunk their actual xxmaj xxunk xxmaj serv model . xxmaj never xxmaj flight xxmaj booking xxmaj problems with xxmaj virgin again ! xxbos @ so we have a xxmaj cancelled xxmaj flightled flight in about twelve hours . xxmaj maybe we 'll have heard from an xxup aa rep at that point . xxbos @ @ why do n't you tweet canned</td>\n",
       "    </tr>\n",
       "    <tr>\n",
       "      <th>3</th>\n",
       "      <td>- iced . xxmaj why was n't this done when the planes were sitting out all night ? xxbos @ xxmaj it 's the rude and arrogant gate personnel . xxmaj xxunk for . xxmaj unprofessional . # xxbos @ xxunk marketing practices promised me if i booked flights i would xxunk my status now they are not xxunk . xxmaj xxunk xxbos @ ca n't speak with customer service for 2hours</td>\n",
       "      <td>iced . xxmaj why was n't this done when the planes were sitting out all night ? xxbos @ xxmaj it 's the rude and arrogant gate personnel . xxmaj xxunk for . xxmaj unprofessional . # xxbos @ xxunk marketing practices promised me if i booked flights i would xxunk my status now they are not xxunk . xxmaj xxunk xxbos @ ca n't speak with customer service for 2hours ,</td>\n",
       "    </tr>\n",
       "  </tbody>\n",
       "</table>"
      ],
      "text/plain": [
       "<IPython.core.display.HTML object>"
      ]
     },
     "metadata": {},
     "output_type": "display_data"
    },
    {
     "data": {
      "text/html": [
       "\n",
       "<style>\n",
       "    /* Turns off some styling */\n",
       "    progress {\n",
       "        /* gets rid of default border in Firefox and Opera. */\n",
       "        border: none;\n",
       "        /* Needs to be in here for Safari polyfill so background images work as expected. */\n",
       "        background-size: auto;\n",
       "    }\n",
       "    progress:not([value]), progress:not([value])::-webkit-progress-bar {\n",
       "        background: repeating-linear-gradient(45deg, #7e7e7e, #7e7e7e 10px, #5c5c5c 10px, #5c5c5c 20px);\n",
       "    }\n",
       "    .progress-bar-interrupted, .progress-bar-interrupted::-webkit-progress-bar {\n",
       "        background: #F44336;\n",
       "    }\n",
       "</style>\n"
      ],
      "text/plain": [
       "<IPython.core.display.HTML object>"
      ]
     },
     "metadata": {},
     "output_type": "display_data"
    },
    {
     "data": {
      "text/html": [],
      "text/plain": [
       "<IPython.core.display.HTML object>"
      ]
     },
     "metadata": {},
     "output_type": "display_data"
    },
    {
     "data": {
      "text/html": [
       "\n",
       "<style>\n",
       "    /* Turns off some styling */\n",
       "    progress {\n",
       "        /* gets rid of default border in Firefox and Opera. */\n",
       "        border: none;\n",
       "        /* Needs to be in here for Safari polyfill so background images work as expected. */\n",
       "        background-size: auto;\n",
       "    }\n",
       "    progress:not([value]), progress:not([value])::-webkit-progress-bar {\n",
       "        background: repeating-linear-gradient(45deg, #7e7e7e, #7e7e7e 10px, #5c5c5c 10px, #5c5c5c 20px);\n",
       "    }\n",
       "    .progress-bar-interrupted, .progress-bar-interrupted::-webkit-progress-bar {\n",
       "        background: #F44336;\n",
       "    }\n",
       "</style>\n"
      ],
      "text/plain": [
       "<IPython.core.display.HTML object>"
      ]
     },
     "metadata": {},
     "output_type": "display_data"
    },
    {
     "data": {
      "text/html": [
       "<table border=\"1\" class=\"dataframe\">\n",
       "  <thead>\n",
       "    <tr style=\"text-align: left;\">\n",
       "      <th>epoch</th>\n",
       "      <th>train_loss</th>\n",
       "      <th>valid_loss</th>\n",
       "      <th>accuracy</th>\n",
       "      <th>perplexity</th>\n",
       "      <th>time</th>\n",
       "    </tr>\n",
       "  </thead>\n",
       "  <tbody>\n",
       "    <tr>\n",
       "      <td>0</td>\n",
       "      <td>5.829387</td>\n",
       "      <td>4.852834</td>\n",
       "      <td>0.176906</td>\n",
       "      <td>128.102890</td>\n",
       "      <td>00:13</td>\n",
       "    </tr>\n",
       "    <tr>\n",
       "      <td>1</td>\n",
       "      <td>4.929679</td>\n",
       "      <td>4.060989</td>\n",
       "      <td>0.255674</td>\n",
       "      <td>58.031670</td>\n",
       "      <td>00:12</td>\n",
       "    </tr>\n",
       "    <tr>\n",
       "      <td>2</td>\n",
       "      <td>4.451473</td>\n",
       "      <td>3.940714</td>\n",
       "      <td>0.268442</td>\n",
       "      <td>51.455345</td>\n",
       "      <td>00:12</td>\n",
       "    </tr>\n",
       "    <tr>\n",
       "      <td>3</td>\n",
       "      <td>4.189825</td>\n",
       "      <td>3.880156</td>\n",
       "      <td>0.274286</td>\n",
       "      <td>48.431759</td>\n",
       "      <td>00:12</td>\n",
       "    </tr>\n",
       "    <tr>\n",
       "      <td>4</td>\n",
       "      <td>4.035669</td>\n",
       "      <td>3.853279</td>\n",
       "      <td>0.276247</td>\n",
       "      <td>47.147411</td>\n",
       "      <td>00:13</td>\n",
       "    </tr>\n",
       "    <tr>\n",
       "      <td>5</td>\n",
       "      <td>3.935581</td>\n",
       "      <td>3.841217</td>\n",
       "      <td>0.277565</td>\n",
       "      <td>46.582134</td>\n",
       "      <td>00:12</td>\n",
       "    </tr>\n",
       "    <tr>\n",
       "      <td>6</td>\n",
       "      <td>3.888230</td>\n",
       "      <td>3.839982</td>\n",
       "      <td>0.277419</td>\n",
       "      <td>46.524639</td>\n",
       "      <td>00:12</td>\n",
       "    </tr>\n",
       "  </tbody>\n",
       "</table>"
      ],
      "text/plain": [
       "<IPython.core.display.HTML object>"
      ]
     },
     "metadata": {},
     "output_type": "display_data"
    },
    {
     "data": {
      "text/html": [
       "\n",
       "<style>\n",
       "    /* Turns off some styling */\n",
       "    progress {\n",
       "        /* gets rid of default border in Firefox and Opera. */\n",
       "        border: none;\n",
       "        /* Needs to be in here for Safari polyfill so background images work as expected. */\n",
       "        background-size: auto;\n",
       "    }\n",
       "    progress:not([value]), progress:not([value])::-webkit-progress-bar {\n",
       "        background: repeating-linear-gradient(45deg, #7e7e7e, #7e7e7e 10px, #5c5c5c 10px, #5c5c5c 20px);\n",
       "    }\n",
       "    .progress-bar-interrupted, .progress-bar-interrupted::-webkit-progress-bar {\n",
       "        background: #F44336;\n",
       "    }\n",
       "</style>\n"
      ],
      "text/plain": [
       "<IPython.core.display.HTML object>"
      ]
     },
     "metadata": {},
     "output_type": "display_data"
    },
    {
     "data": {
      "text/html": [],
      "text/plain": [
       "<IPython.core.display.HTML object>"
      ]
     },
     "metadata": {},
     "output_type": "display_data"
    },
    {
     "data": {
      "text/html": [
       "\n",
       "<style>\n",
       "    /* Turns off some styling */\n",
       "    progress {\n",
       "        /* gets rid of default border in Firefox and Opera. */\n",
       "        border: none;\n",
       "        /* Needs to be in here for Safari polyfill so background images work as expected. */\n",
       "        background-size: auto;\n",
       "    }\n",
       "    progress:not([value]), progress:not([value])::-webkit-progress-bar {\n",
       "        background: repeating-linear-gradient(45deg, #7e7e7e, #7e7e7e 10px, #5c5c5c 10px, #5c5c5c 20px);\n",
       "    }\n",
       "    .progress-bar-interrupted, .progress-bar-interrupted::-webkit-progress-bar {\n",
       "        background: #F44336;\n",
       "    }\n",
       "</style>\n"
      ],
      "text/plain": [
       "<IPython.core.display.HTML object>"
      ]
     },
     "metadata": {},
     "output_type": "display_data"
    },
    {
     "data": {
      "text/html": [
       "<table border=\"1\" class=\"dataframe\">\n",
       "  <thead>\n",
       "    <tr style=\"text-align: left;\">\n",
       "      <th>epoch</th>\n",
       "      <th>train_loss</th>\n",
       "      <th>valid_loss</th>\n",
       "      <th>accuracy</th>\n",
       "      <th>perplexity</th>\n",
       "      <th>time</th>\n",
       "    </tr>\n",
       "  </thead>\n",
       "  <tbody>\n",
       "    <tr>\n",
       "      <td>0</td>\n",
       "      <td>3.826788</td>\n",
       "      <td>3.821189</td>\n",
       "      <td>0.280402</td>\n",
       "      <td>45.658459</td>\n",
       "      <td>00:13</td>\n",
       "    </tr>\n",
       "    <tr>\n",
       "      <td>1</td>\n",
       "      <td>3.791806</td>\n",
       "      <td>3.779000</td>\n",
       "      <td>0.286087</td>\n",
       "      <td>43.772259</td>\n",
       "      <td>00:13</td>\n",
       "    </tr>\n",
       "    <tr>\n",
       "      <td>2</td>\n",
       "      <td>3.745351</td>\n",
       "      <td>3.746160</td>\n",
       "      <td>0.294350</td>\n",
       "      <td>42.358093</td>\n",
       "      <td>00:13</td>\n",
       "    </tr>\n",
       "    <tr>\n",
       "      <td>3</td>\n",
       "      <td>3.705792</td>\n",
       "      <td>3.729481</td>\n",
       "      <td>0.297159</td>\n",
       "      <td>41.657482</td>\n",
       "      <td>00:13</td>\n",
       "    </tr>\n",
       "    <tr>\n",
       "      <td>4</td>\n",
       "      <td>3.671417</td>\n",
       "      <td>3.717684</td>\n",
       "      <td>0.298686</td>\n",
       "      <td>41.168938</td>\n",
       "      <td>00:14</td>\n",
       "    </tr>\n",
       "    <tr>\n",
       "      <td>5</td>\n",
       "      <td>3.639946</td>\n",
       "      <td>3.713662</td>\n",
       "      <td>0.299203</td>\n",
       "      <td>41.003693</td>\n",
       "      <td>00:13</td>\n",
       "    </tr>\n",
       "    <tr>\n",
       "      <td>6</td>\n",
       "      <td>3.620943</td>\n",
       "      <td>3.711798</td>\n",
       "      <td>0.299783</td>\n",
       "      <td>40.927334</td>\n",
       "      <td>00:13</td>\n",
       "    </tr>\n",
       "    <tr>\n",
       "      <td>7</td>\n",
       "      <td>3.612976</td>\n",
       "      <td>3.711751</td>\n",
       "      <td>0.299495</td>\n",
       "      <td>40.925404</td>\n",
       "      <td>00:13</td>\n",
       "    </tr>\n",
       "  </tbody>\n",
       "</table>"
      ],
      "text/plain": [
       "<IPython.core.display.HTML object>"
      ]
     },
     "metadata": {},
     "output_type": "display_data"
    },
    {
     "data": {
      "image/png": "[encoded data removed]",
      "text/plain": [
       "<Figure size 640x480 with 1 Axes>"
      ]
     },
     "metadata": {},
     "output_type": "display_data"
    },
    {
     "data": {
      "image/png": "[encoded data removed]",
      "text/plain": [
       "<Figure size 640x480 with 1 Axes>"
      ]
     },
     "metadata": {},
     "output_type": "display_data"
    }
   ],
   "source": [
    "full_lm_neg, lang_dls_neg = train_lm(neg_train, show_batch=True, epochs=(7,8))"
   ]
  },
  {
   "cell_type": "code",
   "execution_count": 18,
   "id": "8a326efc-66ef-4ef8-b7be-994a895e8eab",
   "metadata": {},
   "outputs": [
    {
     "data": {
      "text/html": [
       "\n",
       "<style>\n",
       "    /* Turns off some styling */\n",
       "    progress {\n",
       "        /* gets rid of default border in Firefox and Opera. */\n",
       "        border: none;\n",
       "        /* Needs to be in here for Safari polyfill so background images work as expected. */\n",
       "        background-size: auto;\n",
       "    }\n",
       "    progress:not([value]), progress:not([value])::-webkit-progress-bar {\n",
       "        background: repeating-linear-gradient(45deg, #7e7e7e, #7e7e7e 10px, #5c5c5c 10px, #5c5c5c 20px);\n",
       "    }\n",
       "    .progress-bar-interrupted, .progress-bar-interrupted::-webkit-progress-bar {\n",
       "        background: #F44336;\n",
       "    }\n",
       "</style>\n"
      ],
      "text/plain": [
       "<IPython.core.display.HTML object>"
      ]
     },
     "metadata": {},
     "output_type": "display_data"
    },
    {
     "data": {
      "text/html": [],
      "text/plain": [
       "<IPython.core.display.HTML object>"
      ]
     },
     "metadata": {},
     "output_type": "display_data"
    },
    {
     "data": {
      "text/html": [
       "\n",
       "<style>\n",
       "    /* Turns off some styling */\n",
       "    progress {\n",
       "        /* gets rid of default border in Firefox and Opera. */\n",
       "        border: none;\n",
       "        /* Needs to be in here for Safari polyfill so background images work as expected. */\n",
       "        background-size: auto;\n",
       "    }\n",
       "    progress:not([value]), progress:not([value])::-webkit-progress-bar {\n",
       "        background: repeating-linear-gradient(45deg, #7e7e7e, #7e7e7e 10px, #5c5c5c 10px, #5c5c5c 20px);\n",
       "    }\n",
       "    .progress-bar-interrupted, .progress-bar-interrupted::-webkit-progress-bar {\n",
       "        background: #F44336;\n",
       "    }\n",
       "</style>\n"
      ],
      "text/plain": [
       "<IPython.core.display.HTML object>"
      ]
     },
     "metadata": {},
     "output_type": "display_data"
    },
    {
     "data": {
      "text/html": [],
      "text/plain": [
       "<IPython.core.display.HTML object>"
      ]
     },
     "metadata": {},
     "output_type": "display_data"
    },
    {
     "data": {
      "text/html": [
       "\n",
       "<style>\n",
       "    /* Turns off some styling */\n",
       "    progress {\n",
       "        /* gets rid of default border in Firefox and Opera. */\n",
       "        border: none;\n",
       "        /* Needs to be in here for Safari polyfill so background images work as expected. */\n",
       "        background-size: auto;\n",
       "    }\n",
       "    progress:not([value]), progress:not([value])::-webkit-progress-bar {\n",
       "        background: repeating-linear-gradient(45deg, #7e7e7e, #7e7e7e 10px, #5c5c5c 10px, #5c5c5c 20px);\n",
       "    }\n",
       "    .progress-bar-interrupted, .progress-bar-interrupted::-webkit-progress-bar {\n",
       "        background: #F44336;\n",
       "    }\n",
       "</style>\n"
      ],
      "text/plain": [
       "<IPython.core.display.HTML object>"
      ]
     },
     "metadata": {},
     "output_type": "display_data"
    },
    {
     "data": {
      "text/html": [],
      "text/plain": [
       "<IPython.core.display.HTML object>"
      ]
     },
     "metadata": {},
     "output_type": "display_data"
    },
    {
     "data": {
      "text/html": [
       "\n",
       "<style>\n",
       "    /* Turns off some styling */\n",
       "    progress {\n",
       "        /* gets rid of default border in Firefox and Opera. */\n",
       "        border: none;\n",
       "        /* Needs to be in here for Safari polyfill so background images work as expected. */\n",
       "        background-size: auto;\n",
       "    }\n",
       "    progress:not([value]), progress:not([value])::-webkit-progress-bar {\n",
       "        background: repeating-linear-gradient(45deg, #7e7e7e, #7e7e7e 10px, #5c5c5c 10px, #5c5c5c 20px);\n",
       "    }\n",
       "    .progress-bar-interrupted, .progress-bar-interrupted::-webkit-progress-bar {\n",
       "        background: #F44336;\n",
       "    }\n",
       "</style>\n"
      ],
      "text/plain": [
       "<IPython.core.display.HTML object>"
      ]
     },
     "metadata": {},
     "output_type": "display_data"
    },
    {
     "data": {
      "text/html": [],
      "text/plain": [
       "<IPython.core.display.HTML object>"
      ]
     },
     "metadata": {},
     "output_type": "display_data"
    },
    {
     "name": "stdout",
     "output_type": "stream",
     "text": [
      "My flight was delayed for 2 hours after landing . No one else . Thank you for the bad experience ! @ I 've been on hold for over an hour , i 've been on hold for over an\n",
      "My flight was delayed Cancelled Flightled after 2 hours and no one is answering the phone . Flight Cancelled Flightled . Is there a way to get through for another flight ? @ Is there a\n",
      "My flight was delayed for over an hour . Your team was on the plane for over two hours . My flight was delayed till Wednesday . This is such a disaster . @ thanks . My reservation\n",
      "My flight was delayed and now we still need to stay in Vegas to hope we were on Tarmac … Still no way to speak to someone @ what is happening with Tuesday ? What is the reason\n"
     ]
    }
   ],
   "source": [
    "text = 'My flight was delayed'\n",
    "n_words = 40\n",
    "n_sentences = 4\n",
    "test_lm(full_lm_neg, text, n_words, n_sentences)"
   ]
  },
  {
   "cell_type": "code",
   "execution_count": 19,
   "id": "74c340cc-958a-44dd-b37e-ff8da3c349b0",
   "metadata": {},
   "outputs": [],
   "source": [
    "#Save fine-tuned model for future use\n",
    "acc = 'temp2'\n",
    "full_lm_neg.save_encoder(f'{model_path}ULMFiT_fine_tuned_LM_neg_{acc}')"
   ]
  },
  {
   "cell_type": "markdown",
   "id": "db8747de-38ea-442c-88c2-eecf2fd08be5",
   "metadata": {
    "tags": []
   },
   "source": [
    "# Intents Full LM"
   ]
  },
  {
   "cell_type": "markdown",
   "id": "1fdac222-2556-4a10-a283-6c3dcc03f7e8",
   "metadata": {
    "tags": []
   },
   "source": [
    "## Sub Groups"
   ]
  },
  {
   "cell_type": "code",
   "execution_count": 20,
   "id": "00358d5b-5704-43cc-8f25-02f45b2ee91d",
   "metadata": {
    "tags": []
   },
   "outputs": [],
   "source": [
    "intentSubGroups = {\n",
    "    'Customer Service Issue': 'Customer Service Issue',\n",
    "    'Late Flight': 'Late Flight',\n",
    "    'Cancelled Flight': 'Cancelled Flight',\n",
    "    'Lost Luggage': 'Luggage',\n",
    "    'Bad Flight': 'Bad Flight',\n",
    "    'Flight Booking Problems': 'Flight Booking Problems',\n",
    "    'Flight Attendant Complaints': 'Flight Attendant Complaints',\n",
    "    'longlines': 'Customer Service Issue',\n",
    "    'Damaged Luggage': 'Luggage',\n",
    "    'Can\\'t Tell': 'Can\\'t Tell'\n",
    "}\n",
    "\n",
    "neg_train['intentGroup'] = neg_train.negativereason.apply(lambda x: intentSubGroups[x])"
   ]
  },
  {
   "cell_type": "markdown",
   "id": "0a00d024-6823-4654-bda3-5442c5128d15",
   "metadata": {
    "tags": []
   },
   "source": [
    "### Train Classifier"
   ]
  },
  {
   "cell_type": "code",
   "execution_count": 22,
   "id": "df011457-2b40-4578-abb2-7a894fb2fed1",
   "metadata": {},
   "outputs": [
    {
     "data": {
      "text/html": [
       "\n",
       "<style>\n",
       "    /* Turns off some styling */\n",
       "    progress {\n",
       "        /* gets rid of default border in Firefox and Opera. */\n",
       "        border: none;\n",
       "        /* Needs to be in here for Safari polyfill so background images work as expected. */\n",
       "        background-size: auto;\n",
       "    }\n",
       "    progress:not([value]), progress:not([value])::-webkit-progress-bar {\n",
       "        background: repeating-linear-gradient(45deg, #7e7e7e, #7e7e7e 10px, #5c5c5c 10px, #5c5c5c 20px);\n",
       "    }\n",
       "    .progress-bar-interrupted, .progress-bar-interrupted::-webkit-progress-bar {\n",
       "        background: #F44336;\n",
       "    }\n",
       "</style>\n"
      ],
      "text/plain": [
       "<IPython.core.display.HTML object>"
      ]
     },
     "metadata": {},
     "output_type": "display_data"
    },
    {
     "data": {
      "text/html": [],
      "text/plain": [
       "<IPython.core.display.HTML object>"
      ]
     },
     "metadata": {},
     "output_type": "display_data"
    },
    {
     "data": {
      "text/html": [
       "<table border=\"1\" class=\"dataframe\">\n",
       "  <thead>\n",
       "    <tr style=\"text-align: right;\">\n",
       "      <th></th>\n",
       "      <th>text</th>\n",
       "      <th>category</th>\n",
       "    </tr>\n",
       "  </thead>\n",
       "  <tbody>\n",
       "    <tr>\n",
       "      <th>0</th>\n",
       "      <td>xxbos @ xxup where xxup is xxup my xxup fucking xxup bag ? ! ? ! xxmaj where the fuck is my fucking bag xxrep 3 ? xxup tell xxup me xxup now xxup or xxup give xxup me a xxup number xxup to xxup call a xxup human . xxup xxunk m</td>\n",
       "      <td>Luggage</td>\n",
       "    </tr>\n",
       "    <tr>\n",
       "      <th>1</th>\n",
       "      <td>xxbos @ xxup xxunk u xxup us xxup airways xxup with xxup yo xxup shitty xxup chicken xxup xxunk xxup sandwich xxup that xxup so xxup xxunk xxup and u xxup xxunk xxup make xxup me xxup wait xxup in a 6 xxup hr xxup layover xxup xxunk u xxup and</td>\n",
       "      <td>Bad Flight</td>\n",
       "    </tr>\n",
       "    <tr>\n",
       "      <th>2</th>\n",
       "      <td>xxbos @ i ❤ ️ xxmaj jetblue but i was on flt xxunk from fll to sfo . xxunk off was over 1 hr xxmaj late xxmaj flight , div to phx &amp; &amp; got in 2 hrs xxmaj late xxmaj flight . xxmaj what will be done ?</td>\n",
       "      <td>Late Flight</td>\n",
       "    </tr>\n",
       "    <tr>\n",
       "      <th>3</th>\n",
       "      <td>xxbos @ xxup poor xxup experience 2day at ord xxunk . 8 xxunk . w / 3 cust . 10 waiting . xxmaj asked to speak w / supervisor . xxmaj told 20 min . xxmaj in a mtg ! ! xxmaj what ? ! ? !</td>\n",
       "      <td>Customer Service Issue</td>\n",
       "    </tr>\n",
       "  </tbody>\n",
       "</table>"
      ],
      "text/plain": [
       "<IPython.core.display.HTML object>"
      ]
     },
     "metadata": {},
     "output_type": "display_data"
    },
    {
     "data": {
      "text/html": [
       "\n",
       "<style>\n",
       "    /* Turns off some styling */\n",
       "    progress {\n",
       "        /* gets rid of default border in Firefox and Opera. */\n",
       "        border: none;\n",
       "        /* Needs to be in here for Safari polyfill so background images work as expected. */\n",
       "        background-size: auto;\n",
       "    }\n",
       "    progress:not([value]), progress:not([value])::-webkit-progress-bar {\n",
       "        background: repeating-linear-gradient(45deg, #7e7e7e, #7e7e7e 10px, #5c5c5c 10px, #5c5c5c 20px);\n",
       "    }\n",
       "    .progress-bar-interrupted, .progress-bar-interrupted::-webkit-progress-bar {\n",
       "        background: #F44336;\n",
       "    }\n",
       "</style>\n"
      ],
      "text/plain": [
       "<IPython.core.display.HTML object>"
      ]
     },
     "metadata": {},
     "output_type": "display_data"
    },
    {
     "data": {
      "text/html": [],
      "text/plain": [
       "<IPython.core.display.HTML object>"
      ]
     },
     "metadata": {},
     "output_type": "display_data"
    },
    {
     "data": {
      "text/html": [
       "\n",
       "<style>\n",
       "    /* Turns off some styling */\n",
       "    progress {\n",
       "        /* gets rid of default border in Firefox and Opera. */\n",
       "        border: none;\n",
       "        /* Needs to be in here for Safari polyfill so background images work as expected. */\n",
       "        background-size: auto;\n",
       "    }\n",
       "    progress:not([value]), progress:not([value])::-webkit-progress-bar {\n",
       "        background: repeating-linear-gradient(45deg, #7e7e7e, #7e7e7e 10px, #5c5c5c 10px, #5c5c5c 20px);\n",
       "    }\n",
       "    .progress-bar-interrupted, .progress-bar-interrupted::-webkit-progress-bar {\n",
       "        background: #F44336;\n",
       "    }\n",
       "</style>\n"
      ],
      "text/plain": [
       "<IPython.core.display.HTML object>"
      ]
     },
     "metadata": {},
     "output_type": "display_data"
    },
    {
     "data": {
      "text/html": [
       "<table border=\"1\" class=\"dataframe\">\n",
       "  <thead>\n",
       "    <tr style=\"text-align: left;\">\n",
       "      <th>epoch</th>\n",
       "      <th>train_loss</th>\n",
       "      <th>valid_loss</th>\n",
       "      <th>accuracy</th>\n",
       "      <th>perplexity</th>\n",
       "      <th>f1_score</th>\n",
       "      <th>f1_score</th>\n",
       "      <th>time</th>\n",
       "    </tr>\n",
       "  </thead>\n",
       "  <tbody>\n",
       "    <tr>\n",
       "      <td>0</td>\n",
       "      <td>1.542084</td>\n",
       "      <td>1.308896</td>\n",
       "      <td>0.581471</td>\n",
       "      <td>3.702085</td>\n",
       "      <td>0.518708</td>\n",
       "      <td>0.580477</td>\n",
       "      <td>00:03</td>\n",
       "    </tr>\n",
       "    <tr>\n",
       "      <td>1</td>\n",
       "      <td>1.336969</td>\n",
       "      <td>1.227793</td>\n",
       "      <td>0.586921</td>\n",
       "      <td>3.413686</td>\n",
       "      <td>0.516721</td>\n",
       "      <td>0.577605</td>\n",
       "      <td>00:04</td>\n",
       "    </tr>\n",
       "    <tr>\n",
       "      <td>2</td>\n",
       "      <td>1.208192</td>\n",
       "      <td>1.180005</td>\n",
       "      <td>0.593461</td>\n",
       "      <td>3.254391</td>\n",
       "      <td>0.515085</td>\n",
       "      <td>0.584179</td>\n",
       "      <td>00:04</td>\n",
       "    </tr>\n",
       "    <tr>\n",
       "      <td>3</td>\n",
       "      <td>1.150723</td>\n",
       "      <td>1.183313</td>\n",
       "      <td>0.587466</td>\n",
       "      <td>3.265175</td>\n",
       "      <td>0.507592</td>\n",
       "      <td>0.574554</td>\n",
       "      <td>00:04</td>\n",
       "    </tr>\n",
       "  </tbody>\n",
       "</table>"
      ],
      "text/plain": [
       "<IPython.core.display.HTML object>"
      ]
     },
     "metadata": {},
     "output_type": "display_data"
    },
    {
     "data": {
      "text/html": [
       "\n",
       "<style>\n",
       "    /* Turns off some styling */\n",
       "    progress {\n",
       "        /* gets rid of default border in Firefox and Opera. */\n",
       "        border: none;\n",
       "        /* Needs to be in here for Safari polyfill so background images work as expected. */\n",
       "        background-size: auto;\n",
       "    }\n",
       "    progress:not([value]), progress:not([value])::-webkit-progress-bar {\n",
       "        background: repeating-linear-gradient(45deg, #7e7e7e, #7e7e7e 10px, #5c5c5c 10px, #5c5c5c 20px);\n",
       "    }\n",
       "    .progress-bar-interrupted, .progress-bar-interrupted::-webkit-progress-bar {\n",
       "        background: #F44336;\n",
       "    }\n",
       "</style>\n"
      ],
      "text/plain": [
       "<IPython.core.display.HTML object>"
      ]
     },
     "metadata": {},
     "output_type": "display_data"
    },
    {
     "data": {
      "text/html": [],
      "text/plain": [
       "<IPython.core.display.HTML object>"
      ]
     },
     "metadata": {},
     "output_type": "display_data"
    },
    {
     "data": {
      "text/html": [
       "\n",
       "<style>\n",
       "    /* Turns off some styling */\n",
       "    progress {\n",
       "        /* gets rid of default border in Firefox and Opera. */\n",
       "        border: none;\n",
       "        /* Needs to be in here for Safari polyfill so background images work as expected. */\n",
       "        background-size: auto;\n",
       "    }\n",
       "    progress:not([value]), progress:not([value])::-webkit-progress-bar {\n",
       "        background: repeating-linear-gradient(45deg, #7e7e7e, #7e7e7e 10px, #5c5c5c 10px, #5c5c5c 20px);\n",
       "    }\n",
       "    .progress-bar-interrupted, .progress-bar-interrupted::-webkit-progress-bar {\n",
       "        background: #F44336;\n",
       "    }\n",
       "</style>\n"
      ],
      "text/plain": [
       "<IPython.core.display.HTML object>"
      ]
     },
     "metadata": {},
     "output_type": "display_data"
    },
    {
     "data": {
      "text/html": [
       "<table border=\"1\" class=\"dataframe\">\n",
       "  <thead>\n",
       "    <tr style=\"text-align: left;\">\n",
       "      <th>epoch</th>\n",
       "      <th>train_loss</th>\n",
       "      <th>valid_loss</th>\n",
       "      <th>accuracy</th>\n",
       "      <th>perplexity</th>\n",
       "      <th>f1_score</th>\n",
       "      <th>f1_score</th>\n",
       "      <th>time</th>\n",
       "    </tr>\n",
       "  </thead>\n",
       "  <tbody>\n",
       "    <tr>\n",
       "      <td>0</td>\n",
       "      <td>1.134568</td>\n",
       "      <td>1.177085</td>\n",
       "      <td>0.590191</td>\n",
       "      <td>3.244900</td>\n",
       "      <td>0.514857</td>\n",
       "      <td>0.579993</td>\n",
       "      <td>00:04</td>\n",
       "    </tr>\n",
       "    <tr>\n",
       "      <td>1</td>\n",
       "      <td>1.125952</td>\n",
       "      <td>1.177229</td>\n",
       "      <td>0.591281</td>\n",
       "      <td>3.245368</td>\n",
       "      <td>0.517731</td>\n",
       "      <td>0.580936</td>\n",
       "      <td>00:04</td>\n",
       "    </tr>\n",
       "    <tr>\n",
       "      <td>2</td>\n",
       "      <td>1.124567</td>\n",
       "      <td>1.170138</td>\n",
       "      <td>0.590191</td>\n",
       "      <td>3.222437</td>\n",
       "      <td>0.513635</td>\n",
       "      <td>0.578443</td>\n",
       "      <td>00:04</td>\n",
       "    </tr>\n",
       "    <tr>\n",
       "      <td>3</td>\n",
       "      <td>1.106535</td>\n",
       "      <td>1.180263</td>\n",
       "      <td>0.589101</td>\n",
       "      <td>3.255229</td>\n",
       "      <td>0.512738</td>\n",
       "      <td>0.575896</td>\n",
       "      <td>00:04</td>\n",
       "    </tr>\n",
       "  </tbody>\n",
       "</table>"
      ],
      "text/plain": [
       "<IPython.core.display.HTML object>"
      ]
     },
     "metadata": {},
     "output_type": "display_data"
    },
    {
     "data": {
      "text/html": [
       "\n",
       "<style>\n",
       "    /* Turns off some styling */\n",
       "    progress {\n",
       "        /* gets rid of default border in Firefox and Opera. */\n",
       "        border: none;\n",
       "        /* Needs to be in here for Safari polyfill so background images work as expected. */\n",
       "        background-size: auto;\n",
       "    }\n",
       "    progress:not([value]), progress:not([value])::-webkit-progress-bar {\n",
       "        background: repeating-linear-gradient(45deg, #7e7e7e, #7e7e7e 10px, #5c5c5c 10px, #5c5c5c 20px);\n",
       "    }\n",
       "    .progress-bar-interrupted, .progress-bar-interrupted::-webkit-progress-bar {\n",
       "        background: #F44336;\n",
       "    }\n",
       "</style>\n"
      ],
      "text/plain": [
       "<IPython.core.display.HTML object>"
      ]
     },
     "metadata": {},
     "output_type": "display_data"
    },
    {
     "data": {
      "text/html": [],
      "text/plain": [
       "<IPython.core.display.HTML object>"
      ]
     },
     "metadata": {},
     "output_type": "display_data"
    },
    {
     "data": {
      "text/html": [
       "\n",
       "<style>\n",
       "    /* Turns off some styling */\n",
       "    progress {\n",
       "        /* gets rid of default border in Firefox and Opera. */\n",
       "        border: none;\n",
       "        /* Needs to be in here for Safari polyfill so background images work as expected. */\n",
       "        background-size: auto;\n",
       "    }\n",
       "    progress:not([value]), progress:not([value])::-webkit-progress-bar {\n",
       "        background: repeating-linear-gradient(45deg, #7e7e7e, #7e7e7e 10px, #5c5c5c 10px, #5c5c5c 20px);\n",
       "    }\n",
       "    .progress-bar-interrupted, .progress-bar-interrupted::-webkit-progress-bar {\n",
       "        background: #F44336;\n",
       "    }\n",
       "</style>\n"
      ],
      "text/plain": [
       "<IPython.core.display.HTML object>"
      ]
     },
     "metadata": {},
     "output_type": "display_data"
    },
    {
     "data": {
      "text/html": [
       "<table border=\"1\" class=\"dataframe\">\n",
       "  <thead>\n",
       "    <tr style=\"text-align: left;\">\n",
       "      <th>epoch</th>\n",
       "      <th>train_loss</th>\n",
       "      <th>valid_loss</th>\n",
       "      <th>accuracy</th>\n",
       "      <th>perplexity</th>\n",
       "      <th>f1_score</th>\n",
       "      <th>f1_score</th>\n",
       "      <th>time</th>\n",
       "    </tr>\n",
       "  </thead>\n",
       "  <tbody>\n",
       "    <tr>\n",
       "      <td>0</td>\n",
       "      <td>1.098758</td>\n",
       "      <td>1.169774</td>\n",
       "      <td>0.600000</td>\n",
       "      <td>3.221265</td>\n",
       "      <td>0.528759</td>\n",
       "      <td>0.590514</td>\n",
       "      <td>00:05</td>\n",
       "    </tr>\n",
       "    <tr>\n",
       "      <td>1</td>\n",
       "      <td>1.105080</td>\n",
       "      <td>1.153182</td>\n",
       "      <td>0.609264</td>\n",
       "      <td>3.168257</td>\n",
       "      <td>0.547629</td>\n",
       "      <td>0.602895</td>\n",
       "      <td>00:05</td>\n",
       "    </tr>\n",
       "    <tr>\n",
       "      <td>2</td>\n",
       "      <td>1.035596</td>\n",
       "      <td>1.119162</td>\n",
       "      <td>0.619619</td>\n",
       "      <td>3.062288</td>\n",
       "      <td>0.556231</td>\n",
       "      <td>0.615145</td>\n",
       "      <td>00:05</td>\n",
       "    </tr>\n",
       "    <tr>\n",
       "      <td>3</td>\n",
       "      <td>0.957480</td>\n",
       "      <td>1.089990</td>\n",
       "      <td>0.636512</td>\n",
       "      <td>2.974244</td>\n",
       "      <td>0.570601</td>\n",
       "      <td>0.630137</td>\n",
       "      <td>00:05</td>\n",
       "    </tr>\n",
       "    <tr>\n",
       "      <td>4</td>\n",
       "      <td>0.867011</td>\n",
       "      <td>1.102728</td>\n",
       "      <td>0.629973</td>\n",
       "      <td>3.012374</td>\n",
       "      <td>0.573590</td>\n",
       "      <td>0.626703</td>\n",
       "      <td>00:05</td>\n",
       "    </tr>\n",
       "    <tr>\n",
       "      <td>5</td>\n",
       "      <td>0.755668</td>\n",
       "      <td>1.131485</td>\n",
       "      <td>0.632153</td>\n",
       "      <td>3.100255</td>\n",
       "      <td>0.565979</td>\n",
       "      <td>0.626310</td>\n",
       "      <td>00:05</td>\n",
       "    </tr>\n",
       "    <tr>\n",
       "      <td>6</td>\n",
       "      <td>0.693841</td>\n",
       "      <td>1.122358</td>\n",
       "      <td>0.631608</td>\n",
       "      <td>3.072091</td>\n",
       "      <td>0.573737</td>\n",
       "      <td>0.628957</td>\n",
       "      <td>00:05</td>\n",
       "    </tr>\n",
       "    <tr>\n",
       "      <td>7</td>\n",
       "      <td>0.657191</td>\n",
       "      <td>1.122928</td>\n",
       "      <td>0.634877</td>\n",
       "      <td>3.073841</td>\n",
       "      <td>0.570844</td>\n",
       "      <td>0.628046</td>\n",
       "      <td>00:05</td>\n",
       "    </tr>\n",
       "    <tr>\n",
       "      <td>8</td>\n",
       "      <td>0.629263</td>\n",
       "      <td>1.125920</td>\n",
       "      <td>0.636512</td>\n",
       "      <td>3.083053</td>\n",
       "      <td>0.581767</td>\n",
       "      <td>0.633332</td>\n",
       "      <td>00:06</td>\n",
       "    </tr>\n",
       "  </tbody>\n",
       "</table>"
      ],
      "text/plain": [
       "<IPython.core.display.HTML object>"
      ]
     },
     "metadata": {},
     "output_type": "display_data"
    },
    {
     "data": {
      "image/png": "[encoded data removed]",
      "text/plain": [
       "<Figure size 640x480 with 1 Axes>"
      ]
     },
     "metadata": {},
     "output_type": "display_data"
    },
    {
     "data": {
      "image/png": "[encoded data removed]",
      "text/plain": [
       "<Figure size 640x480 with 1 Axes>"
      ]
     },
     "metadata": {},
     "output_type": "display_data"
    },
    {
     "data": {
      "image/png": "[encoded data removed]",
      "text/plain": [
       "<Figure size 640x480 with 1 Axes>"
      ]
     },
     "metadata": {},
     "output_type": "display_data"
    }
   ],
   "source": [
    "acc = 'temp2'\n",
    "encoder_path = model_path + f'ULMFiT_fine_tuned_LM_full_clean_{acc}'\n",
    "intent_classifier = train_classifier(neg_train, full_lang_dls_clean, encoder_path, label='intentGroup')"
   ]
  },
  {
   "cell_type": "code",
   "execution_count": 57,
   "id": "88acdc8b-102f-4d01-a2da-04d1ed74960a",
   "metadata": {},
   "outputs": [],
   "source": [
    "# pred_fwd,lbl_fwd = intent_classifier.get_preds()\n",
    "# print(pred_fwd.shape)\n",
    "# print(lbl_fwd.shape)\n",
    "# print(pred_fwd[0])\n",
    "# print(lbl_fwd[0])\n",
    "# print(torch.argmax(pred_fwd, dim=1)[0])\n",
    "# print(intent_classifier.metrics[3](torch.argmax(pred_fwd, dim=1), lbl_fwd))\n",
    "# print(intent_classifier.metrics[3](lbl_fwd,torch.argmax(pred_fwd, dim=1)))\n",
    "# report = classification_report(lbl_fwd,torch.argmax(pred_fwd, dim=1))\n",
    "# print(report)"
   ]
  },
  {
   "cell_type": "code",
   "execution_count": 58,
   "id": "48a2c2ed-5abb-4f38-bd9a-61418eeee911",
   "metadata": {},
   "outputs": [
    {
     "data": {
      "text/html": [
       "\n",
       "<style>\n",
       "    /* Turns off some styling */\n",
       "    progress {\n",
       "        /* gets rid of default border in Firefox and Opera. */\n",
       "        border: none;\n",
       "        /* Needs to be in here for Safari polyfill so background images work as expected. */\n",
       "        background-size: auto;\n",
       "    }\n",
       "    progress:not([value]), progress:not([value])::-webkit-progress-bar {\n",
       "        background: repeating-linear-gradient(45deg, #7e7e7e, #7e7e7e 10px, #5c5c5c 10px, #5c5c5c 20px);\n",
       "    }\n",
       "    .progress-bar-interrupted, .progress-bar-interrupted::-webkit-progress-bar {\n",
       "        background: #F44336;\n",
       "    }\n",
       "</style>\n"
      ],
      "text/plain": [
       "<IPython.core.display.HTML object>"
      ]
     },
     "metadata": {},
     "output_type": "display_data"
    },
    {
     "data": {
      "text/html": [],
      "text/plain": [
       "<IPython.core.display.HTML object>"
      ]
     },
     "metadata": {},
     "output_type": "display_data"
    },
    {
     "name": "stdout",
     "output_type": "stream",
     "text": [
      "              precision    recall  f1-score   support\n",
      "\n",
      "           0       0.67      0.45      0.53       130\n",
      "           1       0.45      0.45      0.45       229\n",
      "           2       0.74      0.65      0.69       176\n",
      "           3       0.71      0.74      0.72       635\n",
      "           4       0.53      0.36      0.43        86\n",
      "           5       0.43      0.46      0.45        97\n",
      "           6       0.62      0.72      0.67       329\n",
      "           7       0.70      0.73      0.72       153\n",
      "\n",
      "    accuracy                           0.64      1835\n",
      "   macro avg       0.61      0.57      0.58      1835\n",
      "weighted avg       0.64      0.64      0.63      1835\n",
      "\n",
      "TensorBase(0.6365) 0.5817665224111952 0.6333318605253354\n"
     ]
    }
   ],
   "source": [
    "acc, f1_macro, f1_weighted = test_classifier_acc(intent_classifier)\n",
    "print(acc, f1_macro, f1_weighted)"
   ]
  },
  {
   "cell_type": "code",
   "execution_count": 59,
   "id": "3f333ab6-16de-4f9e-bd1b-0f5ef3a3923b",
   "metadata": {},
   "outputs": [
    {
     "data": {
      "text/html": [
       "\n",
       "<style>\n",
       "    /* Turns off some styling */\n",
       "    progress {\n",
       "        /* gets rid of default border in Firefox and Opera. */\n",
       "        border: none;\n",
       "        /* Needs to be in here for Safari polyfill so background images work as expected. */\n",
       "        background-size: auto;\n",
       "    }\n",
       "    progress:not([value]), progress:not([value])::-webkit-progress-bar {\n",
       "        background: repeating-linear-gradient(45deg, #7e7e7e, #7e7e7e 10px, #5c5c5c 10px, #5c5c5c 20px);\n",
       "    }\n",
       "    .progress-bar-interrupted, .progress-bar-interrupted::-webkit-progress-bar {\n",
       "        background: #F44336;\n",
       "    }\n",
       "</style>\n"
      ],
      "text/plain": [
       "<IPython.core.display.HTML object>"
      ]
     },
     "metadata": {},
     "output_type": "display_data"
    },
    {
     "data": {
      "text/html": [],
      "text/plain": [
       "<IPython.core.display.HTML object>"
      ]
     },
     "metadata": {},
     "output_type": "display_data"
    },
    {
     "name": "stdout",
     "output_type": "stream",
     "text": [
      "              precision    recall  f1-score   support\n",
      "\n",
      "           0       0.67      0.45      0.53       130\n",
      "           1       0.45      0.45      0.45       229\n",
      "           2       0.74      0.65      0.69       176\n",
      "           3       0.71      0.74      0.72       635\n",
      "           4       0.53      0.36      0.43        86\n",
      "           5       0.43      0.46      0.45        97\n",
      "           6       0.62      0.72      0.67       329\n",
      "           7       0.70      0.73      0.72       153\n",
      "\n",
      "    accuracy                           0.64      1835\n",
      "   macro avg       0.61      0.57      0.58      1835\n",
      "weighted avg       0.64      0.64      0.63      1835\n",
      "\n"
     ]
    },
    {
     "data": {
      "text/plain": [
       "Path('/home/jupyter/src/natalies-little-helper/models/ULMFiT_intent_full_class_subgroup_0.636512279510498.pth')"
      ]
     },
     "execution_count": 59,
     "metadata": {},
     "output_type": "execute_result"
    }
   ],
   "source": [
    "acc, f1_macro, f1_weighted = test_classifier_acc(intent_classifier)\n",
    "intent_classifier.save(f'{model_path}ULMFiT_intent_full_class_subgroup_{acc.item()}')"
   ]
  },
  {
   "cell_type": "code",
   "execution_count": 60,
   "id": "173db6ef-a769-4cd0-bb27-b0d045c8ff7e",
   "metadata": {},
   "outputs": [
    {
     "data": {
      "text/html": [
       "\n",
       "<style>\n",
       "    /* Turns off some styling */\n",
       "    progress {\n",
       "        /* gets rid of default border in Firefox and Opera. */\n",
       "        border: none;\n",
       "        /* Needs to be in here for Safari polyfill so background images work as expected. */\n",
       "        background-size: auto;\n",
       "    }\n",
       "    progress:not([value]), progress:not([value])::-webkit-progress-bar {\n",
       "        background: repeating-linear-gradient(45deg, #7e7e7e, #7e7e7e 10px, #5c5c5c 10px, #5c5c5c 20px);\n",
       "    }\n",
       "    .progress-bar-interrupted, .progress-bar-interrupted::-webkit-progress-bar {\n",
       "        background: #F44336;\n",
       "    }\n",
       "</style>\n"
      ],
      "text/plain": [
       "<IPython.core.display.HTML object>"
      ]
     },
     "metadata": {},
     "output_type": "display_data"
    },
    {
     "data": {
      "text/html": [],
      "text/plain": [
       "<IPython.core.display.HTML object>"
      ]
     },
     "metadata": {},
     "output_type": "display_data"
    },
    {
     "data": {
      "text/html": [
       "\n",
       "<style>\n",
       "    /* Turns off some styling */\n",
       "    progress {\n",
       "        /* gets rid of default border in Firefox and Opera. */\n",
       "        border: none;\n",
       "        /* Needs to be in here for Safari polyfill so background images work as expected. */\n",
       "        background-size: auto;\n",
       "    }\n",
       "    progress:not([value]), progress:not([value])::-webkit-progress-bar {\n",
       "        background: repeating-linear-gradient(45deg, #7e7e7e, #7e7e7e 10px, #5c5c5c 10px, #5c5c5c 20px);\n",
       "    }\n",
       "    .progress-bar-interrupted, .progress-bar-interrupted::-webkit-progress-bar {\n",
       "        background: #F44336;\n",
       "    }\n",
       "</style>\n"
      ],
      "text/plain": [
       "<IPython.core.display.HTML object>"
      ]
     },
     "metadata": {},
     "output_type": "display_data"
    },
    {
     "data": {
      "text/html": [],
      "text/plain": [
       "<IPython.core.display.HTML object>"
      ]
     },
     "metadata": {},
     "output_type": "display_data"
    },
    {
     "data": {
      "image/png": "[encoded data removed]",
      "text/plain": [
       "<Figure size 640x480 with 1 Axes>"
      ]
     },
     "metadata": {},
     "output_type": "display_data"
    }
   ],
   "source": [
    "interp = ClassificationInterpretation.from_learner(intent_classifier)\n",
    "interp.plot_confusion_matrix()"
   ]
  },
  {
   "cell_type": "code",
   "execution_count": 61,
   "id": "3d4ccc52-b5eb-410c-a8f1-36eadf5c8277",
   "metadata": {},
   "outputs": [
    {
     "data": {
      "text/html": [
       "\n",
       "<style>\n",
       "    /* Turns off some styling */\n",
       "    progress {\n",
       "        /* gets rid of default border in Firefox and Opera. */\n",
       "        border: none;\n",
       "        /* Needs to be in here for Safari polyfill so background images work as expected. */\n",
       "        background-size: auto;\n",
       "    }\n",
       "    progress:not([value]), progress:not([value])::-webkit-progress-bar {\n",
       "        background: repeating-linear-gradient(45deg, #7e7e7e, #7e7e7e 10px, #5c5c5c 10px, #5c5c5c 20px);\n",
       "    }\n",
       "    .progress-bar-interrupted, .progress-bar-interrupted::-webkit-progress-bar {\n",
       "        background: #F44336;\n",
       "    }\n",
       "</style>\n"
      ],
      "text/plain": [
       "<IPython.core.display.HTML object>"
      ]
     },
     "metadata": {},
     "output_type": "display_data"
    },
    {
     "data": {
      "text/html": [],
      "text/plain": [
       "<IPython.core.display.HTML object>"
      ]
     },
     "metadata": {},
     "output_type": "display_data"
    },
    {
     "data": {
      "text/plain": [
       "('Cancelled Flight',\n",
       " tensor(2),\n",
       " tensor([1.8123e-04, 1.6201e-03, 9.0298e-01, 3.3803e-02, 2.7473e-04, 6.0614e-02,\n",
       "         2.6473e-04, 2.5961e-04]))"
      ]
     },
     "execution_count": 61,
     "metadata": {},
     "output_type": "execute_result"
    }
   ],
   "source": [
    "text = '@VirginAmerica How do I reschedule my Cancelled Flightled flights online? The change button is greyed out!'\n",
    "intent_classifier.predict(text)"
   ]
  },
  {
   "cell_type": "code",
   "execution_count": 62,
   "id": "6c30688e-3ff2-4163-8137-1bcf460824d6",
   "metadata": {},
   "outputs": [],
   "source": [
    "# all_clean_data['intent_pred'] = all_clean_data['text'].apply(lambda x: intent_classifier.predict(x))"
   ]
  },
  {
   "cell_type": "markdown",
   "id": "127430ed-1b7b-40a9-8665-465314c3a1b0",
   "metadata": {
    "tags": []
   },
   "source": [
    "### Train Sampled Classifier"
   ]
  },
  {
   "cell_type": "code",
   "execution_count": 63,
   "id": "dee9e14d-06d7-44cc-b95a-ce3949e86154",
   "metadata": {},
   "outputs": [],
   "source": [
    "neg_train_sampled = neg_train.groupby('intentGroup').apply(lambda x: x.sample(min(750, len(x)))).reset_index(drop=True)"
   ]
  },
  {
   "cell_type": "code",
   "execution_count": 65,
   "id": "e5f28ff7-a46e-4a0c-8ce2-80b1dc9c9a23",
   "metadata": {},
   "outputs": [
    {
     "data": {
      "text/html": [
       "\n",
       "<style>\n",
       "    /* Turns off some styling */\n",
       "    progress {\n",
       "        /* gets rid of default border in Firefox and Opera. */\n",
       "        border: none;\n",
       "        /* Needs to be in here for Safari polyfill so background images work as expected. */\n",
       "        background-size: auto;\n",
       "    }\n",
       "    progress:not([value]), progress:not([value])::-webkit-progress-bar {\n",
       "        background: repeating-linear-gradient(45deg, #7e7e7e, #7e7e7e 10px, #5c5c5c 10px, #5c5c5c 20px);\n",
       "    }\n",
       "    .progress-bar-interrupted, .progress-bar-interrupted::-webkit-progress-bar {\n",
       "        background: #F44336;\n",
       "    }\n",
       "</style>\n"
      ],
      "text/plain": [
       "<IPython.core.display.HTML object>"
      ]
     },
     "metadata": {},
     "output_type": "display_data"
    },
    {
     "data": {
      "text/html": [],
      "text/plain": [
       "<IPython.core.display.HTML object>"
      ]
     },
     "metadata": {},
     "output_type": "display_data"
    },
    {
     "data": {
      "text/html": [
       "<table border=\"1\" class=\"dataframe\">\n",
       "  <thead>\n",
       "    <tr style=\"text-align: right;\">\n",
       "      <th></th>\n",
       "      <th>text</th>\n",
       "      <th>category</th>\n",
       "    </tr>\n",
       "  </thead>\n",
       "  <tbody>\n",
       "    <tr>\n",
       "      <th>0</th>\n",
       "      <td>xxbos @ xxup where xxup is xxup my xxup fucking xxup bag ? ! ? ! xxmaj where the fuck is my fucking bag xxrep 3 ? xxup tell xxup me xxup now xxup or xxup give xxup me a xxup number xxup to xxup call a xxup human . xxup xxunk m</td>\n",
       "      <td>Luggage</td>\n",
       "    </tr>\n",
       "    <tr>\n",
       "      <th>1</th>\n",
       "      <td>xxbos @ xxup xxunk u xxup us xxup airways xxup with xxup yo xxup shitty xxup chicken xxup xxunk xxup sandwich xxup that xxup so xxup xxunk xxup and u xxup xxunk xxup make xxup me xxup wait xxup in a 6 xxup hr xxup layover xxup xxunk u xxup and</td>\n",
       "      <td>Bad Flight</td>\n",
       "    </tr>\n",
       "    <tr>\n",
       "      <th>2</th>\n",
       "      <td>xxbos @ @ 7 xxup weeks xxmaj late flightr xxup and i xxup still xxup have xxup not xxup received xxup my xxup miles xxup from xxup the mileageplus xxmaj gift xxmaj card $ 150 xxup xxunk xxup card i xxup handed xxup over xxrep 3 !</td>\n",
       "      <td>Flight Booking Problems</td>\n",
       "    </tr>\n",
       "    <tr>\n",
       "      <th>3</th>\n",
       "      <td>xxbos @ xxmaj united xxmaj club team is xxup a+ &amp; &amp; got me a seat xxmaj late xxmaj flightr . xxmaj still , not sure why a last min xxup ual xxmaj cancelled xxmaj flightlation costs me $ yet overbooked folks get $ ?</td>\n",
       "      <td>Flight Booking Problems</td>\n",
       "    </tr>\n",
       "  </tbody>\n",
       "</table>"
      ],
      "text/plain": [
       "<IPython.core.display.HTML object>"
      ]
     },
     "metadata": {},
     "output_type": "display_data"
    },
    {
     "data": {
      "text/html": [
       "\n",
       "<style>\n",
       "    /* Turns off some styling */\n",
       "    progress {\n",
       "        /* gets rid of default border in Firefox and Opera. */\n",
       "        border: none;\n",
       "        /* Needs to be in here for Safari polyfill so background images work as expected. */\n",
       "        background-size: auto;\n",
       "    }\n",
       "    progress:not([value]), progress:not([value])::-webkit-progress-bar {\n",
       "        background: repeating-linear-gradient(45deg, #7e7e7e, #7e7e7e 10px, #5c5c5c 10px, #5c5c5c 20px);\n",
       "    }\n",
       "    .progress-bar-interrupted, .progress-bar-interrupted::-webkit-progress-bar {\n",
       "        background: #F44336;\n",
       "    }\n",
       "</style>\n"
      ],
      "text/plain": [
       "<IPython.core.display.HTML object>"
      ]
     },
     "metadata": {},
     "output_type": "display_data"
    },
    {
     "data": {
      "text/html": [],
      "text/plain": [
       "<IPython.core.display.HTML object>"
      ]
     },
     "metadata": {},
     "output_type": "display_data"
    },
    {
     "data": {
      "text/html": [
       "\n",
       "<style>\n",
       "    /* Turns off some styling */\n",
       "    progress {\n",
       "        /* gets rid of default border in Firefox and Opera. */\n",
       "        border: none;\n",
       "        /* Needs to be in here for Safari polyfill so background images work as expected. */\n",
       "        background-size: auto;\n",
       "    }\n",
       "    progress:not([value]), progress:not([value])::-webkit-progress-bar {\n",
       "        background: repeating-linear-gradient(45deg, #7e7e7e, #7e7e7e 10px, #5c5c5c 10px, #5c5c5c 20px);\n",
       "    }\n",
       "    .progress-bar-interrupted, .progress-bar-interrupted::-webkit-progress-bar {\n",
       "        background: #F44336;\n",
       "    }\n",
       "</style>\n"
      ],
      "text/plain": [
       "<IPython.core.display.HTML object>"
      ]
     },
     "metadata": {},
     "output_type": "display_data"
    },
    {
     "data": {
      "text/html": [
       "<table border=\"1\" class=\"dataframe\">\n",
       "  <thead>\n",
       "    <tr style=\"text-align: left;\">\n",
       "      <th>epoch</th>\n",
       "      <th>train_loss</th>\n",
       "      <th>valid_loss</th>\n",
       "      <th>accuracy</th>\n",
       "      <th>perplexity</th>\n",
       "      <th>f1_score</th>\n",
       "      <th>f1_score</th>\n",
       "      <th>time</th>\n",
       "    </tr>\n",
       "  </thead>\n",
       "  <tbody>\n",
       "    <tr>\n",
       "      <td>0</td>\n",
       "      <td>1.581681</td>\n",
       "      <td>1.338479</td>\n",
       "      <td>0.547753</td>\n",
       "      <td>3.813241</td>\n",
       "      <td>0.527337</td>\n",
       "      <td>0.536785</td>\n",
       "      <td>00:03</td>\n",
       "    </tr>\n",
       "    <tr>\n",
       "      <td>1</td>\n",
       "      <td>1.389102</td>\n",
       "      <td>1.287899</td>\n",
       "      <td>0.577715</td>\n",
       "      <td>3.625161</td>\n",
       "      <td>0.561069</td>\n",
       "      <td>0.572531</td>\n",
       "      <td>00:03</td>\n",
       "    </tr>\n",
       "    <tr>\n",
       "      <td>2</td>\n",
       "      <td>1.264198</td>\n",
       "      <td>1.258395</td>\n",
       "      <td>0.584270</td>\n",
       "      <td>3.519768</td>\n",
       "      <td>0.568126</td>\n",
       "      <td>0.578454</td>\n",
       "      <td>00:02</td>\n",
       "    </tr>\n",
       "    <tr>\n",
       "      <td>3</td>\n",
       "      <td>1.182763</td>\n",
       "      <td>1.263362</td>\n",
       "      <td>0.580524</td>\n",
       "      <td>3.537295</td>\n",
       "      <td>0.563068</td>\n",
       "      <td>0.573957</td>\n",
       "      <td>00:02</td>\n",
       "    </tr>\n",
       "  </tbody>\n",
       "</table>"
      ],
      "text/plain": [
       "<IPython.core.display.HTML object>"
      ]
     },
     "metadata": {},
     "output_type": "display_data"
    },
    {
     "data": {
      "text/html": [
       "\n",
       "<style>\n",
       "    /* Turns off some styling */\n",
       "    progress {\n",
       "        /* gets rid of default border in Firefox and Opera. */\n",
       "        border: none;\n",
       "        /* Needs to be in here for Safari polyfill so background images work as expected. */\n",
       "        background-size: auto;\n",
       "    }\n",
       "    progress:not([value]), progress:not([value])::-webkit-progress-bar {\n",
       "        background: repeating-linear-gradient(45deg, #7e7e7e, #7e7e7e 10px, #5c5c5c 10px, #5c5c5c 20px);\n",
       "    }\n",
       "    .progress-bar-interrupted, .progress-bar-interrupted::-webkit-progress-bar {\n",
       "        background: #F44336;\n",
       "    }\n",
       "</style>\n"
      ],
      "text/plain": [
       "<IPython.core.display.HTML object>"
      ]
     },
     "metadata": {},
     "output_type": "display_data"
    },
    {
     "data": {
      "text/html": [],
      "text/plain": [
       "<IPython.core.display.HTML object>"
      ]
     },
     "metadata": {},
     "output_type": "display_data"
    },
    {
     "data": {
      "text/html": [
       "\n",
       "<style>\n",
       "    /* Turns off some styling */\n",
       "    progress {\n",
       "        /* gets rid of default border in Firefox and Opera. */\n",
       "        border: none;\n",
       "        /* Needs to be in here for Safari polyfill so background images work as expected. */\n",
       "        background-size: auto;\n",
       "    }\n",
       "    progress:not([value]), progress:not([value])::-webkit-progress-bar {\n",
       "        background: repeating-linear-gradient(45deg, #7e7e7e, #7e7e7e 10px, #5c5c5c 10px, #5c5c5c 20px);\n",
       "    }\n",
       "    .progress-bar-interrupted, .progress-bar-interrupted::-webkit-progress-bar {\n",
       "        background: #F44336;\n",
       "    }\n",
       "</style>\n"
      ],
      "text/plain": [
       "<IPython.core.display.HTML object>"
      ]
     },
     "metadata": {},
     "output_type": "display_data"
    },
    {
     "data": {
      "text/html": [
       "<table border=\"1\" class=\"dataframe\">\n",
       "  <thead>\n",
       "    <tr style=\"text-align: left;\">\n",
       "      <th>epoch</th>\n",
       "      <th>train_loss</th>\n",
       "      <th>valid_loss</th>\n",
       "      <th>accuracy</th>\n",
       "      <th>perplexity</th>\n",
       "      <th>f1_score</th>\n",
       "      <th>f1_score</th>\n",
       "      <th>time</th>\n",
       "    </tr>\n",
       "  </thead>\n",
       "  <tbody>\n",
       "    <tr>\n",
       "      <td>0</td>\n",
       "      <td>1.134923</td>\n",
       "      <td>1.252740</td>\n",
       "      <td>0.587079</td>\n",
       "      <td>3.499921</td>\n",
       "      <td>0.572676</td>\n",
       "      <td>0.582115</td>\n",
       "      <td>00:03</td>\n",
       "    </tr>\n",
       "    <tr>\n",
       "      <td>1</td>\n",
       "      <td>1.137633</td>\n",
       "      <td>1.271547</td>\n",
       "      <td>0.576779</td>\n",
       "      <td>3.566367</td>\n",
       "      <td>0.557590</td>\n",
       "      <td>0.568886</td>\n",
       "      <td>00:03</td>\n",
       "    </tr>\n",
       "    <tr>\n",
       "      <td>2</td>\n",
       "      <td>1.121814</td>\n",
       "      <td>1.253712</td>\n",
       "      <td>0.585206</td>\n",
       "      <td>3.503323</td>\n",
       "      <td>0.569463</td>\n",
       "      <td>0.579543</td>\n",
       "      <td>00:03</td>\n",
       "    </tr>\n",
       "    <tr>\n",
       "      <td>3</td>\n",
       "      <td>1.122712</td>\n",
       "      <td>1.251755</td>\n",
       "      <td>0.591760</td>\n",
       "      <td>3.496475</td>\n",
       "      <td>0.576533</td>\n",
       "      <td>0.585771</td>\n",
       "      <td>00:03</td>\n",
       "    </tr>\n",
       "  </tbody>\n",
       "</table>"
      ],
      "text/plain": [
       "<IPython.core.display.HTML object>"
      ]
     },
     "metadata": {},
     "output_type": "display_data"
    },
    {
     "data": {
      "text/html": [
       "\n",
       "<style>\n",
       "    /* Turns off some styling */\n",
       "    progress {\n",
       "        /* gets rid of default border in Firefox and Opera. */\n",
       "        border: none;\n",
       "        /* Needs to be in here for Safari polyfill so background images work as expected. */\n",
       "        background-size: auto;\n",
       "    }\n",
       "    progress:not([value]), progress:not([value])::-webkit-progress-bar {\n",
       "        background: repeating-linear-gradient(45deg, #7e7e7e, #7e7e7e 10px, #5c5c5c 10px, #5c5c5c 20px);\n",
       "    }\n",
       "    .progress-bar-interrupted, .progress-bar-interrupted::-webkit-progress-bar {\n",
       "        background: #F44336;\n",
       "    }\n",
       "</style>\n"
      ],
      "text/plain": [
       "<IPython.core.display.HTML object>"
      ]
     },
     "metadata": {},
     "output_type": "display_data"
    },
    {
     "data": {
      "text/html": [],
      "text/plain": [
       "<IPython.core.display.HTML object>"
      ]
     },
     "metadata": {},
     "output_type": "display_data"
    },
    {
     "data": {
      "text/html": [
       "\n",
       "<style>\n",
       "    /* Turns off some styling */\n",
       "    progress {\n",
       "        /* gets rid of default border in Firefox and Opera. */\n",
       "        border: none;\n",
       "        /* Needs to be in here for Safari polyfill so background images work as expected. */\n",
       "        background-size: auto;\n",
       "    }\n",
       "    progress:not([value]), progress:not([value])::-webkit-progress-bar {\n",
       "        background: repeating-linear-gradient(45deg, #7e7e7e, #7e7e7e 10px, #5c5c5c 10px, #5c5c5c 20px);\n",
       "    }\n",
       "    .progress-bar-interrupted, .progress-bar-interrupted::-webkit-progress-bar {\n",
       "        background: #F44336;\n",
       "    }\n",
       "</style>\n"
      ],
      "text/plain": [
       "<IPython.core.display.HTML object>"
      ]
     },
     "metadata": {},
     "output_type": "display_data"
    },
    {
     "data": {
      "text/html": [
       "<table border=\"1\" class=\"dataframe\">\n",
       "  <thead>\n",
       "    <tr style=\"text-align: left;\">\n",
       "      <th>epoch</th>\n",
       "      <th>train_loss</th>\n",
       "      <th>valid_loss</th>\n",
       "      <th>accuracy</th>\n",
       "      <th>perplexity</th>\n",
       "      <th>f1_score</th>\n",
       "      <th>f1_score</th>\n",
       "      <th>time</th>\n",
       "    </tr>\n",
       "  </thead>\n",
       "  <tbody>\n",
       "    <tr>\n",
       "      <td>0</td>\n",
       "      <td>1.136494</td>\n",
       "      <td>1.250974</td>\n",
       "      <td>0.585206</td>\n",
       "      <td>3.493743</td>\n",
       "      <td>0.570214</td>\n",
       "      <td>0.580095</td>\n",
       "      <td>00:04</td>\n",
       "    </tr>\n",
       "    <tr>\n",
       "      <td>1</td>\n",
       "      <td>1.104070</td>\n",
       "      <td>1.251397</td>\n",
       "      <td>0.596442</td>\n",
       "      <td>3.495221</td>\n",
       "      <td>0.583111</td>\n",
       "      <td>0.592447</td>\n",
       "      <td>00:03</td>\n",
       "    </tr>\n",
       "    <tr>\n",
       "      <td>2</td>\n",
       "      <td>1.013736</td>\n",
       "      <td>1.217428</td>\n",
       "      <td>0.598315</td>\n",
       "      <td>3.378487</td>\n",
       "      <td>0.586083</td>\n",
       "      <td>0.594778</td>\n",
       "      <td>00:03</td>\n",
       "    </tr>\n",
       "    <tr>\n",
       "      <td>3</td>\n",
       "      <td>0.917741</td>\n",
       "      <td>1.218833</td>\n",
       "      <td>0.592697</td>\n",
       "      <td>3.383237</td>\n",
       "      <td>0.579813</td>\n",
       "      <td>0.588239</td>\n",
       "      <td>00:03</td>\n",
       "    </tr>\n",
       "    <tr>\n",
       "      <td>4</td>\n",
       "      <td>0.845740</td>\n",
       "      <td>1.218610</td>\n",
       "      <td>0.601124</td>\n",
       "      <td>3.382483</td>\n",
       "      <td>0.586568</td>\n",
       "      <td>0.595982</td>\n",
       "      <td>00:03</td>\n",
       "    </tr>\n",
       "  </tbody>\n",
       "</table>"
      ],
      "text/plain": [
       "<IPython.core.display.HTML object>"
      ]
     },
     "metadata": {},
     "output_type": "display_data"
    },
    {
     "data": {
      "image/png": "[encoded data removed]",
      "text/plain": [
       "<Figure size 640x480 with 1 Axes>"
      ]
     },
     "metadata": {},
     "output_type": "display_data"
    },
    {
     "data": {
      "image/png": "[encoded data removed]",
      "text/plain": [
       "<Figure size 640x480 with 1 Axes>"
      ]
     },
     "metadata": {},
     "output_type": "display_data"
    },
    {
     "data": {
      "image/png": "[encoded data removed]",
      "text/plain": [
       "<Figure size 640x480 with 1 Axes>"
      ]
     },
     "metadata": {},
     "output_type": "display_data"
    }
   ],
   "source": [
    "acc = 'temp2'\n",
    "encoder_path = model_path + f'ULMFiT_fine_tuned_LM_full_clean_{acc}'\n",
    "epochs = (4, 4, 5)\n",
    "intent_sampled_classifier = train_classifier(neg_train_sampled, full_lang_dls_clean, encoder_path, label='intentGroup', epochs=epochs)"
   ]
  },
  {
   "cell_type": "code",
   "execution_count": 66,
   "id": "7bcef758-cd8f-4cd7-bb82-0987c3f4f769",
   "metadata": {},
   "outputs": [
    {
     "data": {
      "text/html": [
       "\n",
       "<style>\n",
       "    /* Turns off some styling */\n",
       "    progress {\n",
       "        /* gets rid of default border in Firefox and Opera. */\n",
       "        border: none;\n",
       "        /* Needs to be in here for Safari polyfill so background images work as expected. */\n",
       "        background-size: auto;\n",
       "    }\n",
       "    progress:not([value]), progress:not([value])::-webkit-progress-bar {\n",
       "        background: repeating-linear-gradient(45deg, #7e7e7e, #7e7e7e 10px, #5c5c5c 10px, #5c5c5c 20px);\n",
       "    }\n",
       "    .progress-bar-interrupted, .progress-bar-interrupted::-webkit-progress-bar {\n",
       "        background: #F44336;\n",
       "    }\n",
       "</style>\n"
      ],
      "text/plain": [
       "<IPython.core.display.HTML object>"
      ]
     },
     "metadata": {},
     "output_type": "display_data"
    },
    {
     "data": {
      "text/html": [],
      "text/plain": [
       "<IPython.core.display.HTML object>"
      ]
     },
     "metadata": {},
     "output_type": "display_data"
    },
    {
     "name": "stdout",
     "output_type": "stream",
     "text": [
      "              precision    recall  f1-score   support\n",
      "\n",
      "           0       0.51      0.50      0.51       123\n",
      "           1       0.52      0.42      0.46       159\n",
      "           2       0.76      0.79      0.77       150\n",
      "           3       0.57      0.53      0.55       138\n",
      "           4       0.57      0.44      0.49        94\n",
      "           5       0.51      0.58      0.54        92\n",
      "           6       0.58      0.70      0.63       161\n",
      "           7       0.70      0.77      0.74       151\n",
      "\n",
      "    accuracy                           0.60      1068\n",
      "   macro avg       0.59      0.59      0.59      1068\n",
      "weighted avg       0.60      0.60      0.60      1068\n",
      "\n",
      "TensorBase(0.6011)\n"
     ]
    }
   ],
   "source": [
    "acc, f1_macro, f1_weighted = test_classifier_acc(intent_sampled_classifier)\n",
    "print(acc)"
   ]
  },
  {
   "cell_type": "code",
   "execution_count": 67,
   "id": "aba3e91d-db6e-49f8-a9ed-37ec0bb1c7be",
   "metadata": {},
   "outputs": [
    {
     "data": {
      "text/html": [
       "\n",
       "<style>\n",
       "    /* Turns off some styling */\n",
       "    progress {\n",
       "        /* gets rid of default border in Firefox and Opera. */\n",
       "        border: none;\n",
       "        /* Needs to be in here for Safari polyfill so background images work as expected. */\n",
       "        background-size: auto;\n",
       "    }\n",
       "    progress:not([value]), progress:not([value])::-webkit-progress-bar {\n",
       "        background: repeating-linear-gradient(45deg, #7e7e7e, #7e7e7e 10px, #5c5c5c 10px, #5c5c5c 20px);\n",
       "    }\n",
       "    .progress-bar-interrupted, .progress-bar-interrupted::-webkit-progress-bar {\n",
       "        background: #F44336;\n",
       "    }\n",
       "</style>\n"
      ],
      "text/plain": [
       "<IPython.core.display.HTML object>"
      ]
     },
     "metadata": {},
     "output_type": "display_data"
    },
    {
     "data": {
      "text/html": [],
      "text/plain": [
       "<IPython.core.display.HTML object>"
      ]
     },
     "metadata": {},
     "output_type": "display_data"
    },
    {
     "name": "stdout",
     "output_type": "stream",
     "text": [
      "              precision    recall  f1-score   support\n",
      "\n",
      "           0       0.51      0.50      0.51       123\n",
      "           1       0.52      0.42      0.46       159\n",
      "           2       0.76      0.79      0.77       150\n",
      "           3       0.57      0.53      0.55       138\n",
      "           4       0.57      0.44      0.49        94\n",
      "           5       0.51      0.58      0.54        92\n",
      "           6       0.58      0.70      0.63       161\n",
      "           7       0.70      0.77      0.74       151\n",
      "\n",
      "    accuracy                           0.60      1068\n",
      "   macro avg       0.59      0.59      0.59      1068\n",
      "weighted avg       0.60      0.60      0.60      1068\n",
      "\n"
     ]
    },
    {
     "data": {
      "text/plain": [
       "Path('/home/jupyter/src/natalies-little-helper/models/ULMFiT_intent_full_class_subgroup_sample_0.601123571395874.pth')"
      ]
     },
     "execution_count": 67,
     "metadata": {},
     "output_type": "execute_result"
    }
   ],
   "source": [
    "acc, f1_macro, f1_weighted = test_classifier_acc(intent_sampled_classifier)\n",
    "intent_sampled_classifier.save(f'{model_path}ULMFiT_intent_full_class_subgroup_sample_{acc.item()}')"
   ]
  },
  {
   "cell_type": "code",
   "execution_count": 68,
   "id": "8d2b06b3-9145-41f7-bd14-f7f76d93bdd0",
   "metadata": {},
   "outputs": [
    {
     "data": {
      "text/html": [
       "\n",
       "<style>\n",
       "    /* Turns off some styling */\n",
       "    progress {\n",
       "        /* gets rid of default border in Firefox and Opera. */\n",
       "        border: none;\n",
       "        /* Needs to be in here for Safari polyfill so background images work as expected. */\n",
       "        background-size: auto;\n",
       "    }\n",
       "    progress:not([value]), progress:not([value])::-webkit-progress-bar {\n",
       "        background: repeating-linear-gradient(45deg, #7e7e7e, #7e7e7e 10px, #5c5c5c 10px, #5c5c5c 20px);\n",
       "    }\n",
       "    .progress-bar-interrupted, .progress-bar-interrupted::-webkit-progress-bar {\n",
       "        background: #F44336;\n",
       "    }\n",
       "</style>\n"
      ],
      "text/plain": [
       "<IPython.core.display.HTML object>"
      ]
     },
     "metadata": {},
     "output_type": "display_data"
    },
    {
     "data": {
      "text/html": [],
      "text/plain": [
       "<IPython.core.display.HTML object>"
      ]
     },
     "metadata": {},
     "output_type": "display_data"
    },
    {
     "data": {
      "text/html": [
       "\n",
       "<style>\n",
       "    /* Turns off some styling */\n",
       "    progress {\n",
       "        /* gets rid of default border in Firefox and Opera. */\n",
       "        border: none;\n",
       "        /* Needs to be in here for Safari polyfill so background images work as expected. */\n",
       "        background-size: auto;\n",
       "    }\n",
       "    progress:not([value]), progress:not([value])::-webkit-progress-bar {\n",
       "        background: repeating-linear-gradient(45deg, #7e7e7e, #7e7e7e 10px, #5c5c5c 10px, #5c5c5c 20px);\n",
       "    }\n",
       "    .progress-bar-interrupted, .progress-bar-interrupted::-webkit-progress-bar {\n",
       "        background: #F44336;\n",
       "    }\n",
       "</style>\n"
      ],
      "text/plain": [
       "<IPython.core.display.HTML object>"
      ]
     },
     "metadata": {},
     "output_type": "display_data"
    },
    {
     "data": {
      "text/html": [],
      "text/plain": [
       "<IPython.core.display.HTML object>"
      ]
     },
     "metadata": {},
     "output_type": "display_data"
    },
    {
     "data": {
      "image/png": "[encoded data removed]",
      "text/plain": [
       "<Figure size 640x480 with 1 Axes>"
      ]
     },
     "metadata": {},
     "output_type": "display_data"
    }
   ],
   "source": [
    "interp = ClassificationInterpretation.from_learner(intent_sampled_classifier)\n",
    "interp.plot_confusion_matrix()"
   ]
  },
  {
   "cell_type": "code",
   "execution_count": 69,
   "id": "038c0380-3f49-4128-91da-7d512b94af9d",
   "metadata": {},
   "outputs": [
    {
     "data": {
      "text/html": [
       "\n",
       "<style>\n",
       "    /* Turns off some styling */\n",
       "    progress {\n",
       "        /* gets rid of default border in Firefox and Opera. */\n",
       "        border: none;\n",
       "        /* Needs to be in here for Safari polyfill so background images work as expected. */\n",
       "        background-size: auto;\n",
       "    }\n",
       "    progress:not([value]), progress:not([value])::-webkit-progress-bar {\n",
       "        background: repeating-linear-gradient(45deg, #7e7e7e, #7e7e7e 10px, #5c5c5c 10px, #5c5c5c 20px);\n",
       "    }\n",
       "    .progress-bar-interrupted, .progress-bar-interrupted::-webkit-progress-bar {\n",
       "        background: #F44336;\n",
       "    }\n",
       "</style>\n"
      ],
      "text/plain": [
       "<IPython.core.display.HTML object>"
      ]
     },
     "metadata": {},
     "output_type": "display_data"
    },
    {
     "data": {
      "text/html": [],
      "text/plain": [
       "<IPython.core.display.HTML object>"
      ]
     },
     "metadata": {},
     "output_type": "display_data"
    },
    {
     "data": {
      "text/plain": [
       "('Cancelled Flight',\n",
       " tensor(2),\n",
       " tensor([2.4412e-04, 1.9991e-03, 9.0565e-01, 3.8417e-02, 2.3661e-04, 5.2305e-02,\n",
       "         9.0259e-04, 2.4796e-04]))"
      ]
     },
     "execution_count": 69,
     "metadata": {},
     "output_type": "execute_result"
    }
   ],
   "source": [
    "text = '@VirginAmerica How do I reschedule my Cancelled Flightled flights online? The change button is greyed out!'\n",
    "intent_sampled_classifier.predict(text)"
   ]
  },
  {
   "cell_type": "code",
   "execution_count": 70,
   "id": "a0a26ffc-954b-41d4-b0ac-5c1b4f3cb480",
   "metadata": {},
   "outputs": [],
   "source": [
    "# all_clean_data['intent_sampled_pred'] = all_clean_data['text'].apply(lambda x: intent_sampled_classifier.predict(x))"
   ]
  },
  {
   "cell_type": "markdown",
   "id": "b3e7dd09-f307-4f24-b3f2-b5e929d4d497",
   "metadata": {
    "tags": []
   },
   "source": [
    "## Master Groups"
   ]
  },
  {
   "cell_type": "code",
   "execution_count": 71,
   "id": "fd77c44b-3cf1-46a1-9d2f-187f1dcb8157",
   "metadata": {},
   "outputs": [],
   "source": [
    "intentMasterGroups = {\n",
    "    'Customer Service Issue': 'Customer Service',\n",
    "    'Late Flight': 'Flights',\n",
    "    'Cancelled Flight': 'Flights',\n",
    "    'Lost Luggage': 'Luggage',\n",
    "    'Bad Flight': 'Flights',\n",
    "    'Flight Booking Problems': 'Customer Service',\n",
    "    'Flight Attendant Complaints': 'Customer Service',\n",
    "    'longlines': 'Customer Service',\n",
    "    'Damaged Luggage': 'Luggage',\n",
    "    'Can\\'t Tell': 'Can\\'t Tell'\n",
    "}\n",
    "\n",
    "neg_train['intentMasterGroups'] = neg_train.negativereason.apply(lambda x: intentMasterGroups[x])"
   ]
  },
  {
   "cell_type": "markdown",
   "id": "bad9c2da-4639-4c9c-add1-e4ee0aec6b84",
   "metadata": {
    "tags": []
   },
   "source": [
    "### Train Classifier"
   ]
  },
  {
   "cell_type": "code",
   "execution_count": 72,
   "id": "a3d64f36-9ffd-4f11-8cd4-305e107a8a7f",
   "metadata": {},
   "outputs": [
    {
     "data": {
      "text/html": [
       "\n",
       "<style>\n",
       "    /* Turns off some styling */\n",
       "    progress {\n",
       "        /* gets rid of default border in Firefox and Opera. */\n",
       "        border: none;\n",
       "        /* Needs to be in here for Safari polyfill so background images work as expected. */\n",
       "        background-size: auto;\n",
       "    }\n",
       "    progress:not([value]), progress:not([value])::-webkit-progress-bar {\n",
       "        background: repeating-linear-gradient(45deg, #7e7e7e, #7e7e7e 10px, #5c5c5c 10px, #5c5c5c 20px);\n",
       "    }\n",
       "    .progress-bar-interrupted, .progress-bar-interrupted::-webkit-progress-bar {\n",
       "        background: #F44336;\n",
       "    }\n",
       "</style>\n"
      ],
      "text/plain": [
       "<IPython.core.display.HTML object>"
      ]
     },
     "metadata": {},
     "output_type": "display_data"
    },
    {
     "data": {
      "text/html": [],
      "text/plain": [
       "<IPython.core.display.HTML object>"
      ]
     },
     "metadata": {},
     "output_type": "display_data"
    },
    {
     "data": {
      "text/html": [
       "<table border=\"1\" class=\"dataframe\">\n",
       "  <thead>\n",
       "    <tr style=\"text-align: right;\">\n",
       "      <th></th>\n",
       "      <th>text</th>\n",
       "      <th>category</th>\n",
       "    </tr>\n",
       "  </thead>\n",
       "  <tbody>\n",
       "    <tr>\n",
       "      <th>0</th>\n",
       "      <td>xxbos @ xxup where xxup is xxup my xxup fucking xxup bag ? ! ? ! xxmaj where the fuck is my fucking bag xxrep 3 ? xxup tell xxup me xxup now xxup or xxup give xxup me a xxup number xxup to xxup call a xxup human . xxup xxunk m</td>\n",
       "      <td>Luggage</td>\n",
       "    </tr>\n",
       "    <tr>\n",
       "      <th>1</th>\n",
       "      <td>xxbos @ i ❤ ️ xxmaj jetblue but i was on flt xxunk from fll to sfo . xxunk off was over 1 hr xxmaj late xxmaj flight , div to phx &amp; &amp; got in 2 hrs xxmaj late xxmaj flight . xxmaj what will be done ?</td>\n",
       "      <td>Flights</td>\n",
       "    </tr>\n",
       "    <tr>\n",
       "      <th>2</th>\n",
       "      <td>xxbos @ xxup xxunk from xxup ric , xxup xxunk from xxup ord , &amp; &amp; xxup xxunk from xxup den xxunk xxup delayed for non - weather issues . xxmaj way to go , you re batting 1 . xxrep 3 0 ! xxmaj but no hotels</td>\n",
       "      <td>Flights</td>\n",
       "    </tr>\n",
       "    <tr>\n",
       "      <th>3</th>\n",
       "      <td>xxbos .@ ( 2 / 3 ) … i sat on the runway for 4 xxup more xxup hrs b4 takeoff ( 10 hrs xxmaj late xxmaj flight , xxunk xxup am ) . xxmaj pilot xxunk stated it was a comp / mech issue .</td>\n",
       "      <td>Flights</td>\n",
       "    </tr>\n",
       "  </tbody>\n",
       "</table>"
      ],
      "text/plain": [
       "<IPython.core.display.HTML object>"
      ]
     },
     "metadata": {},
     "output_type": "display_data"
    },
    {
     "data": {
      "text/html": [
       "\n",
       "<style>\n",
       "    /* Turns off some styling */\n",
       "    progress {\n",
       "        /* gets rid of default border in Firefox and Opera. */\n",
       "        border: none;\n",
       "        /* Needs to be in here for Safari polyfill so background images work as expected. */\n",
       "        background-size: auto;\n",
       "    }\n",
       "    progress:not([value]), progress:not([value])::-webkit-progress-bar {\n",
       "        background: repeating-linear-gradient(45deg, #7e7e7e, #7e7e7e 10px, #5c5c5c 10px, #5c5c5c 20px);\n",
       "    }\n",
       "    .progress-bar-interrupted, .progress-bar-interrupted::-webkit-progress-bar {\n",
       "        background: #F44336;\n",
       "    }\n",
       "</style>\n"
      ],
      "text/plain": [
       "<IPython.core.display.HTML object>"
      ]
     },
     "metadata": {},
     "output_type": "display_data"
    },
    {
     "data": {
      "text/html": [],
      "text/plain": [
       "<IPython.core.display.HTML object>"
      ]
     },
     "metadata": {},
     "output_type": "display_data"
    },
    {
     "data": {
      "text/html": [
       "\n",
       "<style>\n",
       "    /* Turns off some styling */\n",
       "    progress {\n",
       "        /* gets rid of default border in Firefox and Opera. */\n",
       "        border: none;\n",
       "        /* Needs to be in here for Safari polyfill so background images work as expected. */\n",
       "        background-size: auto;\n",
       "    }\n",
       "    progress:not([value]), progress:not([value])::-webkit-progress-bar {\n",
       "        background: repeating-linear-gradient(45deg, #7e7e7e, #7e7e7e 10px, #5c5c5c 10px, #5c5c5c 20px);\n",
       "    }\n",
       "    .progress-bar-interrupted, .progress-bar-interrupted::-webkit-progress-bar {\n",
       "        background: #F44336;\n",
       "    }\n",
       "</style>\n"
      ],
      "text/plain": [
       "<IPython.core.display.HTML object>"
      ]
     },
     "metadata": {},
     "output_type": "display_data"
    },
    {
     "data": {
      "text/html": [
       "<table border=\"1\" class=\"dataframe\">\n",
       "  <thead>\n",
       "    <tr style=\"text-align: left;\">\n",
       "      <th>epoch</th>\n",
       "      <th>train_loss</th>\n",
       "      <th>valid_loss</th>\n",
       "      <th>accuracy</th>\n",
       "      <th>perplexity</th>\n",
       "      <th>f1_score</th>\n",
       "      <th>f1_score</th>\n",
       "      <th>time</th>\n",
       "    </tr>\n",
       "  </thead>\n",
       "  <tbody>\n",
       "    <tr>\n",
       "      <td>0</td>\n",
       "      <td>1.065920</td>\n",
       "      <td>0.898869</td>\n",
       "      <td>0.659945</td>\n",
       "      <td>2.456822</td>\n",
       "      <td>0.594022</td>\n",
       "      <td>0.659530</td>\n",
       "      <td>00:04</td>\n",
       "    </tr>\n",
       "    <tr>\n",
       "      <td>1</td>\n",
       "      <td>0.919912</td>\n",
       "      <td>0.794766</td>\n",
       "      <td>0.690463</td>\n",
       "      <td>2.213924</td>\n",
       "      <td>0.612680</td>\n",
       "      <td>0.679971</td>\n",
       "      <td>00:04</td>\n",
       "    </tr>\n",
       "    <tr>\n",
       "      <td>2</td>\n",
       "      <td>0.821691</td>\n",
       "      <td>0.755383</td>\n",
       "      <td>0.698093</td>\n",
       "      <td>2.128427</td>\n",
       "      <td>0.625485</td>\n",
       "      <td>0.687282</td>\n",
       "      <td>00:04</td>\n",
       "    </tr>\n",
       "    <tr>\n",
       "      <td>3</td>\n",
       "      <td>0.786993</td>\n",
       "      <td>0.743036</td>\n",
       "      <td>0.702997</td>\n",
       "      <td>2.102309</td>\n",
       "      <td>0.629627</td>\n",
       "      <td>0.691487</td>\n",
       "      <td>00:04</td>\n",
       "    </tr>\n",
       "  </tbody>\n",
       "</table>"
      ],
      "text/plain": [
       "<IPython.core.display.HTML object>"
      ]
     },
     "metadata": {},
     "output_type": "display_data"
    },
    {
     "data": {
      "text/html": [
       "\n",
       "<style>\n",
       "    /* Turns off some styling */\n",
       "    progress {\n",
       "        /* gets rid of default border in Firefox and Opera. */\n",
       "        border: none;\n",
       "        /* Needs to be in here for Safari polyfill so background images work as expected. */\n",
       "        background-size: auto;\n",
       "    }\n",
       "    progress:not([value]), progress:not([value])::-webkit-progress-bar {\n",
       "        background: repeating-linear-gradient(45deg, #7e7e7e, #7e7e7e 10px, #5c5c5c 10px, #5c5c5c 20px);\n",
       "    }\n",
       "    .progress-bar-interrupted, .progress-bar-interrupted::-webkit-progress-bar {\n",
       "        background: #F44336;\n",
       "    }\n",
       "</style>\n"
      ],
      "text/plain": [
       "<IPython.core.display.HTML object>"
      ]
     },
     "metadata": {},
     "output_type": "display_data"
    },
    {
     "data": {
      "text/html": [],
      "text/plain": [
       "<IPython.core.display.HTML object>"
      ]
     },
     "metadata": {},
     "output_type": "display_data"
    },
    {
     "data": {
      "text/html": [
       "\n",
       "<style>\n",
       "    /* Turns off some styling */\n",
       "    progress {\n",
       "        /* gets rid of default border in Firefox and Opera. */\n",
       "        border: none;\n",
       "        /* Needs to be in here for Safari polyfill so background images work as expected. */\n",
       "        background-size: auto;\n",
       "    }\n",
       "    progress:not([value]), progress:not([value])::-webkit-progress-bar {\n",
       "        background: repeating-linear-gradient(45deg, #7e7e7e, #7e7e7e 10px, #5c5c5c 10px, #5c5c5c 20px);\n",
       "    }\n",
       "    .progress-bar-interrupted, .progress-bar-interrupted::-webkit-progress-bar {\n",
       "        background: #F44336;\n",
       "    }\n",
       "</style>\n"
      ],
      "text/plain": [
       "<IPython.core.display.HTML object>"
      ]
     },
     "metadata": {},
     "output_type": "display_data"
    },
    {
     "data": {
      "text/html": [
       "<table border=\"1\" class=\"dataframe\">\n",
       "  <thead>\n",
       "    <tr style=\"text-align: left;\">\n",
       "      <th>epoch</th>\n",
       "      <th>train_loss</th>\n",
       "      <th>valid_loss</th>\n",
       "      <th>accuracy</th>\n",
       "      <th>perplexity</th>\n",
       "      <th>f1_score</th>\n",
       "      <th>f1_score</th>\n",
       "      <th>time</th>\n",
       "    </tr>\n",
       "  </thead>\n",
       "  <tbody>\n",
       "    <tr>\n",
       "      <td>0</td>\n",
       "      <td>0.766338</td>\n",
       "      <td>0.742361</td>\n",
       "      <td>0.710082</td>\n",
       "      <td>2.100890</td>\n",
       "      <td>0.629722</td>\n",
       "      <td>0.693871</td>\n",
       "      <td>00:04</td>\n",
       "    </tr>\n",
       "    <tr>\n",
       "      <td>1</td>\n",
       "      <td>0.752859</td>\n",
       "      <td>0.747334</td>\n",
       "      <td>0.706812</td>\n",
       "      <td>2.111364</td>\n",
       "      <td>0.632720</td>\n",
       "      <td>0.694896</td>\n",
       "      <td>00:04</td>\n",
       "    </tr>\n",
       "    <tr>\n",
       "      <td>2</td>\n",
       "      <td>0.749900</td>\n",
       "      <td>0.742846</td>\n",
       "      <td>0.707902</td>\n",
       "      <td>2.101910</td>\n",
       "      <td>0.640473</td>\n",
       "      <td>0.698621</td>\n",
       "      <td>00:04</td>\n",
       "    </tr>\n",
       "    <tr>\n",
       "      <td>3</td>\n",
       "      <td>0.752372</td>\n",
       "      <td>0.741865</td>\n",
       "      <td>0.705722</td>\n",
       "      <td>2.099849</td>\n",
       "      <td>0.632294</td>\n",
       "      <td>0.693748</td>\n",
       "      <td>00:04</td>\n",
       "    </tr>\n",
       "  </tbody>\n",
       "</table>"
      ],
      "text/plain": [
       "<IPython.core.display.HTML object>"
      ]
     },
     "metadata": {},
     "output_type": "display_data"
    },
    {
     "data": {
      "text/html": [
       "\n",
       "<style>\n",
       "    /* Turns off some styling */\n",
       "    progress {\n",
       "        /* gets rid of default border in Firefox and Opera. */\n",
       "        border: none;\n",
       "        /* Needs to be in here for Safari polyfill so background images work as expected. */\n",
       "        background-size: auto;\n",
       "    }\n",
       "    progress:not([value]), progress:not([value])::-webkit-progress-bar {\n",
       "        background: repeating-linear-gradient(45deg, #7e7e7e, #7e7e7e 10px, #5c5c5c 10px, #5c5c5c 20px);\n",
       "    }\n",
       "    .progress-bar-interrupted, .progress-bar-interrupted::-webkit-progress-bar {\n",
       "        background: #F44336;\n",
       "    }\n",
       "</style>\n"
      ],
      "text/plain": [
       "<IPython.core.display.HTML object>"
      ]
     },
     "metadata": {},
     "output_type": "display_data"
    },
    {
     "data": {
      "text/html": [],
      "text/plain": [
       "<IPython.core.display.HTML object>"
      ]
     },
     "metadata": {},
     "output_type": "display_data"
    },
    {
     "data": {
      "text/html": [
       "\n",
       "<style>\n",
       "    /* Turns off some styling */\n",
       "    progress {\n",
       "        /* gets rid of default border in Firefox and Opera. */\n",
       "        border: none;\n",
       "        /* Needs to be in here for Safari polyfill so background images work as expected. */\n",
       "        background-size: auto;\n",
       "    }\n",
       "    progress:not([value]), progress:not([value])::-webkit-progress-bar {\n",
       "        background: repeating-linear-gradient(45deg, #7e7e7e, #7e7e7e 10px, #5c5c5c 10px, #5c5c5c 20px);\n",
       "    }\n",
       "    .progress-bar-interrupted, .progress-bar-interrupted::-webkit-progress-bar {\n",
       "        background: #F44336;\n",
       "    }\n",
       "</style>\n"
      ],
      "text/plain": [
       "<IPython.core.display.HTML object>"
      ]
     },
     "metadata": {},
     "output_type": "display_data"
    },
    {
     "data": {
      "text/html": [
       "<table border=\"1\" class=\"dataframe\">\n",
       "  <thead>\n",
       "    <tr style=\"text-align: left;\">\n",
       "      <th>epoch</th>\n",
       "      <th>train_loss</th>\n",
       "      <th>valid_loss</th>\n",
       "      <th>accuracy</th>\n",
       "      <th>perplexity</th>\n",
       "      <th>f1_score</th>\n",
       "      <th>f1_score</th>\n",
       "      <th>time</th>\n",
       "    </tr>\n",
       "  </thead>\n",
       "  <tbody>\n",
       "    <tr>\n",
       "      <td>0</td>\n",
       "      <td>0.739740</td>\n",
       "      <td>0.736483</td>\n",
       "      <td>0.702452</td>\n",
       "      <td>2.088578</td>\n",
       "      <td>0.622674</td>\n",
       "      <td>0.687391</td>\n",
       "      <td>00:06</td>\n",
       "    </tr>\n",
       "    <tr>\n",
       "      <td>1</td>\n",
       "      <td>0.744761</td>\n",
       "      <td>0.706777</td>\n",
       "      <td>0.718256</td>\n",
       "      <td>2.027446</td>\n",
       "      <td>0.644901</td>\n",
       "      <td>0.704105</td>\n",
       "      <td>00:06</td>\n",
       "    </tr>\n",
       "    <tr>\n",
       "      <td>2</td>\n",
       "      <td>0.693870</td>\n",
       "      <td>0.690674</td>\n",
       "      <td>0.724796</td>\n",
       "      <td>1.995060</td>\n",
       "      <td>0.659026</td>\n",
       "      <td>0.711902</td>\n",
       "      <td>00:06</td>\n",
       "    </tr>\n",
       "    <tr>\n",
       "      <td>3</td>\n",
       "      <td>0.638685</td>\n",
       "      <td>0.696021</td>\n",
       "      <td>0.731880</td>\n",
       "      <td>2.005755</td>\n",
       "      <td>0.663960</td>\n",
       "      <td>0.718167</td>\n",
       "      <td>00:06</td>\n",
       "    </tr>\n",
       "    <tr>\n",
       "      <td>4</td>\n",
       "      <td>0.554611</td>\n",
       "      <td>0.683055</td>\n",
       "      <td>0.736240</td>\n",
       "      <td>1.979918</td>\n",
       "      <td>0.673614</td>\n",
       "      <td>0.724754</td>\n",
       "      <td>00:06</td>\n",
       "    </tr>\n",
       "    <tr>\n",
       "      <td>5</td>\n",
       "      <td>0.497930</td>\n",
       "      <td>0.707572</td>\n",
       "      <td>0.731880</td>\n",
       "      <td>2.029059</td>\n",
       "      <td>0.676284</td>\n",
       "      <td>0.723983</td>\n",
       "      <td>00:05</td>\n",
       "    </tr>\n",
       "    <tr>\n",
       "      <td>6</td>\n",
       "      <td>0.436906</td>\n",
       "      <td>0.707753</td>\n",
       "      <td>0.742779</td>\n",
       "      <td>2.029426</td>\n",
       "      <td>0.683598</td>\n",
       "      <td>0.733830</td>\n",
       "      <td>00:05</td>\n",
       "    </tr>\n",
       "    <tr>\n",
       "      <td>7</td>\n",
       "      <td>0.398255</td>\n",
       "      <td>0.707663</td>\n",
       "      <td>0.733515</td>\n",
       "      <td>2.029243</td>\n",
       "      <td>0.680022</td>\n",
       "      <td>0.726940</td>\n",
       "      <td>00:06</td>\n",
       "    </tr>\n",
       "    <tr>\n",
       "      <td>8</td>\n",
       "      <td>0.390628</td>\n",
       "      <td>0.707395</td>\n",
       "      <td>0.736240</td>\n",
       "      <td>2.028699</td>\n",
       "      <td>0.682862</td>\n",
       "      <td>0.729894</td>\n",
       "      <td>00:05</td>\n",
       "    </tr>\n",
       "  </tbody>\n",
       "</table>"
      ],
      "text/plain": [
       "<IPython.core.display.HTML object>"
      ]
     },
     "metadata": {},
     "output_type": "display_data"
    },
    {
     "data": {
      "image/png": "[encoded data removed]",
      "text/plain": [
       "<Figure size 640x480 with 1 Axes>"
      ]
     },
     "metadata": {},
     "output_type": "display_data"
    },
    {
     "data": {
      "image/png": "[encoded data removed]",
      "text/plain": [
       "<Figure size 640x480 with 1 Axes>"
      ]
     },
     "metadata": {},
     "output_type": "display_data"
    },
    {
     "data": {
      "image/png": "[encoded data removed]",
      "text/plain": [
       "<Figure size 640x480 with 1 Axes>"
      ]
     },
     "metadata": {},
     "output_type": "display_data"
    }
   ],
   "source": [
    "acc = 'temp2'\n",
    "encoder_path = model_path + f'ULMFiT_fine_tuned_LM_full_clean_{acc}'\n",
    "intent_master_classifier = train_classifier(neg_train, full_lang_dls_clean, encoder_path, label='intentMasterGroups')"
   ]
  },
  {
   "cell_type": "code",
   "execution_count": 73,
   "id": "ee2102bf-c411-48f8-8db3-a0c7fd45d753",
   "metadata": {},
   "outputs": [
    {
     "data": {
      "text/html": [
       "\n",
       "<style>\n",
       "    /* Turns off some styling */\n",
       "    progress {\n",
       "        /* gets rid of default border in Firefox and Opera. */\n",
       "        border: none;\n",
       "        /* Needs to be in here for Safari polyfill so background images work as expected. */\n",
       "        background-size: auto;\n",
       "    }\n",
       "    progress:not([value]), progress:not([value])::-webkit-progress-bar {\n",
       "        background: repeating-linear-gradient(45deg, #7e7e7e, #7e7e7e 10px, #5c5c5c 10px, #5c5c5c 20px);\n",
       "    }\n",
       "    .progress-bar-interrupted, .progress-bar-interrupted::-webkit-progress-bar {\n",
       "        background: #F44336;\n",
       "    }\n",
       "</style>\n"
      ],
      "text/plain": [
       "<IPython.core.display.HTML object>"
      ]
     },
     "metadata": {},
     "output_type": "display_data"
    },
    {
     "data": {
      "text/html": [],
      "text/plain": [
       "<IPython.core.display.HTML object>"
      ]
     },
     "metadata": {},
     "output_type": "display_data"
    },
    {
     "name": "stdout",
     "output_type": "stream",
     "text": [
      "              precision    recall  f1-score   support\n",
      "\n",
      "           0       0.49      0.35      0.41       229\n",
      "           1       0.77      0.79      0.78       849\n",
      "           2       0.74      0.80      0.77       606\n",
      "           3       0.79      0.75      0.77       151\n",
      "\n",
      "    accuracy                           0.74      1835\n",
      "   macro avg       0.70      0.67      0.68      1835\n",
      "weighted avg       0.73      0.74      0.73      1835\n",
      "\n",
      "TensorBase(0.7362)\n"
     ]
    }
   ],
   "source": [
    "acc, f1_macro, f1_weighted = test_classifier_acc(intent_master_classifier)\n",
    "print(acc)"
   ]
  },
  {
   "cell_type": "code",
   "execution_count": 74,
   "id": "ff38dc89-d249-4110-b483-64ba52cce925",
   "metadata": {},
   "outputs": [
    {
     "data": {
      "text/html": [
       "\n",
       "<style>\n",
       "    /* Turns off some styling */\n",
       "    progress {\n",
       "        /* gets rid of default border in Firefox and Opera. */\n",
       "        border: none;\n",
       "        /* Needs to be in here for Safari polyfill so background images work as expected. */\n",
       "        background-size: auto;\n",
       "    }\n",
       "    progress:not([value]), progress:not([value])::-webkit-progress-bar {\n",
       "        background: repeating-linear-gradient(45deg, #7e7e7e, #7e7e7e 10px, #5c5c5c 10px, #5c5c5c 20px);\n",
       "    }\n",
       "    .progress-bar-interrupted, .progress-bar-interrupted::-webkit-progress-bar {\n",
       "        background: #F44336;\n",
       "    }\n",
       "</style>\n"
      ],
      "text/plain": [
       "<IPython.core.display.HTML object>"
      ]
     },
     "metadata": {},
     "output_type": "display_data"
    },
    {
     "data": {
      "text/html": [],
      "text/plain": [
       "<IPython.core.display.HTML object>"
      ]
     },
     "metadata": {},
     "output_type": "display_data"
    },
    {
     "name": "stdout",
     "output_type": "stream",
     "text": [
      "              precision    recall  f1-score   support\n",
      "\n",
      "           0       0.49      0.35      0.41       229\n",
      "           1       0.77      0.79      0.78       849\n",
      "           2       0.74      0.80      0.77       606\n",
      "           3       0.79      0.75      0.77       151\n",
      "\n",
      "    accuracy                           0.74      1835\n",
      "   macro avg       0.70      0.67      0.68      1835\n",
      "weighted avg       0.73      0.74      0.73      1835\n",
      "\n"
     ]
    },
    {
     "data": {
      "text/plain": [
       "Path('/home/jupyter/src/natalies-little-helper/models/ULMFiT_intent_full_class_mastergroup_0.7362397909164429.pth')"
      ]
     },
     "execution_count": 74,
     "metadata": {},
     "output_type": "execute_result"
    }
   ],
   "source": [
    "acc, f1_macro, f1_weighted = test_classifier_acc(intent_master_classifier)\n",
    "intent_master_classifier.save(f'{model_path}ULMFiT_intent_full_class_mastergroup_{acc.item()}')"
   ]
  },
  {
   "cell_type": "code",
   "execution_count": 75,
   "id": "11fc52f3-329d-417f-bb17-bb4bf8526fa5",
   "metadata": {},
   "outputs": [
    {
     "data": {
      "text/html": [
       "\n",
       "<style>\n",
       "    /* Turns off some styling */\n",
       "    progress {\n",
       "        /* gets rid of default border in Firefox and Opera. */\n",
       "        border: none;\n",
       "        /* Needs to be in here for Safari polyfill so background images work as expected. */\n",
       "        background-size: auto;\n",
       "    }\n",
       "    progress:not([value]), progress:not([value])::-webkit-progress-bar {\n",
       "        background: repeating-linear-gradient(45deg, #7e7e7e, #7e7e7e 10px, #5c5c5c 10px, #5c5c5c 20px);\n",
       "    }\n",
       "    .progress-bar-interrupted, .progress-bar-interrupted::-webkit-progress-bar {\n",
       "        background: #F44336;\n",
       "    }\n",
       "</style>\n"
      ],
      "text/plain": [
       "<IPython.core.display.HTML object>"
      ]
     },
     "metadata": {},
     "output_type": "display_data"
    },
    {
     "data": {
      "text/html": [],
      "text/plain": [
       "<IPython.core.display.HTML object>"
      ]
     },
     "metadata": {},
     "output_type": "display_data"
    },
    {
     "data": {
      "text/html": [
       "\n",
       "<style>\n",
       "    /* Turns off some styling */\n",
       "    progress {\n",
       "        /* gets rid of default border in Firefox and Opera. */\n",
       "        border: none;\n",
       "        /* Needs to be in here for Safari polyfill so background images work as expected. */\n",
       "        background-size: auto;\n",
       "    }\n",
       "    progress:not([value]), progress:not([value])::-webkit-progress-bar {\n",
       "        background: repeating-linear-gradient(45deg, #7e7e7e, #7e7e7e 10px, #5c5c5c 10px, #5c5c5c 20px);\n",
       "    }\n",
       "    .progress-bar-interrupted, .progress-bar-interrupted::-webkit-progress-bar {\n",
       "        background: #F44336;\n",
       "    }\n",
       "</style>\n"
      ],
      "text/plain": [
       "<IPython.core.display.HTML object>"
      ]
     },
     "metadata": {},
     "output_type": "display_data"
    },
    {
     "data": {
      "text/html": [],
      "text/plain": [
       "<IPython.core.display.HTML object>"
      ]
     },
     "metadata": {},
     "output_type": "display_data"
    },
    {
     "data": {
      "image/png": "[encoded data removed]",
      "text/plain": [
       "<Figure size 640x480 with 1 Axes>"
      ]
     },
     "metadata": {},
     "output_type": "display_data"
    }
   ],
   "source": [
    "interp = ClassificationInterpretation.from_learner(intent_master_classifier)\n",
    "interp.plot_confusion_matrix()"
   ]
  },
  {
   "cell_type": "code",
   "execution_count": 76,
   "id": "51d0486b-5e27-46cd-9923-8382ac6dcdfd",
   "metadata": {},
   "outputs": [
    {
     "data": {
      "text/html": [
       "\n",
       "<style>\n",
       "    /* Turns off some styling */\n",
       "    progress {\n",
       "        /* gets rid of default border in Firefox and Opera. */\n",
       "        border: none;\n",
       "        /* Needs to be in here for Safari polyfill so background images work as expected. */\n",
       "        background-size: auto;\n",
       "    }\n",
       "    progress:not([value]), progress:not([value])::-webkit-progress-bar {\n",
       "        background: repeating-linear-gradient(45deg, #7e7e7e, #7e7e7e 10px, #5c5c5c 10px, #5c5c5c 20px);\n",
       "    }\n",
       "    .progress-bar-interrupted, .progress-bar-interrupted::-webkit-progress-bar {\n",
       "        background: #F44336;\n",
       "    }\n",
       "</style>\n"
      ],
      "text/plain": [
       "<IPython.core.display.HTML object>"
      ]
     },
     "metadata": {},
     "output_type": "display_data"
    },
    {
     "data": {
      "text/html": [],
      "text/plain": [
       "<IPython.core.display.HTML object>"
      ]
     },
     "metadata": {},
     "output_type": "display_data"
    },
    {
     "data": {
      "text/plain": [
       "('Flights',\n",
       " tensor(2),\n",
       " tensor([8.0775e-04, 1.6693e-01, 8.3214e-01, 1.3109e-04]))"
      ]
     },
     "execution_count": 76,
     "metadata": {},
     "output_type": "execute_result"
    }
   ],
   "source": [
    "text = '@VirginAmerica How do I reschedule my Cancelled Flightled flights online? The change button is greyed out!'\n",
    "intent_master_classifier.predict(text)"
   ]
  },
  {
   "cell_type": "code",
   "execution_count": 77,
   "id": "8b11fba2-c678-461e-b38b-d01156752606",
   "metadata": {},
   "outputs": [],
   "source": [
    "# all_clean_data['intent_mastergroup_pred'] = all_clean_data['text'].apply(lambda x: intent_master_classifier.predict(x))"
   ]
  },
  {
   "cell_type": "markdown",
   "id": "68a1e29c-42b3-43fc-8ef7-86583ea88b46",
   "metadata": {
    "tags": []
   },
   "source": [
    "### Train Sampled Classifier"
   ]
  },
  {
   "cell_type": "code",
   "execution_count": 78,
   "id": "39b0279a-b4d1-4f37-bd8d-6b07f703ce11",
   "metadata": {},
   "outputs": [],
   "source": [
    "neg_train_master_sampled = neg_train.groupby('intentMasterGroups').apply(lambda x: x.sample(min(1000, len(x)))).reset_index(drop=True)"
   ]
  },
  {
   "cell_type": "code",
   "execution_count": 79,
   "id": "bf10d8f9-355d-4a5b-8132-f566d203b7b8",
   "metadata": {},
   "outputs": [
    {
     "data": {
      "text/html": [
       "\n",
       "<style>\n",
       "    /* Turns off some styling */\n",
       "    progress {\n",
       "        /* gets rid of default border in Firefox and Opera. */\n",
       "        border: none;\n",
       "        /* Needs to be in here for Safari polyfill so background images work as expected. */\n",
       "        background-size: auto;\n",
       "    }\n",
       "    progress:not([value]), progress:not([value])::-webkit-progress-bar {\n",
       "        background: repeating-linear-gradient(45deg, #7e7e7e, #7e7e7e 10px, #5c5c5c 10px, #5c5c5c 20px);\n",
       "    }\n",
       "    .progress-bar-interrupted, .progress-bar-interrupted::-webkit-progress-bar {\n",
       "        background: #F44336;\n",
       "    }\n",
       "</style>\n"
      ],
      "text/plain": [
       "<IPython.core.display.HTML object>"
      ]
     },
     "metadata": {},
     "output_type": "display_data"
    },
    {
     "data": {
      "text/html": [],
      "text/plain": [
       "<IPython.core.display.HTML object>"
      ]
     },
     "metadata": {},
     "output_type": "display_data"
    },
    {
     "data": {
      "text/html": [
       "<table border=\"1\" class=\"dataframe\">\n",
       "  <thead>\n",
       "    <tr style=\"text-align: right;\">\n",
       "      <th></th>\n",
       "      <th>text</th>\n",
       "      <th>category</th>\n",
       "    </tr>\n",
       "  </thead>\n",
       "  <tbody>\n",
       "    <tr>\n",
       "      <th>0</th>\n",
       "      <td>xxbos @ xxup where xxup is xxup my xxup fucking xxup bag ? ! ? ! xxmaj where the fuck is my fucking bag xxrep 3 ? xxup tell xxup me xxup now xxup or xxup give xxup me a xxup number xxup to xxup call a xxup human . xxup xxunk m</td>\n",
       "      <td>Luggage</td>\n",
       "    </tr>\n",
       "    <tr>\n",
       "      <th>1</th>\n",
       "      <td>xxbos @ xxmaj hey , xxup aa ! xxmaj there was a mistake made by your xxup cr on my xxmaj flight xxmaj booking xxmaj problems . xxmaj when i call your reservations # , i keep getting hung up on . xxmaj advise .</td>\n",
       "      <td>Customer Service</td>\n",
       "    </tr>\n",
       "    <tr>\n",
       "      <th>2</th>\n",
       "      <td>xxbos @ no delay . i pay $ xxrep 3 7 xxunk for xxup bs xxup a1 ticket . xxmaj you boarded flight early . xxmaj i 'm last to board . xxmaj now have middle seat . xxmaj wasted xxrep 4 $ !</td>\n",
       "      <td>Flights</td>\n",
       "    </tr>\n",
       "    <tr>\n",
       "      <th>3</th>\n",
       "      <td>xxbos @ xxmaj customer service is dead . xxmaj last xxunk , flts delayed / xxmaj cancelled xxmaj flighted . xxmaj bags lost 4 days . xxmaj last nt , flt delayed / xxmaj cancelled xxmaj flighted . xxmaj no meal voucher ?</td>\n",
       "      <td>Customer Service</td>\n",
       "    </tr>\n",
       "  </tbody>\n",
       "</table>"
      ],
      "text/plain": [
       "<IPython.core.display.HTML object>"
      ]
     },
     "metadata": {},
     "output_type": "display_data"
    },
    {
     "data": {
      "text/html": [
       "\n",
       "<style>\n",
       "    /* Turns off some styling */\n",
       "    progress {\n",
       "        /* gets rid of default border in Firefox and Opera. */\n",
       "        border: none;\n",
       "        /* Needs to be in here for Safari polyfill so background images work as expected. */\n",
       "        background-size: auto;\n",
       "    }\n",
       "    progress:not([value]), progress:not([value])::-webkit-progress-bar {\n",
       "        background: repeating-linear-gradient(45deg, #7e7e7e, #7e7e7e 10px, #5c5c5c 10px, #5c5c5c 20px);\n",
       "    }\n",
       "    .progress-bar-interrupted, .progress-bar-interrupted::-webkit-progress-bar {\n",
       "        background: #F44336;\n",
       "    }\n",
       "</style>\n"
      ],
      "text/plain": [
       "<IPython.core.display.HTML object>"
      ]
     },
     "metadata": {},
     "output_type": "display_data"
    },
    {
     "data": {
      "text/html": [],
      "text/plain": [
       "<IPython.core.display.HTML object>"
      ]
     },
     "metadata": {},
     "output_type": "display_data"
    },
    {
     "data": {
      "text/html": [
       "\n",
       "<style>\n",
       "    /* Turns off some styling */\n",
       "    progress {\n",
       "        /* gets rid of default border in Firefox and Opera. */\n",
       "        border: none;\n",
       "        /* Needs to be in here for Safari polyfill so background images work as expected. */\n",
       "        background-size: auto;\n",
       "    }\n",
       "    progress:not([value]), progress:not([value])::-webkit-progress-bar {\n",
       "        background: repeating-linear-gradient(45deg, #7e7e7e, #7e7e7e 10px, #5c5c5c 10px, #5c5c5c 20px);\n",
       "    }\n",
       "    .progress-bar-interrupted, .progress-bar-interrupted::-webkit-progress-bar {\n",
       "        background: #F44336;\n",
       "    }\n",
       "</style>\n"
      ],
      "text/plain": [
       "<IPython.core.display.HTML object>"
      ]
     },
     "metadata": {},
     "output_type": "display_data"
    },
    {
     "data": {
      "text/html": [
       "<table border=\"1\" class=\"dataframe\">\n",
       "  <thead>\n",
       "    <tr style=\"text-align: left;\">\n",
       "      <th>epoch</th>\n",
       "      <th>train_loss</th>\n",
       "      <th>valid_loss</th>\n",
       "      <th>accuracy</th>\n",
       "      <th>perplexity</th>\n",
       "      <th>f1_score</th>\n",
       "      <th>f1_score</th>\n",
       "      <th>time</th>\n",
       "    </tr>\n",
       "  </thead>\n",
       "  <tbody>\n",
       "    <tr>\n",
       "      <td>0</td>\n",
       "      <td>1.168400</td>\n",
       "      <td>0.927343</td>\n",
       "      <td>0.644269</td>\n",
       "      <td>2.527783</td>\n",
       "      <td>0.644147</td>\n",
       "      <td>0.641502</td>\n",
       "      <td>00:02</td>\n",
       "    </tr>\n",
       "    <tr>\n",
       "      <td>1</td>\n",
       "      <td>1.011833</td>\n",
       "      <td>0.880700</td>\n",
       "      <td>0.638999</td>\n",
       "      <td>2.412587</td>\n",
       "      <td>0.639993</td>\n",
       "      <td>0.636126</td>\n",
       "      <td>00:03</td>\n",
       "    </tr>\n",
       "    <tr>\n",
       "      <td>2</td>\n",
       "      <td>0.923809</td>\n",
       "      <td>0.860689</td>\n",
       "      <td>0.657444</td>\n",
       "      <td>2.364791</td>\n",
       "      <td>0.659059</td>\n",
       "      <td>0.655975</td>\n",
       "      <td>00:03</td>\n",
       "    </tr>\n",
       "    <tr>\n",
       "      <td>3</td>\n",
       "      <td>0.875322</td>\n",
       "      <td>0.865917</td>\n",
       "      <td>0.657444</td>\n",
       "      <td>2.377184</td>\n",
       "      <td>0.656793</td>\n",
       "      <td>0.653782</td>\n",
       "      <td>00:02</td>\n",
       "    </tr>\n",
       "  </tbody>\n",
       "</table>"
      ],
      "text/plain": [
       "<IPython.core.display.HTML object>"
      ]
     },
     "metadata": {},
     "output_type": "display_data"
    },
    {
     "data": {
      "text/html": [
       "\n",
       "<style>\n",
       "    /* Turns off some styling */\n",
       "    progress {\n",
       "        /* gets rid of default border in Firefox and Opera. */\n",
       "        border: none;\n",
       "        /* Needs to be in here for Safari polyfill so background images work as expected. */\n",
       "        background-size: auto;\n",
       "    }\n",
       "    progress:not([value]), progress:not([value])::-webkit-progress-bar {\n",
       "        background: repeating-linear-gradient(45deg, #7e7e7e, #7e7e7e 10px, #5c5c5c 10px, #5c5c5c 20px);\n",
       "    }\n",
       "    .progress-bar-interrupted, .progress-bar-interrupted::-webkit-progress-bar {\n",
       "        background: #F44336;\n",
       "    }\n",
       "</style>\n"
      ],
      "text/plain": [
       "<IPython.core.display.HTML object>"
      ]
     },
     "metadata": {},
     "output_type": "display_data"
    },
    {
     "data": {
      "text/html": [],
      "text/plain": [
       "<IPython.core.display.HTML object>"
      ]
     },
     "metadata": {},
     "output_type": "display_data"
    },
    {
     "data": {
      "text/html": [
       "\n",
       "<style>\n",
       "    /* Turns off some styling */\n",
       "    progress {\n",
       "        /* gets rid of default border in Firefox and Opera. */\n",
       "        border: none;\n",
       "        /* Needs to be in here for Safari polyfill so background images work as expected. */\n",
       "        background-size: auto;\n",
       "    }\n",
       "    progress:not([value]), progress:not([value])::-webkit-progress-bar {\n",
       "        background: repeating-linear-gradient(45deg, #7e7e7e, #7e7e7e 10px, #5c5c5c 10px, #5c5c5c 20px);\n",
       "    }\n",
       "    .progress-bar-interrupted, .progress-bar-interrupted::-webkit-progress-bar {\n",
       "        background: #F44336;\n",
       "    }\n",
       "</style>\n"
      ],
      "text/plain": [
       "<IPython.core.display.HTML object>"
      ]
     },
     "metadata": {},
     "output_type": "display_data"
    },
    {
     "data": {
      "text/html": [
       "<table border=\"1\" class=\"dataframe\">\n",
       "  <thead>\n",
       "    <tr style=\"text-align: left;\">\n",
       "      <th>epoch</th>\n",
       "      <th>train_loss</th>\n",
       "      <th>valid_loss</th>\n",
       "      <th>accuracy</th>\n",
       "      <th>perplexity</th>\n",
       "      <th>f1_score</th>\n",
       "      <th>f1_score</th>\n",
       "      <th>time</th>\n",
       "    </tr>\n",
       "  </thead>\n",
       "  <tbody>\n",
       "    <tr>\n",
       "      <td>0</td>\n",
       "      <td>0.848858</td>\n",
       "      <td>0.863393</td>\n",
       "      <td>0.660079</td>\n",
       "      <td>2.371192</td>\n",
       "      <td>0.661132</td>\n",
       "      <td>0.657932</td>\n",
       "      <td>00:02</td>\n",
       "    </tr>\n",
       "    <tr>\n",
       "      <td>1</td>\n",
       "      <td>0.838044</td>\n",
       "      <td>0.859304</td>\n",
       "      <td>0.660079</td>\n",
       "      <td>2.361516</td>\n",
       "      <td>0.661396</td>\n",
       "      <td>0.657936</td>\n",
       "      <td>00:02</td>\n",
       "    </tr>\n",
       "    <tr>\n",
       "      <td>2</td>\n",
       "      <td>0.831205</td>\n",
       "      <td>0.860973</td>\n",
       "      <td>0.664032</td>\n",
       "      <td>2.365460</td>\n",
       "      <td>0.664994</td>\n",
       "      <td>0.662083</td>\n",
       "      <td>00:02</td>\n",
       "    </tr>\n",
       "    <tr>\n",
       "      <td>3</td>\n",
       "      <td>0.823512</td>\n",
       "      <td>0.861250</td>\n",
       "      <td>0.657444</td>\n",
       "      <td>2.366117</td>\n",
       "      <td>0.658703</td>\n",
       "      <td>0.655323</td>\n",
       "      <td>00:02</td>\n",
       "    </tr>\n",
       "  </tbody>\n",
       "</table>"
      ],
      "text/plain": [
       "<IPython.core.display.HTML object>"
      ]
     },
     "metadata": {},
     "output_type": "display_data"
    },
    {
     "data": {
      "text/html": [
       "\n",
       "<style>\n",
       "    /* Turns off some styling */\n",
       "    progress {\n",
       "        /* gets rid of default border in Firefox and Opera. */\n",
       "        border: none;\n",
       "        /* Needs to be in here for Safari polyfill so background images work as expected. */\n",
       "        background-size: auto;\n",
       "    }\n",
       "    progress:not([value]), progress:not([value])::-webkit-progress-bar {\n",
       "        background: repeating-linear-gradient(45deg, #7e7e7e, #7e7e7e 10px, #5c5c5c 10px, #5c5c5c 20px);\n",
       "    }\n",
       "    .progress-bar-interrupted, .progress-bar-interrupted::-webkit-progress-bar {\n",
       "        background: #F44336;\n",
       "    }\n",
       "</style>\n"
      ],
      "text/plain": [
       "<IPython.core.display.HTML object>"
      ]
     },
     "metadata": {},
     "output_type": "display_data"
    },
    {
     "data": {
      "text/html": [],
      "text/plain": [
       "<IPython.core.display.HTML object>"
      ]
     },
     "metadata": {},
     "output_type": "display_data"
    },
    {
     "data": {
      "text/html": [
       "\n",
       "<style>\n",
       "    /* Turns off some styling */\n",
       "    progress {\n",
       "        /* gets rid of default border in Firefox and Opera. */\n",
       "        border: none;\n",
       "        /* Needs to be in here for Safari polyfill so background images work as expected. */\n",
       "        background-size: auto;\n",
       "    }\n",
       "    progress:not([value]), progress:not([value])::-webkit-progress-bar {\n",
       "        background: repeating-linear-gradient(45deg, #7e7e7e, #7e7e7e 10px, #5c5c5c 10px, #5c5c5c 20px);\n",
       "    }\n",
       "    .progress-bar-interrupted, .progress-bar-interrupted::-webkit-progress-bar {\n",
       "        background: #F44336;\n",
       "    }\n",
       "</style>\n"
      ],
      "text/plain": [
       "<IPython.core.display.HTML object>"
      ]
     },
     "metadata": {},
     "output_type": "display_data"
    },
    {
     "data": {
      "text/html": [
       "<table border=\"1\" class=\"dataframe\">\n",
       "  <thead>\n",
       "    <tr style=\"text-align: left;\">\n",
       "      <th>epoch</th>\n",
       "      <th>train_loss</th>\n",
       "      <th>valid_loss</th>\n",
       "      <th>accuracy</th>\n",
       "      <th>perplexity</th>\n",
       "      <th>f1_score</th>\n",
       "      <th>f1_score</th>\n",
       "      <th>time</th>\n",
       "    </tr>\n",
       "  </thead>\n",
       "  <tbody>\n",
       "    <tr>\n",
       "      <td>0</td>\n",
       "      <td>0.842472</td>\n",
       "      <td>0.845318</td>\n",
       "      <td>0.648221</td>\n",
       "      <td>2.328717</td>\n",
       "      <td>0.651440</td>\n",
       "      <td>0.647998</td>\n",
       "      <td>00:03</td>\n",
       "    </tr>\n",
       "    <tr>\n",
       "      <td>1</td>\n",
       "      <td>0.827054</td>\n",
       "      <td>0.829170</td>\n",
       "      <td>0.678524</td>\n",
       "      <td>2.291417</td>\n",
       "      <td>0.680733</td>\n",
       "      <td>0.676412</td>\n",
       "      <td>00:03</td>\n",
       "    </tr>\n",
       "    <tr>\n",
       "      <td>2</td>\n",
       "      <td>0.754511</td>\n",
       "      <td>0.798967</td>\n",
       "      <td>0.689065</td>\n",
       "      <td>2.223244</td>\n",
       "      <td>0.690925</td>\n",
       "      <td>0.687154</td>\n",
       "      <td>00:03</td>\n",
       "    </tr>\n",
       "    <tr>\n",
       "      <td>3</td>\n",
       "      <td>0.674844</td>\n",
       "      <td>0.799820</td>\n",
       "      <td>0.703557</td>\n",
       "      <td>2.225140</td>\n",
       "      <td>0.706240</td>\n",
       "      <td>0.703212</td>\n",
       "      <td>00:03</td>\n",
       "    </tr>\n",
       "    <tr>\n",
       "      <td>4</td>\n",
       "      <td>0.616618</td>\n",
       "      <td>0.805618</td>\n",
       "      <td>0.700922</td>\n",
       "      <td>2.238080</td>\n",
       "      <td>0.702601</td>\n",
       "      <td>0.698803</td>\n",
       "      <td>00:03</td>\n",
       "    </tr>\n",
       "  </tbody>\n",
       "</table>"
      ],
      "text/plain": [
       "<IPython.core.display.HTML object>"
      ]
     },
     "metadata": {},
     "output_type": "display_data"
    },
    {
     "data": {
      "image/png": "[encoded data removed]",
      "text/plain": [
       "<Figure size 640x480 with 1 Axes>"
      ]
     },
     "metadata": {},
     "output_type": "display_data"
    },
    {
     "data": {
      "image/png": "[encoded data removed]",
      "text/plain": [
       "<Figure size 640x480 with 1 Axes>"
      ]
     },
     "metadata": {},
     "output_type": "display_data"
    },
    {
     "data": {
      "image/png": "[encoded data removed]",
      "text/plain": [
       "<Figure size 640x480 with 1 Axes>"
      ]
     },
     "metadata": {},
     "output_type": "display_data"
    }
   ],
   "source": [
    "acc = 'temp2'\n",
    "encoder_path = model_path + f'ULMFiT_fine_tuned_LM_full_clean_{acc}'\n",
    "epochs = (4, 4, 5)\n",
    "intent_master_sampled_classifier = train_classifier(neg_train_master_sampled, full_lang_dls_clean, encoder_path, label='intentMasterGroups', epochs=epochs)"
   ]
  },
  {
   "cell_type": "code",
   "execution_count": 80,
   "id": "7d87f465-0515-4dd8-80af-3872513767d9",
   "metadata": {},
   "outputs": [
    {
     "data": {
      "text/html": [
       "\n",
       "<style>\n",
       "    /* Turns off some styling */\n",
       "    progress {\n",
       "        /* gets rid of default border in Firefox and Opera. */\n",
       "        border: none;\n",
       "        /* Needs to be in here for Safari polyfill so background images work as expected. */\n",
       "        background-size: auto;\n",
       "    }\n",
       "    progress:not([value]), progress:not([value])::-webkit-progress-bar {\n",
       "        background: repeating-linear-gradient(45deg, #7e7e7e, #7e7e7e 10px, #5c5c5c 10px, #5c5c5c 20px);\n",
       "    }\n",
       "    .progress-bar-interrupted, .progress-bar-interrupted::-webkit-progress-bar {\n",
       "        background: #F44336;\n",
       "    }\n",
       "</style>\n"
      ],
      "text/plain": [
       "<IPython.core.display.HTML object>"
      ]
     },
     "metadata": {},
     "output_type": "display_data"
    },
    {
     "data": {
      "text/html": [],
      "text/plain": [
       "<IPython.core.display.HTML object>"
      ]
     },
     "metadata": {},
     "output_type": "display_data"
    },
    {
     "name": "stdout",
     "output_type": "stream",
     "text": [
      "              precision    recall  f1-score   support\n",
      "\n",
      "           0       0.63      0.62      0.63       189\n",
      "           1       0.68      0.61      0.65       201\n",
      "           2       0.71      0.75      0.73       204\n",
      "           3       0.78      0.84      0.81       165\n",
      "\n",
      "    accuracy                           0.70       759\n",
      "   macro avg       0.70      0.71      0.70       759\n",
      "weighted avg       0.70      0.70      0.70       759\n",
      "\n",
      "TensorBase(0.7009)\n"
     ]
    }
   ],
   "source": [
    "acc, f1_macro, f1_weighted = test_classifier_acc(intent_master_sampled_classifier)\n",
    "print(acc)"
   ]
  },
  {
   "cell_type": "code",
   "execution_count": 81,
   "id": "4bf4f599-1cc9-4de8-be7d-fa1773831762",
   "metadata": {},
   "outputs": [
    {
     "data": {
      "text/html": [
       "\n",
       "<style>\n",
       "    /* Turns off some styling */\n",
       "    progress {\n",
       "        /* gets rid of default border in Firefox and Opera. */\n",
       "        border: none;\n",
       "        /* Needs to be in here for Safari polyfill so background images work as expected. */\n",
       "        background-size: auto;\n",
       "    }\n",
       "    progress:not([value]), progress:not([value])::-webkit-progress-bar {\n",
       "        background: repeating-linear-gradient(45deg, #7e7e7e, #7e7e7e 10px, #5c5c5c 10px, #5c5c5c 20px);\n",
       "    }\n",
       "    .progress-bar-interrupted, .progress-bar-interrupted::-webkit-progress-bar {\n",
       "        background: #F44336;\n",
       "    }\n",
       "</style>\n"
      ],
      "text/plain": [
       "<IPython.core.display.HTML object>"
      ]
     },
     "metadata": {},
     "output_type": "display_data"
    },
    {
     "data": {
      "text/html": [],
      "text/plain": [
       "<IPython.core.display.HTML object>"
      ]
     },
     "metadata": {},
     "output_type": "display_data"
    },
    {
     "name": "stdout",
     "output_type": "stream",
     "text": [
      "              precision    recall  f1-score   support\n",
      "\n",
      "           0       0.63      0.62      0.63       189\n",
      "           1       0.68      0.61      0.65       201\n",
      "           2       0.71      0.75      0.73       204\n",
      "           3       0.78      0.84      0.81       165\n",
      "\n",
      "    accuracy                           0.70       759\n",
      "   macro avg       0.70      0.71      0.70       759\n",
      "weighted avg       0.70      0.70      0.70       759\n",
      "\n"
     ]
    },
    {
     "data": {
      "text/plain": [
       "Path('/home/jupyter/src/natalies-little-helper/models/ULMFiT_intent_full_class_matergroup_sample_0.7009222507476807.pth')"
      ]
     },
     "execution_count": 81,
     "metadata": {},
     "output_type": "execute_result"
    }
   ],
   "source": [
    "acc, f1_macro, f1_weighted = test_classifier_acc(intent_master_sampled_classifier)\n",
    "intent_master_sampled_classifier.save(f'{model_path}ULMFiT_intent_full_class_matergroup_sample_{acc.item()}')"
   ]
  },
  {
   "cell_type": "code",
   "execution_count": 82,
   "id": "0fb7d383-f0ba-4e11-a8df-a5bed9bebe65",
   "metadata": {},
   "outputs": [
    {
     "data": {
      "text/html": [
       "\n",
       "<style>\n",
       "    /* Turns off some styling */\n",
       "    progress {\n",
       "        /* gets rid of default border in Firefox and Opera. */\n",
       "        border: none;\n",
       "        /* Needs to be in here for Safari polyfill so background images work as expected. */\n",
       "        background-size: auto;\n",
       "    }\n",
       "    progress:not([value]), progress:not([value])::-webkit-progress-bar {\n",
       "        background: repeating-linear-gradient(45deg, #7e7e7e, #7e7e7e 10px, #5c5c5c 10px, #5c5c5c 20px);\n",
       "    }\n",
       "    .progress-bar-interrupted, .progress-bar-interrupted::-webkit-progress-bar {\n",
       "        background: #F44336;\n",
       "    }\n",
       "</style>\n"
      ],
      "text/plain": [
       "<IPython.core.display.HTML object>"
      ]
     },
     "metadata": {},
     "output_type": "display_data"
    },
    {
     "data": {
      "text/html": [],
      "text/plain": [
       "<IPython.core.display.HTML object>"
      ]
     },
     "metadata": {},
     "output_type": "display_data"
    },
    {
     "data": {
      "text/html": [
       "\n",
       "<style>\n",
       "    /* Turns off some styling */\n",
       "    progress {\n",
       "        /* gets rid of default border in Firefox and Opera. */\n",
       "        border: none;\n",
       "        /* Needs to be in here for Safari polyfill so background images work as expected. */\n",
       "        background-size: auto;\n",
       "    }\n",
       "    progress:not([value]), progress:not([value])::-webkit-progress-bar {\n",
       "        background: repeating-linear-gradient(45deg, #7e7e7e, #7e7e7e 10px, #5c5c5c 10px, #5c5c5c 20px);\n",
       "    }\n",
       "    .progress-bar-interrupted, .progress-bar-interrupted::-webkit-progress-bar {\n",
       "        background: #F44336;\n",
       "    }\n",
       "</style>\n"
      ],
      "text/plain": [
       "<IPython.core.display.HTML object>"
      ]
     },
     "metadata": {},
     "output_type": "display_data"
    },
    {
     "data": {
      "text/html": [],
      "text/plain": [
       "<IPython.core.display.HTML object>"
      ]
     },
     "metadata": {},
     "output_type": "display_data"
    },
    {
     "data": {
      "image/png": "[encoded data removed]",
      "text/plain": [
       "<Figure size 640x480 with 1 Axes>"
      ]
     },
     "metadata": {},
     "output_type": "display_data"
    }
   ],
   "source": [
    "interp = ClassificationInterpretation.from_learner(intent_master_sampled_classifier)\n",
    "interp.plot_confusion_matrix()"
   ]
  },
  {
   "cell_type": "code",
   "execution_count": 83,
   "id": "eb463682-8739-45be-b145-29d5e9bf0cb6",
   "metadata": {},
   "outputs": [
    {
     "data": {
      "text/html": [
       "\n",
       "<style>\n",
       "    /* Turns off some styling */\n",
       "    progress {\n",
       "        /* gets rid of default border in Firefox and Opera. */\n",
       "        border: none;\n",
       "        /* Needs to be in here for Safari polyfill so background images work as expected. */\n",
       "        background-size: auto;\n",
       "    }\n",
       "    progress:not([value]), progress:not([value])::-webkit-progress-bar {\n",
       "        background: repeating-linear-gradient(45deg, #7e7e7e, #7e7e7e 10px, #5c5c5c 10px, #5c5c5c 20px);\n",
       "    }\n",
       "    .progress-bar-interrupted, .progress-bar-interrupted::-webkit-progress-bar {\n",
       "        background: #F44336;\n",
       "    }\n",
       "</style>\n"
      ],
      "text/plain": [
       "<IPython.core.display.HTML object>"
      ]
     },
     "metadata": {},
     "output_type": "display_data"
    },
    {
     "data": {
      "text/html": [],
      "text/plain": [
       "<IPython.core.display.HTML object>"
      ]
     },
     "metadata": {},
     "output_type": "display_data"
    },
    {
     "data": {
      "text/plain": [
       "('Flights', tensor(2), tensor([0.0102, 0.1783, 0.8070, 0.0045]))"
      ]
     },
     "execution_count": 83,
     "metadata": {},
     "output_type": "execute_result"
    }
   ],
   "source": [
    "text = '@VirginAmerica How do I reschedule my Cancelled Flightled flights online? The change button is greyed out!'\n",
    "intent_master_sampled_classifier.predict(text)"
   ]
  },
  {
   "cell_type": "code",
   "execution_count": 84,
   "id": "2d810f66-f73d-4e24-82e8-c4f1ac9ef038",
   "metadata": {},
   "outputs": [],
   "source": [
    "# all_clean_data['intent_sampled_pred'] = all_clean_data['text'].apply(lambda x: intent_sampled_classifier.predict(x))"
   ]
  },
  {
   "cell_type": "markdown",
   "id": "e9128134-2128-4fe5-91de-48a7a821a8fa",
   "metadata": {
    "jp-MarkdownHeadingCollapsed": true,
    "tags": []
   },
   "source": [
    "## Store Models"
   ]
  },
  {
   "cell_type": "code",
   "execution_count": null,
   "id": "a29ee94a-2f63-4510-baf2-b8a67db822cc",
   "metadata": {},
   "outputs": [],
   "source": [
    "print(os.getcwd())"
   ]
  },
  {
   "cell_type": "code",
   "execution_count": null,
   "id": "61c3f143-8508-4163-b82e-4597c47bac01",
   "metadata": {},
   "outputs": [],
   "source": [
    "intent_classifier.path = (Path(os.getcwd())).parent.absolute() / 'models' / 'ULMFiT' / 'final'\n",
    "intent_classifier.export('intent_classifier.pkl')"
   ]
  },
  {
   "cell_type": "code",
   "execution_count": null,
   "id": "d2a206d7-aa5a-421e-8d24-cd3280cc78fc",
   "metadata": {},
   "outputs": [],
   "source": [
    "intent_sampled_classifier.path = (Path(os.getcwd())).parent.absolute() / 'models' / 'ULMFiT' / 'final'\n",
    "intent_sampled_classifier.export('intent_sampled_classifier.pkl')"
   ]
  },
  {
   "cell_type": "code",
   "execution_count": null,
   "id": "fb0cff98-b7db-491a-ab19-1e5e08c0505f",
   "metadata": {},
   "outputs": [],
   "source": [
    "intent_master_classifier.path = (Path(os.getcwd())).parent.absolute() / 'models' / 'ULMFiT' / 'final'\n",
    "intent_master_classifier.export('intent_master_classifier.pkl')"
   ]
  },
  {
   "cell_type": "code",
   "execution_count": null,
   "id": "d61de025-9f7d-4b97-9ff9-0efb55f3a5c9",
   "metadata": {},
   "outputs": [],
   "source": [
    "intent_master_sampled_classifier.path = (Path(os.getcwd())).parent.absolute() / 'models' / 'ULMFiT' / 'final'\n",
    "intent_master_sampled_classifier.export('intent_master_sampled_classifier.pkl')"
   ]
  },
  {
   "cell_type": "markdown",
   "id": "5c0374e5-1247-44e5-953a-311718bea8cb",
   "metadata": {
    "jp-MarkdownHeadingCollapsed": true,
    "tags": []
   },
   "source": [
    "## Access Models"
   ]
  },
  {
   "cell_type": "code",
   "execution_count": null,
   "id": "ba2ce897-5455-4381-a692-9152ebf61b06",
   "metadata": {},
   "outputs": [],
   "source": [
    "path = (Path(os.getcwd())).parent.absolute() / 'models' / 'ULMFiT' / 'final'\n",
    "model_name = 'intent_classifier.pkl'\n",
    "learn = load_learner(path / model_name)"
   ]
  },
  {
   "cell_type": "code",
   "execution_count": null,
   "id": "bf42ea01-d8fd-4764-b570-35ef1b38fdf7",
   "metadata": {},
   "outputs": [],
   "source": [
    "learn.predict(text)"
   ]
  },
  {
   "cell_type": "code",
   "execution_count": null,
   "id": "d0699469-49a2-4d43-b201-bcc981f8d1ac",
   "metadata": {},
   "outputs": [],
   "source": [
    "learner = helper.load_ulmfit_classifier('intent_groups')\n",
    "learner.predict(text)"
   ]
  }
 ],
 "metadata": {
  "kernelspec": {
   "display_name": "Pytorch (Local)",
   "language": "python",
   "name": "local-pytorch"
  },
  "language_info": {
   "codemirror_mode": {
    "name": "ipython",
    "version": 3
   },
   "file_extension": ".py",
   "mimetype": "text/x-python",
   "name": "python",
   "nbconvert_exporter": "python",
   "pygments_lexer": "ipython3",
   "version": "3.7.12"
  }
 },
 "nbformat": 4,
 "nbformat_minor": 5
}
