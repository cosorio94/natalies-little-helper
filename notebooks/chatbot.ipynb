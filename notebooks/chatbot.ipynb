{
 "cells": [
  {
   "cell_type": "code",
   "execution_count": 1,
   "metadata": {},
   "outputs": [],
   "source": [
    "# Importing modules\n",
    "import re\n",
    "from nltk.corpus import wordnet\n",
    "\n",
    "KEYWORDS = {}\n",
    "LIST_SYN={}"
   ]
  },
  {
   "cell_type": "code",
   "execution_count": 2,
   "metadata": {},
   "outputs": [],
   "source": [
    "list_words=[\"flight\", \n",
    "            \"luggage\", \"suitcase\", \n",
    "            \"late\", \"delayed\", \n",
    "            \"service\", \"assistance\", \n",
    "            \"reservation\", \"booking\"]\n",
    "\n",
    "LIST_SYN={}\n",
    "for word in list_words:\n",
    "    synonyms=[]\n",
    "    for syn in wordnet.synsets(word):\n",
    "        for lem in syn.lemmas():\n",
    "            # Remove any special characters from synonym strings\n",
    "            lem_name = re.sub('[^a-zA-Z0-9 \\n\\.]', ' ', lem.name())\n",
    "            synonyms.append(lem_name)\n",
    "    LIST_SYN[word]=set(synonyms)"
   ]
  },
  {
   "cell_type": "code",
   "execution_count": 3,
   "metadata": {},
   "outputs": [],
   "source": [
    "def meta_match_terms(match_term, sim_terms): \n",
    "   global KEYWORDS, LIST_SYN\n",
    "   KEYWORDS[match_term] = []\n",
    "   # Populating the values in the keywords dictionary with synonyms of keywords formatted with RegEx metacharacters \n",
    "   for term in sim_terms: \n",
    "      for synonym in list(LIST_SYN[term]): \n",
    "         KEYWORDS[match_term].append('.*\\\\b'+synonym+'\\\\b.*')\n"
   ]
  },
  {
   "cell_type": "code",
   "execution_count": 4,
   "metadata": {},
   "outputs": [],
   "source": [
    "# Building dictionary of Intents & Keywords\n",
    "keywords_dict={}\n",
    "\n",
    "meta_match_terms(\"flight\", [\"flight\"])\n",
    "meta_match_terms(\"luggage\", [\"luggage\", \"suitcase\"])\n",
    "meta_match_terms(\"service\", [\"service\", \"assistance\"])\n",
    "meta_match_terms(\"booking\", [\"booking\", \"reservation\"])\n",
    "\n",
    "for intent, keys in KEYWORDS.items():\n",
    "    # Joining the values in the keywords dictionary with the OR (|) operator updating them in keywords_dict dictionary\n",
    "    keywords_dict[intent]=re.compile('|'.join(keys))"
   ]
  },
  {
   "cell_type": "code",
   "execution_count": 7,
   "metadata": {},
   "outputs": [],
   "source": [
    "# Building a dictionary of responses\n",
    "responses={\n",
    "    \"service\" : \"Your patronage is very important to us! It appears you are unhappy with the customer service you recevied. Please fill out this help ticket so we may look into this for you [airline.com/service-ticket]\",\n",
    "    \"flight\" : \"I'm sorry you had trouble with your flight. Please contact customer service at 888-888-8888 for further assistance.\",\n",
    "    \"luggage\" : \"You can submit a support ticket for lost and/or damaged luggage at [airline.com/helpdesk/luggage-help]. A representative will contact you within 3-5 business days.\",\n",
    "    \"agent\" : \"We are sorry to hear you were not satisfied with service available at the gate. Fill out this ticket with your flight information so we may look into this matter [airline.com/agent-ticket].\",\n",
    "    \"booking\" : \"So sorry you had booking issues! In the future, please call our booking helpline at 888-888-8888 for over-the-phone booking assistance.\",\n",
    "    \"fallback\": \"My human counterparts at the [airline] help desk should be more equipped to help with this. Please contact them at [airline.com/helpdesk]\"\n",
    "}"
   ]
  },
  {
   "cell_type": "code",
   "execution_count": 8,
   "metadata": {},
   "outputs": [
    {
     "name": "stdout",
     "output_type": "stream",
     "text": [
      "So sorry you had booking issues! In the future, please call our booking helpline at 888-888-8888 for over-the-phone booking assistance.\n"
     ]
    }
   ],
   "source": [
    "# While loop to run the chatbot indefinetely\n",
    "while (True):  \n",
    "    # Takes the user input and converts all characters to lowercase\n",
    "    user_input = input().lower()\n",
    "    # Defining the Chatbot's exit condition\n",
    "    if user_input == 'quit': \n",
    "        break    \n",
    "    matched_intent = None \n",
    "    for intent,pattern in keywords_dict.items():\n",
    "        # Using the regular expression search function to look for keywords in user input\n",
    "        if re.search(pattern, user_input): \n",
    "            # if a keyword matches, select the corresponding intent from the keywords_dict dictionary\n",
    "            matched_intent=intent  \n",
    "    # The fallback intent is selected by default\n",
    "    key='fallback' \n",
    "    if matched_intent in responses:\n",
    "        # If a keyword matches, the fallback intent is replaced by the matched intent as the key for the responses dictionary\n",
    "        key = matched_intent\n",
    "    # The chatbot prints the response that matches the selected intent\n",
    "    print (responses[key]) \n",
    "    break"
   ]
  },
  {
   "cell_type": "code",
   "execution_count": null,
   "metadata": {},
   "outputs": [],
   "source": []
  }
 ],
 "metadata": {
  "kernelspec": {
   "display_name": "Python 3.10.6 64-bit",
   "language": "python",
   "name": "python3"
  },
  "language_info": {
   "codemirror_mode": {
    "name": "ipython",
    "version": 3
   },
   "file_extension": ".py",
   "mimetype": "text/x-python",
   "name": "python",
   "nbconvert_exporter": "python",
   "pygments_lexer": "ipython3",
   "version": "3.10.8"
  },
  "orig_nbformat": 4,
  "vscode": {
   "interpreter": {
    "hash": "aee8b7b246df8f9039afb4144a1f6fd8d2ca17a180786b69acc140d282b71a49"
   }
  }
 },
 "nbformat": 4,
 "nbformat_minor": 2
}
