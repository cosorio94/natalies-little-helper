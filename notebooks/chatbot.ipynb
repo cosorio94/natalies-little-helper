{
 "cells": [
  {
   "cell_type": "code",
   "execution_count": 1,
   "metadata": {},
   "outputs": [],
   "source": [
    "# Importing modules\n",
    "import re\n",
    "from nltk.corpus import wordnet"
   ]
  },
  {
   "cell_type": "code",
   "execution_count": 19,
   "metadata": {},
   "outputs": [
    {
     "name": "stdout",
     "output_type": "stream",
     "text": [
      "{'flight': {'escape', 'flying', 'flight of steps', 'trajectory', 'flight of stairs', 'flight', 'fledge'}, 'unhappy': {'dysphoric', 'infelicitous', 'unhappy', 'distressed'}, 'luggage': {'baggage', 'luggage'}, 'suitcase': {'grip', 'bag', 'travelling bag', 'suitcase', 'traveling bag'}, 'late': {'tardily', 'recent', 'latterly', 'belatedly', 'tardy', 'recently', 'later', 'late', 'belated', 'former', 'of late', 'previous', 'deep', 'lately'}, 'delayed': {'check', 'delay', 'retard', 'stay', 'detain', 'hold up', 'delayed'}}\n"
     ]
    }
   ],
   "source": [
    "list_words=['flight','unhappy', 'luggage', 'suitcase', 'late', 'delayed']\n",
    "list_syn={}\n",
    "for word in list_words:\n",
    "    synonyms=[]\n",
    "    for syn in wordnet.synsets(word):\n",
    "        for lem in syn.lemmas():\n",
    "            # Remove any special characters from synonym strings\n",
    "            lem_name = re.sub('[^a-zA-Z0-9 \\n\\.]', ' ', lem.name())\n",
    "            synonyms.append(lem_name)\n",
    "    list_syn[word]=set(synonyms)\n",
    "print (list_syn)"
   ]
  },
  {
   "cell_type": "code",
   "execution_count": 20,
   "metadata": {},
   "outputs": [
    {
     "name": "stdout",
     "output_type": "stream",
     "text": [
      "{'flight': re.compile('.*\\\\bescape\\\\b.*|.*\\\\bflying\\\\b.*|.*\\\\bflight of steps\\\\b.*|.*\\\\btrajectory\\\\b.*|.*\\\\bflight of stairs\\\\b.*|.*\\\\bflight\\\\b.*|.*\\\\bfledge\\\\b.*'), 'luggage': re.compile('.*\\\\bbaggage\\\\b.*|.*\\\\bluggage\\\\b.*|.*\\\\bgrip\\\\b.*|.*\\\\bbag\\\\b.*|.*\\\\btravelling bag\\\\b.*|.*\\\\bsuitcase\\\\b.*|.*\\\\btraveling bag\\\\b.*')}\n"
     ]
    }
   ],
   "source": [
    "# Building dictionary of Intents & Keywords\n",
    "keywords={'flight' : [], 'luggage' : []}\n",
    "\n",
    "keywords_dict={}\n",
    "# Defining a new key in the keywords dictionary\n",
    "keywords['flight']=[]\n",
    "# Populating the values in the keywords dictionary with synonyms of keywords formatted with RegEx metacharacters \n",
    "for synonym in list(list_syn['flight']):\n",
    "    keywords['flight'].append('.*\\\\b'+synonym+'\\\\b.*')\n",
    "\n",
    "# Populating the values in the keywords dictionary with synonyms of keywords formatted with RegEx metacharacters \n",
    "for synonym in list(list_syn['luggage']):\n",
    "    keywords['luggage'].append('.*\\\\b'+synonym+'\\\\b.*')\n",
    "for synonym in list(list_syn['suitcase']):\n",
    "    keywords['luggage'].append('.*\\\\b'+synonym+'\\\\b.*')\n",
    "\n",
    "for intent, keys in keywords.items():\n",
    "    # Joining the values in the keywords dictionary with the OR (|) operator updating them in keywords_dict dictionary\n",
    "    keywords_dict[intent]=re.compile('|'.join(keys))\n",
    "print (keywords_dict)"
   ]
  },
  {
   "cell_type": "code",
   "execution_count": 25,
   "metadata": {},
   "outputs": [],
   "source": [
    "# Building a dictionary of responses\n",
    "responses={\n",
    "    'flight' : \"I'm sorry you had trouble with your flight. Please contact customer service at 888-888-8888 for further assistance.\",\n",
    "    'luggage': 'Lost luggage can be retreived at our help desks',\n",
    "    'fallback':'My human counterparts at the Delta help desk should be more equipped to help with this. Please contact them at....'\n",
    "}"
   ]
  },
  {
   "cell_type": "code",
   "execution_count": 26,
   "metadata": {},
   "outputs": [
    {
     "name": "stdout",
     "output_type": "stream",
     "text": [
      "My human counterparts at the Delta help desk should be more equipped to help with this. Please contact them at....\n"
     ]
    }
   ],
   "source": [
    "# While loop to run the chatbot indefinetely\n",
    "while (True):  \n",
    "    # Takes the user input and converts all characters to lowercase\n",
    "    user_input = input().lower()\n",
    "    # Defining the Chatbot's exit condition\n",
    "    if user_input == 'quit': \n",
    "        break    \n",
    "    matched_intent = None \n",
    "    for intent,pattern in keywords_dict.items():\n",
    "        # Using the regular expression search function to look for keywords in user input\n",
    "        if re.search(pattern, user_input): \n",
    "            # if a keyword matches, select the corresponding intent from the keywords_dict dictionary\n",
    "            matched_intent=intent  \n",
    "    # The fallback intent is selected by default\n",
    "    key='fallback' \n",
    "    if matched_intent in responses:\n",
    "        # If a keyword matches, the fallback intent is replaced by the matched intent as the key for the responses dictionary\n",
    "        key = matched_intent\n",
    "    # The chatbot prints the response that matches the selected intent\n",
    "    print (responses[key]) "
   ]
  },
  {
   "cell_type": "code",
   "execution_count": null,
   "metadata": {},
   "outputs": [],
   "source": []
  }
 ],
 "metadata": {
  "kernelspec": {
   "display_name": "Python 3.10.6 64-bit",
   "language": "python",
   "name": "python3"
  },
  "language_info": {
   "codemirror_mode": {
    "name": "ipython",
    "version": 3
   },
   "file_extension": ".py",
   "mimetype": "text/x-python",
   "name": "python",
   "nbconvert_exporter": "python",
   "pygments_lexer": "ipython3",
   "version": "3.10.8"
  },
  "orig_nbformat": 4,
  "vscode": {
   "interpreter": {
    "hash": "aee8b7b246df8f9039afb4144a1f6fd8d2ca17a180786b69acc140d282b71a49"
   }
  }
 },
 "nbformat": 4,
 "nbformat_minor": 2
}
