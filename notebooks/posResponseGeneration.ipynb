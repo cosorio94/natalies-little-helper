{
 "cells": [
  {
   "cell_type": "code",
   "execution_count": 4,
   "metadata": {},
   "outputs": [],
   "source": [
    "import openai\n",
    "import os\n",
    "import pandas as pd\n",
    "import time\n",
    "from tqdm import tqdm\n",
    "import pickle"
   ]
  },
  {
   "cell_type": "code",
   "execution_count": 5,
   "metadata": {},
   "outputs": [],
   "source": [
    "# OpenAI API key goes here\n",
    "# %env OPENAI_KEY= \"\"\n",
    "# openai.api_key = os.getenv(\"OPENAI_KEY\")\n",
    "\n",
    "openai.api_key = input()"
   ]
  },
  {
   "cell_type": "code",
   "execution_count": 11,
   "metadata": {},
   "outputs": [],
   "source": [
    "def askMarv(prompt):\n",
    "    response = openai.Completion.create(\n",
    "        model=\"text-davinci-002\",\n",
    "        prompt=\"You: \"+prompt+\"\\nMarv:\", # Need to add token You: for start of tweet and Marv: for start of response\n",
    "        temperature=0.5,\n",
    "        max_tokens=60,\n",
    "        top_p=0.3,\n",
    "        frequency_penalty=0.5,\n",
    "        presence_penalty=0.0\n",
    "    )\n",
    "    return response\n"
   ]
  },
  {
   "cell_type": "code",
   "execution_count": 4,
   "metadata": {},
   "outputs": [],
   "source": [
    "response = askMarv(\"Thank you so much for a great cross country flight today and what’s even\\\n",
    "    better was the inflight team onboard. Thankful for what you guys do for me as a Concierge \\\n",
    "    Key and can’t wait to finish up the year strong with y’all. Happy Thanksgiving!\")"
   ]
  },
  {
   "cell_type": "code",
   "execution_count": 5,
   "metadata": {},
   "outputs": [
    {
     "data": {
      "text/plain": [
       "\"\\n\\nYou're welcome! We're glad you had a great flight and we appreciate your kind words. We're looking forward to finishing the year strong with you as well. Happy Thanksgiving!\""
      ]
     },
     "execution_count": 5,
     "metadata": {},
     "output_type": "execute_result"
    }
   ],
   "source": [
    "response['choices'][0]['text']"
   ]
  },
  {
   "cell_type": "code",
   "execution_count": 12,
   "metadata": {},
   "outputs": [],
   "source": [
    "data_dir = \"../data/\"\n",
    "df = pd.read_csv(data_dir + 'cleaned_Tweets.csv', index_col=0)\n",
    "# df.head()"
   ]
  },
  {
   "cell_type": "code",
   "execution_count": 7,
   "metadata": {},
   "outputs": [
    {
     "data": {
      "text/plain": [
       "0     virginamerica plus you have added commercials...\n",
       "1     virginamerica yes nearly every time i fly vx ...\n",
       "2          virginamerica well i did not but now i do d\n",
       "3     virginamerica it was amazing and arrived an h...\n",
       "4     virginamerica i lt pretty graphics so much be...\n",
       "Name: text, dtype: object"
      ]
     },
     "execution_count": 7,
     "metadata": {},
     "output_type": "execute_result"
    }
   ],
   "source": [
    "pos_Tweets = df.text[df.airline_sentiment == 1]\n",
    "pos_Tweets.reset_index(inplace=True, drop=True)\n",
    "pos_Tweets.head()"
   ]
  },
  {
   "cell_type": "code",
   "execution_count": 19,
   "metadata": {},
   "outputs": [
    {
     "data": {
      "text/html": [
       "<div>\n",
       "<style scoped>\n",
       "    .dataframe tbody tr th:only-of-type {\n",
       "        vertical-align: middle;\n",
       "    }\n",
       "\n",
       "    .dataframe tbody tr th {\n",
       "        vertical-align: top;\n",
       "    }\n",
       "\n",
       "    .dataframe thead th {\n",
       "        text-align: right;\n",
       "    }\n",
       "</style>\n",
       "<table border=\"1\" class=\"dataframe\">\n",
       "  <thead>\n",
       "    <tr style=\"text-align: right;\">\n",
       "      <th></th>\n",
       "      <th>index</th>\n",
       "      <th>airline_sentiment</th>\n",
       "      <th>text</th>\n",
       "    </tr>\n",
       "  </thead>\n",
       "  <tbody>\n",
       "    <tr>\n",
       "      <th>0</th>\n",
       "      <td>0</td>\n",
       "      <td>0</td>\n",
       "      <td>virginamerica what dhepburn said</td>\n",
       "    </tr>\n",
       "    <tr>\n",
       "      <th>1</th>\n",
       "      <td>1</td>\n",
       "      <td>1</td>\n",
       "      <td>virginamerica plus you have added commercials...</td>\n",
       "    </tr>\n",
       "    <tr>\n",
       "      <th>2</th>\n",
       "      <td>2</td>\n",
       "      <td>0</td>\n",
       "      <td>virginamerica i did not today must mean i nee...</td>\n",
       "    </tr>\n",
       "    <tr>\n",
       "      <th>3</th>\n",
       "      <td>6</td>\n",
       "      <td>1</td>\n",
       "      <td>virginamerica yes nearly every time i fly vx ...</td>\n",
       "    </tr>\n",
       "    <tr>\n",
       "      <th>4</th>\n",
       "      <td>7</td>\n",
       "      <td>0</td>\n",
       "      <td>virginamerica really missed a prime opportuni...</td>\n",
       "    </tr>\n",
       "  </tbody>\n",
       "</table>\n",
       "</div>"
      ],
      "text/plain": [
       "   index  airline_sentiment                                               text\n",
       "0      0                  0                  virginamerica what dhepburn said \n",
       "1      1                  1   virginamerica plus you have added commercials...\n",
       "2      2                  0   virginamerica i did not today must mean i nee...\n",
       "3      6                  1   virginamerica yes nearly every time i fly vx ...\n",
       "4      7                  0   virginamerica really missed a prime opportuni..."
      ]
     },
     "execution_count": 19,
     "metadata": {},
     "output_type": "execute_result"
    }
   ],
   "source": [
    "pos_neu = df[(df.airline_sentiment == 0) | (df.airline_sentiment == 1)]\n",
    "pos_neu = pos_neu[[\"airline_sentiment\", \"text\"]]\n",
    "pos_neu.reset_index(inplace=True)\n",
    "pos_neu.head()"
   ]
  },
  {
   "cell_type": "code",
   "execution_count": 10,
   "metadata": {},
   "outputs": [
    {
     "name": "stderr",
     "output_type": "stream",
     "text": [
      "100%|██████████| 5462/5462 [2:16:21<00:00,  1.50s/it]  \n"
     ]
    }
   ],
   "source": [
    "tweets_responses = [askMarv(tweet) for tweet in tqdm(pos_neu)]\n",
    "\n",
    "# start = time.time()\n",
    "# for tweet in tqdm(pos_neu):\n",
    "#     res = askMarv(tweet)\n",
    "#     tweets_responses.append(res)\n",
    "    # end = time.time()\n",
    "    # print(f\"--- {end - start} seconds ---\", end='\\r')\n",
    "    # time.sleep(1) # Need to sleep because api is rate limited for free trial of OpenAI\n",
    "    # start = end"
   ]
  },
  {
   "cell_type": "code",
   "execution_count": 16,
   "metadata": {},
   "outputs": [],
   "source": [
    "with open(\"../results/tweet_responses.pkl\", 'wb') as f:\n",
    "    pickle.dump(tweets_responses, f, pickle.HIGHEST_PROTOCOL)\n",
    "    \n",
    "# with open(\"../results/tweet_responses.pkl\", 'rb') as f:\n",
    "#     tweets_responses = pickle.load(f)"
   ]
  },
  {
   "cell_type": "code",
   "execution_count": 21,
   "metadata": {},
   "outputs": [],
   "source": [
    "# with open(\"../results/first53_marv.tsv\", 'w', encoding=\"utf-16\") as f:\n",
    "#     f.write(\"tweet,response\\n\")\n",
    "#     for i in range(len(tweets_responses)):\n",
    "#         res = tweets_responses[i][\"choices\"][0]['text']\n",
    "#         f.write(pos_Tweets[i] +\"\\t\"+ ''.join(res.split(sep='\\n')) +\"\\n\")"
   ]
  },
  {
   "cell_type": "code",
   "execution_count": 32,
   "metadata": {},
   "outputs": [],
   "source": [
    "with open(\"../results/pos_tweets_responses_marv.tsv\", 'w', encoding=\"utf-16\") as f:\n",
    "    f.write(\"index\\tairline_sentiment\\ttweet\\tresponse\\n\")\n",
    "    for i in range(len(tweets_responses)):\n",
    "        res = tweets_responses[i][\"choices\"][0]['text']\n",
    "        res = ''.join(res.split(sep='\\n'))\n",
    "        query = pos_neu.iloc[i]\n",
    "        f.write(f\"{query['index']}\\t{query.airline_sentiment}\\t{query.text}\\t{res}\\n\")\n"
   ]
  }
 ],
 "metadata": {
  "kernelspec": {
   "display_name": "Python 3.10.2 ('nlh': venv)",
   "language": "python",
   "name": "python3"
  },
  "language_info": {
   "codemirror_mode": {
    "name": "ipython",
    "version": 3
   },
   "file_extension": ".py",
   "mimetype": "text/x-python",
   "name": "python",
   "nbconvert_exporter": "python",
   "pygments_lexer": "ipython3",
   "version": "3.10.2"
  },
  "orig_nbformat": 4,
  "vscode": {
   "interpreter": {
    "hash": "3afae8b3c8b7e54fe022a435b83ba56ec2857918f8e9f71e9737fbd34b10c563"
   }
  }
 },
 "nbformat": 4,
 "nbformat_minor": 2
}
