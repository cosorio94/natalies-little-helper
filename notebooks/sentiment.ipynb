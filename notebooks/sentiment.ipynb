{
 "cells": [
  {
   "cell_type": "code",
   "execution_count": 1,
   "metadata": {},
   "outputs": [],
   "source": [
    "import pandas as pd\n",
    "import numpy as np\n",
    "\n",
    "from sklearn.model_selection import train_test_split\n",
    "from sklearn.linear_model import Perceptron\n",
    "from sklearn.svm import LinearSVC\n",
    "from sklearn.feature_extraction.text import TfidfVectorizer\n",
    "from sklearn.multiclass import OneVsOneClassifier, OneVsRestClassifier\n",
    "from sklearn.preprocessing import StandardScaler\n",
    "from sklearn.metrics import accuracy_score,precision_score, recall_score, f1_score\n",
    "\n",
    "# from imblearn.over_sampling import SMOTE\n",
    "\n",
    "from gensim import downloader as api\n",
    "from tqdm import tqdm\n",
    "from nltk import word_tokenize\n",
    "\n",
    "import torch\n",
    "from torch.utils.data import DataLoader, Dataset\n",
    "import torch.nn as nn\n",
    "import torch.nn.functional as F\n",
    "from torch.utils.data.sampler import SubsetRandomSampler\n",
    "\n",
    "# from transformers import AutoModelForSeq2SeqLM\n",
    "from transformers import AutoTokenizer, DataCollatorWithPadding, AutoModelForSequenceClassification, TrainingArguments, Trainer\n",
    "from transformers import pipeline\n",
    "from util.helpers import evaluate_score"
   ]
  },
  {
   "cell_type": "code",
   "execution_count": 2,
   "metadata": {},
   "outputs": [],
   "source": [
    "data_path = \"data/\"\n",
    "df = pd.read_csv(data_path + \"cleaned_Tweets.csv\", index_col=0)"
   ]
  },
  {
   "cell_type": "code",
   "execution_count": 3,
   "metadata": {},
   "outputs": [],
   "source": [
    "vectorizer = TfidfVectorizer(min_df=0.0001, max_df=0.9999, ngram_range=(1,3), max_features=10000)\n",
    "X = vectorizer.fit_transform(df.text)\n",
    "\n",
    "scaler = StandardScaler(with_mean=False)\n",
    "scaler.fit(X)\n",
    "\n",
    "xTrain, xTest, yTrain, yTest = train_test_split(X, df.airline_sentiment, train_size=0.8, stratify=df.airline_sentiment)"
   ]
  },
  {
   "cell_type": "code",
   "execution_count": 4,
   "metadata": {},
   "outputs": [
    {
     "name": "stdout",
     "output_type": "stream",
     "text": [
      "Accuracy:\t 0.7776639344262295\n",
      "Precision:\t [0.82211302 0.61380597 0.77030812]\n",
      "Recall: \t [0.91171662 0.53064516 0.58139535]\n",
      "F1 scores:\t [0.86459948 0.56920415 0.6626506 ]\n",
      "Average\n",
      "\tPrecision: 0.769635532570646\n",
      "\tRecall: 0.7776639344262295\n",
      "\tF1: 0.7694263528052627\n"
     ]
    }
   ],
   "source": [
    "clf = OneVsRestClassifier(Perceptron(n_jobs=-1), n_jobs=-1)\n",
    "clf.fit(scaler.transform(xTrain), yTrain)\n",
    "\n",
    "yPred = clf.predict(xTest)\n",
    "\n",
    "evaluate_score(yTest, yPred)"
   ]
  },
  {
   "cell_type": "code",
   "execution_count": 5,
   "metadata": {},
   "outputs": [
    {
     "name": "stdout",
     "output_type": "stream",
     "text": [
      "Accuracy:\t 0.7971311475409836\n",
      "Precision:\t [0.84631148 0.64663024 0.76580796]\n",
      "Recall: \t [0.90027248 0.57258065 0.69133192]\n",
      "F1 scores:\t [0.87245841 0.60735672 0.72666667]\n",
      "Average\n",
      "\tPrecision: 0.791024409312084\n",
      "\tRecall: 0.7971311475409836\n",
      "\tF1: 0.7927717485366458\n"
     ]
    }
   ],
   "source": [
    "clf = LinearSVC()\n",
    "clf.fit(xTrain, yTrain)\n",
    "\n",
    "yPred = clf.predict(xTest)\n",
    "\n",
    "evaluate_score(yTest, yPred)"
   ]
  },
  {
   "cell_type": "code",
   "execution_count": 6,
   "metadata": {},
   "outputs": [],
   "source": [
    "wv = api.load('word2vec-google-news-300')\n",
    "\n",
    "def make_avg_embeds(data):\n",
    "    \n",
    "    embeds = []\n",
    "\n",
    "    for rev in tqdm(data.text):\n",
    "        vec = []\n",
    "        tokens = word_tokenize(rev)\n",
    "        \n",
    "        for tok in tokens:\n",
    "            try:\n",
    "                wordVec = wv[tok]\n",
    "                vec.append(wordVec.tolist())\n",
    "            except:\n",
    "                pass\n",
    "            \n",
    "        \n",
    "        vec = np.asarray(vec)\n",
    "        vec = vec.mean(axis=0)\n",
    "        \n",
    "        embeds.append(pd.Series(vec))\n",
    "\n",
    "    embeds = pd.concat(embeds, axis=1).transpose()\n",
    "    embeds = embeds.fillna(0)\n",
    "    return embeds"
   ]
  },
  {
   "cell_type": "code",
   "execution_count": 7,
   "metadata": {},
   "outputs": [
    {
     "name": "stderr",
     "output_type": "stream",
     "text": [
      " 41%|██████████████████████████████████████████▍                                                            | 6033/14640 [00:02<00:03, 2841.35it/s]C:\\Users\\Jonny\\AppData\\Local\\Temp\\ipykernel_23204\\2688462465.py:20: RuntimeWarning: Mean of empty slice.\n",
      "  vec = vec.mean(axis=0)\n",
      "C:\\Users\\Jonny\\USC\\Natural Language Processing\\natalies-little-helper\\nlh\\lib\\site-packages\\numpy\\core\\_methods.py:190: RuntimeWarning: invalid value encountered in double_scalars\n",
      "  ret = ret.dtype.type(ret / rcount)\n",
      "100%|██████████████████████████████████████████████████████████████████████████████████████████████████████| 14640/14640 [00:05<00:00, 2569.35it/s]\n"
     ]
    }
   ],
   "source": [
    "embeds = make_avg_embeds(df)\n",
    "xTrain, xTest, yTrain, yTest = train_test_split(embeds, df.airline_sentiment, train_size=0.8, stratify=df.airline_sentiment)"
   ]
  },
  {
   "cell_type": "code",
   "execution_count": 8,
   "metadata": {},
   "outputs": [
    {
     "name": "stdout",
     "output_type": "stream",
     "text": [
      "Accuracy:\t 0.7544398907103825\n",
      "Precision:\t [0.74595939 0.78680203 0.79874214]\n",
      "Recall: \t [0.98092643 0.25       0.53699789]\n",
      "F1 scores:\t [0.84745763 0.37943696 0.64222503]\n",
      "Average\n",
      "\tPrecision: 0.7631344825282937\n",
      "\tRecall: 0.7544398907103825\n",
      "\tF1: 0.7152008550904367\n"
     ]
    }
   ],
   "source": [
    "clf = OneVsRestClassifier(Perceptron(n_jobs=-1), n_jobs=-1)\n",
    "# clf.fit(scaler.transform(xTrain), yTrain)\n",
    "clf.fit(xTrain, yTrain)\n",
    "\n",
    "yPred = clf.predict(xTest)\n",
    "\n",
    "precisions = precision_score(yTest, yPred, average=None)\n",
    "recalls = recall_score(yTest, yPred, average=None)\n",
    "f1s = f1_score(yTest, yPred, average=None)\n",
    "\n",
    "evaluate_score(yTest, yPred)"
   ]
  },
  {
   "cell_type": "code",
   "execution_count": 9,
   "metadata": {},
   "outputs": [
    {
     "name": "stdout",
     "output_type": "stream",
     "text": [
      "Accuracy:\t 0.7899590163934426\n",
      "Precision:\t [0.8088785  0.69849246 0.77948718]\n",
      "Recall: \t [0.94332425 0.4483871  0.64270613]\n",
      "F1 scores:\t [0.8709434  0.54616896 0.70451912]\n",
      "Average\n",
      "\tPrecision: 0.7807564271193197\n",
      "\tRecall: 0.7899590163934426\n",
      "\tF1: 0.7752880566765624\n"
     ]
    }
   ],
   "source": [
    "clf = LinearSVC()\n",
    "clf.fit(xTrain, yTrain)\n",
    "\n",
    "yPred = clf.predict(xTest)\n",
    "\n",
    "evaluate_score(yTest, yPred)"
   ]
  },
  {
   "cell_type": "code",
   "execution_count": 10,
   "metadata": {},
   "outputs": [
    {
     "data": {
      "application/vnd.jupyter.widget-view+json": {
       "model_id": "4ad8c6ee8df84fb8835d4ada5713b94c",
       "version_major": 2,
       "version_minor": 0
      },
      "text/plain": [
       "  0%|          | 0/458 [00:00<?, ?ba/s]"
      ]
     },
     "metadata": {},
     "output_type": "display_data"
    },
    {
     "name": "stderr",
     "output_type": "stream",
     "text": [
      "The following columns in the test set don't have a corresponding argument in `RobertaForSequenceClassification.forward` and have been ignored: text. If text are not expected by `RobertaForSequenceClassification.forward`,  you can safely ignore this message.\n",
      "***** Running Prediction *****\n",
      "  Num examples = 14640\n",
      "  Batch size = 32\n"
     ]
    },
    {
     "data": {
      "text/html": [],
      "text/plain": [
       "<IPython.core.display.HTML object>"
      ]
     },
     "metadata": {},
     "output_type": "display_data"
    }
   ],
   "source": [
    "torch.multiprocessing.set_sharing_strategy(\"file_system\")\n",
    "from pysentimiento import create_analyzer\n",
    "analyzer = create_analyzer(task=\"sentiment\", lang=\"en\")\n",
    "\n",
    "df_raw = pd.read_csv(data_path + \"Tweets.csv\")\n",
    "predictions = analyzer.predict(df_raw.text)"
   ]
  },
  {
   "cell_type": "code",
   "execution_count": 11,
   "metadata": {},
   "outputs": [
    {
     "name": "stdout",
     "output_type": "stream",
     "text": [
      "Accuracy:\t 0.7864071038251366\n",
      "Precision:\t [0.91724813 0.54951034 0.71556351]\n",
      "Recall: \t [0.8164088  0.65182317 0.84638172]\n",
      "F1 scores:\t [0.86389577 0.59630996 0.77549438]\n",
      "Average\n",
      "\tPrecision: 0.806851944470274\n",
      "\tRecall: 0.7864071038251366\n",
      "\tF1: 0.7929845087635168\n"
     ]
    }
   ],
   "source": [
    "preds = []\n",
    "\n",
    "for pred in predictions:\n",
    "    pred = pred.output\n",
    "    if pred == \"NEU\":\n",
    "        preds.append(0)\n",
    "    elif pred == \"POS\":\n",
    "        preds.append(1)\n",
    "    elif pred == \"NEG\":\n",
    "        preds.append(-1)\n",
    "\n",
    "yTrue = []\n",
    "\n",
    "for val in df_raw.airline_sentiment:\n",
    "    if val == \"neutral\":\n",
    "        yTrue.append(0)\n",
    "    elif val == \"positive\":\n",
    "        yTrue.append(1)\n",
    "    elif val == \"negative\":\n",
    "        yTrue.append(-1)\n",
    "\n",
    "evaluate_score(yTrue, preds)"
   ]
  },
  {
   "cell_type": "code",
   "execution_count": 42,
   "metadata": {},
   "outputs": [],
   "source": [
    "wordvec = pd.concat([df.airline_sentiment, pd.DataFrame(embeds, columns=range(300))], axis=1)\n",
    "wordvec.columns = range(301)"
   ]
  },
  {
   "cell_type": "code",
   "execution_count": 43,
   "metadata": {},
   "outputs": [],
   "source": [
    "device = \"cuda\" if torch.cuda.is_available() else \"cpu\""
   ]
  },
  {
   "cell_type": "code",
   "execution_count": 44,
   "metadata": {},
   "outputs": [],
   "source": [
    "class FNN(nn.Module):\n",
    "    \n",
    "    def __init__(self, in_size):\n",
    "        super(FNN, self).__init__()\n",
    "        \n",
    "        h1 = 50\n",
    "        h2 = 10\n",
    "        \n",
    "        self.fc1 = nn.Linear(in_size, h1)\n",
    "        self.fc2 = nn.Linear(h1, h2)\n",
    "        self.fc3 = nn.Linear(h2, 3)\n",
    "        \n",
    "    \n",
    "    def forward(self, x):\n",
    "        x = F.relu(self.fc1(x))\n",
    "        # x = F.dropout(x, p=0.5)\n",
    "        \n",
    "        x = F.relu(self.fc2(x))\n",
    "        # x = F.dropout(x, p=0.2)\n",
    "        x = self.fc3(x)\n",
    "        # x = F.softmax(x, dim=1)\n",
    "        return x\n",
    "\n",
    "class WordVecData(Dataset):\n",
    "    \n",
    "    def __init__(self, data) -> None:\n",
    "        super(WordVecData, self).__init__()\n",
    "        self.data = data\n",
    "    \n",
    "    def __len__(self):\n",
    "        return len(self.data)\n",
    "    \n",
    "    def __getitem__(self, idx):\n",
    "        \n",
    "        feature = self.data[idx, 1:]\n",
    "        label = int(self.data[idx, 0]) + 1\n",
    "        \n",
    "        return feature, label"
   ]
  },
  {
   "cell_type": "code",
   "execution_count": 45,
   "metadata": {},
   "outputs": [],
   "source": [
    "train, test = train_test_split(wordvec, test_size=0.2, stratify=wordvec.iloc[:,0])\n",
    "\n",
    "train = torch.tensor(train.to_numpy(), device=device, dtype=torch.float, requires_grad=True)\n",
    "test = torch.tensor(test.to_numpy(), device=device, dtype=torch.float, requires_grad=False)\n",
    "\n",
    "num_train = len(train)\n",
    "indices = list(range(num_train))\n",
    "np.random.shuffle(indices)\n",
    "cap = int(np.floor(0.2 * num_train))\n",
    "\n",
    "train_idx, valid_idx = indices[cap:], indices[:cap]\n",
    "\n",
    "train_sampler = SubsetRandomSampler(train_idx)\n",
    "valid_sampler = SubsetRandomSampler(valid_idx)\n",
    "\n",
    "train_data = WordVecData(train)\n",
    "test_data = WordVecData(test)\n",
    "\n",
    "train_loader = DataLoader(train_data, batch_size=16, sampler=train_sampler)\n",
    "valid_loader = DataLoader(train_data, batch_size=16, sampler=valid_sampler)\n",
    "test_loader = DataLoader(test_data, batch_size=1)"
   ]
  },
  {
   "cell_type": "code",
   "execution_count": null,
   "metadata": {},
   "outputs": [],
   "source": [
    "model = FNN(300)\n",
    "# print(model_fnn)\n",
    "\n",
    "# model.load_state_dict(torch.load(\"model.pt\"))\n",
    "\n",
    "criterion = nn.CrossEntropyLoss()\n",
    "optimizer = torch.optim.SGD(model.parameters(), lr=5e-2)\n",
    "# optimizer = torch.optim.AdamW(model.parameters(), lr=1e-5)\n",
    "\n",
    "model.to(device)\n",
    "criterion.to(device)\n",
    "\n",
    "n_epochs = 50\n",
    "\n",
    "valid_loss_min = np.Inf\n",
    "\n",
    "for epoch in range(n_epochs):\n",
    "    train_loss = 0.0\n",
    "    valid_loss = 0.0\n",
    "    \n",
    "    model.train()\n",
    "\n",
    "    for data, target in train_loader:\n",
    "\n",
    "        optimizer.zero_grad()\n",
    "        output = model(data)\n",
    "\n",
    "        loss = criterion(output, target.to(device))\n",
    "        loss.backward()\n",
    "        \n",
    "        optimizer.step()\n",
    "        \n",
    "        train_loss += loss.item()*data.size(0)\n",
    "    \n",
    "    model.eval()\n",
    "\n",
    "    for data, target in valid_loader:\n",
    "        \n",
    "        output = model(data)\n",
    "        loss = criterion(output, target.to(device))\n",
    "        valid_loss += loss.item()*data.size(0)\n",
    "    \n",
    "    train_loss = train_loss/len(train_loader.dataset)\n",
    "    valid_loss = valid_loss/len(valid_loader.dataset)\n",
    "    \n",
    "    print('Epoch: {} \\tTraining Loss: {:.6f} \\tValidation Loss: {:.6f}'.format(\n",
    "        epoch+1, \n",
    "        train_loss,\n",
    "        valid_loss\n",
    "        ))\n",
    "    \n",
    "    # save model if validation loss has decreased\n",
    "    if valid_loss <= valid_loss_min:\n",
    "        print('Validation loss decreased ({:.6f} --> {:.6f}).  Saving model ...'.format(\n",
    "        valid_loss_min,\n",
    "        valid_loss))\n",
    "        torch.save(model.state_dict(), 'model.pt')\n",
    "        valid_loss_min = valid_loss"
   ]
  },
  {
   "cell_type": "code",
   "execution_count": 47,
   "metadata": {},
   "outputs": [
    {
     "name": "stderr",
     "output_type": "stream",
     "text": [
      "100%|████████████████████████████████████████████████████████████████████████████████████████████████████████| 2928/2928 [00:01<00:00, 2197.00it/s]"
     ]
    },
    {
     "name": "stdout",
     "output_type": "stream",
     "text": [
      "Accuracy:\t 0.7858606557377049\n",
      "Precision:\t [0.81770335 0.66129032 0.7549505 ]\n",
      "Recall: \t [0.93133515 0.46290323 0.6448203 ]\n",
      "F1 scores:\t [0.87082803 0.54459203 0.69555302]\n",
      "Average\n",
      "\tPrecision: 0.7744457753044501\n",
      "\tRecall: 0.7858606557377049\n",
      "\tF1: 0.7734334237781955\n"
     ]
    },
    {
     "name": "stderr",
     "output_type": "stream",
     "text": [
      "\n"
     ]
    }
   ],
   "source": [
    "yTest = [int(vec[0]) for vec in test]\n",
    "\n",
    "model = FNN(300)\n",
    "model.load_state_dict(torch.load(\"models/model_sent_78.pt\"))\n",
    "model.to(device)\n",
    "model.eval()\n",
    "# model.to(device)\n",
    "\n",
    "preds = []\n",
    "\n",
    "with torch.no_grad():\n",
    "    for data, target in tqdm(test_loader):\n",
    "        output = model(data)\n",
    "        preds.append(int(output[0].argmax()) - 1)\n",
    "        # print(output[0], \" | \", int(output[0].argmax()), \":\", int(target))\n",
    "\n",
    "\n",
    "evaluate_score(yTest, preds)"
   ]
  },
  {
   "cell_type": "code",
   "execution_count": 48,
   "metadata": {},
   "outputs": [
    {
     "name": "stderr",
     "output_type": "stream",
     "text": [
      "loading configuration file config.json from cache at C:\\Users\\Jonny/.cache\\huggingface\\hub\\models--distilbert-base-uncased\\snapshots\\043235d6088ecd3dd5fb5ca3592b6913fd516027\\config.json\n",
      "Model config DistilBertConfig {\n",
      "  \"_name_or_path\": \"distilbert-base-uncased\",\n",
      "  \"activation\": \"gelu\",\n",
      "  \"architectures\": [\n",
      "    \"DistilBertForMaskedLM\"\n",
      "  ],\n",
      "  \"attention_dropout\": 0.1,\n",
      "  \"dim\": 768,\n",
      "  \"dropout\": 0.1,\n",
      "  \"hidden_dim\": 3072,\n",
      "  \"initializer_range\": 0.02,\n",
      "  \"max_position_embeddings\": 512,\n",
      "  \"model_type\": \"distilbert\",\n",
      "  \"n_heads\": 12,\n",
      "  \"n_layers\": 6,\n",
      "  \"pad_token_id\": 0,\n",
      "  \"qa_dropout\": 0.1,\n",
      "  \"seq_classif_dropout\": 0.2,\n",
      "  \"sinusoidal_pos_embds\": false,\n",
      "  \"tie_weights_\": true,\n",
      "  \"transformers_version\": \"4.23.1\",\n",
      "  \"vocab_size\": 30522\n",
      "}\n",
      "\n",
      "loading file vocab.txt from cache at C:\\Users\\Jonny/.cache\\huggingface\\hub\\models--distilbert-base-uncased\\snapshots\\043235d6088ecd3dd5fb5ca3592b6913fd516027\\vocab.txt\n",
      "loading file tokenizer.json from cache at C:\\Users\\Jonny/.cache\\huggingface\\hub\\models--distilbert-base-uncased\\snapshots\\043235d6088ecd3dd5fb5ca3592b6913fd516027\\tokenizer.json\n",
      "loading file added_tokens.json from cache at None\n",
      "loading file special_tokens_map.json from cache at None\n",
      "loading file tokenizer_config.json from cache at C:\\Users\\Jonny/.cache\\huggingface\\hub\\models--distilbert-base-uncased\\snapshots\\043235d6088ecd3dd5fb5ca3592b6913fd516027\\tokenizer_config.json\n",
      "loading configuration file config.json from cache at C:\\Users\\Jonny/.cache\\huggingface\\hub\\models--distilbert-base-uncased\\snapshots\\043235d6088ecd3dd5fb5ca3592b6913fd516027\\config.json\n",
      "Model config DistilBertConfig {\n",
      "  \"_name_or_path\": \"distilbert-base-uncased\",\n",
      "  \"activation\": \"gelu\",\n",
      "  \"architectures\": [\n",
      "    \"DistilBertForMaskedLM\"\n",
      "  ],\n",
      "  \"attention_dropout\": 0.1,\n",
      "  \"dim\": 768,\n",
      "  \"dropout\": 0.1,\n",
      "  \"hidden_dim\": 3072,\n",
      "  \"initializer_range\": 0.02,\n",
      "  \"max_position_embeddings\": 512,\n",
      "  \"model_type\": \"distilbert\",\n",
      "  \"n_heads\": 12,\n",
      "  \"n_layers\": 6,\n",
      "  \"pad_token_id\": 0,\n",
      "  \"qa_dropout\": 0.1,\n",
      "  \"seq_classif_dropout\": 0.2,\n",
      "  \"sinusoidal_pos_embds\": false,\n",
      "  \"tie_weights_\": true,\n",
      "  \"transformers_version\": \"4.23.1\",\n",
      "  \"vocab_size\": 30522\n",
      "}\n",
      "\n",
      "loading configuration file config.json from cache at C:\\Users\\Jonny/.cache\\huggingface\\hub\\models--distilbert-base-uncased\\snapshots\\043235d6088ecd3dd5fb5ca3592b6913fd516027\\config.json\n",
      "Model config DistilBertConfig {\n",
      "  \"_name_or_path\": \"distilbert-base-uncased\",\n",
      "  \"activation\": \"gelu\",\n",
      "  \"architectures\": [\n",
      "    \"DistilBertForMaskedLM\"\n",
      "  ],\n",
      "  \"attention_dropout\": 0.1,\n",
      "  \"dim\": 768,\n",
      "  \"dropout\": 0.1,\n",
      "  \"hidden_dim\": 3072,\n",
      "  \"id2label\": {\n",
      "    \"0\": \"LABEL_0\",\n",
      "    \"1\": \"LABEL_1\",\n",
      "    \"2\": \"LABEL_2\"\n",
      "  },\n",
      "  \"initializer_range\": 0.02,\n",
      "  \"label2id\": {\n",
      "    \"LABEL_0\": 0,\n",
      "    \"LABEL_1\": 1,\n",
      "    \"LABEL_2\": 2\n",
      "  },\n",
      "  \"max_position_embeddings\": 512,\n",
      "  \"model_type\": \"distilbert\",\n",
      "  \"n_heads\": 12,\n",
      "  \"n_layers\": 6,\n",
      "  \"pad_token_id\": 0,\n",
      "  \"qa_dropout\": 0.1,\n",
      "  \"seq_classif_dropout\": 0.2,\n",
      "  \"sinusoidal_pos_embds\": false,\n",
      "  \"tie_weights_\": true,\n",
      "  \"transformers_version\": \"4.23.1\",\n",
      "  \"vocab_size\": 30522\n",
      "}\n",
      "\n",
      "loading weights file pytorch_model.bin from cache at C:\\Users\\Jonny/.cache\\huggingface\\hub\\models--distilbert-base-uncased\\snapshots\\043235d6088ecd3dd5fb5ca3592b6913fd516027\\pytorch_model.bin\n",
      "Some weights of the model checkpoint at distilbert-base-uncased were not used when initializing DistilBertForSequenceClassification: ['vocab_projector.bias', 'vocab_projector.weight', 'vocab_transform.weight', 'vocab_layer_norm.bias', 'vocab_layer_norm.weight', 'vocab_transform.bias']\n",
      "- This IS expected if you are initializing DistilBertForSequenceClassification from the checkpoint of a model trained on another task or with another architecture (e.g. initializing a BertForSequenceClassification model from a BertForPreTraining model).\n",
      "- This IS NOT expected if you are initializing DistilBertForSequenceClassification from the checkpoint of a model that you expect to be exactly identical (initializing a BertForSequenceClassification model from a BertForSequenceClassification model).\n",
      "Some weights of DistilBertForSequenceClassification were not initialized from the model checkpoint at distilbert-base-uncased and are newly initialized: ['pre_classifier.weight', 'classifier.bias', 'pre_classifier.bias', 'classifier.weight']\n",
      "You should probably TRAIN this model on a down-stream task to be able to use it for predictions and inference.\n"
     ]
    }
   ],
   "source": [
    "df_tok = pd.read_csv(data_path + \"Tweets.csv\")\n",
    "\n",
    "tokenizer = AutoTokenizer.from_pretrained(\"distilbert-base-uncased\", Truncation=True)\n",
    "data_collator = DataCollatorWithPadding(tokenizer=tokenizer)\n",
    "model = AutoModelForSequenceClassification.from_pretrained(\"distilbert-base-uncased\", num_labels=3)"
   ]
  },
  {
   "cell_type": "code",
   "execution_count": 60,
   "metadata": {},
   "outputs": [],
   "source": [
    "data_og = pd.concat([df_tok.text, df.airline_sentiment], axis=1)\n",
    "\n",
    "data = []\n",
    "for t in data_og.iterrows():\n",
    "    temp = {}\n",
    "    temp[\"text\"] = t[1].text\n",
    "    temp[\"label\"] = t[1].airline_sentiment + 1\n",
    "    temp.update(tokenizer(t[1].text))\n",
    "    data.append(temp)\n",
    "\n",
    "train, test = train_test_split(data, test_size=0.2)\n",
    "train, val = train_test_split(train, test_size=0.2)"
   ]
  },
  {
   "cell_type": "code",
   "execution_count": null,
   "metadata": {},
   "outputs": [],
   "source": [
    "def model_init():\n",
    "    return AutoModelForSequenceClassification.from_pretrained(\"distilbert-base-uncased\", num_labels=3)\n",
    "\n",
    "training_args = TrainingArguments(\n",
    "    output_dir=\"./results\",\n",
    "    learning_rate=2e-5,\n",
    "    evaluation_strategy = \"steps\",\n",
    "    per_device_train_batch_size=8,\n",
    "    per_device_eval_batch_size=8,\n",
    "    num_train_epochs=5,\n",
    "    weight_decay=0.01,\n",
    "    load_best_model_at_end=True,\n",
    ")\n",
    "\n",
    "trainer = Trainer(\n",
    "    model_init=model_init,\n",
    "    args=training_args,\n",
    "    train_dataset=train,\n",
    "    eval_dataset=val,\n",
    "    tokenizer=tokenizer,\n",
    "    data_collator=data_collator,\n",
    ")"
   ]
  },
  {
   "cell_type": "code",
   "execution_count": null,
   "metadata": {},
   "outputs": [],
   "source": [
    "best_run = trainer.hyperparameter_search(n_trials=10, direction=\"maximize\")\n",
    "best_run"
   ]
  },
  {
   "cell_type": "code",
   "execution_count": null,
   "metadata": {},
   "outputs": [],
   "source": [
    "for n, v in best_run.hyperparameters.items():\n",
    "    setattr(trainer.args, n, v)\n",
    "\n",
    "trainer.train()"
   ]
  },
  {
   "cell_type": "code",
   "execution_count": null,
   "metadata": {},
   "outputs": [],
   "source": [
    "preds = trainer.predict(test)\n",
    "\n",
    "yTest = [t[\"label\"] for t in test]\n",
    "yPred = [p.argmax() for p in preds[0]]\n",
    "evaluate_score(yTest, yPred)"
   ]
  },
  {
   "cell_type": "code",
   "execution_count": null,
   "metadata": {},
   "outputs": [],
   "source": [
    "trainer.model.save_pretrained(\"models/tuned_distilbert_sentiment\")"
   ]
  },
  {
   "cell_type": "code",
   "execution_count": 57,
   "metadata": {},
   "outputs": [
    {
     "name": "stderr",
     "output_type": "stream",
     "text": [
      "loading configuration file tuned_distilbert_sentiment\\config.json\n",
      "Model config DistilBertConfig {\n",
      "  \"_name_or_path\": \"tuned_distilbert_sentiment\",\n",
      "  \"activation\": \"gelu\",\n",
      "  \"architectures\": [\n",
      "    \"DistilBertForSequenceClassification\"\n",
      "  ],\n",
      "  \"attention_dropout\": 0.1,\n",
      "  \"dim\": 768,\n",
      "  \"dropout\": 0.1,\n",
      "  \"hidden_dim\": 3072,\n",
      "  \"id2label\": {\n",
      "    \"0\": \"LABEL_0\",\n",
      "    \"1\": \"LABEL_1\",\n",
      "    \"2\": \"LABEL_2\"\n",
      "  },\n",
      "  \"initializer_range\": 0.02,\n",
      "  \"label2id\": {\n",
      "    \"LABEL_0\": 0,\n",
      "    \"LABEL_1\": 1,\n",
      "    \"LABEL_2\": 2\n",
      "  },\n",
      "  \"max_position_embeddings\": 512,\n",
      "  \"model_type\": \"distilbert\",\n",
      "  \"n_heads\": 12,\n",
      "  \"n_layers\": 6,\n",
      "  \"pad_token_id\": 0,\n",
      "  \"problem_type\": \"single_label_classification\",\n",
      "  \"qa_dropout\": 0.1,\n",
      "  \"seq_classif_dropout\": 0.2,\n",
      "  \"sinusoidal_pos_embds\": false,\n",
      "  \"tie_weights_\": true,\n",
      "  \"torch_dtype\": \"float32\",\n",
      "  \"transformers_version\": \"4.23.1\",\n",
      "  \"vocab_size\": 30522\n",
      "}\n",
      "\n",
      "loading weights file tuned_distilbert_sentiment\\pytorch_model.bin\n",
      "All model checkpoint weights were used when initializing DistilBertForSequenceClassification.\n",
      "\n",
      "All the weights of DistilBertForSequenceClassification were initialized from the model checkpoint at tuned_distilbert_sentiment.\n",
      "If your task is similar to the task the model of the checkpoint was trained on, you can already use DistilBertForSequenceClassification for predictions without further training.\n",
      "loading configuration file config.json from cache at C:\\Users\\Jonny/.cache\\huggingface\\hub\\models--distilbert-base-uncased\\snapshots\\043235d6088ecd3dd5fb5ca3592b6913fd516027\\config.json\n",
      "Model config DistilBertConfig {\n",
      "  \"_name_or_path\": \"distilbert-base-uncased\",\n",
      "  \"activation\": \"gelu\",\n",
      "  \"architectures\": [\n",
      "    \"DistilBertForMaskedLM\"\n",
      "  ],\n",
      "  \"attention_dropout\": 0.1,\n",
      "  \"dim\": 768,\n",
      "  \"dropout\": 0.1,\n",
      "  \"hidden_dim\": 3072,\n",
      "  \"initializer_range\": 0.02,\n",
      "  \"max_position_embeddings\": 512,\n",
      "  \"model_type\": \"distilbert\",\n",
      "  \"n_heads\": 12,\n",
      "  \"n_layers\": 6,\n",
      "  \"pad_token_id\": 0,\n",
      "  \"qa_dropout\": 0.1,\n",
      "  \"seq_classif_dropout\": 0.2,\n",
      "  \"sinusoidal_pos_embds\": false,\n",
      "  \"tie_weights_\": true,\n",
      "  \"transformers_version\": \"4.23.1\",\n",
      "  \"vocab_size\": 30522\n",
      "}\n",
      "\n",
      "loading file vocab.txt from cache at C:\\Users\\Jonny/.cache\\huggingface\\hub\\models--distilbert-base-uncased\\snapshots\\043235d6088ecd3dd5fb5ca3592b6913fd516027\\vocab.txt\n",
      "loading file tokenizer.json from cache at C:\\Users\\Jonny/.cache\\huggingface\\hub\\models--distilbert-base-uncased\\snapshots\\043235d6088ecd3dd5fb5ca3592b6913fd516027\\tokenizer.json\n",
      "loading file added_tokens.json from cache at None\n",
      "loading file special_tokens_map.json from cache at None\n",
      "loading file tokenizer_config.json from cache at C:\\Users\\Jonny/.cache\\huggingface\\hub\\models--distilbert-base-uncased\\snapshots\\043235d6088ecd3dd5fb5ca3592b6913fd516027\\tokenizer_config.json\n",
      "loading configuration file config.json from cache at C:\\Users\\Jonny/.cache\\huggingface\\hub\\models--distilbert-base-uncased\\snapshots\\043235d6088ecd3dd5fb5ca3592b6913fd516027\\config.json\n",
      "Model config DistilBertConfig {\n",
      "  \"_name_or_path\": \"distilbert-base-uncased\",\n",
      "  \"activation\": \"gelu\",\n",
      "  \"architectures\": [\n",
      "    \"DistilBertForMaskedLM\"\n",
      "  ],\n",
      "  \"attention_dropout\": 0.1,\n",
      "  \"dim\": 768,\n",
      "  \"dropout\": 0.1,\n",
      "  \"hidden_dim\": 3072,\n",
      "  \"initializer_range\": 0.02,\n",
      "  \"max_position_embeddings\": 512,\n",
      "  \"model_type\": \"distilbert\",\n",
      "  \"n_heads\": 12,\n",
      "  \"n_layers\": 6,\n",
      "  \"pad_token_id\": 0,\n",
      "  \"qa_dropout\": 0.1,\n",
      "  \"seq_classif_dropout\": 0.2,\n",
      "  \"sinusoidal_pos_embds\": false,\n",
      "  \"tie_weights_\": true,\n",
      "  \"transformers_version\": \"4.23.1\",\n",
      "  \"vocab_size\": 30522\n",
      "}\n",
      "\n"
     ]
    }
   ],
   "source": [
    "tuned_model = AutoModelForSequenceClassification.from_pretrained(\"models/tuned_distilbert_sentiment\", num_labels=3)\n",
    "clf = pipeline(\"text-classification\", model=tuned_model, tokenizer=AutoTokenizer.from_pretrained(\"distilbert-base-uncased\", Truncation=True))"
   ]
  },
  {
   "cell_type": "code",
   "execution_count": 61,
   "metadata": {},
   "outputs": [],
   "source": [
    "test_set = [{k: v for k,v in t.items() if k == \"text\"} for t in test]\n",
    "preds = clf(test_set)"
   ]
  },
  {
   "cell_type": "code",
   "execution_count": 62,
   "metadata": {},
   "outputs": [
    {
     "name": "stdout",
     "output_type": "stream",
     "text": [
      "Accuracy:\t 0.8562158469945356\n",
      "Precision:\t [0.86430678 0.82987552 0.84708738]\n",
      "Recall: \t [0.96487377 0.62695925 0.7457265 ]\n",
      "F1 scores:\t [0.91182573 0.71428571 0.79318182]\n",
      "Average\n",
      "\tPrecision: 0.8540520613964016\n",
      "\tRecall: 0.8562158469945356\n",
      "\tF1: 0.8498189377228219\n"
     ]
    }
   ],
   "source": [
    "label_map = {\"LABEL_0\":0,\"LABEL_1\":1,\"LABEL_2\":2}\n",
    "yPred = [label_map[v] for t in preds for k,v in t.items() if k == \"label\" ]\n",
    "yTest = [t[\"label\"] for t in test]\n",
    "\n",
    "evaluate_score(yTest, yPred)"
   ]
  },
  {
   "cell_type": "code",
   "execution_count": null,
   "metadata": {},
   "outputs": [],
   "source": []
  }
 ],
 "metadata": {
  "kernelspec": {
   "display_name": "Python 3 (ipykernel)",
   "language": "python",
   "name": "python3"
  },
  "language_info": {
   "codemirror_mode": {
    "name": "ipython",
    "version": 3
   },
   "file_extension": ".py",
   "mimetype": "text/x-python",
   "name": "python",
   "nbconvert_exporter": "python",
   "pygments_lexer": "ipython3",
   "version": "3.10.2"
  },
  "orig_nbformat": 4,
  "vscode": {
   "interpreter": {
    "hash": "bb4a42310950ca7b5897a65538a962ed93845af0f783c24f87c6e0e814724901"
   }
  }
 },
 "nbformat": 4,
 "nbformat_minor": 2
}
